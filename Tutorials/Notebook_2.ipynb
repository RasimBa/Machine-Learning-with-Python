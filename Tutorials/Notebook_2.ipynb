{
 "cells": [
  {
   "cell_type": "markdown",
   "metadata": {},
   "source": [
    "## Tutorial 2: Machine Learning and Programming in Python\n",
    "\n",
    "The following tutorial describes the main elements of linear regressions, regularization techniques and cross-validation by predicting the housing prices in Boston. In order to implement these techniques, the \"Boston Housing Dataset\" is included. The dataset is available from different sources like GitHub, Kaggle and Sklearn. The Boston house-price data of Harrison, D. and Rubinfeld, D.L. 'Hedonic prices and the demand for clean air', J. Environ. Economics & Management, vol.5, 81-102, 1978.\n",
    "\n",
    "The data contains the following variables:\n",
    "\n",
    "    CRIM - per capita crime rate by town\n",
    "    ZN - proportion of residential land zoned for lots over 25,000 sq.ft.\n",
    "    INDUS - proportion of non-retail business acres per town.\n",
    "    CHAS - Charles River dummy variable (1 if tract bounds river; 0 otherwise)\n",
    "    NOX - nitric oxides concentration (parts per 10 million)\n",
    "    RM - average number of rooms per dwelling\n",
    "    AGE - proportion of owner-occupied units built prior to 1940\n",
    "    DIS - weighted distances to five Boston employment centres\n",
    "    RAD - index of accessibility to radial highways\n",
    "    TAX - full-value property-tax rate per $10,000\n",
    "    PTRATIO - pupil-teacher ratio by town\n",
    "    B - 1000(Bk - 0.63)^2 where Bk is the proportion of blacks by town\n",
    "    LSTAT - % lower status of the population\n",
    "    MEDV - Median value of owner-occupied homes in $1000's\n"
   ]
  },
  {
   "cell_type": "code",
   "execution_count": 9,
   "metadata": {},
   "outputs": [],
   "source": [
    "import numpy  as np\n",
    "import pandas as pd\n",
    "import matplotlib.pyplot as plt #For upcoming plots"
   ]
  },
  {
   "cell_type": "markdown",
   "metadata": {},
   "source": [
    "Before starting the analysis, one has to prepare the data. This is done via the following code:"
   ]
  },
  {
   "cell_type": "code",
   "execution_count": 10,
   "metadata": {},
   "outputs": [
    {
     "name": "stdout",
     "output_type": "stream",
     "text": [
      "Any NaNs? False\n"
     ]
    }
   ],
   "source": [
    "column_names = ['CRIM', 'ZN', 'INDUS', 'CHAS', 'NOX', 'RM', 'AGE', 'DIS', 'RAD', 'TAX', 'PTRATIO', 'B', 'LSTAT', 'MEDV']\n",
    "\n",
    "# Load the dataset and set the column names\n",
    "boston_housing = pd.read_csv('boston_house_prices.csv', skiprows=1, names=column_names)\n",
    "\n",
    "#Delete first row, due to the inclusion of variable description in the first row\n",
    "boston_housing = boston_housing.drop(index=0)\n",
    "\n",
    "#Converting all columns to numeric\n",
    "boston_housing = boston_housing.apply(pd.to_numeric, errors='coerce')\n",
    "\n",
    "#Check for NaNs\n",
    "print(\"Any NaNs?\",boston_housing.isna().any().any())\n",
    "\n",
    "#Note that the data is already standardized"
   ]
  },
  {
   "cell_type": "markdown",
   "metadata": {},
   "source": [
    "### Task 1)\n",
    "\n",
    "a) Get a first insight into the data.\n",
    "\n",
    "   - How many observations are present?\n",
    "   - Which types do the variables have?\n",
    "   - Print out a summary statistic including the min, max, quantiles and the median"
   ]
  },
  {
   "cell_type": "code",
   "execution_count": null,
   "metadata": {},
   "outputs": [],
   "source": []
  },
  {
   "cell_type": "markdown",
   "metadata": {},
   "source": [
    "b) Implement the training and test set. The training set should countain 70% of the overall data. The remaining 30% are for the test data.\n",
    "   - Use MEDV as your depended variable\n",
    "   - All remaining variables are used as the independent variables (Remember: We want to predict the median value of owner-occupied homes)\n",
    "\n",
    "(Hint: Set a \"random_state = 10\" in order to reproduce your training and test set.)"
   ]
  },
  {
   "cell_type": "code",
   "execution_count": null,
   "metadata": {},
   "outputs": [],
   "source": [
    "\n",
    "\n"
   ]
  },
  {
   "cell_type": "markdown",
   "metadata": {},
   "source": [
    "c) Train and test a linear regression.\n",
    "   - Show your results in a suitable table\n",
    "   - How can your model be validated? Compare your validation metrics between the training and test set.\n"
   ]
  },
  {
   "cell_type": "code",
   "execution_count": 11,
   "metadata": {},
   "outputs": [],
   "source": [
    "from sklearn.linear_model import LinearRegression \n",
    "from sklearn.metrics import mean_squared_error, r2_score \n",
    "\n",
    "\n"
   ]
  },
  {
   "cell_type": "markdown",
   "metadata": {},
   "source": [
    "d) Include the ridge penalization term.\n",
    "   - Implement a ridge regression that includes alpha = 1.\n",
    "   - Does the model improve in comparison to task c? Explain\n",
    "   - Try out different tuning parameters. What happens when alpha increases or decreases? \n",
    "\n",
    "\n",
    "(Hint: Use a large grid for the hyperparameter values. E.g. from 0 to 100.)"
   ]
  },
  {
   "cell_type": "code",
   "execution_count": 12,
   "metadata": {},
   "outputs": [],
   "source": [
    "from sklearn.linear_model import Ridge\n",
    "\n"
   ]
  },
  {
   "cell_type": "code",
   "execution_count": null,
   "metadata": {},
   "outputs": [],
   "source": []
  },
  {
   "cell_type": "markdown",
   "metadata": {},
   "source": [
    "e) Include the lasso penalization term.\n",
    "   - Implement a ridge regression that includes alpha = 1.\n",
    "   - Does the model improve in comparison to task c? Explain\n",
    "   - Try out different tuning parameters. What happens when alpha increases or decreases?\n",
    "\n",
    "   (Hint: Use a large grid for the hyperparameter values. E.g. from 0 to 100.)  "
   ]
  },
  {
   "cell_type": "code",
   "execution_count": 13,
   "metadata": {},
   "outputs": [],
   "source": [
    "from sklearn.linear_model import Lasso\n",
    "\n"
   ]
  },
  {
   "cell_type": "code",
   "execution_count": null,
   "metadata": {},
   "outputs": [],
   "source": []
  },
  {
   "cell_type": "markdown",
   "metadata": {},
   "source": [
    "f) Include the elastic net penalization term.\n",
    "   - Implement a elatsic net model that includes alpha = 1 and the l1 ratio of 0.5.\n",
    "   - Does the model improve in comparison to task c? Explain\n",
    "   - Try out different tuning parameters. What happens when alpha increases or decreases?\n",
    "\n",
    "   (Hint: Use a large grid for the hyperparameter values. E.g. from 0 to 100.)   "
   ]
  },
  {
   "cell_type": "code",
   "execution_count": 14,
   "metadata": {},
   "outputs": [],
   "source": [
    "from sklearn.linear_model import ElasticNet\n",
    "\n"
   ]
  },
  {
   "cell_type": "code",
   "execution_count": null,
   "metadata": {},
   "outputs": [],
   "source": []
  },
  {
   "cell_type": "markdown",
   "metadata": {},
   "source": [
    "g) Now include cross-validation to find the optimal tuning paramater for your lasso model.\n",
    "  - Did your lasso model improve?\n",
    "  - What is the problem of using cross-validation?"
   ]
  },
  {
   "cell_type": "code",
   "execution_count": 15,
   "metadata": {},
   "outputs": [],
   "source": [
    "from sklearn.model_selection import GridSearchCV\n",
    "\n"
   ]
  },
  {
   "cell_type": "markdown",
   "metadata": {},
   "source": [
    "h) Now include cross-validation to find the optimal tuning paramater and the penalty ratio for your elastic net model.\n",
    "  - Did your elastic net model improve?\n",
    "  - How is the ratio of l1 to l2 penalty? Interpret your results."
   ]
  },
  {
   "cell_type": "code",
   "execution_count": 16,
   "metadata": {},
   "outputs": [],
   "source": [
    "from sklearn.model_selection import GridSearchCV"
   ]
  }
 ],
 "metadata": {
  "kernelspec": {
   "display_name": "Python 3 (ipykernel)",
   "language": "python",
   "name": "python3"
  },
  "language_info": {
   "codemirror_mode": {
    "name": "ipython",
    "version": 3
   },
   "file_extension": ".py",
   "mimetype": "text/x-python",
   "name": "python",
   "nbconvert_exporter": "python",
   "pygments_lexer": "ipython3",
   "version": "3.12.2"
  }
 },
 "nbformat": 4,
 "nbformat_minor": 4
}
