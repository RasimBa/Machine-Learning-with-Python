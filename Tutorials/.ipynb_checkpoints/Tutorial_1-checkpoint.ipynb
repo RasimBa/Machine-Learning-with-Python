{
 "cells": [
  {
   "cell_type": "markdown",
   "id": "9d5bbf79-829b-4cc8-abea-7769397925a5",
   "metadata": {},
   "source": [
    "# Machine Learning and Programming in Python\n",
    "## Tutorial 1"
   ]
  },
  {
   "cell_type": "markdown",
   "id": "69cd6103-31fe-48fc-b679-e5bcc31d690a",
   "metadata": {},
   "source": [
    "Welcome to the first tutorial session! The primary goal of this tutorial is to introduce you to the world of Jupyter Notebooks. Jupyter Notebooks are powerful tools used extensively in data science, machine learning, and various scientific disciplines for interactive computing and data visualization. Throughout this tutorial, we'll dive into the basics of Jupyter Notebooks, exploring their functionalities, and mastering essential tasks that will empower you in your academic and professional journey."
   ]
  },
  {
   "cell_type": "markdown",
   "id": "b0939a31-c9ec-4163-beb3-b68afd3ebbbd",
   "metadata": {},
   "source": [
    "### Task 1 (Data Types)\n",
    "\n",
    "Examine the datatype of:\n",
    "\n",
    "a.) 7  \n",
    "\n",
    "b.) 3.1415  \n",
    "\n",
    "c.) [0, 2, -1, \"r\"]  \n",
    "\n",
    "d.) (\"GER\", \"FRA\", 12.9, \"ITA\")  \n",
    "\n",
    "e.) 3e-2\n",
    "\n",
    "\n",
    "*Hint: Examine the data types of each item by assigning them to variables and then using the type() function.*"
   ]
  },
  {
   "cell_type": "code",
   "execution_count": null,
   "id": "e443b7d3",
   "metadata": {},
   "outputs": [],
   "source": [
    "#Solution\n",
    "\n",
    "print(type(7))\n",
    "\n",
    "print(type(3.1415))\n",
    "\n",
    "print(type([0, 2, -1, \"r\"] ))\n",
    "\n",
    "print(type((\"GER\", \"FRA\", 12.9, \"ITA\")))\n",
    "\n",
    "print(type(3e-2))"
   ]
  },
  {
   "cell_type": "markdown",
   "id": "9b83f8fe-273a-4b12-8d27-712eda5ca4d7",
   "metadata": {},
   "source": [
    "### Task 2 (Data Types)\n",
    "\n",
    "Define the variable x=10 and take a look at the results of the following commands:\n",
    "\n",
    "a.) type(x)  \n",
    "\n",
    "b.) print(x+4)   \n",
    "\n",
    "c.) print(str(x)+4)   \n",
    "\n",
    "d.) print(int(str(x))-2)  \n",
    "\n",
    "e.) print(x < 12)\n",
    "\n",
    "f.) print(type(x > 12))\n",
    "\n",
    "\n"
   ]
  },
  {
   "cell_type": "code",
   "execution_count": 32,
   "id": "1ee2149b",
   "metadata": {},
   "outputs": [
    {
     "name": "stdout",
     "output_type": "stream",
     "text": [
      "14\n",
      "8\n",
      "True\n",
      "<class 'bool'>\n"
     ]
    }
   ],
   "source": [
    "#Solution\n",
    "\n",
    "x = 10\n",
    "\n",
    "print(x+4)\n",
    "\n",
    "#print(str(x) + 4) -> This does not work, as it is not possible to make computations with different data types!\n",
    "\n",
    "print(int(str(x))-2) \n",
    "\n",
    "print(x < 12)\n",
    "\n",
    "print(type(x > 12))"
   ]
  },
  {
   "cell_type": "markdown",
   "id": "1df70447-8596-4fca-b343-fa177ddda875",
   "metadata": {},
   "source": [
    "### Task 3 (Operators)\n",
    "\n",
    "In this task, we'll be focusing on operators, which involve performing mathematical and logical transformations. Define $a =7$ and $b = 3$. Initially, try to predict the results of the following code snippets without programming:\n",
    "\n",
    "a.) print(\"a + b=\", a +b)   \n",
    "\n",
    "b.) print(\"a-b =\", a-b)  \n",
    "\n",
    "c.) print(\"a/b =\", a/b)   \n",
    "\n",
    "d.) print(\"a*b =\", a*b)   \n",
    "\n",
    "e.) print(\"a raised to the power of b equals\", a**b) \n",
    "\n",
    "f.) print(\"a/b: the modulo is\", a%b)   \n",
    "\n",
    "g.) a==a   \n",
    "\n",
    "h.) a!=a \n",
    "\n",
    "*Note that those logical operations become relevant when it comes to slicing data*\n",
    "\n",
    "\n",
    "  \n",
    "\n"
   ]
  },
  {
   "cell_type": "code",
   "execution_count": 34,
   "id": "a93768c9",
   "metadata": {},
   "outputs": [
    {
     "name": "stdout",
     "output_type": "stream",
     "text": [
      "a + b= 10\n",
      "a-b = 4\n",
      "a/b = 2.3333333333333335\n",
      "a*b = 21\n",
      "a raised to the power of b equals 343\n",
      "a/b: the modulo is 1\n",
      "True\n",
      "False\n"
     ]
    }
   ],
   "source": [
    "#Solution\n",
    "\n",
    "a = 7\n",
    "b = 3\n",
    "\n",
    "print(\"a + b=\", a +b)  \n",
    "\n",
    "print(\"a-b =\", a-b) \n",
    "\n",
    "print(\"a/b =\", a/b) \n",
    "\n",
    "print(\"a*b =\", a*b)\n",
    "\n",
    "print(\"a raised to the power of b equals\", a**b) \n",
    "\n",
    "print(\"a/b: the modulo is\", a%b)\n",
    "\n",
    "print(a==a)\n",
    "\n",
    "print(a!=a)"
   ]
  },
  {
   "cell_type": "markdown",
   "id": "93367a04-df2a-488c-b8d6-cd7abb86aa57",
   "metadata": {},
   "source": [
    "### Task 4 (Conditions)\n",
    "\n",
    "Similar to Excel, in Python, you can incorporate if and if-else statements. These commands are highly useful in programming. Note that the code is indented in places. It's important to adhere to syntax rules, as indentation indicates the hierarchy of programming steps.\n",
    "\n",
    "Consider the following simple example of a if-statement:"
   ]
  },
  {
   "cell_type": "code",
   "execution_count": 35,
   "id": "0f5193fb-8ebc-46b0-8d50-e5f091838cbd",
   "metadata": {},
   "outputs": [
    {
     "name": "stdout",
     "output_type": "stream",
     "text": [
      "3 is a positive number\n"
     ]
    }
   ],
   "source": [
    "x = 3\n",
    "if x>0:\n",
    "    print(x, \"is a positive number\")"
   ]
  },
  {
   "cell_type": "markdown",
   "id": "ab74e11e-d513-4dc2-abaa-d3c117d9449c",
   "metadata": {},
   "source": [
    "a.) Define the variable t = 5. Write an if statement that checks if t - 3 is greater than zero, ensuring that t - 3 is a positive number.  "
   ]
  },
  {
   "cell_type": "code",
   "execution_count": 36,
   "id": "862b2516",
   "metadata": {},
   "outputs": [
    {
     "name": "stdout",
     "output_type": "stream",
     "text": [
      "2 is greater than zero\n"
     ]
    }
   ],
   "source": [
    "#Solution\n",
    "\n",
    "t = 5\n",
    "\n",
    "if (t-3)>0:\n",
    "    print((t-3), \"is greater than zero\")"
   ]
  },
  {
   "cell_type": "markdown",
   "id": "5b959336-566e-4c52-a6ca-d70bfef5bae9",
   "metadata": {},
   "source": [
    "Such if statements can also be utilized to check if an element is in a list, where the element can have any data type.\n"
   ]
  },
  {
   "cell_type": "code",
   "execution_count": 37,
   "id": "b5cdb132-a112-4c57-a29a-1196137f2b98",
   "metadata": {},
   "outputs": [
    {
     "name": "stdout",
     "output_type": "stream",
     "text": [
      "Welcome in Bochum Leon\n"
     ]
    }
   ],
   "source": [
    "list = [ \"Markus\", \"Leon\", \"Professor Krenz\"]\n",
    "if \"Leon\" in list:\n",
    "    print(\"Welcome in Bochum Leon\")"
   ]
  },
  {
   "cell_type": "markdown",
   "id": "7cf1a4f0-245e-4e18-a86e-7c740804f1d3",
   "metadata": {},
   "source": [
    "b.) Try to predict the output of the following commands"
   ]
  },
  {
   "cell_type": "code",
   "execution_count": 38,
   "id": "fc6af873-1e1a-45ec-a612-c0a25db0da2f",
   "metadata": {},
   "outputs": [
    {
     "name": "stdout",
     "output_type": "stream",
     "text": [
      "6\n"
     ]
    }
   ],
   "source": [
    "x=5\n",
    "if x >2:\n",
    "    x+=1\n",
    "    print(x)"
   ]
  },
  {
   "cell_type": "code",
   "execution_count": 39,
   "id": "fc8c03d3-3c36-4285-8e19-77852c3f2657",
   "metadata": {},
   "outputs": [
    {
     "name": "stdout",
     "output_type": "stream",
     "text": [
      "5 divdes 10\n"
     ]
    }
   ],
   "source": [
    "x=5\n",
    "y=10\n",
    "\n",
    "if y%x ==0:\n",
    "    print(x, \"divdes\", y)"
   ]
  },
  {
   "cell_type": "markdown",
   "id": "35d615cf-0e91-464f-b9b6-3915510d992b",
   "metadata": {},
   "source": [
    "It is also possible to write if-else statements. Consider the following example:"
   ]
  },
  {
   "cell_type": "code",
   "execution_count": 40,
   "id": "8d38b577-b337-4d30-9b62-e6ab9232e0f1",
   "metadata": {},
   "outputs": [
    {
     "name": "stdout",
     "output_type": "stream",
     "text": [
      "You are broke\n"
     ]
    }
   ],
   "source": [
    "Savings=10\n",
    "Phone_price = 9\n",
    "if Savings > Phone_price:\n",
    "    print(\"You can buy it\")\n",
    "else:\n",
    "    print(\"You are broke\")\n",
    "\n",
    "#Change the phone price or savings to get the else print"
   ]
  },
  {
   "cell_type": "markdown",
   "id": "8b260a2d-dc21-49fb-8f6f-536af73a42ff",
   "metadata": {},
   "source": [
    "c.) Define the variable age with some integer. Then, using an if-else statement, check if the age is greater than or equal to 18. If it is, print \"You are an adult\". Otherwise, print \"You are a minor\"."
   ]
  },
  {
   "cell_type": "code",
   "execution_count": null,
   "id": "343b8468-feca-46ed-b6d8-e689561f8b5a",
   "metadata": {},
   "outputs": [],
   "source": [
    "#Solution\n",
    "\n",
    "age = 17\n",
    "\n",
    "if age >= 18:\n",
    "    print(\"You are an adult\")\n",
    "else:\n",
    "    print(\"You are a minor\")"
   ]
  },
  {
   "cell_type": "markdown",
   "id": "1566e782-43b2-466b-b6dc-774b07f5e513",
   "metadata": {},
   "source": [
    "### Task 5 (Loops)\n",
    "\n",
    "In programming, loops are used to execute a block of code repeatedly. There are two main types of loops: 'for' loops and 'while' loops. 'For' loops are used when you know the number of times you want to execute a block of code, while 'while' loops are used when you want to execute a block of code as long as a specified condition is true. Both types of loops are powerful tools for automating repetitive tasks in your code.\n",
    "\n",
    "\n",
    "### For Loops\n",
    "\n",
    "For Loops execute the code for each element (e.g. row) in the the data. The loop finishes when the end of the data or sequence is reached."
   ]
  },
  {
   "cell_type": "code",
   "execution_count": null,
   "id": "8728577a-4390-402f-9b32-9c9560cbefe5",
   "metadata": {},
   "outputs": [],
   "source": [
    "economists = [\"Paul Krugman\", \"Esther Duflo\", \"Friedrich August von Hayek\", \"George Akerlof\", \"Elinor Oestrom\", \"Claudia Goldin\"]\n",
    "for i in economists:\n",
    "    print(i, \"received a nobel prize\")\n",
    "\n",
    "# Note that Elinor Oestrom was the first woman who received a nobel price"
   ]
  },
  {
   "cell_type": "markdown",
   "id": "226ea808-7334-4ef2-9ca7-22e58610b15c",
   "metadata": {},
   "source": [
    "a.) Prepare a list containing at least 3 supervised learning techniques. Write a Python program that uses a for loop to iterate over the elements of the list. Inside the loop, print each element along with the statement \"is a supervised learning method\"."
   ]
  },
  {
   "cell_type": "code",
   "execution_count": 50,
   "id": "3fa3b029",
   "metadata": {},
   "outputs": [
    {
     "name": "stdout",
     "output_type": "stream",
     "text": [
      "Linear Regression is a supervised learning technique\n",
      "Logistic Regression is a supervised learning technique\n",
      "Random Forest is a supervised learning technique\n"
     ]
    }
   ],
   "source": [
    "#Solution\n",
    "\n",
    "SL_techniques = [\"Linear Regression\", \"Logistic Regression\", \"Random Forest\"]\n",
    "\n",
    "for i in SL_techniques:\n",
    "    print(i, \"is a supervised learning technique\")"
   ]
  },
  {
   "cell_type": "markdown",
   "id": "b3b9d24e-13a2-459c-9c07-eb3987608cea",
   "metadata": {},
   "source": [
    "b.) Try to predict the output of the following code:"
   ]
  },
  {
   "cell_type": "code",
   "execution_count": 51,
   "id": "3f081f48-e15d-48fb-ba98-d60a07345609",
   "metadata": {},
   "outputs": [
    {
     "name": "stdout",
     "output_type": "stream",
     "text": [
      "M\n",
      "a\n",
      "c\n",
      "h\n",
      "i\n",
      "n\n",
      "e\n",
      " \n",
      "L\n",
      "e\n",
      "a\n",
      "r\n",
      "n\n",
      "i\n",
      "n\n",
      "g\n"
     ]
    }
   ],
   "source": [
    "some_words = \"Machine Learning\"\n",
    "for i in some_words:\n",
    "    print(i)"
   ]
  },
  {
   "cell_type": "markdown",
   "id": "ac7c53f7-10bf-49f2-8531-f35d177a6a70",
   "metadata": {},
   "source": [
    "### While loops\n",
    "\n",
    "While loops are extremely useful for situations where you want to execute a block of code repeatedly until a certain condition is met. The loop iterates while the condition remains true, and when the condition becomes false, the loop terminates, and program control moves to the next statement following the loop. Take a look at the following example, where I use a while loop to count for all numbers smaller than 5!\n"
   ]
  },
  {
   "cell_type": "code",
   "execution_count": 52,
   "id": "a7449676-51b1-44ed-9499-19d2f3166dae",
   "metadata": {
    "scrolled": true
   },
   "outputs": [
    {
     "name": "stdout",
     "output_type": "stream",
     "text": [
      "Counter: 0\n",
      "Counter: 1\n",
      "Counter: 2\n",
      "Counter: 3\n",
      "Counter: 4\n",
      "The loop is finish!\n"
     ]
    }
   ],
   "source": [
    "counter = 0\n",
    "\n",
    "while counter < 5:\n",
    "    print(\"Counter:\", counter)\n",
    "    counter += 1\n",
    "\n",
    "print(\"The loop is finish!\")"
   ]
  },
  {
   "cell_type": "markdown",
   "id": "9a2348e8-455a-4b65-837b-e5d3633c5f01",
   "metadata": {},
   "source": [
    "c.) Task: Counting Down\n",
    "\n",
    "Write a Python program that counts down from 10 to 1 and prints each number.\n",
    "\n",
    "Instructions:\n",
    "\n",
    "    Initialize a variable named number with the value 10.\n",
    "    Write a while loop with the condition number > 0.\n",
    "    Inside the while loop, print the value of number.\n",
    "    Decrement the value of number by 1 in each iteration of the loop.\n",
    "    Run the loop until number becomes 0."
   ]
  },
  {
   "cell_type": "code",
   "execution_count": 56,
   "id": "cd43a33a-88c2-4ea1-a3b5-98008d8cb86c",
   "metadata": {},
   "outputs": [
    {
     "name": "stdout",
     "output_type": "stream",
     "text": [
      "10\n",
      "9\n",
      "8\n",
      "7\n",
      "6\n",
      "5\n",
      "4\n",
      "3\n",
      "2\n",
      "1\n"
     ]
    }
   ],
   "source": [
    "#Solution\n",
    "\n",
    "number = 10\n",
    "\n",
    "while number > 0:\n",
    "    print(number)\n",
    "    number+= -1"
   ]
  },
  {
   "cell_type": "markdown",
   "id": "0a7f1c85-608e-4d1e-8e79-46cf7fa212f0",
   "metadata": {},
   "source": [
    "Write a Python program that prints all even numbers from 2 to 20 using a while loop."
   ]
  },
  {
   "cell_type": "code",
   "execution_count": 58,
   "id": "5a9f1807-b62a-40e8-a72b-1310b1f35cda",
   "metadata": {},
   "outputs": [
    {
     "name": "stdout",
     "output_type": "stream",
     "text": [
      "Even numbbers from 2 to 20\n",
      "2\n",
      "4\n",
      "6\n",
      "8\n",
      "10\n",
      "12\n",
      "14\n",
      "16\n",
      "18\n",
      "20\n"
     ]
    }
   ],
   "source": [
    "#Solution\n",
    "\n",
    "number = 2\n",
    "\n",
    "print(\"Even numbbers from 2 to 20\")\n",
    "while number <=20:\n",
    "    print(number)\n",
    "    number+=2"
   ]
  },
  {
   "cell_type": "markdown",
   "id": "e450397f-d2ce-4c9a-aae9-ac48dafc2508",
   "metadata": {},
   "source": [
    "# Task 6 (Data_Import)\n",
    "\n",
    "\n"
   ]
  },
  {
   "cell_type": "code",
   "execution_count": 44,
   "id": "66c84b10-29cb-4a9a-9689-8bc7ed6a37cc",
   "metadata": {},
   "outputs": [
    {
     "name": "stderr",
     "output_type": "stream",
     "text": [
      "ERROR: Invalid requirement: '#'\n",
      "C:\\Users\\PC_DSECON_2\\AppData\\Local\\Temp\\ipykernel_16456\\2616512898.py:4: DeprecationWarning: \n",
      "Pyarrow will become a required dependency of pandas in the next major release of pandas (pandas 3.0),\n",
      "(to allow more performant data types, such as the Arrow string type, and better interoperability with other libraries)\n",
      "but was not found to be installed on your system.\n",
      "If this would cause problems for you,\n",
      "please provide us feedback at https://github.com/pandas-dev/pandas/issues/54466\n",
      "        \n",
      "  import pandas as pd # This import pandas in your python script\n"
     ]
    }
   ],
   "source": [
    "#Install the required packages and import them into your workspace\n",
    "\n",
    "!pip install pandas # This installs pandas on your computer.\n",
    "import pandas as pd # This import pandas in your python script\n"
   ]
  },
  {
   "cell_type": "markdown",
   "id": "b45fe605",
   "metadata": {},
   "source": [
    "a.) Import the dataset into Python. Use command \"head()\",\"info()\" and \"describe()\" to get an overview of the data."
   ]
  },
  {
   "cell_type": "code",
   "execution_count": 45,
   "id": "b5ebb819-a20d-4eab-9bc3-b12bae88ed1a",
   "metadata": {},
   "outputs": [
    {
     "data": {
      "text/html": [
       "<div>\n",
       "<style scoped>\n",
       "    .dataframe tbody tr th:only-of-type {\n",
       "        vertical-align: middle;\n",
       "    }\n",
       "\n",
       "    .dataframe tbody tr th {\n",
       "        vertical-align: top;\n",
       "    }\n",
       "\n",
       "    .dataframe thead th {\n",
       "        text-align: right;\n",
       "    }\n",
       "</style>\n",
       "<table border=\"1\" class=\"dataframe\">\n",
       "  <thead>\n",
       "    <tr style=\"text-align: right;\">\n",
       "      <th></th>\n",
       "      <th>place</th>\n",
       "      <th>pop2023</th>\n",
       "      <th>growthRate</th>\n",
       "      <th>area</th>\n",
       "      <th>country</th>\n",
       "      <th>cca3</th>\n",
       "      <th>cca2</th>\n",
       "      <th>ccn3</th>\n",
       "      <th>region</th>\n",
       "      <th>subregion</th>\n",
       "      <th>landAreaKm</th>\n",
       "      <th>density</th>\n",
       "      <th>densityMi</th>\n",
       "      <th>Rank</th>\n",
       "      <th>consmPerCap</th>\n",
       "      <th>consm</th>\n",
       "      <th>consmGals</th>\n",
       "      <th>pop2020</th>\n",
       "      <th>rank</th>\n",
       "    </tr>\n",
       "  </thead>\n",
       "  <tbody>\n",
       "    <tr>\n",
       "      <th>0</th>\n",
       "      <td>203</td>\n",
       "      <td>10495295</td>\n",
       "      <td>0.00013</td>\n",
       "      <td>78865</td>\n",
       "      <td>Czech Republic</td>\n",
       "      <td>CZE</td>\n",
       "      <td>CZ</td>\n",
       "      <td>203</td>\n",
       "      <td>Europe</td>\n",
       "      <td>Eastern Europe</td>\n",
       "      <td>77198.5</td>\n",
       "      <td>135.9521</td>\n",
       "      <td>352.1158</td>\n",
       "      <td>89</td>\n",
       "      <td>181.7</td>\n",
       "      <td>1946</td>\n",
       "      <td>514079</td>\n",
       "      <td>10708981</td>\n",
       "      <td>1</td>\n",
       "    </tr>\n",
       "    <tr>\n",
       "      <th>1</th>\n",
       "      <td>40</td>\n",
       "      <td>8958960</td>\n",
       "      <td>0.00216</td>\n",
       "      <td>83871</td>\n",
       "      <td>Austria</td>\n",
       "      <td>AUT</td>\n",
       "      <td>AT</td>\n",
       "      <td>40</td>\n",
       "      <td>Europe</td>\n",
       "      <td>Western Europe</td>\n",
       "      <td>82520.0</td>\n",
       "      <td>108.5671</td>\n",
       "      <td>281.1889</td>\n",
       "      <td>100</td>\n",
       "      <td>96.8</td>\n",
       "      <td>872</td>\n",
       "      <td>230358</td>\n",
       "      <td>9006398</td>\n",
       "      <td>2</td>\n",
       "    </tr>\n",
       "    <tr>\n",
       "      <th>2</th>\n",
       "      <td>616</td>\n",
       "      <td>41026067</td>\n",
       "      <td>0.02933</td>\n",
       "      <td>312679</td>\n",
       "      <td>Poland</td>\n",
       "      <td>POL</td>\n",
       "      <td>PL</td>\n",
       "      <td>616</td>\n",
       "      <td>Europe</td>\n",
       "      <td>Eastern Europe</td>\n",
       "      <td>306130.0</td>\n",
       "      <td>134.0152</td>\n",
       "      <td>347.0993</td>\n",
       "      <td>37</td>\n",
       "      <td>96.0</td>\n",
       "      <td>3633</td>\n",
       "      <td>959737</td>\n",
       "      <td>37846611</td>\n",
       "      <td>3</td>\n",
       "    </tr>\n",
       "    <tr>\n",
       "      <th>3</th>\n",
       "      <td>642</td>\n",
       "      <td>19892812</td>\n",
       "      <td>0.01188</td>\n",
       "      <td>238391</td>\n",
       "      <td>Romania</td>\n",
       "      <td>ROU</td>\n",
       "      <td>RO</td>\n",
       "      <td>642</td>\n",
       "      <td>Europe</td>\n",
       "      <td>Eastern Europe</td>\n",
       "      <td>230080.0</td>\n",
       "      <td>86.4604</td>\n",
       "      <td>223.9325</td>\n",
       "      <td>64</td>\n",
       "      <td>95.0</td>\n",
       "      <td>1828</td>\n",
       "      <td>482907</td>\n",
       "      <td>19237691</td>\n",
       "      <td>4</td>\n",
       "    </tr>\n",
       "    <tr>\n",
       "      <th>4</th>\n",
       "      <td>276</td>\n",
       "      <td>83294633</td>\n",
       "      <td>-0.00090</td>\n",
       "      <td>357114</td>\n",
       "      <td>Germany</td>\n",
       "      <td>DEU</td>\n",
       "      <td>DE</td>\n",
       "      <td>276</td>\n",
       "      <td>Europe</td>\n",
       "      <td>Western Europe</td>\n",
       "      <td>349390.0</td>\n",
       "      <td>238.4002</td>\n",
       "      <td>617.4564</td>\n",
       "      <td>19</td>\n",
       "      <td>92.5</td>\n",
       "      <td>7746</td>\n",
       "      <td>2046277</td>\n",
       "      <td>83783942</td>\n",
       "      <td>5</td>\n",
       "    </tr>\n",
       "  </tbody>\n",
       "</table>\n",
       "</div>"
      ],
      "text/plain": [
       "   place   pop2023  growthRate    area         country cca3 cca2  ccn3  \\\n",
       "0    203  10495295     0.00013   78865  Czech Republic  CZE   CZ   203   \n",
       "1     40   8958960     0.00216   83871         Austria  AUT   AT    40   \n",
       "2    616  41026067     0.02933  312679          Poland  POL   PL   616   \n",
       "3    642  19892812     0.01188  238391         Romania  ROU   RO   642   \n",
       "4    276  83294633    -0.00090  357114         Germany  DEU   DE   276   \n",
       "\n",
       "   region       subregion  landAreaKm   density  densityMi  Rank  consmPerCap  \\\n",
       "0  Europe  Eastern Europe     77198.5  135.9521   352.1158    89        181.7   \n",
       "1  Europe  Western Europe     82520.0  108.5671   281.1889   100         96.8   \n",
       "2  Europe  Eastern Europe    306130.0  134.0152   347.0993    37         96.0   \n",
       "3  Europe  Eastern Europe    230080.0   86.4604   223.9325    64         95.0   \n",
       "4  Europe  Western Europe    349390.0  238.4002   617.4564    19         92.5   \n",
       "\n",
       "   consm  consmGals   pop2020  rank  \n",
       "0   1946     514079  10708981     1  \n",
       "1    872     230358   9006398     2  \n",
       "2   3633     959737  37846611     3  \n",
       "3   1828     482907  19237691     4  \n",
       "4   7746    2046277  83783942     5  "
      ]
     },
     "execution_count": 45,
     "metadata": {},
     "output_type": "execute_result"
    }
   ],
   "source": [
    "#Solution\n",
    "\n",
    "beer = pd.read_csv('beer.csv')\n",
    "\n",
    "beer.head()\n",
    "\n",
    "#Remember: In order to import your data, your script needs to be saved in the folder where your data is saved as well. \n",
    "#Alternatively: Inlcude the filepath before \"beer.csv\". Python is then able to extract data that is not in your scribt folder."
   ]
  },
  {
   "cell_type": "code",
   "execution_count": 63,
   "id": "e1f5a6b8-f64e-4394-9d22-eaaa178ff67a",
   "metadata": {},
   "outputs": [
    {
     "name": "stdout",
     "output_type": "stream",
     "text": [
      "<class 'pandas.core.frame.DataFrame'>\n",
      "RangeIndex: 47 entries, 0 to 46\n",
      "Data columns (total 19 columns):\n",
      " #   Column       Non-Null Count  Dtype  \n",
      "---  ------       --------------  -----  \n",
      " 0   place        47 non-null     int64  \n",
      " 1   pop2023      47 non-null     int64  \n",
      " 2   growthRate   47 non-null     float64\n",
      " 3   area         47 non-null     int64  \n",
      " 4   country      47 non-null     object \n",
      " 5   cca3         47 non-null     object \n",
      " 6   cca2         46 non-null     object \n",
      " 7   ccn3         47 non-null     int64  \n",
      " 8   region       47 non-null     object \n",
      " 9   subregion    47 non-null     object \n",
      " 10  landAreaKm   47 non-null     float64\n",
      " 11  density      47 non-null     float64\n",
      " 12  densityMi    47 non-null     float64\n",
      " 13  Rank         47 non-null     int64  \n",
      " 14  consmPerCap  47 non-null     float64\n",
      " 15  consm        47 non-null     int64  \n",
      " 16  consmGals    47 non-null     int64  \n",
      " 17  pop2020      47 non-null     int64  \n",
      " 18  rank         47 non-null     int64  \n",
      "dtypes: float64(5), int64(9), object(5)\n",
      "memory usage: 7.1+ KB\n"
     ]
    }
   ],
   "source": [
    "beer.info()"
   ]
  },
  {
   "cell_type": "code",
   "execution_count": 64,
   "id": "43635e2d-3f91-4227-92ba-ca4cccc7ff46",
   "metadata": {},
   "outputs": [
    {
     "data": {
      "text/html": [
       "<div>\n",
       "<style scoped>\n",
       "    .dataframe tbody tr th:only-of-type {\n",
       "        vertical-align: middle;\n",
       "    }\n",
       "\n",
       "    .dataframe tbody tr th {\n",
       "        vertical-align: top;\n",
       "    }\n",
       "\n",
       "    .dataframe thead th {\n",
       "        text-align: right;\n",
       "    }\n",
       "</style>\n",
       "<table border=\"1\" class=\"dataframe\">\n",
       "  <thead>\n",
       "    <tr style=\"text-align: right;\">\n",
       "      <th></th>\n",
       "      <th>place</th>\n",
       "      <th>pop2023</th>\n",
       "      <th>growthRate</th>\n",
       "      <th>area</th>\n",
       "      <th>ccn3</th>\n",
       "      <th>landAreaKm</th>\n",
       "      <th>density</th>\n",
       "      <th>densityMi</th>\n",
       "      <th>Rank</th>\n",
       "      <th>consmPerCap</th>\n",
       "      <th>consm</th>\n",
       "      <th>consmGals</th>\n",
       "      <th>pop2020</th>\n",
       "      <th>rank</th>\n",
       "    </tr>\n",
       "  </thead>\n",
       "  <tbody>\n",
       "    <tr>\n",
       "      <th>count</th>\n",
       "      <td>47.000000</td>\n",
       "      <td>4.700000e+01</td>\n",
       "      <td>47.000000</td>\n",
       "      <td>4.700000e+01</td>\n",
       "      <td>47.000000</td>\n",
       "      <td>4.700000e+01</td>\n",
       "      <td>47.000000</td>\n",
       "      <td>47.000000</td>\n",
       "      <td>47.000000</td>\n",
       "      <td>47.000000</td>\n",
       "      <td>47.000000</td>\n",
       "      <td>4.700000e+01</td>\n",
       "      <td>4.700000e+01</td>\n",
       "      <td>47.000000</td>\n",
       "    </tr>\n",
       "    <tr>\n",
       "      <th>mean</th>\n",
       "      <td>419.340426</td>\n",
       "      <td>1.049965e+08</td>\n",
       "      <td>0.003528</td>\n",
       "      <td>1.723488e+06</td>\n",
       "      <td>419.340426</td>\n",
       "      <td>1.657642e+06</td>\n",
       "      <td>139.341100</td>\n",
       "      <td>360.893443</td>\n",
       "      <td>69.702128</td>\n",
       "      <td>63.065957</td>\n",
       "      <td>3294.744681</td>\n",
       "      <td>8.703795e+05</td>\n",
       "      <td>1.037694e+08</td>\n",
       "      <td>24.000000</td>\n",
       "    </tr>\n",
       "    <tr>\n",
       "      <th>std</th>\n",
       "      <td>256.722933</td>\n",
       "      <td>2.888711e+08</td>\n",
       "      <td>0.014613</td>\n",
       "      <td>3.595617e+06</td>\n",
       "      <td>256.722933</td>\n",
       "      <td>3.448114e+06</td>\n",
       "      <td>145.481066</td>\n",
       "      <td>376.795964</td>\n",
       "      <td>51.711539</td>\n",
       "      <td>28.396841</td>\n",
       "      <td>6440.503702</td>\n",
       "      <td>1.701401e+06</td>\n",
       "      <td>2.853096e+08</td>\n",
       "      <td>13.711309</td>\n",
       "    </tr>\n",
       "    <tr>\n",
       "      <th>min</th>\n",
       "      <td>32.000000</td>\n",
       "      <td>1.322765e+06</td>\n",
       "      <td>-0.074480</td>\n",
       "      <td>8.870000e+03</td>\n",
       "      <td>32.000000</td>\n",
       "      <td>8.870000e+03</td>\n",
       "      <td>3.163100</td>\n",
       "      <td>8.192500</td>\n",
       "      <td>1.000000</td>\n",
       "      <td>1.200000</td>\n",
       "      <td>112.000000</td>\n",
       "      <td>2.958700e+04</td>\n",
       "      <td>1.326535e+06</td>\n",
       "      <td>1.000000</td>\n",
       "    </tr>\n",
       "    <tr>\n",
       "      <th>25%</th>\n",
       "      <td>197.000000</td>\n",
       "      <td>5.670337e+06</td>\n",
       "      <td>-0.000380</td>\n",
       "      <td>7.284500e+04</td>\n",
       "      <td>197.000000</td>\n",
       "      <td>7.153500e+04</td>\n",
       "      <td>34.055250</td>\n",
       "      <td>88.203000</td>\n",
       "      <td>22.000000</td>\n",
       "      <td>47.350000</td>\n",
       "      <td>414.000000</td>\n",
       "      <td>1.093675e+05</td>\n",
       "      <td>5.488864e+06</td>\n",
       "      <td>12.500000</td>\n",
       "    </tr>\n",
       "    <tr>\n",
       "      <th>50%</th>\n",
       "      <td>392.000000</td>\n",
       "      <td>1.989281e+07</td>\n",
       "      <td>0.004070</td>\n",
       "      <td>3.126790e+05</td>\n",
       "      <td>392.000000</td>\n",
       "      <td>2.981700e+05</td>\n",
       "      <td>86.460400</td>\n",
       "      <td>223.932500</td>\n",
       "      <td>64.000000</td>\n",
       "      <td>63.700000</td>\n",
       "      <td>1680.000000</td>\n",
       "      <td>4.438090e+05</td>\n",
       "      <td>1.923769e+07</td>\n",
       "      <td>24.000000</td>\n",
       "    </tr>\n",
       "    <tr>\n",
       "      <th>75%</th>\n",
       "      <td>642.500000</td>\n",
       "      <td>6.624669e+07</td>\n",
       "      <td>0.008380</td>\n",
       "      <td>7.145575e+05</td>\n",
       "      <td>642.500000</td>\n",
       "      <td>7.013450e+05</td>\n",
       "      <td>175.173800</td>\n",
       "      <td>453.700250</td>\n",
       "      <td>117.000000</td>\n",
       "      <td>79.400000</td>\n",
       "      <td>2765.000000</td>\n",
       "      <td>7.304355e+05</td>\n",
       "      <td>6.657976e+07</td>\n",
       "      <td>35.500000</td>\n",
       "    </tr>\n",
       "    <tr>\n",
       "      <th>max</th>\n",
       "      <td>840.000000</td>\n",
       "      <td>1.428628e+09</td>\n",
       "      <td>0.029330</td>\n",
       "      <td>1.709824e+07</td>\n",
       "      <td>840.000000</td>\n",
       "      <td>1.637687e+07</td>\n",
       "      <td>530.574400</td>\n",
       "      <td>1374.187600</td>\n",
       "      <td>156.000000</td>\n",
       "      <td>181.700000</td>\n",
       "      <td>36088.000000</td>\n",
       "      <td>9.533441e+06</td>\n",
       "      <td>1.439324e+09</td>\n",
       "      <td>47.000000</td>\n",
       "    </tr>\n",
       "  </tbody>\n",
       "</table>\n",
       "</div>"
      ],
      "text/plain": [
       "            place       pop2023  growthRate          area        ccn3  \\\n",
       "count   47.000000  4.700000e+01   47.000000  4.700000e+01   47.000000   \n",
       "mean   419.340426  1.049965e+08    0.003528  1.723488e+06  419.340426   \n",
       "std    256.722933  2.888711e+08    0.014613  3.595617e+06  256.722933   \n",
       "min     32.000000  1.322765e+06   -0.074480  8.870000e+03   32.000000   \n",
       "25%    197.000000  5.670337e+06   -0.000380  7.284500e+04  197.000000   \n",
       "50%    392.000000  1.989281e+07    0.004070  3.126790e+05  392.000000   \n",
       "75%    642.500000  6.624669e+07    0.008380  7.145575e+05  642.500000   \n",
       "max    840.000000  1.428628e+09    0.029330  1.709824e+07  840.000000   \n",
       "\n",
       "         landAreaKm     density    densityMi        Rank  consmPerCap  \\\n",
       "count  4.700000e+01   47.000000    47.000000   47.000000    47.000000   \n",
       "mean   1.657642e+06  139.341100   360.893443   69.702128    63.065957   \n",
       "std    3.448114e+06  145.481066   376.795964   51.711539    28.396841   \n",
       "min    8.870000e+03    3.163100     8.192500    1.000000     1.200000   \n",
       "25%    7.153500e+04   34.055250    88.203000   22.000000    47.350000   \n",
       "50%    2.981700e+05   86.460400   223.932500   64.000000    63.700000   \n",
       "75%    7.013450e+05  175.173800   453.700250  117.000000    79.400000   \n",
       "max    1.637687e+07  530.574400  1374.187600  156.000000   181.700000   \n",
       "\n",
       "              consm     consmGals       pop2020       rank  \n",
       "count     47.000000  4.700000e+01  4.700000e+01  47.000000  \n",
       "mean    3294.744681  8.703795e+05  1.037694e+08  24.000000  \n",
       "std     6440.503702  1.701401e+06  2.853096e+08  13.711309  \n",
       "min      112.000000  2.958700e+04  1.326535e+06   1.000000  \n",
       "25%      414.000000  1.093675e+05  5.488864e+06  12.500000  \n",
       "50%     1680.000000  4.438090e+05  1.923769e+07  24.000000  \n",
       "75%     2765.000000  7.304355e+05  6.657976e+07  35.500000  \n",
       "max    36088.000000  9.533441e+06  1.439324e+09  47.000000  "
      ]
     },
     "execution_count": 64,
     "metadata": {},
     "output_type": "execute_result"
    }
   ],
   "source": [
    "beer.describe()"
   ]
  },
  {
   "cell_type": "markdown",
   "id": "04b92241-158c-4f19-8b5b-4801dd3b2c19",
   "metadata": {},
   "source": [
    "Let us dive a little bit deeper in the data!\n",
    "\n",
    "c.) Find a command that you print for all values of the column \"country\"\n"
   ]
  },
  {
   "cell_type": "code",
   "execution_count": 65,
   "id": "7228655f-a496-47fb-94ac-7978bc9f00de",
   "metadata": {},
   "outputs": [
    {
     "name": "stdout",
     "output_type": "stream",
     "text": [
      "0             Czech Republic\n",
      "1                    Austria\n",
      "2                     Poland\n",
      "3                    Romania\n",
      "4                    Germany\n",
      "5                    Estonia\n",
      "6                  Lithuania\n",
      "7                    Namibia\n",
      "8                   Slovakia\n",
      "9                      Spain\n",
      "10                   Ireland\n",
      "11                     Gabon\n",
      "12     Republic of the Congo\n",
      "13                   Finland\n",
      "14                  Bulgaria\n",
      "15             United States\n",
      "16                   Croatia\n",
      "17                 Australia\n",
      "18                  Slovenia\n",
      "19                   Hungary\n",
      "20               Netherlands\n",
      "21                    Brazil\n",
      "22                    Mexico\n",
      "23    Bosnia and Herzegovina\n",
      "24                   Denmark\n",
      "25            United Kingdom\n",
      "26               New Zealand\n",
      "27                    Russia\n",
      "28               Puerto Rico\n",
      "29              South Africa\n",
      "30                   Belgium\n",
      "31                    Canada\n",
      "32               Switzerland\n",
      "33                    Panama\n",
      "34                    Sweden\n",
      "35                  Colombia\n",
      "36                   Ukraine\n",
      "37                 Argentina\n",
      "38                   Vietnam\n",
      "39               South Korea\n",
      "40                     Japan\n",
      "41                     Italy\n",
      "42                    France\n",
      "43                     China\n",
      "44                  Thailand\n",
      "45               Philippines\n",
      "46                     India\n",
      "Name: country, dtype: object\n"
     ]
    }
   ],
   "source": [
    "print(beer['country'])"
   ]
  },
  {
   "cell_type": "markdown",
   "id": "9ff66336-8daa-44d4-b934-67d38fa35966",
   "metadata": {},
   "source": [
    "Please be aware that we are dealing with a dataset that has already been cleaned. This means there are no duplicates, no missing values or other errors. If the dataset is sufficiently large (i.e., 10,000 entries), we cannot verify this manually. \n",
    "\n",
    "d.) Again, use google to find a command that gives you the unique values of the column \"country\""
   ]
  },
  {
   "cell_type": "code",
   "execution_count": 68,
   "id": "499bb087-d728-4fd4-b129-0e2f7f09ed33",
   "metadata": {},
   "outputs": [
    {
     "name": "stdout",
     "output_type": "stream",
     "text": [
      "['Czech Republic' 'Austria' 'Poland' 'Romania' 'Germany' 'Estonia'\n",
      " 'Lithuania' 'Namibia' 'Slovakia' 'Spain' 'Ireland' 'Gabon'\n",
      " 'Republic of the Congo' 'Finland' 'Bulgaria' 'United States' 'Croatia'\n",
      " 'Australia' 'Slovenia' 'Hungary' 'Netherlands' 'Brazil' 'Mexico'\n",
      " 'Bosnia and Herzegovina' 'Denmark' 'United Kingdom' 'New Zealand'\n",
      " 'Russia' 'Puerto Rico' 'South Africa' 'Belgium' 'Canada' 'Switzerland'\n",
      " 'Panama' 'Sweden' 'Colombia' 'Ukraine' 'Argentina' 'Vietnam'\n",
      " 'South Korea' 'Japan' 'Italy' 'France' 'China' 'Thailand' 'Philippines'\n",
      " 'India']\n",
      "['Czech Republic' 'Austria' 'Poland' 'Romania' 'Germany' 'Estonia'\n",
      " 'Lithuania' 'Namibia' 'Slovakia' 'Spain' 'Ireland' 'Gabon'\n",
      " 'Republic of the Congo' 'Finland' 'Bulgaria' 'United States' 'Croatia'\n",
      " 'Australia' 'Slovenia' 'Hungary' 'Netherlands' 'Brazil' 'Mexico'\n",
      " 'Bosnia and Herzegovina' 'Denmark' 'United Kingdom' 'New Zealand'\n",
      " 'Russia' 'Puerto Rico' 'South Africa' 'Belgium' 'Canada' 'Switzerland'\n",
      " 'Panama' 'Sweden' 'Colombia' 'Ukraine' 'Argentina' 'Vietnam'\n",
      " 'South Korea' 'Japan' 'Italy' 'France' 'China' 'Thailand' 'Philippines'\n",
      " 'India']\n"
     ]
    }
   ],
   "source": [
    "unique_regions = beer['country'].unique()\n",
    "print(unique_regions)\n",
    "\n",
    "print(beer['country'].unique())"
   ]
  },
  {
   "cell_type": "markdown",
   "id": "451b23df",
   "metadata": {},
   "source": [
    "e.) Lastly plot the first ten countries of the beer data against the individual consumption per capita."
   ]
  },
  {
   "cell_type": "code",
   "execution_count": 53,
   "id": "ebfe5257",
   "metadata": {},
   "outputs": [
    {
     "name": "stdout",
     "output_type": "stream",
     "text": [
      "Requirement already satisfied: matplotlib in c:\\users\\pc_dsecon_2\\appdata\\local\\programs\\python\\python312\\lib\\site-packages (3.8.4)\n",
      "Requirement already satisfied: contourpy>=1.0.1 in c:\\users\\pc_dsecon_2\\appdata\\local\\programs\\python\\python312\\lib\\site-packages (from matplotlib) (1.2.1)\n",
      "Requirement already satisfied: cycler>=0.10 in c:\\users\\pc_dsecon_2\\appdata\\local\\programs\\python\\python312\\lib\\site-packages (from matplotlib) (0.12.1)\n",
      "Requirement already satisfied: fonttools>=4.22.0 in c:\\users\\pc_dsecon_2\\appdata\\local\\programs\\python\\python312\\lib\\site-packages (from matplotlib) (4.51.0)\n",
      "Requirement already satisfied: kiwisolver>=1.3.1 in c:\\users\\pc_dsecon_2\\appdata\\local\\programs\\python\\python312\\lib\\site-packages (from matplotlib) (1.4.5)\n",
      "Requirement already satisfied: numpy>=1.21 in c:\\users\\pc_dsecon_2\\appdata\\local\\programs\\python\\python312\\lib\\site-packages (from matplotlib) (1.26.4)\n",
      "Requirement already satisfied: packaging>=20.0 in c:\\users\\pc_dsecon_2\\appdata\\roaming\\python\\python312\\site-packages (from matplotlib) (23.2)\n",
      "Requirement already satisfied: pillow>=8 in c:\\users\\pc_dsecon_2\\appdata\\local\\programs\\python\\python312\\lib\\site-packages (from matplotlib) (10.3.0)\n",
      "Requirement already satisfied: pyparsing>=2.3.1 in c:\\users\\pc_dsecon_2\\appdata\\local\\programs\\python\\python312\\lib\\site-packages (from matplotlib) (3.1.1)\n",
      "Requirement already satisfied: python-dateutil>=2.7 in c:\\users\\pc_dsecon_2\\appdata\\roaming\\python\\python312\\site-packages (from matplotlib) (2.8.2)\n",
      "Requirement already satisfied: six>=1.5 in c:\\users\\pc_dsecon_2\\appdata\\roaming\\python\\python312\\site-packages (from python-dateutil>=2.7->matplotlib) (1.16.0)\n"
     ]
    },
    {
     "data": {
      "image/png": "[encoded data removed]",
      "text/plain": [
       "<Figure size 1000x600 with 1 Axes>"
      ]
     },
     "metadata": {},
     "output_type": "display_data"
    }
   ],
   "source": [
    "#Solution\n",
    "\n",
    "#Install required packages\n",
    "!pip install matplotlib\n",
    "import matplotlib.pyplot as plt\n",
    "\n",
    "#Only include the first ten countries in the plot\n",
    "first_ten = beer.head(10)\n",
    "\n",
    "#Plot Consumption against countries\n",
    "\n",
    "plt.figure(figsize=(10,6)) #10 corresponds to the width and 6 to the height\n",
    "plt.bar(first_ten['country'], first_ten['consmPerCap']) #barplot that includes country on the x-axis and consumption per capita on the y-lab\n",
    "plt.xlabel('Country') #x-label\n",
    "plt.ylabel('Consumption per Capita') #y-label\n",
    "plt.title('Consumption by Country (First Ten)') #title of the plot\n",
    "plt.xticks(rotation=45)  # Rotate country names for better readability (tick marks are the labels)\n",
    "plt.tight_layout()\n",
    "plt.show()"
   ]
  }
 ],
 "metadata": {
  "kernelspec": {
   "display_name": "Python 3 (ipykernel)",
   "language": "python",
   "name": "python3"
  },
  "language_info": {
   "codemirror_mode": {
    "name": "ipython",
    "version": 3
   },
   "file_extension": ".py",
   "mimetype": "text/x-python",
   "name": "python",
   "nbconvert_exporter": "python",
   "pygments_lexer": "ipython3",
   "version": "3.11.5"
  }
 },
 "nbformat": 4,
 "nbformat_minor": 5
}
