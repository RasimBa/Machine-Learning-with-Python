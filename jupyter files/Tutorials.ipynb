{
 "cells": [
  {
   "cell_type": "markdown",
   "id": "50e9984b-baa3-4001-b5c7-dc83d978feb7",
   "metadata": {},
   "source": [
    "# Tutorial 1.1.1"
   ]
  },
  {
   "cell_type": "code",
   "execution_count": 1,
   "id": "89063a54-3886-4bc2-9112-273c3c56c83e",
   "metadata": {},
   "outputs": [
    {
     "name": "stdout",
     "output_type": "stream",
     "text": [
      "14\n",
      "8\n",
      "True\n"
     ]
    }
   ],
   "source": [
    "x=10\n",
    "\n",
    "print(x+4)\n",
    "\n",
    "#print(str(x) + str(4))\n",
    "\n",
    "print(int(str(x))-2)\n",
    "\n",
    "print(x<12)"
   ]
  },
  {
   "cell_type": "markdown",
   "id": "4ed63218-36ca-42ad-a6bc-b1b54320cd13",
   "metadata": {},
   "source": [
    "### Operators"
   ]
  },
  {
   "cell_type": "code",
   "execution_count": 2,
   "id": "6d8acc35-328a-40db-adef-2d8ee3524d96",
   "metadata": {},
   "outputs": [
    {
     "name": "stdout",
     "output_type": "stream",
     "text": [
      "a+b= 10\n",
      "a/b= 2.3333333333333335\n",
      "a raised to the power of b equals 343\n",
      "True\n",
      "False\n"
     ]
    }
   ],
   "source": [
    "a=7\n",
    "b=3\n",
    "print(\"a+b=\",a+b)\n",
    "print(\"a/b=\",a/b)\n",
    "print(\"a raised to the power of b equals\",a**b)\n",
    "print(a==a)\n",
    "print(a!=a)"
   ]
  },
  {
   "cell_type": "markdown",
   "id": "b216b603-5483-4b85-9b46-1fad7c9354ff",
   "metadata": {},
   "source": [
    "### Conditions"
   ]
  },
  {
   "cell_type": "code",
   "execution_count": 3,
   "id": "4a515f8f-0d85-40e0-addd-3a0620053113",
   "metadata": {},
   "outputs": [
    {
     "name": "stdout",
     "output_type": "stream",
     "text": [
      "3 is a positive number\n"
     ]
    }
   ],
   "source": [
    "x=3\n",
    "if x>0:\n",
    "    print(x, \"is a positive number\")"
   ]
  },
  {
   "cell_type": "code",
   "execution_count": 4,
   "id": "bdc8c18f-adc2-4c89-80e4-92932eb754e7",
   "metadata": {},
   "outputs": [
    {
     "name": "stdout",
     "output_type": "stream",
     "text": [
      "2 , t-3 is a positive number\n"
     ]
    }
   ],
   "source": [
    "t=5\n",
    "if (t-3) >0:\n",
    "    print((t-3), \", t-3 is a positive number\")"
   ]
  },
  {
   "cell_type": "code",
   "execution_count": 5,
   "id": "63569e00-40a4-45ea-9752-36bc5d520306",
   "metadata": {},
   "outputs": [
    {
     "name": "stdout",
     "output_type": "stream",
     "text": [
      "4\n"
     ]
    }
   ],
   "source": [
    "#x = 5 # overwriting x \n",
    "if x > 2:\n",
    "    x+=1\n",
    "    print(x)"
   ]
  },
  {
   "cell_type": "code",
   "execution_count": 6,
   "id": "f8358464-adf2-448c-88f7-7f6b6569a7a2",
   "metadata": {},
   "outputs": [
    {
     "name": "stdout",
     "output_type": "stream",
     "text": [
      "5 does not divide 11\n"
     ]
    }
   ],
   "source": [
    "x=5\n",
    "y=11\n",
    "\n",
    "if y%x ==0:\n",
    "    print(x, \"divides\", y)\n",
    "else:\n",
    "    print(x, \"does not divide\", y)"
   ]
  },
  {
   "cell_type": "code",
   "execution_count": null,
   "id": "07868227-1fbe-4953-b4c3-a4ab624aeb86",
   "metadata": {},
   "outputs": [],
   "source": []
  },
  {
   "cell_type": "markdown",
   "id": "6e4f5ab2-0d30-4549-aee4-a0c75821e5c1",
   "metadata": {},
   "source": [
    "### For Loop"
   ]
  },
  {
   "cell_type": "code",
   "execution_count": 7,
   "id": "7a02da6c-79f1-4415-a3db-16bac5fff897",
   "metadata": {},
   "outputs": [
    {
     "name": "stdout",
     "output_type": "stream",
     "text": [
      "Regression Model is a supervised learning method\n",
      "Classification is a supervised learning method\n",
      "Random Forest is a supervised learning method\n"
     ]
    }
   ],
   "source": [
    "SL_techniques = ['Regression Model', 'Classification', 'Random Forest']\n",
    "\n",
    "for t in SL_techniques:\n",
    "    print(t, \"is a supervised learning method\")\n"
   ]
  },
  {
   "cell_type": "markdown",
   "id": "4178805f-cb0a-45ea-8646-5ccb5d9c2a8d",
   "metadata": {},
   "source": [
    "### While Loop"
   ]
  },
  {
   "cell_type": "code",
   "execution_count": 8,
   "id": "12dc77d1-e6da-4b4b-b980-a1aed8ae3e9f",
   "metadata": {},
   "outputs": [
    {
     "name": "stdout",
     "output_type": "stream",
     "text": [
      "Counter: 0\n",
      "Counter: 1\n",
      "Counter: 2\n",
      "Counter: 3\n",
      "Counter: 4\n",
      "The loop is finished!\n"
     ]
    }
   ],
   "source": [
    "counter = 0\n",
    "\n",
    "while counter <5:\n",
    "    print(\"Counter:\", counter)\n",
    "    counter += 1\n",
    "\n",
    "print(\"The loop is finished!\")"
   ]
  },
  {
   "cell_type": "code",
   "execution_count": 9,
   "id": "c3289f45-9429-4a21-99ee-21fe745f1569",
   "metadata": {},
   "outputs": [
    {
     "name": "stdout",
     "output_type": "stream",
     "text": [
      "10\n",
      "9\n",
      "8\n",
      "7\n",
      "6\n",
      "5\n",
      "4\n",
      "3\n",
      "2\n",
      "1\n",
      "Value reached to 0\n"
     ]
    }
   ],
   "source": [
    "value = 10\n",
    "\n",
    "while value > 0:\n",
    "    print(value)\n",
    "    value -=1\n",
    "print(\"Value reached to 0\")"
   ]
  },
  {
   "cell_type": "raw",
   "id": "588e244f-38e6-413a-82ec-78961a7d74ca",
   "metadata": {},
   "source": [
    "value2 = 2\n",
    "\n",
    "print(\"Even numbers from 2 to 20\")\n",
    "\n",
    "while value2 <= 20:"
   ]
  },
  {
   "cell_type": "markdown",
   "id": "55dedc4b-23db-4e85-8cdd-233ab8cc7d68",
   "metadata": {},
   "source": [
    "### Data Import"
   ]
  },
  {
   "cell_type": "code",
   "execution_count": 10,
   "id": "188c9bf9-2969-4db6-b967-a03bd7872ed2",
   "metadata": {},
   "outputs": [],
   "source": [
    "import pandas as pd\n",
    "beer = pd.read_csv(\"beer.csv\")"
   ]
  },
  {
   "cell_type": "code",
   "execution_count": 11,
   "id": "2de9f851-a69d-464f-9e36-1edde9c122c4",
   "metadata": {},
   "outputs": [
    {
     "data": {
      "text/html": [
       "<div>\n",
       "<style scoped>\n",
       "    .dataframe tbody tr th:only-of-type {\n",
       "        vertical-align: middle;\n",
       "    }\n",
       "\n",
       "    .dataframe tbody tr th {\n",
       "        vertical-align: top;\n",
       "    }\n",
       "\n",
       "    .dataframe thead th {\n",
       "        text-align: right;\n",
       "    }\n",
       "</style>\n",
       "<table border=\"1\" class=\"dataframe\">\n",
       "  <thead>\n",
       "    <tr style=\"text-align: right;\">\n",
       "      <th></th>\n",
       "      <th>place</th>\n",
       "      <th>pop2023</th>\n",
       "      <th>growthRate</th>\n",
       "      <th>area</th>\n",
       "      <th>country</th>\n",
       "      <th>cca3</th>\n",
       "      <th>cca2</th>\n",
       "      <th>ccn3</th>\n",
       "      <th>region</th>\n",
       "      <th>subregion</th>\n",
       "      <th>landAreaKm</th>\n",
       "      <th>density</th>\n",
       "      <th>densityMi</th>\n",
       "      <th>Rank</th>\n",
       "      <th>consmPerCap</th>\n",
       "      <th>consm</th>\n",
       "      <th>consmGals</th>\n",
       "      <th>pop2020</th>\n",
       "      <th>rank</th>\n",
       "    </tr>\n",
       "  </thead>\n",
       "  <tbody>\n",
       "    <tr>\n",
       "      <th>8</th>\n",
       "      <td>703</td>\n",
       "      <td>5795199</td>\n",
       "      <td>0.02689</td>\n",
       "      <td>49037</td>\n",
       "      <td>Slovakia</td>\n",
       "      <td>SVK</td>\n",
       "      <td>SK</td>\n",
       "      <td>703</td>\n",
       "      <td>Europe</td>\n",
       "      <td>Eastern Europe</td>\n",
       "      <td>49035.0</td>\n",
       "      <td>118.1849</td>\n",
       "      <td>306.0990</td>\n",
       "      <td>116</td>\n",
       "      <td>82.2</td>\n",
       "      <td>449</td>\n",
       "      <td>118613</td>\n",
       "      <td>5459642</td>\n",
       "      <td>9</td>\n",
       "    </tr>\n",
       "    <tr>\n",
       "      <th>11</th>\n",
       "      <td>266</td>\n",
       "      <td>2436566</td>\n",
       "      <td>0.01991</td>\n",
       "      <td>267668</td>\n",
       "      <td>Gabon</td>\n",
       "      <td>GAB</td>\n",
       "      <td>GA</td>\n",
       "      <td>266</td>\n",
       "      <td>Africa</td>\n",
       "      <td>Sub-Saharan Africa</td>\n",
       "      <td>257670.0</td>\n",
       "      <td>9.4561</td>\n",
       "      <td>24.4914</td>\n",
       "      <td>146</td>\n",
       "      <td>80.0</td>\n",
       "      <td>178</td>\n",
       "      <td>47023</td>\n",
       "      <td>2225734</td>\n",
       "      <td>12</td>\n",
       "    </tr>\n",
       "    <tr>\n",
       "      <th>44</th>\n",
       "      <td>764</td>\n",
       "      <td>71801279</td>\n",
       "      <td>0.00145</td>\n",
       "      <td>513120</td>\n",
       "      <td>Thailand</td>\n",
       "      <td>THA</td>\n",
       "      <td>TH</td>\n",
       "      <td>764</td>\n",
       "      <td>Asia</td>\n",
       "      <td>South-Eastern Asia</td>\n",
       "      <td>510890.0</td>\n",
       "      <td>140.5416</td>\n",
       "      <td>364.0026</td>\n",
       "      <td>20</td>\n",
       "      <td>24.1</td>\n",
       "      <td>1680</td>\n",
       "      <td>443809</td>\n",
       "      <td>69799978</td>\n",
       "      <td>45</td>\n",
       "    </tr>\n",
       "    <tr>\n",
       "      <th>18</th>\n",
       "      <td>705</td>\n",
       "      <td>2119675</td>\n",
       "      <td>-0.00008</td>\n",
       "      <td>20273</td>\n",
       "      <td>Slovenia</td>\n",
       "      <td>SVN</td>\n",
       "      <td>SI</td>\n",
       "      <td>705</td>\n",
       "      <td>Europe</td>\n",
       "      <td>Southern Europe</td>\n",
       "      <td>20136.4</td>\n",
       "      <td>105.2658</td>\n",
       "      <td>272.6385</td>\n",
       "      <td>149</td>\n",
       "      <td>69.7</td>\n",
       "      <td>145</td>\n",
       "      <td>38305</td>\n",
       "      <td>2078938</td>\n",
       "      <td>19</td>\n",
       "    </tr>\n",
       "    <tr>\n",
       "      <th>43</th>\n",
       "      <td>156</td>\n",
       "      <td>1425671352</td>\n",
       "      <td>-0.00015</td>\n",
       "      <td>9706961</td>\n",
       "      <td>China</td>\n",
       "      <td>CHN</td>\n",
       "      <td>CN</td>\n",
       "      <td>156</td>\n",
       "      <td>Asia</td>\n",
       "      <td>Eastern Asia</td>\n",
       "      <td>9424702.9</td>\n",
       "      <td>151.2696</td>\n",
       "      <td>391.7884</td>\n",
       "      <td>2</td>\n",
       "      <td>25.1</td>\n",
       "      <td>36088</td>\n",
       "      <td>9533441</td>\n",
       "      <td>1439323776</td>\n",
       "      <td>44</td>\n",
       "    </tr>\n",
       "  </tbody>\n",
       "</table>\n",
       "</div>"
      ],
      "text/plain": [
       "    place     pop2023  growthRate     area   country cca3 cca2  ccn3  region  \\\n",
       "8     703     5795199     0.02689    49037  Slovakia  SVK   SK   703  Europe   \n",
       "11    266     2436566     0.01991   267668     Gabon  GAB   GA   266  Africa   \n",
       "44    764    71801279     0.00145   513120  Thailand  THA   TH   764    Asia   \n",
       "18    705     2119675    -0.00008    20273  Slovenia  SVN   SI   705  Europe   \n",
       "43    156  1425671352    -0.00015  9706961     China  CHN   CN   156    Asia   \n",
       "\n",
       "             subregion  landAreaKm   density  densityMi  Rank  consmPerCap  \\\n",
       "8       Eastern Europe     49035.0  118.1849   306.0990   116         82.2   \n",
       "11  Sub-Saharan Africa    257670.0    9.4561    24.4914   146         80.0   \n",
       "44  South-Eastern Asia    510890.0  140.5416   364.0026    20         24.1   \n",
       "18     Southern Europe     20136.4  105.2658   272.6385   149         69.7   \n",
       "43        Eastern Asia   9424702.9  151.2696   391.7884     2         25.1   \n",
       "\n",
       "    consm  consmGals     pop2020  rank  \n",
       "8     449     118613     5459642     9  \n",
       "11    178      47023     2225734    12  \n",
       "44   1680     443809    69799978    45  \n",
       "18    145      38305     2078938    19  \n",
       "43  36088    9533441  1439323776    44  "
      ]
     },
     "execution_count": 11,
     "metadata": {},
     "output_type": "execute_result"
    }
   ],
   "source": [
    "beer.sample(5, random_state = 123)"
   ]
  },
  {
   "cell_type": "code",
   "execution_count": 12,
   "id": "2891cd98-7b18-4b26-8776-13a7613995de",
   "metadata": {},
   "outputs": [
    {
     "data": {
      "text/plain": [
       "(47, 19)"
      ]
     },
     "execution_count": 12,
     "metadata": {},
     "output_type": "execute_result"
    }
   ],
   "source": [
    "beer.shape"
   ]
  },
  {
   "cell_type": "code",
   "execution_count": 13,
   "id": "829d7a1f-5747-44df-94ab-bef55697df6d",
   "metadata": {},
   "outputs": [
    {
     "name": "stdout",
     "output_type": "stream",
     "text": [
      "<class 'pandas.core.frame.DataFrame'>\n",
      "RangeIndex: 47 entries, 0 to 46\n",
      "Data columns (total 19 columns):\n",
      " #   Column       Non-Null Count  Dtype  \n",
      "---  ------       --------------  -----  \n",
      " 0   place        47 non-null     int64  \n",
      " 1   pop2023      47 non-null     int64  \n",
      " 2   growthRate   47 non-null     float64\n",
      " 3   area         47 non-null     int64  \n",
      " 4   country      47 non-null     object \n",
      " 5   cca3         47 non-null     object \n",
      " 6   cca2         46 non-null     object \n",
      " 7   ccn3         47 non-null     int64  \n",
      " 8   region       47 non-null     object \n",
      " 9   subregion    47 non-null     object \n",
      " 10  landAreaKm   47 non-null     float64\n",
      " 11  density      47 non-null     float64\n",
      " 12  densityMi    47 non-null     float64\n",
      " 13  Rank         47 non-null     int64  \n",
      " 14  consmPerCap  47 non-null     float64\n",
      " 15  consm        47 non-null     int64  \n",
      " 16  consmGals    47 non-null     int64  \n",
      " 17  pop2020      47 non-null     int64  \n",
      " 18  rank         47 non-null     int64  \n",
      "dtypes: float64(5), int64(9), object(5)\n",
      "memory usage: 7.1+ KB\n"
     ]
    }
   ],
   "source": [
    "beer.info()"
   ]
  },
  {
   "cell_type": "code",
   "execution_count": 14,
   "id": "ac3fe4f0-3141-4056-8085-649460c7caab",
   "metadata": {},
   "outputs": [
    {
     "data": {
      "text/html": [
       "<div>\n",
       "<style scoped>\n",
       "    .dataframe tbody tr th:only-of-type {\n",
       "        vertical-align: middle;\n",
       "    }\n",
       "\n",
       "    .dataframe tbody tr th {\n",
       "        vertical-align: top;\n",
       "    }\n",
       "\n",
       "    .dataframe thead th {\n",
       "        text-align: right;\n",
       "    }\n",
       "</style>\n",
       "<table border=\"1\" class=\"dataframe\">\n",
       "  <thead>\n",
       "    <tr style=\"text-align: right;\">\n",
       "      <th></th>\n",
       "      <th>place</th>\n",
       "      <th>pop2023</th>\n",
       "      <th>growthRate</th>\n",
       "      <th>area</th>\n",
       "      <th>ccn3</th>\n",
       "      <th>landAreaKm</th>\n",
       "      <th>density</th>\n",
       "      <th>densityMi</th>\n",
       "      <th>Rank</th>\n",
       "      <th>consmPerCap</th>\n",
       "      <th>consm</th>\n",
       "      <th>consmGals</th>\n",
       "      <th>pop2020</th>\n",
       "      <th>rank</th>\n",
       "    </tr>\n",
       "  </thead>\n",
       "  <tbody>\n",
       "    <tr>\n",
       "      <th>count</th>\n",
       "      <td>47.000000</td>\n",
       "      <td>4.700000e+01</td>\n",
       "      <td>47.000000</td>\n",
       "      <td>4.700000e+01</td>\n",
       "      <td>47.000000</td>\n",
       "      <td>4.700000e+01</td>\n",
       "      <td>47.000000</td>\n",
       "      <td>47.000000</td>\n",
       "      <td>47.000000</td>\n",
       "      <td>47.000000</td>\n",
       "      <td>47.000000</td>\n",
       "      <td>4.700000e+01</td>\n",
       "      <td>4.700000e+01</td>\n",
       "      <td>47.000000</td>\n",
       "    </tr>\n",
       "    <tr>\n",
       "      <th>mean</th>\n",
       "      <td>419.340426</td>\n",
       "      <td>1.049965e+08</td>\n",
       "      <td>0.003528</td>\n",
       "      <td>1.723488e+06</td>\n",
       "      <td>419.340426</td>\n",
       "      <td>1.657642e+06</td>\n",
       "      <td>139.341100</td>\n",
       "      <td>360.893443</td>\n",
       "      <td>69.702128</td>\n",
       "      <td>63.065957</td>\n",
       "      <td>3294.744681</td>\n",
       "      <td>8.703795e+05</td>\n",
       "      <td>1.037694e+08</td>\n",
       "      <td>24.000000</td>\n",
       "    </tr>\n",
       "    <tr>\n",
       "      <th>std</th>\n",
       "      <td>256.722933</td>\n",
       "      <td>2.888711e+08</td>\n",
       "      <td>0.014613</td>\n",
       "      <td>3.595617e+06</td>\n",
       "      <td>256.722933</td>\n",
       "      <td>3.448114e+06</td>\n",
       "      <td>145.481066</td>\n",
       "      <td>376.795964</td>\n",
       "      <td>51.711539</td>\n",
       "      <td>28.396841</td>\n",
       "      <td>6440.503702</td>\n",
       "      <td>1.701401e+06</td>\n",
       "      <td>2.853096e+08</td>\n",
       "      <td>13.711309</td>\n",
       "    </tr>\n",
       "    <tr>\n",
       "      <th>min</th>\n",
       "      <td>32.000000</td>\n",
       "      <td>1.322765e+06</td>\n",
       "      <td>-0.074480</td>\n",
       "      <td>8.870000e+03</td>\n",
       "      <td>32.000000</td>\n",
       "      <td>8.870000e+03</td>\n",
       "      <td>3.163100</td>\n",
       "      <td>8.192500</td>\n",
       "      <td>1.000000</td>\n",
       "      <td>1.200000</td>\n",
       "      <td>112.000000</td>\n",
       "      <td>2.958700e+04</td>\n",
       "      <td>1.326535e+06</td>\n",
       "      <td>1.000000</td>\n",
       "    </tr>\n",
       "    <tr>\n",
       "      <th>25%</th>\n",
       "      <td>197.000000</td>\n",
       "      <td>5.670337e+06</td>\n",
       "      <td>-0.000380</td>\n",
       "      <td>7.284500e+04</td>\n",
       "      <td>197.000000</td>\n",
       "      <td>7.153500e+04</td>\n",
       "      <td>34.055250</td>\n",
       "      <td>88.203000</td>\n",
       "      <td>22.000000</td>\n",
       "      <td>47.350000</td>\n",
       "      <td>414.000000</td>\n",
       "      <td>1.093675e+05</td>\n",
       "      <td>5.488864e+06</td>\n",
       "      <td>12.500000</td>\n",
       "    </tr>\n",
       "    <tr>\n",
       "      <th>50%</th>\n",
       "      <td>392.000000</td>\n",
       "      <td>1.989281e+07</td>\n",
       "      <td>0.004070</td>\n",
       "      <td>3.126790e+05</td>\n",
       "      <td>392.000000</td>\n",
       "      <td>2.981700e+05</td>\n",
       "      <td>86.460400</td>\n",
       "      <td>223.932500</td>\n",
       "      <td>64.000000</td>\n",
       "      <td>63.700000</td>\n",
       "      <td>1680.000000</td>\n",
       "      <td>4.438090e+05</td>\n",
       "      <td>1.923769e+07</td>\n",
       "      <td>24.000000</td>\n",
       "    </tr>\n",
       "    <tr>\n",
       "      <th>75%</th>\n",
       "      <td>642.500000</td>\n",
       "      <td>6.624669e+07</td>\n",
       "      <td>0.008380</td>\n",
       "      <td>7.145575e+05</td>\n",
       "      <td>642.500000</td>\n",
       "      <td>7.013450e+05</td>\n",
       "      <td>175.173800</td>\n",
       "      <td>453.700250</td>\n",
       "      <td>117.000000</td>\n",
       "      <td>79.400000</td>\n",
       "      <td>2765.000000</td>\n",
       "      <td>7.304355e+05</td>\n",
       "      <td>6.657976e+07</td>\n",
       "      <td>35.500000</td>\n",
       "    </tr>\n",
       "    <tr>\n",
       "      <th>max</th>\n",
       "      <td>840.000000</td>\n",
       "      <td>1.428628e+09</td>\n",
       "      <td>0.029330</td>\n",
       "      <td>1.709824e+07</td>\n",
       "      <td>840.000000</td>\n",
       "      <td>1.637687e+07</td>\n",
       "      <td>530.574400</td>\n",
       "      <td>1374.187600</td>\n",
       "      <td>156.000000</td>\n",
       "      <td>181.700000</td>\n",
       "      <td>36088.000000</td>\n",
       "      <td>9.533441e+06</td>\n",
       "      <td>1.439324e+09</td>\n",
       "      <td>47.000000</td>\n",
       "    </tr>\n",
       "  </tbody>\n",
       "</table>\n",
       "</div>"
      ],
      "text/plain": [
       "            place       pop2023  growthRate          area        ccn3  \\\n",
       "count   47.000000  4.700000e+01   47.000000  4.700000e+01   47.000000   \n",
       "mean   419.340426  1.049965e+08    0.003528  1.723488e+06  419.340426   \n",
       "std    256.722933  2.888711e+08    0.014613  3.595617e+06  256.722933   \n",
       "min     32.000000  1.322765e+06   -0.074480  8.870000e+03   32.000000   \n",
       "25%    197.000000  5.670337e+06   -0.000380  7.284500e+04  197.000000   \n",
       "50%    392.000000  1.989281e+07    0.004070  3.126790e+05  392.000000   \n",
       "75%    642.500000  6.624669e+07    0.008380  7.145575e+05  642.500000   \n",
       "max    840.000000  1.428628e+09    0.029330  1.709824e+07  840.000000   \n",
       "\n",
       "         landAreaKm     density    densityMi        Rank  consmPerCap  \\\n",
       "count  4.700000e+01   47.000000    47.000000   47.000000    47.000000   \n",
       "mean   1.657642e+06  139.341100   360.893443   69.702128    63.065957   \n",
       "std    3.448114e+06  145.481066   376.795964   51.711539    28.396841   \n",
       "min    8.870000e+03    3.163100     8.192500    1.000000     1.200000   \n",
       "25%    7.153500e+04   34.055250    88.203000   22.000000    47.350000   \n",
       "50%    2.981700e+05   86.460400   223.932500   64.000000    63.700000   \n",
       "75%    7.013450e+05  175.173800   453.700250  117.000000    79.400000   \n",
       "max    1.637687e+07  530.574400  1374.187600  156.000000   181.700000   \n",
       "\n",
       "              consm     consmGals       pop2020       rank  \n",
       "count     47.000000  4.700000e+01  4.700000e+01  47.000000  \n",
       "mean    3294.744681  8.703795e+05  1.037694e+08  24.000000  \n",
       "std     6440.503702  1.701401e+06  2.853096e+08  13.711309  \n",
       "min      112.000000  2.958700e+04  1.326535e+06   1.000000  \n",
       "25%      414.000000  1.093675e+05  5.488864e+06  12.500000  \n",
       "50%     1680.000000  4.438090e+05  1.923769e+07  24.000000  \n",
       "75%     2765.000000  7.304355e+05  6.657976e+07  35.500000  \n",
       "max    36088.000000  9.533441e+06  1.439324e+09  47.000000  "
      ]
     },
     "execution_count": 14,
     "metadata": {},
     "output_type": "execute_result"
    }
   ],
   "source": [
    "beer.describe()"
   ]
  },
  {
   "cell_type": "code",
   "execution_count": 15,
   "id": "cac44dbe-f8dd-4557-a011-b12cc73370d2",
   "metadata": {},
   "outputs": [
    {
     "data": {
      "text/plain": [
       "place          0\n",
       "pop2023        0\n",
       "growthRate     0\n",
       "area           0\n",
       "country        0\n",
       "cca3           0\n",
       "cca2           1\n",
       "ccn3           0\n",
       "region         0\n",
       "subregion      0\n",
       "landAreaKm     0\n",
       "density        0\n",
       "densityMi      0\n",
       "Rank           0\n",
       "consmPerCap    0\n",
       "consm          0\n",
       "consmGals      0\n",
       "pop2020        0\n",
       "rank           0\n",
       "dtype: int64"
      ]
     },
     "execution_count": 15,
     "metadata": {},
     "output_type": "execute_result"
    }
   ],
   "source": [
    "beer.isna().sum()"
   ]
  },
  {
   "cell_type": "code",
   "execution_count": 16,
   "id": "2cb2b79b-aa4f-4563-bfcd-d9c02aa4b7a0",
   "metadata": {},
   "outputs": [
    {
     "data": {
      "text/plain": [
       "Index(['place', 'pop2023', 'growthRate', 'area', 'country', 'cca3', 'cca2',\n",
       "       'ccn3', 'region', 'subregion', 'landAreaKm', 'density', 'densityMi',\n",
       "       'Rank', 'consmPerCap', 'consm', 'consmGals', 'pop2020', 'rank'],\n",
       "      dtype='object')"
      ]
     },
     "execution_count": 16,
     "metadata": {},
     "output_type": "execute_result"
    }
   ],
   "source": [
    "beer_columns = beer.columns\n",
    "beer_columns"
   ]
  },
  {
   "cell_type": "code",
   "execution_count": 17,
   "id": "23bec7d6-ffce-4e81-94dc-e3b1148dc5f8",
   "metadata": {},
   "outputs": [
    {
     "data": {
      "text/plain": [
       "['Czech Republic',\n",
       " 'Austria',\n",
       " 'Poland',\n",
       " 'Romania',\n",
       " 'Germany',\n",
       " 'Estonia',\n",
       " 'Lithuania',\n",
       " 'Namibia',\n",
       " 'Slovakia',\n",
       " 'Spain',\n",
       " 'Ireland',\n",
       " 'Gabon',\n",
       " 'Republic of the Congo',\n",
       " 'Finland',\n",
       " 'Bulgaria',\n",
       " 'United States',\n",
       " 'Croatia',\n",
       " 'Australia',\n",
       " 'Slovenia',\n",
       " 'Hungary',\n",
       " 'Netherlands',\n",
       " 'Brazil',\n",
       " 'Mexico',\n",
       " 'Bosnia and Herzegovina',\n",
       " 'Denmark',\n",
       " 'United Kingdom',\n",
       " 'New Zealand',\n",
       " 'Russia',\n",
       " 'Puerto Rico',\n",
       " 'South Africa',\n",
       " 'Belgium',\n",
       " 'Canada',\n",
       " 'Switzerland',\n",
       " 'Panama',\n",
       " 'Sweden',\n",
       " 'Colombia',\n",
       " 'Ukraine',\n",
       " 'Argentina',\n",
       " 'Vietnam',\n",
       " 'South Korea',\n",
       " 'Japan',\n",
       " 'Italy',\n",
       " 'France',\n",
       " 'China',\n",
       " 'Thailand',\n",
       " 'Philippines',\n",
       " 'India']"
      ]
     },
     "execution_count": 17,
     "metadata": {},
     "output_type": "execute_result"
    }
   ],
   "source": [
    "beer['country'].tolist()"
   ]
  },
  {
   "cell_type": "code",
   "execution_count": 18,
   "id": "d3d34f88-22b2-4488-b111-8cfba3726937",
   "metadata": {},
   "outputs": [
    {
     "data": {
      "text/plain": [
       "array(['Czech Republic', 'Austria', 'Poland', 'Romania', 'Germany',\n",
       "       'Estonia', 'Lithuania', 'Namibia', 'Slovakia', 'Spain', 'Ireland',\n",
       "       'Gabon', 'Republic of the Congo', 'Finland', 'Bulgaria',\n",
       "       'United States', 'Croatia', 'Australia', 'Slovenia', 'Hungary',\n",
       "       'Netherlands', 'Brazil', 'Mexico', 'Bosnia and Herzegovina',\n",
       "       'Denmark', 'United Kingdom', 'New Zealand', 'Russia',\n",
       "       'Puerto Rico', 'South Africa', 'Belgium', 'Canada', 'Switzerland',\n",
       "       'Panama', 'Sweden', 'Colombia', 'Ukraine', 'Argentina', 'Vietnam',\n",
       "       'South Korea', 'Japan', 'Italy', 'France', 'China', 'Thailand',\n",
       "       'Philippines', 'India'], dtype=object)"
      ]
     },
     "execution_count": 18,
     "metadata": {},
     "output_type": "execute_result"
    }
   ],
   "source": [
    "unique_regions = beer['country'].unique()\n",
    "unique_regions"
   ]
  },
  {
   "cell_type": "code",
   "execution_count": 19,
   "id": "5d171251-d684-4c6d-8a40-5282968640c2",
   "metadata": {},
   "outputs": [
    {
     "data": {
      "image/png": "[encoded data removed]",
      "text/plain": [
       "<Figure size 640x480 with 1 Axes>"
      ]
     },
     "metadata": {},
     "output_type": "display_data"
    }
   ],
   "source": [
    "import matplotlib.pyplot as plt\n",
    "first_10 = beer.head()\n",
    "plt.figure(figure=(10,6))\n",
    "plt.bar(first_10['country'], first_10['consmPerCap'])\n",
    "plt.xlabel('Country')\n",
    "plt.ylabel('Consumption per Capita')\n",
    "plt.show()"
   ]
  },
  {
   "cell_type": "markdown",
   "id": "1515e865-5357-46ed-8d25-8c0a81d62905",
   "metadata": {},
   "source": [
    "# Tutorial 2"
   ]
  },
  {
   "cell_type": "code",
   "execution_count": 20,
   "id": "4d0f34a4-3760-4fee-97f3-46f278d02f25",
   "metadata": {},
   "outputs": [],
   "source": [
    "import pandas as pd\n",
    "import numpy as np"
   ]
  },
  {
   "cell_type": "code",
   "execution_count": 47,
   "id": "e4154703-7d2c-41b5-b89d-f1ac8c1f7418",
   "metadata": {},
   "outputs": [],
   "source": [
    "house_prices = pd.read_csv(\"boston_house_prices.csv\", header = 1)"
   ]
  },
  {
   "cell_type": "code",
   "execution_count": 48,
   "id": "ad040672-15b6-4d06-87f2-c5f918c4cc16",
   "metadata": {},
   "outputs": [
    {
     "data": {
      "text/html": [
       "<div>\n",
       "<style scoped>\n",
       "    .dataframe tbody tr th:only-of-type {\n",
       "        vertical-align: middle;\n",
       "    }\n",
       "\n",
       "    .dataframe tbody tr th {\n",
       "        vertical-align: top;\n",
       "    }\n",
       "\n",
       "    .dataframe thead th {\n",
       "        text-align: right;\n",
       "    }\n",
       "</style>\n",
       "<table border=\"1\" class=\"dataframe\">\n",
       "  <thead>\n",
       "    <tr style=\"text-align: right;\">\n",
       "      <th></th>\n",
       "      <th>CRIM</th>\n",
       "      <th>ZN</th>\n",
       "      <th>INDUS</th>\n",
       "      <th>CHAS</th>\n",
       "      <th>NOX</th>\n",
       "      <th>RM</th>\n",
       "      <th>AGE</th>\n",
       "      <th>DIS</th>\n",
       "      <th>RAD</th>\n",
       "      <th>TAX</th>\n",
       "      <th>PTRATIO</th>\n",
       "      <th>B</th>\n",
       "      <th>LSTAT</th>\n",
       "      <th>MEDV</th>\n",
       "    </tr>\n",
       "  </thead>\n",
       "  <tbody>\n",
       "    <tr>\n",
       "      <th>0</th>\n",
       "      <td>0.00632</td>\n",
       "      <td>18.0</td>\n",
       "      <td>2.31</td>\n",
       "      <td>0</td>\n",
       "      <td>0.538</td>\n",
       "      <td>6.575</td>\n",
       "      <td>65.2</td>\n",
       "      <td>4.0900</td>\n",
       "      <td>1</td>\n",
       "      <td>296</td>\n",
       "      <td>15.3</td>\n",
       "      <td>396.90</td>\n",
       "      <td>4.98</td>\n",
       "      <td>24.0</td>\n",
       "    </tr>\n",
       "    <tr>\n",
       "      <th>1</th>\n",
       "      <td>0.02731</td>\n",
       "      <td>0.0</td>\n",
       "      <td>7.07</td>\n",
       "      <td>0</td>\n",
       "      <td>0.469</td>\n",
       "      <td>6.421</td>\n",
       "      <td>78.9</td>\n",
       "      <td>4.9671</td>\n",
       "      <td>2</td>\n",
       "      <td>242</td>\n",
       "      <td>17.8</td>\n",
       "      <td>396.90</td>\n",
       "      <td>9.14</td>\n",
       "      <td>21.6</td>\n",
       "    </tr>\n",
       "    <tr>\n",
       "      <th>2</th>\n",
       "      <td>0.02729</td>\n",
       "      <td>0.0</td>\n",
       "      <td>7.07</td>\n",
       "      <td>0</td>\n",
       "      <td>0.469</td>\n",
       "      <td>7.185</td>\n",
       "      <td>61.1</td>\n",
       "      <td>4.9671</td>\n",
       "      <td>2</td>\n",
       "      <td>242</td>\n",
       "      <td>17.8</td>\n",
       "      <td>392.83</td>\n",
       "      <td>4.03</td>\n",
       "      <td>34.7</td>\n",
       "    </tr>\n",
       "    <tr>\n",
       "      <th>3</th>\n",
       "      <td>0.03237</td>\n",
       "      <td>0.0</td>\n",
       "      <td>2.18</td>\n",
       "      <td>0</td>\n",
       "      <td>0.458</td>\n",
       "      <td>6.998</td>\n",
       "      <td>45.8</td>\n",
       "      <td>6.0622</td>\n",
       "      <td>3</td>\n",
       "      <td>222</td>\n",
       "      <td>18.7</td>\n",
       "      <td>394.63</td>\n",
       "      <td>2.94</td>\n",
       "      <td>33.4</td>\n",
       "    </tr>\n",
       "    <tr>\n",
       "      <th>4</th>\n",
       "      <td>0.06905</td>\n",
       "      <td>0.0</td>\n",
       "      <td>2.18</td>\n",
       "      <td>0</td>\n",
       "      <td>0.458</td>\n",
       "      <td>7.147</td>\n",
       "      <td>54.2</td>\n",
       "      <td>6.0622</td>\n",
       "      <td>3</td>\n",
       "      <td>222</td>\n",
       "      <td>18.7</td>\n",
       "      <td>396.90</td>\n",
       "      <td>5.33</td>\n",
       "      <td>36.2</td>\n",
       "    </tr>\n",
       "  </tbody>\n",
       "</table>\n",
       "</div>"
      ],
      "text/plain": [
       "      CRIM    ZN  INDUS  CHAS    NOX     RM   AGE     DIS  RAD  TAX  PTRATIO  \\\n",
       "0  0.00632  18.0   2.31     0  0.538  6.575  65.2  4.0900    1  296     15.3   \n",
       "1  0.02731   0.0   7.07     0  0.469  6.421  78.9  4.9671    2  242     17.8   \n",
       "2  0.02729   0.0   7.07     0  0.469  7.185  61.1  4.9671    2  242     17.8   \n",
       "3  0.03237   0.0   2.18     0  0.458  6.998  45.8  6.0622    3  222     18.7   \n",
       "4  0.06905   0.0   2.18     0  0.458  7.147  54.2  6.0622    3  222     18.7   \n",
       "\n",
       "        B  LSTAT  MEDV  \n",
       "0  396.90   4.98  24.0  \n",
       "1  396.90   9.14  21.6  \n",
       "2  392.83   4.03  34.7  \n",
       "3  394.63   2.94  33.4  \n",
       "4  396.90   5.33  36.2  "
      ]
     },
     "execution_count": 48,
     "metadata": {},
     "output_type": "execute_result"
    }
   ],
   "source": [
    "house_prices.head()"
   ]
  },
  {
   "cell_type": "code",
   "execution_count": 50,
   "id": "96fb7a0a-ea71-4a3e-8de3-6806f52726ce",
   "metadata": {},
   "outputs": [
    {
     "data": {
      "text/plain": [
       "(506, 14)"
      ]
     },
     "execution_count": 50,
     "metadata": {},
     "output_type": "execute_result"
    }
   ],
   "source": [
    "house_prices.shape"
   ]
  },
  {
   "cell_type": "code",
   "execution_count": 49,
   "id": "edcbf340-bcc0-4858-b1e2-ea1665d3f233",
   "metadata": {},
   "outputs": [],
   "source": [
    "from sklearn.model_selection import train_test_split\n",
    "from sklearn.linear_model import LinearRegression\n",
    "from sklearn.preprocessing import LabelEncoder\n",
    "from sklearn.impute import SimpleImputer\n",
    "from sklearn.preprocessing import OneHotEncoder\n",
    "from sklearn.metrics import mean_absolute_error, mean_squared_error, r2_score\n",
    "from sklearn.linear_model import Ridge"
   ]
  },
  {
   "cell_type": "code",
   "execution_count": 31,
   "id": "f3baf23d-40f9-42af-b24f-8f99b5135cec",
   "metadata": {},
   "outputs": [],
   "source": [
    "from sklearn.model_selection import train_test_split\n",
    "\n",
    "ind_var = house_prices.drop('MEDV', axis =1)\n",
    "\n",
    "dep_var = house_prices['MEDV']\n",
    "\n",
    "x_train, x_test, y_train, y_test = train_test_split(ind_var, dep_var, test_size = 0.3, random_state = 10)"
   ]
  },
  {
   "cell_type": "code",
   "execution_count": 34,
   "id": "a3bd8e4e-dacb-4c76-a8b5-5618b7503764",
   "metadata": {},
   "outputs": [],
   "source": [
    "LR = LinearRegression().fit(x_train, y_train)"
   ]
  },
  {
   "cell_type": "code",
   "execution_count": 38,
   "id": "ff783412-7f81-4f9e-9a43-99b3ac8aaccf",
   "metadata": {},
   "outputs": [],
   "source": [
    "predictions = LR.predict(x_test)"
   ]
  },
  {
   "cell_type": "code",
   "execution_count": 40,
   "id": "48962a3d-3a94-4844-a01a-bc540349e97c",
   "metadata": {},
   "outputs": [],
   "source": [
    "RR = Ridge(alpha = 0.1).fit(x_train, y_train)"
   ]
  },
  {
   "cell_type": "code",
   "execution_count": 42,
   "id": "f241f75d-35d3-4b56-8582-a720f44398a0",
   "metadata": {},
   "outputs": [],
   "source": [
    "predictions2 = RR.predict(x_test)"
   ]
  },
  {
   "cell_type": "code",
   "execution_count": 45,
   "id": "c8265991-ac68-44f1-8627-19aefc7ffc03",
   "metadata": {},
   "outputs": [
    {
     "ename": "NameError",
     "evalue": "name 'r2_test' is not defined",
     "output_type": "error",
     "traceback": [
      "\u001b[0;31m---------------------------------------------------------------------------\u001b[0m",
      "\u001b[0;31mNameError\u001b[0m                                 Traceback (most recent call last)",
      "Cell \u001b[0;32mIn[45], line 4\u001b[0m\n\u001b[1;32m      2\u001b[0m n_train \u001b[38;5;241m=\u001b[39m \u001b[38;5;28mlen\u001b[39m(y_train)\n\u001b[1;32m      3\u001b[0m p\u001b[38;5;241m=\u001b[39m x_train\u001b[38;5;241m.\u001b[39mshape[\u001b[38;5;241m1\u001b[39m]\n\u001b[0;32m----> 4\u001b[0m adjusted_r2_test \u001b[38;5;241m=\u001b[39m \u001b[38;5;241m1\u001b[39m \u001b[38;5;241m-\u001b[39m (\u001b[38;5;241m1\u001b[39m\u001b[38;5;241m-\u001b[39mr2_test) \u001b[38;5;241m*\u001b[39m (n_test \u001b[38;5;241m-\u001b[39m\u001b[38;5;241m1\u001b[39m) \u001b[38;5;241m/\u001b[39m (n_test \u001b[38;5;241m-\u001b[39m p \u001b[38;5;241m-\u001b[39m \u001b[38;5;241m1\u001b[39m)\n\u001b[1;32m      5\u001b[0m adjusted_r2_train \u001b[38;5;241m=\u001b[39m \u001b[38;5;241m1\u001b[39m \u001b[38;5;241m-\u001b[39m (\u001b[38;5;241m1\u001b[39m\u001b[38;5;241m-\u001b[39mr2_train) \u001b[38;5;241m*\u001b[39m (n_train \u001b[38;5;241m-\u001b[39m \u001b[38;5;241m1\u001b[39m) \u001b[38;5;241m/\u001b[39m (n_train \u001b[38;5;241m-\u001b[39mp\u001b[38;5;241m-\u001b[39m\u001b[38;5;241m1\u001b[39m)\n\u001b[1;32m      7\u001b[0m rmse_test \u001b[38;5;241m=\u001b[39m np\u001b[38;5;241m.\u001b[39msqrt(mse_test)\n",
      "\u001b[0;31mNameError\u001b[0m: name 'r2_test' is not defined"
     ]
    }
   ],
   "source": [
    "n_test = len(y_test)\n",
    "n_train = len(y_train)\n",
    "\n",
    "p= x_train.shape[1]\n",
    "\n",
    "adjusted_r2_test = 1 - (1 - r2_test) * (n_test -1) / (n_test - p - 1)\n",
    "adjusted_r2_train = 1 - (1 - r2_train) * (n_train - 1) / (n_train -p-1)\n",
    "\n",
    "rmse_test = np.sqrt(mse_test)\n",
    "rmse_train = np.sqrt(mse_train)\n",
    "\n",
    "print(\"/nTraining Set Evaluation:\")\n",
    "print(\"Mean Squared Error:\", mse_train)\n",
    "print(\"Training Set RMSE:\", rmse_train)\n",
    "print(\"R2 Score:\", r2_train)\n",
    "print(\"Adjusted R2 Score:\", adjusted_r2_train)\n",
    "\n",
    "\n",
    "print(\"/nTest Set Evaluation:\")\n",
    "print(\"Mean Squared Error:\", mse_test)\n",
    "print(\"Test Set RMSE:\", rmse_test)\n",
    "print(\"R2 Score:\", r2_test)\n",
    "print (\"Adjusted R2 Score:\", adjusted_r2_test)"
   ]
  },
  {
   "cell_type": "code",
   "execution_count": null,
   "id": "84847a18-d4de-4d8d-ae2d-329031430a05",
   "metadata": {},
   "outputs": [],
   "source": []
  }
 ],
 "metadata": {
  "kernelspec": {
   "display_name": "Python 3 (ipykernel)",
   "language": "python",
   "name": "python3"
  },
  "language_info": {
   "codemirror_mode": {
    "name": "ipython",
    "version": 3
   },
   "file_extension": ".py",
   "mimetype": "text/x-python",
   "name": "python",
   "nbconvert_exporter": "python",
   "pygments_lexer": "ipython3",
   "version": "3.11.7"
  }
 },
 "nbformat": 4,
 "nbformat_minor": 5
}
