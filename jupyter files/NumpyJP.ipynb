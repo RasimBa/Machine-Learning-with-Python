{
 "cells": [
  {
   "cell_type": "markdown",
   "id": "d58e1a14",
   "metadata": {},
   "source": [
    "# Numpy\n",
    "\n",
    "> NumPy is the fundamental package for scientific computing in Python. It is a Python library that provides a multidimensional array object, various derived objects (such as masked arrays and matrices), and an assortment of routines for fast operations on arrays, including mathematical, logical, shape manipulation, sorting, selecting, I/O, discrete Fourier transforms, basic linear algebra, basic statistical operations, random simulation and much more.\n",
    "\n",
    "https://numpy.org/doc/stable/index.html\n",
    "\n",
    "Basics:\n",
    "\n",
    "https://numpy.org/doc/stable/user/absolute_beginners.html\n",
    "\n",
    "Installation:\n"
   ]
  },
  {
   "cell_type": "code",
   "execution_count": 3,
   "id": "a752557d",
   "metadata": {},
   "outputs": [],
   "source": [
    "import numpy as np"
   ]
  },
  {
   "cell_type": "markdown",
   "id": "c84d1e8d",
   "metadata": {},
   "source": [
    "##### Vectors: One-dimensional Arrays\n",
    "\n",
    "Create a vector `v` that contains the numbers `7, 8, 9, 10`. Use the `np.array` function ([Link to numpy documentation](https://numpy.org/doc/stable/reference/generated/numpy.array.html))."
   ]
  },
  {
   "cell_type": "code",
   "execution_count": 4,
   "id": "5e3267b6",
   "metadata": {},
   "outputs": [],
   "source": [
    "v = np.array([7, 8, 9, 10])"
   ]
  },
  {
   "cell_type": "code",
   "execution_count": 5,
   "id": "0016fa51",
   "metadata": {},
   "outputs": [
    {
     "data": {
      "text/plain": [
       "numpy.ndarray"
      ]
     },
     "execution_count": 5,
     "metadata": {},
     "output_type": "execute_result"
    }
   ],
   "source": [
    "type(v)"
   ]
  },
  {
   "cell_type": "code",
   "execution_count": 6,
   "id": "4481ee6b",
   "metadata": {},
   "outputs": [
    {
     "data": {
      "text/plain": [
       "array([ 7,  8,  9, 10])"
      ]
     },
     "execution_count": 6,
     "metadata": {},
     "output_type": "execute_result"
    }
   ],
   "source": [
    "v"
   ]
  },
  {
   "cell_type": "code",
   "execution_count": 7,
   "id": "80dd76ef",
   "metadata": {},
   "outputs": [
    {
     "name": "stdout",
     "output_type": "stream",
     "text": [
      "[ 7  8  9 10]\n"
     ]
    }
   ],
   "source": [
    "print(v)"
   ]
  },
  {
   "cell_type": "markdown",
   "id": "852ae2c3",
   "metadata": {},
   "source": [
    "NumPy vectors might look like lists, at first sight, but they are a different data type "
   ]
  },
  {
   "cell_type": "code",
   "execution_count": 8,
   "id": "03aaadcc",
   "metadata": {},
   "outputs": [],
   "source": [
    "z = [7, 8, 9, 10]"
   ]
  },
  {
   "cell_type": "code",
   "execution_count": 9,
   "id": "d943c481",
   "metadata": {},
   "outputs": [
    {
     "data": {
      "text/plain": [
       "[7, 8, 9, 10]"
      ]
     },
     "execution_count": 9,
     "metadata": {},
     "output_type": "execute_result"
    }
   ],
   "source": [
    "z"
   ]
  },
  {
   "cell_type": "code",
   "execution_count": 11,
   "id": "90bdb3d1",
   "metadata": {},
   "outputs": [
    {
     "data": {
      "text/plain": [
       "False"
      ]
     },
     "execution_count": 11,
     "metadata": {},
     "output_type": "execute_result"
    }
   ],
   "source": [
    "type(v) == type(z)"
   ]
  },
  {
   "cell_type": "markdown",
   "id": "9789f114",
   "metadata": {},
   "source": [
    "Indexing and Slicing is quite similar"
   ]
  },
  {
   "cell_type": "code",
   "execution_count": 12,
   "id": "6110357a",
   "metadata": {},
   "outputs": [
    {
     "data": {
      "text/plain": [
       "array([8, 9])"
      ]
     },
     "execution_count": 12,
     "metadata": {},
     "output_type": "execute_result"
    }
   ],
   "source": [
    "v[1:3]"
   ]
  },
  {
   "cell_type": "code",
   "execution_count": 13,
   "id": "303c367f",
   "metadata": {},
   "outputs": [
    {
     "data": {
      "text/plain": [
       "4"
      ]
     },
     "execution_count": 13,
     "metadata": {},
     "output_type": "execute_result"
    }
   ],
   "source": [
    "len(v)"
   ]
  },
  {
   "cell_type": "code",
   "execution_count": 15,
   "id": "bb4e5ff5",
   "metadata": {},
   "outputs": [
    {
     "data": {
      "text/plain": [
       "[8, 9]"
      ]
     },
     "execution_count": 15,
     "metadata": {},
     "output_type": "execute_result"
    }
   ],
   "source": [
    "z[1:3]"
   ]
  },
  {
   "cell_type": "code",
   "execution_count": 16,
   "id": "a34bc96d",
   "metadata": {},
   "outputs": [
    {
     "data": {
      "text/plain": [
       "4"
      ]
     },
     "execution_count": 16,
     "metadata": {},
     "output_type": "execute_result"
    }
   ],
   "source": [
    "len(z)"
   ]
  },
  {
   "cell_type": "markdown",
   "id": "055855b6",
   "metadata": {},
   "source": [
    "Create a vector `v` that contains the values 14 to 47 with the help of the function `np.arange` ([Link to numpy documentation](https://numpy.org/doc/stable/reference/generated/numpy.arange.html))."
   ]
  },
  {
   "cell_type": "code",
   "execution_count": 17,
   "id": "75c94432",
   "metadata": {},
   "outputs": [],
   "source": [
    "v = np.arange(14, 48)"
   ]
  },
  {
   "cell_type": "code",
   "execution_count": 18,
   "id": "07e65dc4",
   "metadata": {},
   "outputs": [
    {
     "data": {
      "text/plain": [
       "array([14, 15, 16, 17, 18, 19, 20, 21, 22, 23, 24, 25, 26, 27, 28, 29, 30,\n",
       "       31, 32, 33, 34, 35, 36, 37, 38, 39, 40, 41, 42, 43, 44, 45, 46, 47])"
      ]
     },
     "execution_count": 18,
     "metadata": {},
     "output_type": "execute_result"
    }
   ],
   "source": [
    "v"
   ]
  },
  {
   "cell_type": "markdown",
   "id": "d46f19a2",
   "metadata": {},
   "source": [
    "What is the data type of v?"
   ]
  },
  {
   "cell_type": "code",
   "execution_count": 19,
   "id": "8aca08dc",
   "metadata": {},
   "outputs": [
    {
     "data": {
      "text/plain": [
       "dtype('int32')"
      ]
     },
     "execution_count": 19,
     "metadata": {},
     "output_type": "execute_result"
    }
   ],
   "source": [
    "v.dtype"
   ]
  },
  {
   "cell_type": "markdown",
   "id": "0fcfe972",
   "metadata": {},
   "source": [
    "What is the dimension of vector v?"
   ]
  },
  {
   "cell_type": "code",
   "execution_count": 20,
   "id": "7eb7bba8",
   "metadata": {},
   "outputs": [
    {
     "data": {
      "text/plain": [
       "1"
      ]
     },
     "execution_count": 20,
     "metadata": {},
     "output_type": "execute_result"
    }
   ],
   "source": [
    "v.ndim"
   ]
  },
  {
   "cell_type": "code",
   "execution_count": 21,
   "id": "47e58106",
   "metadata": {},
   "outputs": [
    {
     "data": {
      "text/plain": [
       "(34,)"
      ]
     },
     "execution_count": 21,
     "metadata": {},
     "output_type": "execute_result"
    }
   ],
   "source": [
    "v.shape"
   ]
  },
  {
   "cell_type": "markdown",
   "id": "2eedd064",
   "metadata": {},
   "source": [
    "Replace the 9. value with the number 12 "
   ]
  },
  {
   "cell_type": "code",
   "execution_count": 22,
   "id": "10b31d11",
   "metadata": {},
   "outputs": [
    {
     "data": {
      "text/plain": [
       "array([14, 15, 16, 17, 18, 19, 20, 21, 12, 23, 24, 25, 26, 27, 28, 29, 30,\n",
       "       31, 32, 33, 34, 35, 36, 37, 38, 39, 40, 41, 42, 43, 44, 45, 46, 47])"
      ]
     },
     "execution_count": 22,
     "metadata": {},
     "output_type": "execute_result"
    }
   ],
   "source": [
    "v[8] = 12\n",
    "v"
   ]
  },
  {
   "cell_type": "markdown",
   "id": "93b1f4ca",
   "metadata": {},
   "source": [
    "Reverse the array (via *slicing*), to get `[47,46,....,14]` ."
   ]
  },
  {
   "cell_type": "code",
   "execution_count": 23,
   "id": "7b4832d6",
   "metadata": {
    "scrolled": true
   },
   "outputs": [
    {
     "data": {
      "text/plain": [
       "array([47, 46, 45, 44, 43, 42, 41, 40, 39, 38, 37, 36, 35, 34, 33, 32, 31,\n",
       "       30, 29, 28, 27, 26, 25, 24, 23, 12, 21, 20, 19, 18, 17, 16, 15, 14])"
      ]
     },
     "execution_count": 23,
     "metadata": {},
     "output_type": "execute_result"
    }
   ],
   "source": [
    "v[::-1]"
   ]
  },
  {
   "cell_type": "code",
   "execution_count": 24,
   "id": "e9241db7",
   "metadata": {},
   "outputs": [
    {
     "data": {
      "text/plain": [
       "array([14, 15, 16, 17, 18, 19, 20, 21, 12, 23, 24, 25, 26, 27, 28, 29, 30,\n",
       "       31, 32, 33, 34, 35, 36, 37, 38, 39, 40, 41, 42, 43, 44, 45, 46, 47])"
      ]
     },
     "execution_count": 24,
     "metadata": {},
     "output_type": "execute_result"
    }
   ],
   "source": [
    "v"
   ]
  },
  {
   "cell_type": "code",
   "execution_count": 25,
   "id": "3cbaf505",
   "metadata": {},
   "outputs": [
    {
     "data": {
      "text/plain": [
       "array([14, 15, 16, 17, 18, 19, 20, 21, 12, 23, 24, 25, 26, 27, 28, 29, 30,\n",
       "       31, 32, 33, 34, 35, 36, 37, 38, 39, 40, 41, 42, 43, 44, 45, 46])"
      ]
     },
     "execution_count": 25,
     "metadata": {},
     "output_type": "execute_result"
    }
   ],
   "source": [
    "v[:-1]"
   ]
  },
  {
   "cell_type": "markdown",
   "id": "bf1c5339",
   "metadata": {},
   "source": [
    "\n",
    "\n",
    "NumPy Arrays handle operators differently that what it was for lists.\n",
    "\n",
    "Instead of applying the operator on the whole list, the operations are done on each element of the vector.\n"
   ]
  },
  {
   "cell_type": "code",
   "execution_count": 26,
   "id": "f75743d7",
   "metadata": {},
   "outputs": [
    {
     "data": {
      "text/plain": [
       "array([15, 16, 17, 18, 19, 20, 21, 22, 13, 24, 25, 26, 27, 28, 29, 30, 31,\n",
       "       32, 33, 34, 35, 36, 37, 38, 39, 40, 41, 42, 43, 44, 45, 46, 47, 48])"
      ]
     },
     "execution_count": 26,
     "metadata": {},
     "output_type": "execute_result"
    }
   ],
   "source": [
    "v + 1"
   ]
  },
  {
   "cell_type": "code",
   "execution_count": 27,
   "id": "57f6e92a",
   "metadata": {},
   "outputs": [
    {
     "data": {
      "text/plain": [
       "array([28, 30, 32, 34, 36, 38, 40, 42, 24, 46, 48, 50, 52, 54, 56, 58, 60,\n",
       "       62, 64, 66, 68, 70, 72, 74, 76, 78, 80, 82, 84, 86, 88, 90, 92, 94])"
      ]
     },
     "execution_count": 27,
     "metadata": {},
     "output_type": "execute_result"
    }
   ],
   "source": [
    "v * 2"
   ]
  },
  {
   "cell_type": "code",
   "execution_count": 28,
   "id": "07becfd8",
   "metadata": {},
   "outputs": [
    {
     "data": {
      "text/plain": [
       "array([42, 45, 48])"
      ]
     },
     "execution_count": 28,
     "metadata": {},
     "output_type": "execute_result"
    }
   ],
   "source": [
    "v[:3] * 3\n",
    "\n",
    "\n"
   ]
  },
  {
   "cell_type": "code",
   "execution_count": 29,
   "id": "f248b2fb",
   "metadata": {},
   "outputs": [
    {
     "data": {
      "text/plain": [
       "[7, 8, 9, 10, 7, 8, 9, 10]"
      ]
     },
     "execution_count": 29,
     "metadata": {},
     "output_type": "execute_result"
    }
   ],
   "source": [
    "z * 2\n"
   ]
  },
  {
   "cell_type": "markdown",
   "id": "b82cbd5a",
   "metadata": {},
   "source": [
    "##### Matrices: Two-dimensional Arrays\n",
    "\n",
    "Create a NumPy Array x with the help of the `np.array` function: \n",
    "\n",
    "```\n",
    "[[1,  7, 13],\n",
    " [2,  8, 14],\n",
    " [3,  9, 15],\n",
    " [4,  10, 16],\n",
    " [5, 11, 17], \n",
    " [6, 12, 18]]\n",
    "```"
   ]
  },
  {
   "cell_type": "code",
   "execution_count": 30,
   "id": "60c02b46",
   "metadata": {},
   "outputs": [],
   "source": [
    "x = np.array(\n",
    "    [[1,  7, 13],\n",
    "     [2,  8, 14],\n",
    "     [3,  9, 15],\n",
    "     [4, 10, 16],\n",
    "     [5, 11, 17], \n",
    "     [6, 12, 18]]\n",
    ")"
   ]
  },
  {
   "cell_type": "code",
   "execution_count": 31,
   "id": "e6df56b5",
   "metadata": {},
   "outputs": [
    {
     "name": "stdout",
     "output_type": "stream",
     "text": [
      "[[ 1  7 13]\n",
      " [ 2  8 14]\n",
      " [ 3  9 15]\n",
      " [ 4 10 16]\n",
      " [ 5 11 17]\n",
      " [ 6 12 18]]\n"
     ]
    }
   ],
   "source": [
    "print(x)"
   ]
  },
  {
   "cell_type": "markdown",
   "id": "8fb5f363",
   "metadata": {},
   "source": [
    "What is the dimension of matrix x?"
   ]
  },
  {
   "cell_type": "code",
   "execution_count": 32,
   "id": "9090a58d",
   "metadata": {},
   "outputs": [
    {
     "data": {
      "text/plain": [
       "(6, 3)"
      ]
     },
     "execution_count": 32,
     "metadata": {},
     "output_type": "execute_result"
    }
   ],
   "source": [
    "x.shape"
   ]
  },
  {
   "cell_type": "markdown",
   "id": "370e60fa",
   "metadata": {},
   "source": [
    "Select the 3rd column of the Array"
   ]
  },
  {
   "cell_type": "code",
   "execution_count": 33,
   "id": "2432663c",
   "metadata": {},
   "outputs": [
    {
     "data": {
      "text/plain": [
       "array([13, 14, 15, 16, 17, 18])"
      ]
     },
     "execution_count": 33,
     "metadata": {},
     "output_type": "execute_result"
    }
   ],
   "source": [
    "x[:,2]"
   ]
  },
  {
   "cell_type": "markdown",
   "id": "d4da36d4",
   "metadata": {},
   "source": [
    "Select the 3rd row"
   ]
  },
  {
   "cell_type": "code",
   "execution_count": 34,
   "id": "bec46214",
   "metadata": {},
   "outputs": [
    {
     "data": {
      "text/plain": [
       "array([ 3,  9, 15])"
      ]
     },
     "execution_count": 34,
     "metadata": {},
     "output_type": "execute_result"
    }
   ],
   "source": [
    "x[2,:]"
   ]
  },
  {
   "cell_type": "markdown",
   "id": "4c329d90",
   "metadata": {},
   "source": [
    "Select all the elements up until element 2 of the array"
   ]
  },
  {
   "cell_type": "code",
   "execution_count": 35,
   "id": "a22ebc6b",
   "metadata": {},
   "outputs": [
    {
     "data": {
      "text/plain": [
       "array([[ 1,  7, 13],\n",
       "       [ 2,  8, 14]])"
      ]
     },
     "execution_count": 35,
     "metadata": {},
     "output_type": "execute_result"
    }
   ],
   "source": [
    "x[:2]"
   ]
  },
  {
   "cell_type": "markdown",
   "id": "fa2fe802",
   "metadata": {},
   "source": [
    "Select all the elements starting from Index 2"
   ]
  },
  {
   "cell_type": "code",
   "execution_count": 36,
   "id": "9d7f99d7",
   "metadata": {},
   "outputs": [
    {
     "data": {
      "text/plain": [
       "array([[ 3,  9, 15],\n",
       "       [ 4, 10, 16],\n",
       "       [ 5, 11, 17],\n",
       "       [ 6, 12, 18]])"
      ]
     },
     "execution_count": 36,
     "metadata": {},
     "output_type": "execute_result"
    }
   ],
   "source": [
    "x[2:]"
   ]
  },
  {
   "cell_type": "markdown",
   "id": "451d3008",
   "metadata": {},
   "source": [
    "##### Diagonal matrics\n",
    "\n",
    "Create a diagonal matrix `m_diag`, in which the elements of the diagonal are the first 6 numbers of `v = np.arange(1,12)`.\n",
    "\n",
    "Use the function `np.diag` ([Link to numpy documentation](https://numpy.org/doc/stable/reference/generated/numpy.diag.html))."
   ]
  },
  {
   "cell_type": "code",
   "execution_count": 38,
   "id": "9a51087e",
   "metadata": {},
   "outputs": [
    {
     "data": {
      "text/plain": [
       "array([[1, 0, 0, 0, 0, 0],\n",
       "       [0, 2, 0, 0, 0, 0],\n",
       "       [0, 0, 3, 0, 0, 0],\n",
       "       [0, 0, 0, 4, 0, 0],\n",
       "       [0, 0, 0, 0, 5, 0],\n",
       "       [0, 0, 0, 0, 0, 6]])"
      ]
     },
     "execution_count": 38,
     "metadata": {},
     "output_type": "execute_result"
    }
   ],
   "source": [
    "a = np.arange(1,12)[:6]\n",
    "\n",
    "m_diag = np.diag(a)\n",
    "m_diag\n",
    "\n"
   ]
  },
  {
   "cell_type": "code",
   "execution_count": 39,
   "id": "d1487cc8",
   "metadata": {},
   "outputs": [
    {
     "data": {
      "text/plain": [
       "array([1, 2, 3, 4, 5, 6])"
      ]
     },
     "execution_count": 39,
     "metadata": {},
     "output_type": "execute_result"
    }
   ],
   "source": [
    "a"
   ]
  },
  {
   "cell_type": "code",
   "execution_count": 40,
   "id": "e80d1103",
   "metadata": {},
   "outputs": [
    {
     "data": {
      "text/plain": [
       "(6, 6)"
      ]
     },
     "execution_count": 40,
     "metadata": {},
     "output_type": "execute_result"
    }
   ],
   "source": [
    "m_diag.shape"
   ]
  }
 ],
 "metadata": {
  "kernelspec": {
   "display_name": "Python 3 (ipykernel)",
   "language": "python",
   "name": "python3"
  },
  "language_info": {
   "codemirror_mode": {
    "name": "ipython",
    "version": 3
   },
   "file_extension": ".py",
   "mimetype": "text/x-python",
   "name": "python",
   "nbconvert_exporter": "python",
   "pygments_lexer": "ipython3",
   "version": "3.11.7"
  }
 },
 "nbformat": 4,
 "nbformat_minor": 5
}
