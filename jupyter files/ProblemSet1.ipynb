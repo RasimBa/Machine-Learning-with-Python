{
 "cells": [
  {
   "cell_type": "markdown",
   "id": "1c3e3cff",
   "metadata": {},
   "source": [
    "# Problem Set 1 - Python coding exercises with solutions"
   ]
  },
  {
   "cell_type": "markdown",
   "id": "7866906e",
   "metadata": {},
   "source": [
    "# Some basic commands"
   ]
  },
  {
   "cell_type": "markdown",
   "id": "5bf2ce49",
   "metadata": {},
   "source": [
    "Let us look at interactive input und output in Python:"
   ]
  },
  {
   "cell_type": "markdown",
   "id": "11ec05a8",
   "metadata": {},
   "source": [
    "1. Write code that asks the user for her name and then prints, \"Hello name!\"."
   ]
  },
  {
   "cell_type": "code",
   "execution_count": null,
   "id": "b3a07377",
   "metadata": {},
   "outputs": [],
   "source": [
    "name = input(\"Enter your name: \")"
   ]
  },
  {
   "cell_type": "code",
   "execution_count": null,
   "id": "8a19015d",
   "metadata": {},
   "outputs": [],
   "source": [
    "print(\"Hello\", name+\"!\")"
   ]
  },
  {
   "cell_type": "markdown",
   "id": "c3917cb7",
   "metadata": {},
   "source": [
    "# Data types"
   ]
  },
  {
   "cell_type": "markdown",
   "id": "54f4e214",
   "metadata": {},
   "source": [
    "2. What are the data types of the following:"
   ]
  },
  {
   "cell_type": "markdown",
   "id": "56bd28b0",
   "metadata": {},
   "source": [
    "a) 7 "
   ]
  },
  {
   "cell_type": "markdown",
   "id": "39646b98",
   "metadata": {},
   "source": [
    "b) 3.1415"
   ]
  },
  {
   "cell_type": "markdown",
   "id": "c2d5d7b8",
   "metadata": {},
   "source": [
    "c) [0, 2, -1, 'r']"
   ]
  },
  {
   "cell_type": "markdown",
   "id": "a3f02bfd",
   "metadata": {},
   "source": [
    "d) ('GER', 'FRA', 12.9, 'ITA')"
   ]
  },
  {
   "cell_type": "markdown",
   "id": "b98e3a66",
   "metadata": {},
   "source": [
    "e) 3e-2 (also print this object) "
   ]
  },
  {
   "cell_type": "markdown",
   "id": "e0de48cd",
   "metadata": {},
   "source": [
    "f) 0b110 (also print this object) "
   ]
  },
  {
   "cell_type": "markdown",
   "id": "0bda0f65",
   "metadata": {},
   "source": [
    "g) 0 in (-2, 5, 0, 3) (also print this object)"
   ]
  },
  {
   "cell_type": "markdown",
   "id": "98ef24fd",
   "metadata": {},
   "source": [
    "h) {'Country': 'Germany', 'GDP': '4200', 'Population': '83'}"
   ]
  },
  {
   "cell_type": "code",
   "execution_count": null,
   "id": "fc2a8f46",
   "metadata": {},
   "outputs": [],
   "source": []
  },
  {
   "cell_type": "markdown",
   "id": "68338b30",
   "metadata": {},
   "source": [
    "3. Define x = 10. What is the output of the following:"
   ]
  },
  {
   "cell_type": "markdown",
   "id": "e37b6faf",
   "metadata": {},
   "source": [
    "a) type(x)"
   ]
  },
  {
   "cell_type": "markdown",
   "id": "43e4ae92",
   "metadata": {},
   "source": [
    "b) type(str(x))"
   ]
  },
  {
   "cell_type": "markdown",
   "id": "9b424b7d",
   "metadata": {},
   "source": [
    "c) print(x + 4)"
   ]
  },
  {
   "cell_type": "markdown",
   "id": "0485230a",
   "metadata": {},
   "source": [
    "d) print(str(x)+4)"
   ]
  },
  {
   "cell_type": "markdown",
   "id": "9904bbdd",
   "metadata": {},
   "source": [
    "e) print(int(str(x))-2)"
   ]
  },
  {
   "cell_type": "code",
   "execution_count": null,
   "id": "4aa36f29",
   "metadata": {},
   "outputs": [],
   "source": []
  },
  {
   "cell_type": "markdown",
   "id": "49a47b2a",
   "metadata": {},
   "source": [
    "4. Define x=3. What is the output of print(type(str(x)))?"
   ]
  },
  {
   "cell_type": "code",
   "execution_count": null,
   "id": "90394900",
   "metadata": {},
   "outputs": [],
   "source": []
  },
  {
   "cell_type": "markdown",
   "id": "75291f7a",
   "metadata": {},
   "source": [
    "5. What is the output of print(7>3)?"
   ]
  },
  {
   "cell_type": "code",
   "execution_count": null,
   "id": "c0ade6a3",
   "metadata": {},
   "outputs": [],
   "source": []
  },
  {
   "cell_type": "markdown",
   "id": "0ad1946b",
   "metadata": {},
   "source": [
    "6. What is the output of print(type(7>3))?"
   ]
  },
  {
   "cell_type": "code",
   "execution_count": null,
   "id": "fe3b532a",
   "metadata": {},
   "outputs": [],
   "source": []
  },
  {
   "cell_type": "markdown",
   "id": "4d48cbf2",
   "metadata": {},
   "source": [
    "# Operators"
   ]
  },
  {
   "cell_type": "markdown",
   "id": "d63e3144",
   "metadata": {},
   "source": [
    "Operators are symbols in Python that can be used to conduct math or logical computation"
   ]
  },
  {
   "cell_type": "markdown",
   "id": "683bb5be",
   "metadata": {},
   "source": [
    "#### Arithmetic"
   ]
  },
  {
   "cell_type": "markdown",
   "id": "1c5fd6fe",
   "metadata": {},
   "source": [
    "7. Define x=7. And y=2. What is the output from the following commands? First try to think about what might be the output, then verify by running the code"
   ]
  },
  {
   "cell_type": "code",
   "execution_count": 2,
   "id": "ca8c72f3",
   "metadata": {},
   "outputs": [],
   "source": [
    "x=7\n",
    "y=2"
   ]
  },
  {
   "cell_type": "markdown",
   "id": "a0effc45",
   "metadata": {},
   "source": [
    "a) print('x+y=', x+y)"
   ]
  },
  {
   "cell_type": "code",
   "execution_count": null,
   "id": "7fdf98b2",
   "metadata": {},
   "outputs": [],
   "source": []
  },
  {
   "cell_type": "markdown",
   "id": "9aebf8fe",
   "metadata": {},
   "source": [
    "b) print('x-y=', x-y)"
   ]
  },
  {
   "cell_type": "code",
   "execution_count": null,
   "id": "74296b2a",
   "metadata": {},
   "outputs": [],
   "source": []
  },
  {
   "cell_type": "markdown",
   "id": "fe33ee17",
   "metadata": {},
   "source": [
    "c) print('x/y=', x/y)"
   ]
  },
  {
   "cell_type": "code",
   "execution_count": null,
   "id": "f5047ccb",
   "metadata": {},
   "outputs": [],
   "source": []
  },
  {
   "cell_type": "markdown",
   "id": "106eb92c",
   "metadata": {},
   "source": [
    "d) print('x* y=', x* y)"
   ]
  },
  {
   "cell_type": "code",
   "execution_count": null,
   "id": "d43a0862",
   "metadata": {},
   "outputs": [],
   "source": []
  },
  {
   "cell_type": "markdown",
   "id": "8a1479ef",
   "metadata": {},
   "source": [
    "e) print('Floor division of x/y yields: ', x//y)"
   ]
  },
  {
   "cell_type": "code",
   "execution_count": null,
   "id": "61bdd31d",
   "metadata": {},
   "outputs": [],
   "source": []
  },
  {
   "cell_type": "markdown",
   "id": "bc91cd40",
   "metadata": {},
   "source": [
    "f) print('x/y: the rest (modulo) is: ', x%y)"
   ]
  },
  {
   "cell_type": "code",
   "execution_count": null,
   "id": "541fac4b",
   "metadata": {},
   "outputs": [],
   "source": []
  },
  {
   "cell_type": "markdown",
   "id": "dead8a7e",
   "metadata": {},
   "source": [
    "g) print('x raised to the power of y is: ', x**y)"
   ]
  },
  {
   "cell_type": "code",
   "execution_count": null,
   "id": "4d44f165",
   "metadata": {},
   "outputs": [],
   "source": []
  },
  {
   "cell_type": "markdown",
   "id": "a409c492",
   "metadata": {},
   "source": [
    "8. Write code that prints 'ha ' 3 times using the * operator"
   ]
  },
  {
   "cell_type": "code",
   "execution_count": null,
   "id": "4abf37e0",
   "metadata": {},
   "outputs": [],
   "source": []
  },
  {
   "cell_type": "markdown",
   "id": "01ea66db",
   "metadata": {},
   "source": [
    "#### Comparison"
   ]
  },
  {
   "cell_type": "markdown",
   "id": "56543ebf",
   "metadata": {},
   "source": [
    "9. Think about what might be the output from each of the following commands and then verify by running the code:"
   ]
  },
  {
   "cell_type": "markdown",
   "id": "276945ff",
   "metadata": {},
   "source": [
    "a) 6==6"
   ]
  },
  {
   "cell_type": "code",
   "execution_count": null,
   "id": "0281dc9c",
   "metadata": {},
   "outputs": [],
   "source": []
  },
  {
   "cell_type": "markdown",
   "id": "2a97cded",
   "metadata": {},
   "source": [
    "b) 6==7"
   ]
  },
  {
   "cell_type": "code",
   "execution_count": null,
   "id": "88d2f50b",
   "metadata": {},
   "outputs": [],
   "source": []
  },
  {
   "cell_type": "markdown",
   "id": "87914530",
   "metadata": {},
   "source": [
    "c) 6!=7"
   ]
  },
  {
   "cell_type": "code",
   "execution_count": null,
   "id": "8f0284c3",
   "metadata": {},
   "outputs": [],
   "source": []
  },
  {
   "cell_type": "markdown",
   "id": "055b9467",
   "metadata": {},
   "source": [
    "d) 6>7"
   ]
  },
  {
   "cell_type": "code",
   "execution_count": null,
   "id": "25e4a904",
   "metadata": {},
   "outputs": [],
   "source": []
  },
  {
   "cell_type": "markdown",
   "id": "530b2236",
   "metadata": {},
   "source": [
    "e) 6<=7"
   ]
  },
  {
   "cell_type": "code",
   "execution_count": null,
   "id": "5aa1b34b",
   "metadata": {},
   "outputs": [],
   "source": []
  },
  {
   "cell_type": "markdown",
   "id": "0bc368a1",
   "metadata": {},
   "source": [
    "#### Logical"
   ]
  },
  {
   "cell_type": "markdown",
   "id": "3ae7af46",
   "metadata": {},
   "source": [
    "10. Define x= True. And y = False. What is the output from each of the following commands? Verify:"
   ]
  },
  {
   "cell_type": "code",
   "execution_count": 18,
   "id": "a7708626",
   "metadata": {},
   "outputs": [],
   "source": [
    "x=True\n",
    "y=False"
   ]
  },
  {
   "cell_type": "markdown",
   "id": "2b41ed18",
   "metadata": {},
   "source": [
    "a) type(x)"
   ]
  },
  {
   "cell_type": "code",
   "execution_count": null,
   "id": "cbc79302",
   "metadata": {},
   "outputs": [],
   "source": []
  },
  {
   "cell_type": "markdown",
   "id": "a168ab61",
   "metadata": {},
   "source": [
    "b) x and y"
   ]
  },
  {
   "cell_type": "code",
   "execution_count": null,
   "id": "1ba63b7d",
   "metadata": {},
   "outputs": [],
   "source": []
  },
  {
   "cell_type": "markdown",
   "id": "bb9c8bb7",
   "metadata": {},
   "source": [
    "c) x or y"
   ]
  },
  {
   "cell_type": "code",
   "execution_count": null,
   "id": "b0f4fe75",
   "metadata": {},
   "outputs": [],
   "source": []
  },
  {
   "cell_type": "markdown",
   "id": "ac802c0a",
   "metadata": {},
   "source": [
    "d) not x"
   ]
  },
  {
   "cell_type": "code",
   "execution_count": null,
   "id": "52704154",
   "metadata": {},
   "outputs": [],
   "source": []
  },
  {
   "cell_type": "markdown",
   "id": "26cac8ac",
   "metadata": {},
   "source": [
    "e) (not x) and y"
   ]
  },
  {
   "cell_type": "code",
   "execution_count": null,
   "id": "d091e373",
   "metadata": {},
   "outputs": [],
   "source": []
  },
  {
   "cell_type": "markdown",
   "id": "55d0e1dc",
   "metadata": {},
   "source": [
    "#### Assignment"
   ]
  },
  {
   "cell_type": "markdown",
   "id": "99a8d73b",
   "metadata": {},
   "source": [
    "11. Define m=3, and n=5. What is the output from each of the following commands? Verify and print the results on the screen:"
   ]
  },
  {
   "cell_type": "code",
   "execution_count": 25,
   "id": "461fdb78",
   "metadata": {},
   "outputs": [],
   "source": [
    "m=3\n",
    "n=5"
   ]
  },
  {
   "cell_type": "markdown",
   "id": "cee75216",
   "metadata": {},
   "source": [
    "a) m=m+3"
   ]
  },
  {
   "cell_type": "code",
   "execution_count": 26,
   "id": "b2381e58",
   "metadata": {},
   "outputs": [],
   "source": [
    "m=m+3"
   ]
  },
  {
   "cell_type": "code",
   "execution_count": null,
   "id": "d3f1f1e2",
   "metadata": {},
   "outputs": [],
   "source": []
  },
  {
   "cell_type": "code",
   "execution_count": 28,
   "id": "cd1412e1",
   "metadata": {},
   "outputs": [],
   "source": [
    "m=m+3"
   ]
  },
  {
   "cell_type": "code",
   "execution_count": null,
   "id": "cf5273f8",
   "metadata": {},
   "outputs": [],
   "source": []
  },
  {
   "cell_type": "markdown",
   "id": "e13ddd9a",
   "metadata": {},
   "source": [
    "b) n += 3"
   ]
  },
  {
   "cell_type": "code",
   "execution_count": 30,
   "id": "bac74565",
   "metadata": {},
   "outputs": [],
   "source": [
    "n += 3"
   ]
  },
  {
   "cell_type": "code",
   "execution_count": null,
   "id": "77e3b7a8",
   "metadata": {},
   "outputs": [],
   "source": []
  },
  {
   "cell_type": "markdown",
   "id": "e3c35bb9",
   "metadata": {},
   "source": [
    "#### Membership"
   ]
  },
  {
   "cell_type": "markdown",
   "id": "fbfe75fe",
   "metadata": {},
   "source": [
    "12. Define s= \"Python is great fun!\" And l=[23, 'apple', 0.6]. What is the output from each of the following commands? Verify?"
   ]
  },
  {
   "cell_type": "code",
   "execution_count": 33,
   "id": "6206f0d2",
   "metadata": {},
   "outputs": [],
   "source": [
    "s= \"Python is great fun!\"\n",
    "l=[23, 'apple', 0.6]"
   ]
  },
  {
   "cell_type": "markdown",
   "id": "6e9daa8c",
   "metadata": {},
   "source": [
    "a) 'y' in s"
   ]
  },
  {
   "cell_type": "code",
   "execution_count": null,
   "id": "6f233353",
   "metadata": {},
   "outputs": [],
   "source": []
  },
  {
   "cell_type": "markdown",
   "id": "d36a94d1",
   "metadata": {},
   "source": [
    "b) \"G\" not in s"
   ]
  },
  {
   "cell_type": "code",
   "execution_count": null,
   "id": "b649f9e4",
   "metadata": {},
   "outputs": [],
   "source": []
  },
  {
   "cell_type": "markdown",
   "id": "2e4ff025",
   "metadata": {},
   "source": [
    "c) 2 in l"
   ]
  },
  {
   "cell_type": "code",
   "execution_count": null,
   "id": "90000703",
   "metadata": {},
   "outputs": [],
   "source": []
  },
  {
   "cell_type": "markdown",
   "id": "96a0c4c1",
   "metadata": {},
   "source": [
    "d) 0.8 not in l"
   ]
  },
  {
   "cell_type": "code",
   "execution_count": null,
   "id": "a3197b49",
   "metadata": {},
   "outputs": [],
   "source": []
  },
  {
   "cell_type": "markdown",
   "id": "5ea15208",
   "metadata": {},
   "source": [
    "# Conditionals (if ... else)"
   ]
  },
  {
   "cell_type": "markdown",
   "id": "a9339e79",
   "metadata": {},
   "source": [
    "The if, and the if...else constructs are used to conditionally implement code. These are very useful in\n",
    "functions and programs. Notice the indenting of the code below. This is an important feature of Python. It indicates the assignment of programming lines. If you do not indent correctly, an error message will show up, or the codes runs differently from what you intended it to do. Moreover, indenting enhances readability."
   ]
  },
  {
   "cell_type": "markdown",
   "id": "d8696538",
   "metadata": {},
   "source": [
    "13. What is the output of the following commands? Verify:"
   ]
  },
  {
   "cell_type": "markdown",
   "id": "702b3840",
   "metadata": {},
   "source": [
    "x = 3\n",
    "if x > 0:\n",
    "    print(x, 'is positive')"
   ]
  },
  {
   "cell_type": "code",
   "execution_count": null,
   "id": "79fc27d5",
   "metadata": {},
   "outputs": [],
   "source": []
  },
  {
   "cell_type": "markdown",
   "id": "df903882",
   "metadata": {},
   "source": [
    "x = 3\n",
    "if x > 0:\n",
    "print(x, 'is positive')"
   ]
  },
  {
   "cell_type": "code",
   "execution_count": null,
   "id": "a643c8d2",
   "metadata": {},
   "outputs": [],
   "source": []
  },
  {
   "cell_type": "markdown",
   "id": "2a38290d",
   "metadata": {},
   "source": [
    "x = 3\n",
    "l = [0, 7, -9, 3]\n",
    "if x in l:\n",
    "    print(x, \"belongs to the list \", l)"
   ]
  },
  {
   "cell_type": "code",
   "execution_count": null,
   "id": "d1c564fa",
   "metadata": {},
   "outputs": [],
   "source": []
  },
  {
   "cell_type": "markdown",
   "id": "1be2e0d4",
   "metadata": {},
   "source": [
    "x = 3\n",
    "if True:\n",
    "    x += 1\n",
    "print(x)"
   ]
  },
  {
   "cell_type": "code",
   "execution_count": null,
   "id": "ec57f1a4",
   "metadata": {},
   "outputs": [],
   "source": []
  },
  {
   "cell_type": "markdown",
   "id": "3448266d",
   "metadata": {},
   "source": [
    "x = 3\n",
    "if True:\n",
    "    x -= 1\n",
    "    print(x)"
   ]
  },
  {
   "cell_type": "code",
   "execution_count": null,
   "id": "5799ee1f",
   "metadata": {},
   "outputs": [],
   "source": []
  },
  {
   "cell_type": "markdown",
   "id": "20f4a444",
   "metadata": {},
   "source": [
    "x = 3\n",
    "if 0:\n",
    "    x -= 1\n",
    "print(x)"
   ]
  },
  {
   "cell_type": "code",
   "execution_count": null,
   "id": "88e198ee",
   "metadata": {},
   "outputs": [],
   "source": []
  },
  {
   "cell_type": "markdown",
   "id": "9df88146",
   "metadata": {},
   "source": [
    "x = 3\n",
    "if 0:\n",
    "    x -= 1\n",
    "    print(x)"
   ]
  },
  {
   "cell_type": "code",
   "execution_count": null,
   "id": "fb500b34",
   "metadata": {},
   "outputs": [],
   "source": []
  },
  {
   "cell_type": "markdown",
   "id": "c6d9d374",
   "metadata": {},
   "source": [
    "x=5\n",
    "y=10\n",
    "if y%x==0:\n",
    "    print(x, 'is a divisor of', y)\n",
    "else:\n",
    "    print(x, 'is not a divisor of', y)"
   ]
  },
  {
   "cell_type": "code",
   "execution_count": null,
   "id": "8c504509",
   "metadata": {},
   "outputs": [],
   "source": []
  },
  {
   "cell_type": "markdown",
   "id": "38402e7a",
   "metadata": {},
   "source": [
    "x=3\n",
    "y=7\n",
    "if y%x==0:\n",
    "    print(x, 'is a divisor of', y)\n",
    "else:\n",
    "    print(x, 'is not a divisor of', y)"
   ]
  },
  {
   "cell_type": "code",
   "execution_count": null,
   "id": "4003fee9",
   "metadata": {},
   "outputs": [],
   "source": []
  },
  {
   "cell_type": "markdown",
   "id": "c4e79d44",
   "metadata": {},
   "source": [
    "# Loops"
   ]
  },
  {
   "cell_type": "markdown",
   "id": "9d448abe",
   "metadata": {},
   "source": [
    "Loops are common and super useful programming constructs. They allow for automation of repititive\n",
    "tasks. A \"for\" loop has the syntax:\n",
    "\n",
    "for x in sequence: \n",
    "    code\n",
    "\n",
    "It iterates over each value of the sequence (e.g. a list)\n",
    "and implements the code in each interation. Loops are best understood by working through examples. In\n",
    "the following questions, we use the \"range\" function to generate the sequence. Look up this function online on python.org to\n",
    "understand what it does."
   ]
  },
  {
   "cell_type": "markdown",
   "id": "e6bce6c2",
   "metadata": {},
   "source": [
    "14. What is the output of the following commands? Verify"
   ]
  },
  {
   "cell_type": "markdown",
   "id": "48f3df4a",
   "metadata": {},
   "source": [
    "a) x = int(input(\"Enter a number: \"))\n",
    "for i in range(x):\n",
    "    fact = 1\n",
    "    fact += i\n",
    "    print(fact)"
   ]
  },
  {
   "cell_type": "code",
   "execution_count": null,
   "id": "5f150312",
   "metadata": {},
   "outputs": [],
   "source": []
  },
  {
   "cell_type": "markdown",
   "id": "fca70947",
   "metadata": {},
   "source": [
    "b) x = int(input(\"Enter a number: \"))\n",
    "for i in range(x):\n",
    "    fact = 1\n",
    "    fact += i\n",
    "print(fact)"
   ]
  },
  {
   "cell_type": "code",
   "execution_count": null,
   "id": "4daf48c1",
   "metadata": {},
   "outputs": [],
   "source": []
  },
  {
   "cell_type": "markdown",
   "id": "9655ff84",
   "metadata": {},
   "source": [
    "c) x = int(input(\"Enter a number: \"))\n",
    "for i in range(x):\n",
    "    fact = 1\n",
    "    fact *= i\n",
    "    print(fact)"
   ]
  },
  {
   "cell_type": "code",
   "execution_count": null,
   "id": "b561e3ac",
   "metadata": {},
   "outputs": [],
   "source": []
  },
  {
   "cell_type": "markdown",
   "id": "dc7b3e20",
   "metadata": {},
   "source": [
    "d) x = int(input(\"Enter a number: \"))\n",
    "for i in range(x):\n",
    "    fact = 1\n",
    "    fact *= i\n",
    "print(fact)"
   ]
  },
  {
   "cell_type": "code",
   "execution_count": null,
   "id": "ef277ad8",
   "metadata": {},
   "outputs": [],
   "source": []
  },
  {
   "cell_type": "markdown",
   "id": "7666a339",
   "metadata": {},
   "source": [
    "e) x = int(input(\"Enter a number: \"))\n",
    "for i in range(x+1):\n",
    "    fact = 1\n",
    "    fact *= i\n",
    "print(fact)"
   ]
  },
  {
   "cell_type": "code",
   "execution_count": null,
   "id": "aeaaa490",
   "metadata": {},
   "outputs": [],
   "source": []
  },
  {
   "cell_type": "markdown",
   "id": "305442d8",
   "metadata": {},
   "source": [
    "f) x = int(input(\"Enter a number: \"))\n",
    "fact = 1\n",
    "for i in range(x):\n",
    "    fact *= i\n",
    "print(fact)"
   ]
  },
  {
   "cell_type": "code",
   "execution_count": null,
   "id": "1f4f6259",
   "metadata": {},
   "outputs": [],
   "source": []
  },
  {
   "cell_type": "markdown",
   "id": "3e13672d",
   "metadata": {},
   "source": [
    "g) x = int(input(\"Enter a number: \"))\n",
    "fact = 1\n",
    "for i in range(x+1):\n",
    "    fact *= i\n",
    "print(fact)"
   ]
  },
  {
   "cell_type": "code",
   "execution_count": null,
   "id": "d66eae1a",
   "metadata": {},
   "outputs": [],
   "source": []
  },
  {
   "cell_type": "markdown",
   "id": "40d7d00a",
   "metadata": {},
   "source": [
    "h) x = int(input(\"Enter a number: \"))\n",
    "fact = 1\n",
    "for i in range(1, x+1):\n",
    "    fact *= i\n",
    "print(fact)"
   ]
  },
  {
   "cell_type": "code",
   "execution_count": null,
   "id": "0c56e3bf",
   "metadata": {},
   "outputs": [],
   "source": []
  },
  {
   "cell_type": "markdown",
   "id": "7868b39b",
   "metadata": {},
   "source": [
    "15. What is the output of the following command? Verify: \n",
    "\n",
    "s = 'Daniel' \n",
    "\n",
    "for i in s: \n",
    "    \n",
    "    print(i)"
   ]
  },
  {
   "cell_type": "code",
   "execution_count": null,
   "id": "31685f87",
   "metadata": {},
   "outputs": [],
   "source": []
  },
  {
   "cell_type": "markdown",
   "id": "f28c89b8",
   "metadata": {},
   "source": [
    "16. Write code that asks the user for a positive number (n) and then prints the sum of all even numbers between 0 and n."
   ]
  },
  {
   "cell_type": "code",
   "execution_count": null,
   "id": "43e394a6",
   "metadata": {},
   "outputs": [],
   "source": []
  },
  {
   "cell_type": "markdown",
   "id": "40a4e22b",
   "metadata": {},
   "source": [
    "17. For can also be combined with else. In that case, the loop iterates over the sequence until all items\n",
    "in the sequence are exhausted and then the else bit is executed. What is the output of the following\n",
    "code?"
   ]
  },
  {
   "cell_type": "markdown",
   "id": "0df6c3e2",
   "metadata": {},
   "source": [
    "name = 'Daniela'\n",
    "for i in name:\n",
    "    print(i)\n",
    "else:\n",
    "    print(\"Name zuende buchstabiert\")"
   ]
  },
  {
   "cell_type": "code",
   "execution_count": null,
   "id": "9b79c5ff",
   "metadata": {},
   "outputs": [],
   "source": []
  },
  {
   "cell_type": "markdown",
   "id": "339ce0e3",
   "metadata": {},
   "source": [
    "18. The break statement can be used to add further control to a loop. To see how this can be useful,\n",
    "examine the following code. Notice that the else is part of the nested for loop (same indentation)."
   ]
  },
  {
   "cell_type": "markdown",
   "id": "02e7c85e",
   "metadata": {},
   "source": [
    "r = 1\n",
    "x = 50\n",
    "for num in range(r, x+1):\n",
    "    if num > 1:\n",
    "        for i in range(2, num):\n",
    "            if(num%i) == 0:\n",
    "                break\n",
    "        else:\n",
    "            print(num)"
   ]
  },
  {
   "cell_type": "code",
   "execution_count": null,
   "id": "08d0cabe",
   "metadata": {},
   "outputs": [],
   "source": []
  },
  {
   "cell_type": "markdown",
   "id": "d28497ca",
   "metadata": {},
   "source": [
    "# Lists"
   ]
  },
  {
   "cell_type": "markdown",
   "id": "af34ff29",
   "metadata": {},
   "source": [
    "Lists are ordered collections of objects. A list is thus a sequence. The objects can be the same or mixed\n",
    "data types. Other Python data types that are sequences include strings and tuples."
   ]
  },
  {
   "cell_type": "markdown",
   "id": "a1e5da16",
   "metadata": {},
   "source": [
    "19. What is the output of the following commands? Verify"
   ]
  },
  {
   "cell_type": "markdown",
   "id": "5ed69d5b",
   "metadata": {},
   "source": [
    "Note that index (position) numbers in a Python list\n",
    "start from 0 !"
   ]
  },
  {
   "cell_type": "code",
   "execution_count": 65,
   "id": "1d917877",
   "metadata": {},
   "outputs": [],
   "source": [
    "list1 = [4, 2, 7.5, 3]\n",
    "list2 = [[4, 5, 6], \"Python\", \"Java\"]"
   ]
  },
  {
   "cell_type": "markdown",
   "id": "6dbdcc9f",
   "metadata": {},
   "source": [
    "a) list1[0]"
   ]
  },
  {
   "cell_type": "code",
   "execution_count": null,
   "id": "868f4277",
   "metadata": {},
   "outputs": [],
   "source": []
  },
  {
   "cell_type": "markdown",
   "id": "c40db27b",
   "metadata": {},
   "source": [
    "b) list1[2]"
   ]
  },
  {
   "cell_type": "code",
   "execution_count": null,
   "id": "387bcee1",
   "metadata": {},
   "outputs": [],
   "source": []
  },
  {
   "cell_type": "markdown",
   "id": "a8c0ee7c",
   "metadata": {},
   "source": [
    "c) list2[0]"
   ]
  },
  {
   "cell_type": "code",
   "execution_count": null,
   "id": "878c8a3c",
   "metadata": {},
   "outputs": [],
   "source": []
  },
  {
   "cell_type": "markdown",
   "id": "e640e79f",
   "metadata": {},
   "source": [
    "d) list2[2][0]"
   ]
  },
  {
   "cell_type": "code",
   "execution_count": null,
   "id": "f4d62a53",
   "metadata": {},
   "outputs": [],
   "source": []
  },
  {
   "cell_type": "markdown",
   "id": "c6260158",
   "metadata": {},
   "source": [
    "e) list1[-2]"
   ]
  },
  {
   "cell_type": "code",
   "execution_count": null,
   "id": "b816e757",
   "metadata": {},
   "outputs": [],
   "source": []
  },
  {
   "cell_type": "markdown",
   "id": "8396ada5",
   "metadata": {},
   "source": [
    "f) list2[-2][-2]"
   ]
  },
  {
   "cell_type": "code",
   "execution_count": null,
   "id": "1310bd5b",
   "metadata": {},
   "outputs": [],
   "source": []
  },
  {
   "cell_type": "markdown",
   "id": "e3a55e0a",
   "metadata": {},
   "source": [
    "g) list2[0] = \"R\"\n",
    "print(list2)"
   ]
  },
  {
   "cell_type": "code",
   "execution_count": null,
   "id": "9baa9b12",
   "metadata": {},
   "outputs": [],
   "source": []
  },
  {
   "cell_type": "markdown",
   "id": "d5e58526",
   "metadata": {},
   "source": [
    "h) name = \"Daniela Schmidt\"\n",
    "print(list(name))"
   ]
  },
  {
   "cell_type": "code",
   "execution_count": null,
   "id": "0e40d91f",
   "metadata": {},
   "outputs": [],
   "source": []
  },
  {
   "cell_type": "markdown",
   "id": "8f8e4569",
   "metadata": {},
   "source": [
    "20. We can add and delete items. Have a look what the insert() and extend() methods do in the code below.\n",
    "Notice the syntax - objects such as this list belong to the class list and this class, like many others in\n",
    "Python comes with built-in functions or methods. Also, note that del is a inbuilt function to remove a part\n",
    "of an object or the entire object e.g. list etc from memory."
   ]
  },
  {
   "cell_type": "code",
   "execution_count": null,
   "id": "3c920017",
   "metadata": {},
   "outputs": [],
   "source": [
    "list1 = [4, 3.8, 2, 9]\n",
    "list1.insert(1, -1)\n",
    "print(list1)"
   ]
  },
  {
   "cell_type": "code",
   "execution_count": null,
   "id": "cdc0ea0e",
   "metadata": {},
   "outputs": [],
   "source": [
    "list1 = [4, 3.8, 2, 9]\n",
    "list1.insert(3, -1)\n",
    "print(list1)"
   ]
  },
  {
   "cell_type": "code",
   "execution_count": null,
   "id": "fea5bb9c",
   "metadata": {},
   "outputs": [],
   "source": [
    "list1 = [4, 3.8, 2, 9]\n",
    "list1.extend([1, -1])\n",
    "print(list1)"
   ]
  },
  {
   "cell_type": "code",
   "execution_count": null,
   "id": "8f7646a7",
   "metadata": {},
   "outputs": [],
   "source": [
    "list1 = [4, 3.8, 2, 9]\n",
    "del list1[0]\n",
    "print(list1)"
   ]
  },
  {
   "cell_type": "code",
   "execution_count": null,
   "id": "37fed7cc",
   "metadata": {},
   "outputs": [],
   "source": [
    "list1 = [4, 3.8, 2, 9]\n",
    "del list1[:]\n",
    "print(list1)"
   ]
  },
  {
   "cell_type": "code",
   "execution_count": null,
   "id": "fe952b2f",
   "metadata": {},
   "outputs": [],
   "source": [
    "list1 = [4, 3.8, 2, 9]\n",
    "del list1\n",
    "print(list1)"
   ]
  },
  {
   "cell_type": "markdown",
   "id": "25f07bac",
   "metadata": {},
   "source": [
    "21. Python offers many handy programming shortcuts. One such is \"list comprehensions\". They simplify conditionals and loops. What is the output of the following commands? Verify"
   ]
  },
  {
   "cell_type": "code",
   "execution_count": null,
   "id": "cf0ee74b",
   "metadata": {},
   "outputs": [],
   "source": [
    "list=[2*x for x in range(5)]\n",
    "print(list)"
   ]
  },
  {
   "cell_type": "markdown",
   "id": "ce9f0e40",
   "metadata": {},
   "source": [
    "Using \"list comprehension\", construct the following lists:\n",
    "\n",
    "a) The list of cubes of integers from 0 to 9.\n",
    "\n",
    "b) The list of odd powers of 3, starting from 1 and running up to and including 9."
   ]
  },
  {
   "cell_type": "code",
   "execution_count": null,
   "id": "7f37e82d",
   "metadata": {},
   "outputs": [],
   "source": []
  },
  {
   "cell_type": "code",
   "execution_count": null,
   "id": "f5cffc06",
   "metadata": {},
   "outputs": [],
   "source": []
  }
 ],
 "metadata": {
  "kernelspec": {
   "display_name": "Python 3 (ipykernel)",
   "language": "python",
   "name": "python3"
  },
  "language_info": {
   "codemirror_mode": {
    "name": "ipython",
    "version": 3
   },
   "file_extension": ".py",
   "mimetype": "text/x-python",
   "name": "python",
   "nbconvert_exporter": "python",
   "pygments_lexer": "ipython3",
   "version": "3.11.7"
  }
 },
 "nbformat": 4,
 "nbformat_minor": 5
}
