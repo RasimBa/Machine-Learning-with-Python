{
 "cells": [
  {
   "cell_type": "markdown",
   "id": "1c3e3cff",
   "metadata": {},
   "source": [
    "# Problem Set 1 - Python coding exercises with solutions"
   ]
  },
  {
   "cell_type": "markdown",
   "id": "7866906e",
   "metadata": {},
   "source": [
    "# Some basic commands"
   ]
  },
  {
   "cell_type": "markdown",
   "id": "5bf2ce49",
   "metadata": {},
   "source": [
    "Let us look at interactive input und output in Python:"
   ]
  },
  {
   "cell_type": "markdown",
   "id": "11ec05a8",
   "metadata": {},
   "source": [
    "1. Write code that asks the user for her name and then prints, \"Hello name!\"."
   ]
  },
  {
   "cell_type": "code",
   "execution_count": null,
   "id": "9bf27947",
   "metadata": {},
   "outputs": [],
   "source": [
    "name = input(\"Enter your name: \")"
   ]
  },
  {
   "cell_type": "code",
   "execution_count": null,
   "id": "e2568932",
   "metadata": {},
   "outputs": [],
   "source": [
    "print(\"Hello\", name+\"!\")"
   ]
  },
  {
   "cell_type": "markdown",
   "id": "c3917cb7",
   "metadata": {},
   "source": [
    "# Data types"
   ]
  },
  {
   "cell_type": "markdown",
   "id": "54f4e214",
   "metadata": {},
   "source": [
    "2. What are the data types of the following:"
   ]
  },
  {
   "cell_type": "markdown",
   "id": "56bd28b0",
   "metadata": {},
   "source": [
    "a) 7 "
   ]
  },
  {
   "cell_type": "markdown",
   "id": "39646b98",
   "metadata": {},
   "source": [
    "b) 3.1415"
   ]
  },
  {
   "cell_type": "markdown",
   "id": "c2d5d7b8",
   "metadata": {},
   "source": [
    "c) [0, 2, -1, 'r']"
   ]
  },
  {
   "cell_type": "markdown",
   "id": "a3f02bfd",
   "metadata": {},
   "source": [
    "d) ('GER', 'FRA', 12.9, 'ITA')"
   ]
  },
  {
   "cell_type": "markdown",
   "id": "b98e3a66",
   "metadata": {},
   "source": [
    "e) 3e-2 (also print this object) "
   ]
  },
  {
   "cell_type": "markdown",
   "id": "e0de48cd",
   "metadata": {},
   "source": [
    "f) 0b110 (also print this object) "
   ]
  },
  {
   "cell_type": "markdown",
   "id": "0bda0f65",
   "metadata": {},
   "source": [
    "g) 0 in (-2, 5, 0, 3) (also print this object)"
   ]
  },
  {
   "cell_type": "markdown",
   "id": "98ef24fd",
   "metadata": {},
   "source": [
    "h) {'Country': 'Germany', 'GDP': '4200', 'Population': '83'}"
   ]
  },
  {
   "cell_type": "code",
   "execution_count": 3,
   "id": "52072ea3",
   "metadata": {},
   "outputs": [
    {
     "data": {
      "text/plain": [
       "int"
      ]
     },
     "execution_count": 3,
     "metadata": {},
     "output_type": "execute_result"
    }
   ],
   "source": [
    "type(7)"
   ]
  },
  {
   "cell_type": "code",
   "execution_count": 4,
   "id": "124cc095",
   "metadata": {},
   "outputs": [
    {
     "data": {
      "text/plain": [
       "float"
      ]
     },
     "execution_count": 4,
     "metadata": {},
     "output_type": "execute_result"
    }
   ],
   "source": [
    "type(3.1415)"
   ]
  },
  {
   "cell_type": "code",
   "execution_count": 5,
   "id": "2149b69a",
   "metadata": {},
   "outputs": [
    {
     "data": {
      "text/plain": [
       "list"
      ]
     },
     "execution_count": 5,
     "metadata": {},
     "output_type": "execute_result"
    }
   ],
   "source": [
    "type([0, 2, -1, 'r'])"
   ]
  },
  {
   "cell_type": "code",
   "execution_count": 6,
   "id": "84fa5df4",
   "metadata": {},
   "outputs": [
    {
     "data": {
      "text/plain": [
       "tuple"
      ]
     },
     "execution_count": 6,
     "metadata": {},
     "output_type": "execute_result"
    }
   ],
   "source": [
    "type(('GER', 'FRA', 12.9, 'ITA'))"
   ]
  },
  {
   "cell_type": "code",
   "execution_count": 7,
   "id": "24cd82b1",
   "metadata": {},
   "outputs": [
    {
     "name": "stdout",
     "output_type": "stream",
     "text": [
      "0.03\n"
     ]
    }
   ],
   "source": [
    "print(3e-2)"
   ]
  },
  {
   "cell_type": "code",
   "execution_count": 8,
   "id": "c9821049",
   "metadata": {},
   "outputs": [
    {
     "data": {
      "text/plain": [
       "float"
      ]
     },
     "execution_count": 8,
     "metadata": {},
     "output_type": "execute_result"
    }
   ],
   "source": [
    "type(3e-2)"
   ]
  },
  {
   "cell_type": "code",
   "execution_count": 9,
   "id": "391b02ad",
   "metadata": {},
   "outputs": [
    {
     "name": "stdout",
     "output_type": "stream",
     "text": [
      "6\n"
     ]
    }
   ],
   "source": [
    "print(0b110)"
   ]
  },
  {
   "cell_type": "code",
   "execution_count": 10,
   "id": "2df969bc",
   "metadata": {},
   "outputs": [
    {
     "data": {
      "text/plain": [
       "int"
      ]
     },
     "execution_count": 10,
     "metadata": {},
     "output_type": "execute_result"
    }
   ],
   "source": [
    "type(0b110)"
   ]
  },
  {
   "cell_type": "code",
   "execution_count": 11,
   "id": "b7ff08a8",
   "metadata": {},
   "outputs": [
    {
     "name": "stdout",
     "output_type": "stream",
     "text": [
      "True\n"
     ]
    }
   ],
   "source": [
    "print(0 in (-2, 5, 0, 3))"
   ]
  },
  {
   "cell_type": "code",
   "execution_count": 12,
   "id": "4319df9d",
   "metadata": {},
   "outputs": [
    {
     "data": {
      "text/plain": [
       "bool"
      ]
     },
     "execution_count": 12,
     "metadata": {},
     "output_type": "execute_result"
    }
   ],
   "source": [
    "type(0 in (-2, 5, 0, 3))"
   ]
  },
  {
   "cell_type": "code",
   "execution_count": 13,
   "id": "cdbcc616",
   "metadata": {},
   "outputs": [
    {
     "data": {
      "text/plain": [
       "dict"
      ]
     },
     "execution_count": 13,
     "metadata": {},
     "output_type": "execute_result"
    }
   ],
   "source": [
    "type({'Country':'Germany', 'GDP': '4200', 'Population':'83'})"
   ]
  },
  {
   "cell_type": "code",
   "execution_count": null,
   "id": "fc2a8f46",
   "metadata": {},
   "outputs": [],
   "source": []
  },
  {
   "cell_type": "markdown",
   "id": "68338b30",
   "metadata": {},
   "source": [
    "3. Define x = 10. What is the output of the following:"
   ]
  },
  {
   "cell_type": "markdown",
   "id": "e37b6faf",
   "metadata": {},
   "source": [
    "a) type(x)"
   ]
  },
  {
   "cell_type": "markdown",
   "id": "43e4ae92",
   "metadata": {},
   "source": [
    "b) type(str(x))"
   ]
  },
  {
   "cell_type": "markdown",
   "id": "9b424b7d",
   "metadata": {},
   "source": [
    "c) print(x + 4)"
   ]
  },
  {
   "cell_type": "markdown",
   "id": "0485230a",
   "metadata": {},
   "source": [
    "d) print(str(x)+4)"
   ]
  },
  {
   "cell_type": "markdown",
   "id": "9904bbdd",
   "metadata": {},
   "source": [
    "e) print(int(str(x))-2)"
   ]
  },
  {
   "cell_type": "code",
   "execution_count": 14,
   "id": "988b86aa",
   "metadata": {},
   "outputs": [
    {
     "data": {
      "text/plain": [
       "int"
      ]
     },
     "execution_count": 14,
     "metadata": {},
     "output_type": "execute_result"
    }
   ],
   "source": [
    "x=10\n",
    "type(x)"
   ]
  },
  {
   "cell_type": "code",
   "execution_count": 15,
   "id": "62b08a65",
   "metadata": {},
   "outputs": [
    {
     "data": {
      "text/plain": [
       "str"
      ]
     },
     "execution_count": 15,
     "metadata": {},
     "output_type": "execute_result"
    }
   ],
   "source": [
    "type(str(x))"
   ]
  },
  {
   "cell_type": "code",
   "execution_count": 16,
   "id": "55d752c2",
   "metadata": {},
   "outputs": [
    {
     "name": "stdout",
     "output_type": "stream",
     "text": [
      "14\n"
     ]
    }
   ],
   "source": [
    "print(x+4)"
   ]
  },
  {
   "cell_type": "code",
   "execution_count": 17,
   "id": "cac56c9d",
   "metadata": {},
   "outputs": [
    {
     "ename": "TypeError",
     "evalue": "can only concatenate str (not \"int\") to str",
     "output_type": "error",
     "traceback": [
      "\u001b[1;31m---------------------------------------------------------------------------\u001b[0m",
      "\u001b[1;31mTypeError\u001b[0m                                 Traceback (most recent call last)",
      "Cell \u001b[1;32mIn[17], line 1\u001b[0m\n\u001b[1;32m----> 1\u001b[0m \u001b[38;5;28mprint\u001b[39m(\u001b[38;5;28mstr\u001b[39m(x)\u001b[38;5;241m+\u001b[39m\u001b[38;5;241m4\u001b[39m)\n",
      "\u001b[1;31mTypeError\u001b[0m: can only concatenate str (not \"int\") to str"
     ]
    }
   ],
   "source": [
    "print(str(x)+4)"
   ]
  },
  {
   "cell_type": "code",
   "execution_count": 19,
   "id": "00426338",
   "metadata": {},
   "outputs": [
    {
     "name": "stdout",
     "output_type": "stream",
     "text": [
      "8\n"
     ]
    }
   ],
   "source": [
    "print(int(str(x)) - 2 )"
   ]
  },
  {
   "cell_type": "markdown",
   "id": "49a47b2a",
   "metadata": {},
   "source": [
    "4. Define x=3. What is the output of print(type(str(x)))?"
   ]
  },
  {
   "cell_type": "code",
   "execution_count": 20,
   "id": "8dea37ad",
   "metadata": {},
   "outputs": [
    {
     "name": "stdout",
     "output_type": "stream",
     "text": [
      "<class 'str'>\n"
     ]
    }
   ],
   "source": [
    "print(type(str(x)))"
   ]
  },
  {
   "cell_type": "markdown",
   "id": "75291f7a",
   "metadata": {},
   "source": [
    "5. What is the output of print(7>3)?"
   ]
  },
  {
   "cell_type": "code",
   "execution_count": 21,
   "id": "8015ebf0",
   "metadata": {},
   "outputs": [
    {
     "name": "stdout",
     "output_type": "stream",
     "text": [
      "True\n"
     ]
    }
   ],
   "source": [
    "print(7>3)"
   ]
  },
  {
   "cell_type": "markdown",
   "id": "0ad1946b",
   "metadata": {},
   "source": [
    "6. What is the output of print(type(7>3))?"
   ]
  },
  {
   "cell_type": "code",
   "execution_count": 22,
   "id": "d2cef42d",
   "metadata": {},
   "outputs": [
    {
     "name": "stdout",
     "output_type": "stream",
     "text": [
      "<class 'bool'>\n"
     ]
    }
   ],
   "source": [
    "print(type(7>3))"
   ]
  },
  {
   "cell_type": "markdown",
   "id": "4d48cbf2",
   "metadata": {},
   "source": [
    "# Operators"
   ]
  },
  {
   "cell_type": "markdown",
   "id": "d63e3144",
   "metadata": {},
   "source": [
    "Operators are symbols in Python that can be used to conduct math or logical computation"
   ]
  },
  {
   "cell_type": "markdown",
   "id": "683bb5be",
   "metadata": {},
   "source": [
    "#### Arithmetic"
   ]
  },
  {
   "cell_type": "markdown",
   "id": "1c5fd6fe",
   "metadata": {},
   "source": [
    "7. Define x=7. And y=2. What is the output from the following commands? First try to think about what might be the output, then verify by running the code"
   ]
  },
  {
   "cell_type": "code",
   "execution_count": 2,
   "id": "e1b53016",
   "metadata": {},
   "outputs": [],
   "source": [
    "x=7\n",
    "y=2"
   ]
  },
  {
   "cell_type": "markdown",
   "id": "a0effc45",
   "metadata": {},
   "source": [
    "a) print('x+y=', x+y)"
   ]
  },
  {
   "cell_type": "code",
   "execution_count": 3,
   "id": "c32679c9",
   "metadata": {},
   "outputs": [
    {
     "name": "stdout",
     "output_type": "stream",
     "text": [
      "x+y= 9\n"
     ]
    }
   ],
   "source": [
    "print('x+y=', x+y)"
   ]
  },
  {
   "cell_type": "markdown",
   "id": "9aebf8fe",
   "metadata": {},
   "source": [
    "b) print('x-y=', x-y)"
   ]
  },
  {
   "cell_type": "code",
   "execution_count": 4,
   "id": "1d81173a",
   "metadata": {},
   "outputs": [
    {
     "name": "stdout",
     "output_type": "stream",
     "text": [
      "x-y= 5\n"
     ]
    }
   ],
   "source": [
    "print('x-y=', x-y)"
   ]
  },
  {
   "cell_type": "markdown",
   "id": "fe33ee17",
   "metadata": {},
   "source": [
    "c) print('x/y=', x/y)"
   ]
  },
  {
   "cell_type": "code",
   "execution_count": 5,
   "id": "1083d844",
   "metadata": {},
   "outputs": [
    {
     "name": "stdout",
     "output_type": "stream",
     "text": [
      "x/y= 3.5\n"
     ]
    }
   ],
   "source": [
    "print('x/y=', x/y)"
   ]
  },
  {
   "cell_type": "markdown",
   "id": "106eb92c",
   "metadata": {},
   "source": [
    "d) print('x* y=', x* y)"
   ]
  },
  {
   "cell_type": "code",
   "execution_count": 6,
   "id": "ce3c5c15",
   "metadata": {},
   "outputs": [
    {
     "name": "stdout",
     "output_type": "stream",
     "text": [
      "x* y= 14\n"
     ]
    }
   ],
   "source": [
    "print('x* y=', x* y)"
   ]
  },
  {
   "cell_type": "markdown",
   "id": "8a1479ef",
   "metadata": {},
   "source": [
    "e) print('Floor division of x/y yields: ', x//y)"
   ]
  },
  {
   "cell_type": "code",
   "execution_count": 8,
   "id": "86fc4c3a",
   "metadata": {},
   "outputs": [
    {
     "name": "stdout",
     "output_type": "stream",
     "text": [
      "Floor division of x/y yields:  3\n"
     ]
    }
   ],
   "source": [
    "print('Floor division of x/y yields: ', x//y)"
   ]
  },
  {
   "cell_type": "markdown",
   "id": "bc91cd40",
   "metadata": {},
   "source": [
    "f) print('x/y: the rest (modulo) is: ', x%y)"
   ]
  },
  {
   "cell_type": "code",
   "execution_count": 9,
   "id": "d7f3118d",
   "metadata": {},
   "outputs": [
    {
     "name": "stdout",
     "output_type": "stream",
     "text": [
      "x/y: the rest (modulo) is:  1\n"
     ]
    }
   ],
   "source": [
    "print('x/y: the rest (modulo) is: ', x%y)"
   ]
  },
  {
   "cell_type": "markdown",
   "id": "dead8a7e",
   "metadata": {},
   "source": [
    "g) print('x raised to the power of y is: ', x**y)"
   ]
  },
  {
   "cell_type": "code",
   "execution_count": 11,
   "id": "5d9e406b",
   "metadata": {},
   "outputs": [
    {
     "name": "stdout",
     "output_type": "stream",
     "text": [
      "x raised to the power of y is:  49\n"
     ]
    }
   ],
   "source": [
    "print('x raised to the power of y is: ', x**y)"
   ]
  },
  {
   "cell_type": "markdown",
   "id": "a409c492",
   "metadata": {},
   "source": [
    "8. Write code that prints 'ha ' 3 times using the * operator"
   ]
  },
  {
   "cell_type": "code",
   "execution_count": 12,
   "id": "54c93ec6",
   "metadata": {},
   "outputs": [
    {
     "name": "stdout",
     "output_type": "stream",
     "text": [
      "ha ha ha \n"
     ]
    }
   ],
   "source": [
    "print('ha '*3)"
   ]
  },
  {
   "cell_type": "markdown",
   "id": "01ea66db",
   "metadata": {},
   "source": [
    "#### Comparison"
   ]
  },
  {
   "cell_type": "markdown",
   "id": "56543ebf",
   "metadata": {},
   "source": [
    "9. Think about what might be the output from each of the following commands and then verify by running the code:"
   ]
  },
  {
   "cell_type": "markdown",
   "id": "276945ff",
   "metadata": {},
   "source": [
    "a) 6==6"
   ]
  },
  {
   "cell_type": "code",
   "execution_count": 13,
   "id": "a08e865c",
   "metadata": {},
   "outputs": [
    {
     "data": {
      "text/plain": [
       "True"
      ]
     },
     "execution_count": 13,
     "metadata": {},
     "output_type": "execute_result"
    }
   ],
   "source": [
    " 6==6"
   ]
  },
  {
   "cell_type": "markdown",
   "id": "2a97cded",
   "metadata": {},
   "source": [
    "b) 6==7"
   ]
  },
  {
   "cell_type": "code",
   "execution_count": 14,
   "id": "865b21ec",
   "metadata": {},
   "outputs": [
    {
     "data": {
      "text/plain": [
       "False"
      ]
     },
     "execution_count": 14,
     "metadata": {},
     "output_type": "execute_result"
    }
   ],
   "source": [
    "6==7"
   ]
  },
  {
   "cell_type": "markdown",
   "id": "87914530",
   "metadata": {},
   "source": [
    "c) 6!=7"
   ]
  },
  {
   "cell_type": "code",
   "execution_count": 15,
   "id": "55a3111e",
   "metadata": {},
   "outputs": [
    {
     "data": {
      "text/plain": [
       "True"
      ]
     },
     "execution_count": 15,
     "metadata": {},
     "output_type": "execute_result"
    }
   ],
   "source": [
    "6!=7"
   ]
  },
  {
   "cell_type": "markdown",
   "id": "055b9467",
   "metadata": {},
   "source": [
    "d) 6>7"
   ]
  },
  {
   "cell_type": "code",
   "execution_count": 16,
   "id": "33a6d681",
   "metadata": {},
   "outputs": [
    {
     "data": {
      "text/plain": [
       "False"
      ]
     },
     "execution_count": 16,
     "metadata": {},
     "output_type": "execute_result"
    }
   ],
   "source": [
    "6>7"
   ]
  },
  {
   "cell_type": "markdown",
   "id": "530b2236",
   "metadata": {},
   "source": [
    "e) 6<=7"
   ]
  },
  {
   "cell_type": "code",
   "execution_count": 17,
   "id": "64a44fb6",
   "metadata": {},
   "outputs": [
    {
     "data": {
      "text/plain": [
       "True"
      ]
     },
     "execution_count": 17,
     "metadata": {},
     "output_type": "execute_result"
    }
   ],
   "source": [
    "6<=7"
   ]
  },
  {
   "cell_type": "markdown",
   "id": "0bc368a1",
   "metadata": {},
   "source": [
    "#### Logical"
   ]
  },
  {
   "cell_type": "markdown",
   "id": "3ae7af46",
   "metadata": {},
   "source": [
    "10. Define x= True. And y = False. What is the output from each of the following commands? Verify:"
   ]
  },
  {
   "cell_type": "code",
   "execution_count": 18,
   "id": "67704d74",
   "metadata": {},
   "outputs": [],
   "source": [
    "x=True\n",
    "y=False"
   ]
  },
  {
   "cell_type": "markdown",
   "id": "2b41ed18",
   "metadata": {},
   "source": [
    "a) type(x)"
   ]
  },
  {
   "cell_type": "code",
   "execution_count": 19,
   "id": "95e19663",
   "metadata": {},
   "outputs": [
    {
     "data": {
      "text/plain": [
       "bool"
      ]
     },
     "execution_count": 19,
     "metadata": {},
     "output_type": "execute_result"
    }
   ],
   "source": [
    "type(x)"
   ]
  },
  {
   "cell_type": "markdown",
   "id": "a168ab61",
   "metadata": {},
   "source": [
    "b) x and y"
   ]
  },
  {
   "cell_type": "code",
   "execution_count": 20,
   "id": "5b3112eb",
   "metadata": {},
   "outputs": [
    {
     "data": {
      "text/plain": [
       "False"
      ]
     },
     "execution_count": 20,
     "metadata": {},
     "output_type": "execute_result"
    }
   ],
   "source": [
    " x and y"
   ]
  },
  {
   "cell_type": "markdown",
   "id": "bb9c8bb7",
   "metadata": {},
   "source": [
    "c) x or y"
   ]
  },
  {
   "cell_type": "code",
   "execution_count": 21,
   "id": "4aa47577",
   "metadata": {},
   "outputs": [
    {
     "data": {
      "text/plain": [
       "True"
      ]
     },
     "execution_count": 21,
     "metadata": {},
     "output_type": "execute_result"
    }
   ],
   "source": [
    "x or y"
   ]
  },
  {
   "cell_type": "markdown",
   "id": "ac802c0a",
   "metadata": {},
   "source": [
    "d) not x"
   ]
  },
  {
   "cell_type": "code",
   "execution_count": 22,
   "id": "7c27605f",
   "metadata": {},
   "outputs": [
    {
     "data": {
      "text/plain": [
       "False"
      ]
     },
     "execution_count": 22,
     "metadata": {},
     "output_type": "execute_result"
    }
   ],
   "source": [
    "not x"
   ]
  },
  {
   "cell_type": "markdown",
   "id": "26cac8ac",
   "metadata": {},
   "source": [
    "e) (not x) and y"
   ]
  },
  {
   "cell_type": "code",
   "execution_count": 23,
   "id": "e08e9031",
   "metadata": {},
   "outputs": [
    {
     "data": {
      "text/plain": [
       "False"
      ]
     },
     "execution_count": 23,
     "metadata": {},
     "output_type": "execute_result"
    }
   ],
   "source": [
    "(not x) and y"
   ]
  },
  {
   "cell_type": "markdown",
   "id": "55d0e1dc",
   "metadata": {},
   "source": [
    "#### Assignment"
   ]
  },
  {
   "cell_type": "markdown",
   "id": "99a8d73b",
   "metadata": {},
   "source": [
    "11. Define m=3, and n=5. What is the output from each of the following commands? Verify and print the results on the screen:"
   ]
  },
  {
   "cell_type": "code",
   "execution_count": 25,
   "id": "c405862f",
   "metadata": {},
   "outputs": [],
   "source": [
    "m=3\n",
    "n=5"
   ]
  },
  {
   "cell_type": "markdown",
   "id": "cee75216",
   "metadata": {},
   "source": [
    "a) m=m+3"
   ]
  },
  {
   "cell_type": "code",
   "execution_count": 26,
   "id": "13c05fa4",
   "metadata": {},
   "outputs": [],
   "source": [
    "m=m+3"
   ]
  },
  {
   "cell_type": "code",
   "execution_count": 27,
   "id": "ab3894b4",
   "metadata": {},
   "outputs": [
    {
     "name": "stdout",
     "output_type": "stream",
     "text": [
      "6\n"
     ]
    }
   ],
   "source": [
    "print(m)"
   ]
  },
  {
   "cell_type": "code",
   "execution_count": 28,
   "id": "b3263f79",
   "metadata": {},
   "outputs": [],
   "source": [
    "m=m+3"
   ]
  },
  {
   "cell_type": "code",
   "execution_count": 29,
   "id": "96f43bdb",
   "metadata": {},
   "outputs": [
    {
     "name": "stdout",
     "output_type": "stream",
     "text": [
      "9\n"
     ]
    }
   ],
   "source": [
    "print(m)"
   ]
  },
  {
   "cell_type": "markdown",
   "id": "e13ddd9a",
   "metadata": {},
   "source": [
    "b) n += 3"
   ]
  },
  {
   "cell_type": "code",
   "execution_count": 30,
   "id": "f752509f",
   "metadata": {},
   "outputs": [],
   "source": [
    "n += 3"
   ]
  },
  {
   "cell_type": "code",
   "execution_count": 31,
   "id": "b77cf70c",
   "metadata": {},
   "outputs": [
    {
     "name": "stdout",
     "output_type": "stream",
     "text": [
      "8\n"
     ]
    }
   ],
   "source": [
    "print(n)"
   ]
  },
  {
   "cell_type": "markdown",
   "id": "e3c35bb9",
   "metadata": {},
   "source": [
    "#### Membership"
   ]
  },
  {
   "cell_type": "markdown",
   "id": "fbfe75fe",
   "metadata": {},
   "source": [
    "12. Define s= \"Python is great fun!\" And l=[23, 'apple', 0.6]. What is the output from each of the following commands? Verify?"
   ]
  },
  {
   "cell_type": "code",
   "execution_count": 33,
   "id": "6f457126",
   "metadata": {},
   "outputs": [],
   "source": [
    "s= \"Python is great fun!\"\n",
    "l=[23, 'apple', 0.6]"
   ]
  },
  {
   "cell_type": "markdown",
   "id": "6e9daa8c",
   "metadata": {},
   "source": [
    "a) 'y' in s"
   ]
  },
  {
   "cell_type": "code",
   "execution_count": 34,
   "id": "ce91c004",
   "metadata": {},
   "outputs": [
    {
     "data": {
      "text/plain": [
       "True"
      ]
     },
     "execution_count": 34,
     "metadata": {},
     "output_type": "execute_result"
    }
   ],
   "source": [
    " 'y' in s"
   ]
  },
  {
   "cell_type": "markdown",
   "id": "d36a94d1",
   "metadata": {},
   "source": [
    "b) \"G\" not in s"
   ]
  },
  {
   "cell_type": "code",
   "execution_count": 35,
   "id": "a23dad17",
   "metadata": {},
   "outputs": [
    {
     "data": {
      "text/plain": [
       "True"
      ]
     },
     "execution_count": 35,
     "metadata": {},
     "output_type": "execute_result"
    }
   ],
   "source": [
    "\"G\" not in s"
   ]
  },
  {
   "cell_type": "markdown",
   "id": "2e4ff025",
   "metadata": {},
   "source": [
    "c) 2 in l"
   ]
  },
  {
   "cell_type": "code",
   "execution_count": 37,
   "id": "161bf333",
   "metadata": {},
   "outputs": [
    {
     "data": {
      "text/plain": [
       "False"
      ]
     },
     "execution_count": 37,
     "metadata": {},
     "output_type": "execute_result"
    }
   ],
   "source": [
    "2 in l"
   ]
  },
  {
   "cell_type": "markdown",
   "id": "96a0c4c1",
   "metadata": {},
   "source": [
    "d) 0.8 not in l"
   ]
  },
  {
   "cell_type": "code",
   "execution_count": 38,
   "id": "403a2e29",
   "metadata": {},
   "outputs": [
    {
     "data": {
      "text/plain": [
       "True"
      ]
     },
     "execution_count": 38,
     "metadata": {},
     "output_type": "execute_result"
    }
   ],
   "source": [
    "0.8 not in l"
   ]
  },
  {
   "cell_type": "markdown",
   "id": "5ea15208",
   "metadata": {},
   "source": [
    "# Conditionals (if ... else)"
   ]
  },
  {
   "cell_type": "markdown",
   "id": "a9339e79",
   "metadata": {},
   "source": [
    "The if, and the if...else constructs are used to conditionally implement code. These are very useful in\n",
    "functions and programs. Notice the indenting of the code below. This is an important feature of Python. It indicates the assignment of programming lines. If you do not indent correctly, an error message will show up, or the codes runs differently from what you intended it to do. Moreover, indenting enhances readability."
   ]
  },
  {
   "cell_type": "markdown",
   "id": "d8696538",
   "metadata": {},
   "source": [
    "13. What is the output of the following commands? Verify:"
   ]
  },
  {
   "cell_type": "code",
   "execution_count": 39,
   "id": "40b08308",
   "metadata": {},
   "outputs": [
    {
     "name": "stdout",
     "output_type": "stream",
     "text": [
      "3 is positive\n"
     ]
    }
   ],
   "source": [
    "x = 3\n",
    "if x > 0:\n",
    "    print(x, 'is positive')"
   ]
  },
  {
   "cell_type": "code",
   "execution_count": 40,
   "id": "ca48b138",
   "metadata": {},
   "outputs": [
    {
     "ename": "IndentationError",
     "evalue": "expected an indented block after 'if' statement on line 2 (1405821714.py, line 3)",
     "output_type": "error",
     "traceback": [
      "\u001b[1;36m  Cell \u001b[1;32mIn[40], line 3\u001b[1;36m\u001b[0m\n\u001b[1;33m    print(x, 'is positive')\u001b[0m\n\u001b[1;37m    ^\u001b[0m\n\u001b[1;31mIndentationError\u001b[0m\u001b[1;31m:\u001b[0m expected an indented block after 'if' statement on line 2\n"
     ]
    }
   ],
   "source": [
    "x = 3\n",
    "if x > 0:\n",
    "print(x, 'is positive')"
   ]
  },
  {
   "cell_type": "code",
   "execution_count": 41,
   "id": "a3a8c32a",
   "metadata": {},
   "outputs": [
    {
     "name": "stdout",
     "output_type": "stream",
     "text": [
      "3 belongs to the list  [0, 7, -9, 3]\n"
     ]
    }
   ],
   "source": [
    "x = 3\n",
    "l = [0, 7, -9, 3]\n",
    "if x in l:\n",
    "    print(x, \"belongs to the list \", l)"
   ]
  },
  {
   "cell_type": "code",
   "execution_count": 42,
   "id": "7371f9f7",
   "metadata": {},
   "outputs": [
    {
     "name": "stdout",
     "output_type": "stream",
     "text": [
      "4\n"
     ]
    }
   ],
   "source": [
    "x = 3\n",
    "if True:\n",
    "    x += 1\n",
    "print(x)"
   ]
  },
  {
   "cell_type": "code",
   "execution_count": 43,
   "id": "e4e5391e",
   "metadata": {},
   "outputs": [
    {
     "name": "stdout",
     "output_type": "stream",
     "text": [
      "2\n"
     ]
    }
   ],
   "source": [
    "x = 3\n",
    "if True:\n",
    "    x -= 1\n",
    "    print(x)"
   ]
  },
  {
   "cell_type": "code",
   "execution_count": 44,
   "id": "2f165d5b",
   "metadata": {},
   "outputs": [
    {
     "name": "stdout",
     "output_type": "stream",
     "text": [
      "3\n"
     ]
    }
   ],
   "source": [
    "x = 3\n",
    "if 0:\n",
    "    x -= 1\n",
    "print(x)"
   ]
  },
  {
   "cell_type": "code",
   "execution_count": 45,
   "id": "8f55f79e",
   "metadata": {},
   "outputs": [],
   "source": [
    "x = 3\n",
    "if 0:\n",
    "    x -= 1\n",
    "    print(x)"
   ]
  },
  {
   "cell_type": "code",
   "execution_count": 47,
   "id": "b6851196",
   "metadata": {},
   "outputs": [
    {
     "name": "stdout",
     "output_type": "stream",
     "text": [
      "5 is a divisor of 10\n"
     ]
    }
   ],
   "source": [
    "x=5\n",
    "y=10\n",
    "if y%x==0:\n",
    "    print(x, 'is a divisor of', y)\n",
    "else:\n",
    "    print(x, 'is not a divisor of', y)"
   ]
  },
  {
   "cell_type": "code",
   "execution_count": 48,
   "id": "f527e27e",
   "metadata": {},
   "outputs": [
    {
     "name": "stdout",
     "output_type": "stream",
     "text": [
      "3 is not a divisor of 7\n"
     ]
    }
   ],
   "source": [
    "x=3\n",
    "y=7\n",
    "if y%x==0:\n",
    "    print(x, 'is a divisor of', y)\n",
    "else:\n",
    "    print(x, 'is not a divisor of', y)"
   ]
  },
  {
   "cell_type": "markdown",
   "id": "c4e79d44",
   "metadata": {},
   "source": [
    "# Loops"
   ]
  },
  {
   "cell_type": "markdown",
   "id": "9d448abe",
   "metadata": {},
   "source": [
    "Loops are common and super useful programming constructs. They allow for automation of repititive\n",
    "tasks. A \"for\" loop has the syntax:\n",
    "\n",
    "for x in sequence: \n",
    "    code\n",
    "\n",
    "It iterates over each value of the sequence (e.g. a list)\n",
    "and implements the code in each interation. Loops are best understood by working through examples. In\n",
    "the following questions, we use the \"range\" function to generate the sequence. Look up this function online on python.org to\n",
    "understand what it does."
   ]
  },
  {
   "cell_type": "markdown",
   "id": "e6bce6c2",
   "metadata": {},
   "source": [
    "14. What is the output of the following commands? Verify"
   ]
  },
  {
   "cell_type": "markdown",
   "id": "eaec765b",
   "metadata": {},
   "source": [
    "a) x = int(input(\"Enter a number: \"))\n",
    "for i in range(x):\n",
    "    fact = 1\n",
    "    fact += i\n",
    "    print(fact)"
   ]
  },
  {
   "cell_type": "code",
   "execution_count": 50,
   "id": "2d438446",
   "metadata": {},
   "outputs": [
    {
     "name": "stdout",
     "output_type": "stream",
     "text": [
      "Enter a number: 4\n",
      "1\n",
      "2\n",
      "3\n",
      "4\n"
     ]
    }
   ],
   "source": [
    "x = int(input(\"Enter a number: \"))\n",
    "for i in range(x):\n",
    "    fact = 1\n",
    "    fact += i\n",
    "    print(fact)"
   ]
  },
  {
   "cell_type": "markdown",
   "id": "fca70947",
   "metadata": {},
   "source": [
    "b) x = int(input(\"Enter a number: \"))\n",
    "for i in range(x):\n",
    "    fact = 1\n",
    "    fact += i\n",
    "print(fact)"
   ]
  },
  {
   "cell_type": "code",
   "execution_count": 51,
   "id": "f83c8e67",
   "metadata": {},
   "outputs": [
    {
     "name": "stdout",
     "output_type": "stream",
     "text": [
      "Enter a number: 4\n",
      "4\n"
     ]
    }
   ],
   "source": [
    "x = int(input(\"Enter a number: \"))\n",
    "for i in range(x):\n",
    "    fact = 1\n",
    "    fact += i\n",
    "print(fact)"
   ]
  },
  {
   "cell_type": "markdown",
   "id": "9655ff84",
   "metadata": {},
   "source": [
    "c) x = int(input(\"Enter a number: \"))\n",
    "for i in range(x):\n",
    "    fact = 1\n",
    "    fact *= i\n",
    "    print(fact)"
   ]
  },
  {
   "cell_type": "code",
   "execution_count": 52,
   "id": "64825278",
   "metadata": {},
   "outputs": [
    {
     "name": "stdout",
     "output_type": "stream",
     "text": [
      "Enter a number: 4\n",
      "0\n",
      "1\n",
      "2\n",
      "3\n"
     ]
    }
   ],
   "source": [
    "x = int(input(\"Enter a number: \"))\n",
    "for i in range(x):\n",
    "    fact = 1\n",
    "    fact *= i\n",
    "    print(fact)"
   ]
  },
  {
   "cell_type": "markdown",
   "id": "dc7b3e20",
   "metadata": {},
   "source": [
    "d) x = int(input(\"Enter a number: \"))\n",
    "for i in range(x):\n",
    "    fact = 1\n",
    "    fact *= i\n",
    "print(fact)"
   ]
  },
  {
   "cell_type": "code",
   "execution_count": 53,
   "id": "b3a28772",
   "metadata": {},
   "outputs": [
    {
     "name": "stdout",
     "output_type": "stream",
     "text": [
      "Enter a number: 4\n",
      "3\n"
     ]
    }
   ],
   "source": [
    "x = int(input(\"Enter a number: \"))\n",
    "for i in range(x):\n",
    "    fact = 1\n",
    "    fact *= i\n",
    "print(fact)"
   ]
  },
  {
   "cell_type": "markdown",
   "id": "7666a339",
   "metadata": {},
   "source": [
    "e) x = int(input(\"Enter a number: \"))\n",
    "for i in range(x+1):\n",
    "    fact = 1\n",
    "    fact *= i\n",
    "print(fact)"
   ]
  },
  {
   "cell_type": "code",
   "execution_count": 54,
   "id": "32ce53cd",
   "metadata": {},
   "outputs": [
    {
     "name": "stdout",
     "output_type": "stream",
     "text": [
      "Enter a number: 4\n",
      "4\n"
     ]
    }
   ],
   "source": [
    "x = int(input(\"Enter a number: \"))\n",
    "for i in range(x+1):\n",
    "    fact = 1\n",
    "    fact *= i\n",
    "print(fact)"
   ]
  },
  {
   "cell_type": "markdown",
   "id": "305442d8",
   "metadata": {},
   "source": [
    "f) x = int(input(\"Enter a number: \"))\n",
    "fact = 1\n",
    "for i in range(x):\n",
    "    fact *= i\n",
    "print(fact)"
   ]
  },
  {
   "cell_type": "code",
   "execution_count": 55,
   "id": "d9913aa6",
   "metadata": {},
   "outputs": [
    {
     "name": "stdout",
     "output_type": "stream",
     "text": [
      "Enter a number: 4\n",
      "0\n"
     ]
    }
   ],
   "source": [
    "x = int(input(\"Enter a number: \"))\n",
    "fact = 1\n",
    "for i in range(x):\n",
    "    fact *= i\n",
    "print(fact)"
   ]
  },
  {
   "cell_type": "markdown",
   "id": "3e13672d",
   "metadata": {},
   "source": [
    "g) x = int(input(\"Enter a number: \"))\n",
    "fact = 1\n",
    "for i in range(x+1):\n",
    "    fact *= i\n",
    "print(fact)"
   ]
  },
  {
   "cell_type": "code",
   "execution_count": 56,
   "id": "914e14d4",
   "metadata": {},
   "outputs": [
    {
     "name": "stdout",
     "output_type": "stream",
     "text": [
      "Enter a number: 4\n",
      "0\n"
     ]
    }
   ],
   "source": [
    "x = int(input(\"Enter a number: \"))\n",
    "fact = 1\n",
    "for i in range(x+1):\n",
    "    fact *= i\n",
    "print(fact)"
   ]
  },
  {
   "cell_type": "markdown",
   "id": "40d7d00a",
   "metadata": {},
   "source": [
    "h) x = int(input(\"Enter a number: \"))\n",
    "fact = 1\n",
    "for i in range(1, x+1):\n",
    "    fact *= i\n",
    "print(fact)"
   ]
  },
  {
   "cell_type": "code",
   "execution_count": 57,
   "id": "4846c217",
   "metadata": {},
   "outputs": [
    {
     "name": "stdout",
     "output_type": "stream",
     "text": [
      "Enter a number: 4\n",
      "24\n"
     ]
    }
   ],
   "source": [
    "x = int(input(\"Enter a number: \"))\n",
    "fact = 1\n",
    "for i in range(1, x+1):\n",
    "    fact *= i\n",
    "print(fact)"
   ]
  },
  {
   "cell_type": "markdown",
   "id": "7868b39b",
   "metadata": {},
   "source": [
    "15. What is the output of the following command? Verify: \n",
    "\n",
    "s = 'Daniel' \n",
    "\n",
    "for i in s: \n",
    "    \n",
    "    print(i)"
   ]
  },
  {
   "cell_type": "code",
   "execution_count": 61,
   "id": "855888ee",
   "metadata": {},
   "outputs": [
    {
     "name": "stdout",
     "output_type": "stream",
     "text": [
      "D\n",
      "a\n",
      "n\n",
      "i\n",
      "e\n",
      "l\n"
     ]
    }
   ],
   "source": [
    "s = 'Daniel'\n",
    "\n",
    "for i in s: \n",
    "\n",
    "    print(i)\n"
   ]
  },
  {
   "cell_type": "markdown",
   "id": "f28c89b8",
   "metadata": {},
   "source": [
    "16. Write code that asks the user for a positive number (n) and then prints the sum of all even numbers between 0 and n."
   ]
  },
  {
   "cell_type": "code",
   "execution_count": 62,
   "id": "173c3b4c",
   "metadata": {},
   "outputs": [
    {
     "name": "stdout",
     "output_type": "stream",
     "text": [
      "Enter a positive number: 12\n",
      "42\n"
     ]
    }
   ],
   "source": [
    "x = int(input(\"Enter a positive number: \"))\n",
    "sum = 0\n",
    "for i in range(1, x+1):\n",
    "    if i%2==0:\n",
    "        sum += i\n",
    "print(sum)"
   ]
  },
  {
   "cell_type": "markdown",
   "id": "40a4e22b",
   "metadata": {},
   "source": [
    "17. For can also be combined with else. In that case, the loop iterates over the sequence until all items\n",
    "in the sequence are exhausted and then the else bit is executed. What is the output of the following\n",
    "code?"
   ]
  },
  {
   "cell_type": "markdown",
   "id": "0df6c3e2",
   "metadata": {},
   "source": [
    "name = 'Daniela'\n",
    "for i in name:\n",
    "    print(i)\n",
    "else:\n",
    "    print(\"Name zuende buchstabiert\")"
   ]
  },
  {
   "cell_type": "code",
   "execution_count": 63,
   "id": "589ef8ea",
   "metadata": {},
   "outputs": [
    {
     "name": "stdout",
     "output_type": "stream",
     "text": [
      "D\n",
      "a\n",
      "n\n",
      "i\n",
      "e\n",
      "l\n",
      "a\n",
      "Name fully spelt out\n"
     ]
    }
   ],
   "source": [
    "name = 'Daniela'\n",
    "for i in name:\n",
    "    print(i)\n",
    "else:\n",
    "    print(\"Name fully spelt out\")"
   ]
  },
  {
   "cell_type": "markdown",
   "id": "339ce0e3",
   "metadata": {},
   "source": [
    "18. The break statement can be used to add further control to a loop. To see how this can be useful,\n",
    "examine the following code. Notice that the else is part of the nested for loop (same indentation)."
   ]
  },
  {
   "cell_type": "markdown",
   "id": "02e7c85e",
   "metadata": {},
   "source": [
    "r = 1\n",
    "x = 50\n",
    "for num in range(r, x+1):\n",
    "    if num > 1:\n",
    "        for i in range(2, num):\n",
    "            if(num%i) == 0:\n",
    "                break\n",
    "        else:\n",
    "            print(num)"
   ]
  },
  {
   "cell_type": "code",
   "execution_count": 64,
   "id": "227d5e81",
   "metadata": {},
   "outputs": [
    {
     "name": "stdout",
     "output_type": "stream",
     "text": [
      "2\n",
      "3\n",
      "5\n",
      "7\n",
      "11\n",
      "13\n",
      "17\n",
      "19\n",
      "23\n",
      "29\n",
      "31\n",
      "37\n",
      "41\n",
      "43\n",
      "47\n"
     ]
    }
   ],
   "source": [
    "r = 1\n",
    "x = 50\n",
    "for num in range(r, x+1):\n",
    "    if num > 1:\n",
    "        for i in range(2, num):\n",
    "            if(num%i) == 0:\n",
    "                break\n",
    "        else:\n",
    "            print(num)"
   ]
  },
  {
   "cell_type": "markdown",
   "id": "d28497ca",
   "metadata": {},
   "source": [
    "# Lists"
   ]
  },
  {
   "cell_type": "markdown",
   "id": "af34ff29",
   "metadata": {},
   "source": [
    "Lists are ordered collections of objects. A list is thus a sequence. The objects can be the same or mixed\n",
    "data types. Other Python data types that are sequences include strings and tuples."
   ]
  },
  {
   "cell_type": "markdown",
   "id": "a1e5da16",
   "metadata": {},
   "source": [
    "19. What is the output of the following commands? Verify"
   ]
  },
  {
   "cell_type": "markdown",
   "id": "5ed69d5b",
   "metadata": {},
   "source": [
    "Note that index (position) numbers in a Python list\n",
    "start from 0 !"
   ]
  },
  {
   "cell_type": "code",
   "execution_count": 65,
   "id": "1d917877",
   "metadata": {},
   "outputs": [],
   "source": [
    "list1 = [4, 2, 7.5, 3]\n",
    "list2 = [[4, 5, 6], \"Python\", \"Java\"]"
   ]
  },
  {
   "cell_type": "markdown",
   "id": "6dbdcc9f",
   "metadata": {},
   "source": [
    "a) list1[0]"
   ]
  },
  {
   "cell_type": "code",
   "execution_count": 66,
   "id": "1c420382",
   "metadata": {},
   "outputs": [
    {
     "data": {
      "text/plain": [
       "4"
      ]
     },
     "execution_count": 66,
     "metadata": {},
     "output_type": "execute_result"
    }
   ],
   "source": [
    "list1[0]"
   ]
  },
  {
   "cell_type": "markdown",
   "id": "c40db27b",
   "metadata": {},
   "source": [
    "b) list1[2]"
   ]
  },
  {
   "cell_type": "code",
   "execution_count": 67,
   "id": "e31ac123",
   "metadata": {},
   "outputs": [
    {
     "data": {
      "text/plain": [
       "7.5"
      ]
     },
     "execution_count": 67,
     "metadata": {},
     "output_type": "execute_result"
    }
   ],
   "source": [
    "list1[2]"
   ]
  },
  {
   "cell_type": "markdown",
   "id": "a8c0ee7c",
   "metadata": {},
   "source": [
    "c) list2[0]"
   ]
  },
  {
   "cell_type": "code",
   "execution_count": 68,
   "id": "c77b4cb7",
   "metadata": {},
   "outputs": [
    {
     "data": {
      "text/plain": [
       "[4, 5, 6]"
      ]
     },
     "execution_count": 68,
     "metadata": {},
     "output_type": "execute_result"
    }
   ],
   "source": [
    "list2[0]"
   ]
  },
  {
   "cell_type": "markdown",
   "id": "e640e79f",
   "metadata": {},
   "source": [
    "d) list2[2][0]"
   ]
  },
  {
   "cell_type": "code",
   "execution_count": 69,
   "id": "3d49c720",
   "metadata": {},
   "outputs": [
    {
     "data": {
      "text/plain": [
       "'J'"
      ]
     },
     "execution_count": 69,
     "metadata": {},
     "output_type": "execute_result"
    }
   ],
   "source": [
    "list2[2][0]"
   ]
  },
  {
   "cell_type": "markdown",
   "id": "c6260158",
   "metadata": {},
   "source": [
    "e) list1[-2]"
   ]
  },
  {
   "cell_type": "code",
   "execution_count": 70,
   "id": "68dbced5",
   "metadata": {},
   "outputs": [
    {
     "data": {
      "text/plain": [
       "7.5"
      ]
     },
     "execution_count": 70,
     "metadata": {},
     "output_type": "execute_result"
    }
   ],
   "source": [
    "list1[-2]\n"
   ]
  },
  {
   "cell_type": "markdown",
   "id": "8396ada5",
   "metadata": {},
   "source": [
    "f) list2[-2][-2]"
   ]
  },
  {
   "cell_type": "code",
   "execution_count": 71,
   "id": "7a7e0bfe",
   "metadata": {},
   "outputs": [
    {
     "data": {
      "text/plain": [
       "'o'"
      ]
     },
     "execution_count": 71,
     "metadata": {},
     "output_type": "execute_result"
    }
   ],
   "source": [
    "list2[-2][-2]"
   ]
  },
  {
   "cell_type": "markdown",
   "id": "e3a55e0a",
   "metadata": {},
   "source": [
    "g) list2[0] = \"R\"\n",
    "print(list2)"
   ]
  },
  {
   "cell_type": "code",
   "execution_count": 72,
   "id": "42368df0",
   "metadata": {},
   "outputs": [
    {
     "name": "stdout",
     "output_type": "stream",
     "text": [
      "['R', 'Python', 'Java']\n"
     ]
    }
   ],
   "source": [
    "list2[0] = \"R\" \n",
    "print(list2)"
   ]
  },
  {
   "cell_type": "markdown",
   "id": "d5e58526",
   "metadata": {},
   "source": [
    "h) name = \"Daniela Schmidt\"\n",
    "print(list(name))"
   ]
  },
  {
   "cell_type": "code",
   "execution_count": 73,
   "id": "adb6895b",
   "metadata": {},
   "outputs": [
    {
     "name": "stdout",
     "output_type": "stream",
     "text": [
      "['D', 'a', 'n', 'i', 'e', 'l', 'a', ' ', 'S', 'c', 'h', 'm', 'i', 'd', 't']\n"
     ]
    }
   ],
   "source": [
    "name = \"Daniela Schmidt\"\n",
    "print(list(name))"
   ]
  },
  {
   "cell_type": "markdown",
   "id": "8f8e4569",
   "metadata": {},
   "source": [
    "20. We can add and delete items. Have a look what the insert() and extend() methods do in the code below.\n",
    "Notice the syntax - objects such as this list belong to the class list and this class, like many others in\n",
    "Python comes with built-in functions or methods. Also, note that del is a inbuilt function to remove a part\n",
    "of an object or the entire object e.g. list etc from memory."
   ]
  },
  {
   "cell_type": "code",
   "execution_count": 74,
   "id": "160a3191",
   "metadata": {},
   "outputs": [
    {
     "name": "stdout",
     "output_type": "stream",
     "text": [
      "[4, -1, 3.8, 2, 9]\n"
     ]
    }
   ],
   "source": [
    "list1 = [4, 3.8, 2, 9]\n",
    "list1.insert(1, -1)\n",
    "print(list1)"
   ]
  },
  {
   "cell_type": "code",
   "execution_count": 75,
   "id": "df58cc55",
   "metadata": {},
   "outputs": [
    {
     "name": "stdout",
     "output_type": "stream",
     "text": [
      "[4, 3.8, 2, -1, 9]\n"
     ]
    }
   ],
   "source": [
    "list1 = [4, 3.8, 2, 9]\n",
    "list1.insert(3, -1)\n",
    "print(list1)"
   ]
  },
  {
   "cell_type": "code",
   "execution_count": 76,
   "id": "d22d9db3",
   "metadata": {},
   "outputs": [
    {
     "name": "stdout",
     "output_type": "stream",
     "text": [
      "[4, 3.8, 2, 9, 1, -1]\n"
     ]
    }
   ],
   "source": [
    "list1 = [4, 3.8, 2, 9]\n",
    "list1.extend([1, -1])\n",
    "print(list1)"
   ]
  },
  {
   "cell_type": "code",
   "execution_count": 77,
   "id": "676a3a9c",
   "metadata": {},
   "outputs": [
    {
     "name": "stdout",
     "output_type": "stream",
     "text": [
      "[3.8, 2, 9]\n"
     ]
    }
   ],
   "source": [
    "list1 = [4, 3.8, 2, 9]\n",
    "del list1[0]\n",
    "print(list1)"
   ]
  },
  {
   "cell_type": "code",
   "execution_count": 78,
   "id": "3a1d5c29",
   "metadata": {},
   "outputs": [
    {
     "name": "stdout",
     "output_type": "stream",
     "text": [
      "[]\n"
     ]
    }
   ],
   "source": [
    "list1 = [4, 3.8, 2, 9]\n",
    "del list1[:]\n",
    "print(list1)"
   ]
  },
  {
   "cell_type": "code",
   "execution_count": 79,
   "id": "a2e54900",
   "metadata": {},
   "outputs": [
    {
     "ename": "NameError",
     "evalue": "name 'list1' is not defined",
     "output_type": "error",
     "traceback": [
      "\u001b[1;31m---------------------------------------------------------------------------\u001b[0m",
      "\u001b[1;31mNameError\u001b[0m                                 Traceback (most recent call last)",
      "Cell \u001b[1;32mIn[79], line 3\u001b[0m\n\u001b[0;32m      1\u001b[0m list1 \u001b[38;5;241m=\u001b[39m [\u001b[38;5;241m4\u001b[39m, \u001b[38;5;241m3.8\u001b[39m, \u001b[38;5;241m2\u001b[39m, \u001b[38;5;241m9\u001b[39m]\n\u001b[0;32m      2\u001b[0m \u001b[38;5;28;01mdel\u001b[39;00m list1\n\u001b[1;32m----> 3\u001b[0m \u001b[38;5;28mprint\u001b[39m(list1)\n",
      "\u001b[1;31mNameError\u001b[0m: name 'list1' is not defined"
     ]
    }
   ],
   "source": [
    "list1 = [4, 3.8, 2, 9]\n",
    "del list1\n",
    "print(list1)"
   ]
  },
  {
   "cell_type": "markdown",
   "id": "25f07bac",
   "metadata": {},
   "source": [
    "21. Python offers many handy programming shortcuts. One such is \"list comprehensions\". They simplify conditionals and loops. What is the output of the following commands? Verify"
   ]
  },
  {
   "cell_type": "code",
   "execution_count": 80,
   "id": "72ab5636",
   "metadata": {},
   "outputs": [
    {
     "name": "stdout",
     "output_type": "stream",
     "text": [
      "[0, 2, 4, 6, 8]\n"
     ]
    }
   ],
   "source": [
    "list = [2*x for x in range(5)]\n",
    "print(list)"
   ]
  },
  {
   "cell_type": "markdown",
   "id": "ce9f0e40",
   "metadata": {},
   "source": [
    "Using \"list comprehension\", construct the following lists:\n",
    "\n",
    "a) The list of cubes of integers from 0 to 9.\n",
    "\n",
    "b) The list of odd powers of 3, starting from 1 and running up to and including 9."
   ]
  },
  {
   "cell_type": "code",
   "execution_count": 81,
   "id": "45a07486",
   "metadata": {},
   "outputs": [
    {
     "name": "stdout",
     "output_type": "stream",
     "text": [
      "[0, 1, 8, 27, 64, 125, 216, 343, 512, 729]\n"
     ]
    }
   ],
   "source": [
    "list1=[x**3 for x in range(10)]\n",
    "print(list1)"
   ]
  },
  {
   "cell_type": "code",
   "execution_count": 82,
   "id": "a3b2e7b2",
   "metadata": {},
   "outputs": [
    {
     "name": "stdout",
     "output_type": "stream",
     "text": [
      "[3, 27, 243, 2187, 19683]\n"
     ]
    }
   ],
   "source": [
    "list2=[3**i for i in range(10) if i%2==1]\n",
    "print(list2)"
   ]
  }
 ],
 "metadata": {
  "kernelspec": {
   "display_name": "Python 3 (ipykernel)",
   "language": "python",
   "name": "python3"
  },
  "language_info": {
   "codemirror_mode": {
    "name": "ipython",
    "version": 3
   },
   "file_extension": ".py",
   "mimetype": "text/x-python",
   "name": "python",
   "nbconvert_exporter": "python",
   "pygments_lexer": "ipython3",
   "version": "3.11.7"
  }
 },
 "nbformat": 4,
 "nbformat_minor": 5
}
