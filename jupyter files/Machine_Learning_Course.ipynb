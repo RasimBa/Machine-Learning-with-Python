{
 "cells": [
  {
   "cell_type": "markdown",
   "id": "dfdf09d7-e6f6-47ae-a8a6-7e16aeded922",
   "metadata": {},
   "source": [
    "<span style = \"color:red\">**Lecture 2 - 12.04.24**</span>"
   ]
  },
  {
   "cell_type": "code",
   "execution_count": 1,
   "id": "e32ac738",
   "metadata": {},
   "outputs": [
    {
     "name": "stdout",
     "output_type": "stream",
     "text": [
      "Hello World\n"
     ]
    }
   ],
   "source": [
    "print(\"Hello World\")"
   ]
  },
  {
   "cell_type": "code",
   "execution_count": 2,
   "id": "4e96c51f-4bd0-447e-9f02-2a3aeb93336b",
   "metadata": {},
   "outputs": [
    {
     "data": {
      "text/plain": [
       "10"
      ]
     },
     "execution_count": 2,
     "metadata": {},
     "output_type": "execute_result"
    }
   ],
   "source": [
    "x=10\n",
    "x"
   ]
  },
  {
   "cell_type": "code",
   "execution_count": 3,
   "id": "99a073ce-0b45-4a04-b7ec-27202443ebc1",
   "metadata": {},
   "outputs": [
    {
     "data": {
      "text/plain": [
       "'ab cd'"
      ]
     },
     "execution_count": 3,
     "metadata": {},
     "output_type": "execute_result"
    }
   ],
   "source": [
    "\"ab\" + \" cd\""
   ]
  },
  {
   "cell_type": "code",
   "execution_count": 4,
   "id": "6416dfbe-da19-4f9b-b683-c2ec248c76a5",
   "metadata": {},
   "outputs": [
    {
     "data": {
      "text/plain": [
       "int"
      ]
     },
     "execution_count": 4,
     "metadata": {},
     "output_type": "execute_result"
    }
   ],
   "source": [
    "type(x)"
   ]
  },
  {
   "cell_type": "code",
   "execution_count": 5,
   "id": "7e1d2bac-b219-4898-a295-6f2aca768de9",
   "metadata": {},
   "outputs": [
    {
     "data": {
      "text/plain": [
       "list"
      ]
     },
     "execution_count": 5,
     "metadata": {},
     "output_type": "execute_result"
    }
   ],
   "source": [
    "x=[1,2,3,4,'a','b']\n",
    "type(x)"
   ]
  },
  {
   "cell_type": "markdown",
   "id": "6515d3dd-0b13-4a30-9d94-c58ddeea1ce9",
   "metadata": {},
   "source": [
    "**tuple**"
   ]
  },
  {
   "cell_type": "code",
   "execution_count": 6,
   "id": "64714470-ad87-4c98-be6c-33d186a15acf",
   "metadata": {},
   "outputs": [
    {
     "data": {
      "text/plain": [
       "tuple"
      ]
     },
     "execution_count": 6,
     "metadata": {},
     "output_type": "execute_result"
    }
   ],
   "source": [
    "x2=(1,2,3,4,'a','b')\n",
    "type(x2)"
   ]
  },
  {
   "cell_type": "markdown",
   "id": "8b09c2b8-cd81-42cc-b91a-aa65f2239eb4",
   "metadata": {},
   "source": [
    "**Set**"
   ]
  },
  {
   "cell_type": "code",
   "execution_count": 7,
   "id": "a88d97fb-3e14-414c-b775-fb128fb357e2",
   "metadata": {},
   "outputs": [],
   "source": [
    "set = {1,2,3,4,'a',\"b\",'b',4,6}"
   ]
  },
  {
   "cell_type": "code",
   "execution_count": 8,
   "id": "e727fb66-8640-4869-8758-12b45920ac3e",
   "metadata": {},
   "outputs": [
    {
     "data": {
      "text/plain": [
       "{1, 2, 3, 4, 6, 'a', 'b'}"
      ]
     },
     "execution_count": 8,
     "metadata": {},
     "output_type": "execute_result"
    }
   ],
   "source": [
    "set"
   ]
  },
  {
   "cell_type": "markdown",
   "id": "abb89826-1747-4b7b-be92-25c9d2c24a66",
   "metadata": {},
   "source": [
    "**Dict**"
   ]
  },
  {
   "cell_type": "code",
   "execution_count": 9,
   "id": "28ac2967-f2f5-42ee-9b84-4bb1a4dccf92",
   "metadata": {},
   "outputs": [],
   "source": [
    "d ={'Fruit':'apple','Vegetable':'cucumber'}"
   ]
  },
  {
   "cell_type": "code",
   "execution_count": 10,
   "id": "82798cf2-9f3b-4e6c-a4f8-2faeb7cec433",
   "metadata": {},
   "outputs": [
    {
     "data": {
      "text/plain": [
       "dict"
      ]
     },
     "execution_count": 10,
     "metadata": {},
     "output_type": "execute_result"
    }
   ],
   "source": [
    "type(d)"
   ]
  },
  {
   "cell_type": "code",
   "execution_count": 11,
   "id": "974f27a3-a63d-4a2b-93a6-85dbc1b8eb44",
   "metadata": {},
   "outputs": [
    {
     "data": {
      "text/plain": [
       "{'Fruit': 'apple', 'Vegetable': 'cucumber'}"
      ]
     },
     "execution_count": 11,
     "metadata": {},
     "output_type": "execute_result"
    }
   ],
   "source": [
    "d"
   ]
  },
  {
   "cell_type": "markdown",
   "id": "0a7f78a6-df76-4791-9f2f-9b52d8897f54",
   "metadata": {},
   "source": [
    "## **Operators**"
   ]
  },
  {
   "cell_type": "code",
   "execution_count": 12,
   "id": "6ffd5cea-3457-4f55-9676-01f255accb2b",
   "metadata": {},
   "outputs": [
    {
     "data": {
      "text/plain": [
       "3"
      ]
     },
     "execution_count": 12,
     "metadata": {},
     "output_type": "execute_result"
    }
   ],
   "source": [
    "7//2 #floor division"
   ]
  },
  {
   "cell_type": "code",
   "execution_count": 13,
   "id": "2f618162-2d05-420a-b7fc-d3f79975dc97",
   "metadata": {},
   "outputs": [
    {
     "data": {
      "text/plain": [
       "1"
      ]
     },
     "execution_count": 13,
     "metadata": {},
     "output_type": "execute_result"
    }
   ],
   "source": [
    "7%2 #remnant of division"
   ]
  },
  {
   "cell_type": "code",
   "execution_count": 14,
   "id": "649f607c-63a1-431a-aa51-c6157b5c4847",
   "metadata": {},
   "outputs": [
    {
     "data": {
      "text/plain": [
       "8"
      ]
     },
     "execution_count": 14,
     "metadata": {},
     "output_type": "execute_result"
    }
   ],
   "source": [
    "2**3 #power"
   ]
  },
  {
   "cell_type": "code",
   "execution_count": 15,
   "id": "4e1d66bf-3454-4e15-aab6-68f02ae60cd7",
   "metadata": {},
   "outputs": [
    {
     "data": {
      "text/plain": [
       "27"
      ]
     },
     "execution_count": 15,
     "metadata": {},
     "output_type": "execute_result"
    }
   ],
   "source": [
    "pow(3,3) #power functin"
   ]
  },
  {
   "cell_type": "code",
   "execution_count": 16,
   "id": "1f3868f5-f136-41ae-a119-ca8ef069e12a",
   "metadata": {},
   "outputs": [
    {
     "data": {
      "text/plain": [
       "True"
      ]
     },
     "execution_count": 16,
     "metadata": {},
     "output_type": "execute_result"
    }
   ],
   "source": [
    "6==6"
   ]
  },
  {
   "cell_type": "code",
   "execution_count": 17,
   "id": "73378c07-0cf4-4f2b-a8a2-3afdcb1ef0b4",
   "metadata": {},
   "outputs": [],
   "source": [
    "x = [1,2,3,4,5,6]"
   ]
  },
  {
   "cell_type": "code",
   "execution_count": 18,
   "id": "30237762-9305-4c9f-9b5c-f19baf5140be",
   "metadata": {},
   "outputs": [],
   "source": [
    "y = [3,4,7,8,9,90]"
   ]
  },
  {
   "cell_type": "code",
   "execution_count": 19,
   "id": "286f3505-93c5-427d-adad-0f62eebe0e8c",
   "metadata": {},
   "outputs": [
    {
     "data": {
      "text/plain": [
       "[3, 4, 7, 8, 9, 90]"
      ]
     },
     "execution_count": 19,
     "metadata": {},
     "output_type": "execute_result"
    }
   ],
   "source": [
    "x and y"
   ]
  },
  {
   "cell_type": "markdown",
   "id": "0e4e71b9-9574-4b42-bd77-7a73b2a09495",
   "metadata": {},
   "source": [
    "## Assignment"
   ]
  },
  {
   "cell_type": "code",
   "execution_count": 20,
   "id": "b2b951f4-421b-4da1-b15c-a8a980cba572",
   "metadata": {},
   "outputs": [],
   "source": [
    "m = 3\n",
    "n = 5"
   ]
  },
  {
   "cell_type": "code",
   "execution_count": 21,
   "id": "4d9bef57-e833-4cbc-88df-cc3d7f55965d",
   "metadata": {},
   "outputs": [
    {
     "name": "stdout",
     "output_type": "stream",
     "text": [
      "13\n"
     ]
    }
   ],
   "source": [
    "m = m+10\n",
    "print(m)"
   ]
  },
  {
   "cell_type": "code",
   "execution_count": 22,
   "id": "c4100c13-1678-49ba-b7b5-10b20a0d7212",
   "metadata": {},
   "outputs": [
    {
     "name": "stdout",
     "output_type": "stream",
     "text": [
      "8\n"
     ]
    }
   ],
   "source": [
    "n += 3 # same as n = n + 3\n",
    "print(n)"
   ]
  },
  {
   "cell_type": "code",
   "execution_count": 23,
   "id": "14a8591f-8b24-4a8d-a819-25a4a28c445d",
   "metadata": {},
   "outputs": [
    {
     "data": {
      "text/plain": [
       "11"
      ]
     },
     "execution_count": 23,
     "metadata": {},
     "output_type": "execute_result"
    }
   ],
   "source": [
    "n = n + 3\n",
    "n"
   ]
  },
  {
   "cell_type": "markdown",
   "id": "4c643089-5d31-4877-a5c5-fd14a1237936",
   "metadata": {},
   "source": [
    "# Membership"
   ]
  },
  {
   "cell_type": "code",
   "execution_count": 24,
   "id": "a4bf18ec-a918-4cc7-8e21-a7ebc29cfdd9",
   "metadata": {},
   "outputs": [],
   "source": [
    "s = \"Python is good programming\""
   ]
  },
  {
   "cell_type": "code",
   "execution_count": 25,
   "id": "5a6a879b-2985-4669-b642-3bb481595625",
   "metadata": {},
   "outputs": [
    {
     "data": {
      "text/plain": [
       "True"
      ]
     },
     "execution_count": 25,
     "metadata": {},
     "output_type": "execute_result"
    }
   ],
   "source": [
    "'y' in s"
   ]
  },
  {
   "cell_type": "code",
   "execution_count": 26,
   "id": "7adce86c-7ba6-4a27-8e52-af6438d74c0a",
   "metadata": {},
   "outputs": [
    {
     "data": {
      "text/plain": [
       "False"
      ]
     },
     "execution_count": 26,
     "metadata": {},
     "output_type": "execute_result"
    }
   ],
   "source": [
    "'w' in s"
   ]
  },
  {
   "cell_type": "markdown",
   "id": "7ae12e73-2054-40bd-b883-2fbb44f383d7",
   "metadata": {},
   "source": [
    "[Note] Deep note here"
   ]
  },
  {
   "cell_type": "markdown",
   "id": "a309fa07-5d5c-4a4f-9138-b5d2877f70fb",
   "metadata": {},
   "source": [
    "<span style = \"color:blue\">Deep note in blue</span>"
   ]
  },
  {
   "cell_type": "markdown",
   "id": "d7023f93-ed5e-4d25-afaa-0c7e3334229b",
   "metadata": {},
   "source": [
    "## String operations"
   ]
  },
  {
   "cell_type": "code",
   "execution_count": 27,
   "id": "333e7947-c701-4a95-b0d1-24cb067f32ba",
   "metadata": {},
   "outputs": [],
   "source": [
    "S = 'Hello World'"
   ]
  },
  {
   "cell_type": "code",
   "execution_count": 28,
   "id": "3b19b1ff-4530-4d92-af6c-7cd1a0ea2ea7",
   "metadata": {},
   "outputs": [
    {
     "data": {
      "text/plain": [
       "'Hello World!'"
      ]
     },
     "execution_count": 28,
     "metadata": {},
     "output_type": "execute_result"
    }
   ],
   "source": [
    "S + '!'"
   ]
  },
  {
   "cell_type": "code",
   "execution_count": 29,
   "id": "c77dadea-2619-46f7-8e48-aa22c88f71cd",
   "metadata": {},
   "outputs": [
    {
     "data": {
      "text/plain": [
       "11"
      ]
     },
     "execution_count": 29,
     "metadata": {},
     "output_type": "execute_result"
    }
   ],
   "source": [
    "len(S)"
   ]
  },
  {
   "cell_type": "code",
   "execution_count": 30,
   "id": "f9716865-c5e4-4e49-b4b4-aaa794b3aed7",
   "metadata": {},
   "outputs": [
    {
     "data": {
      "text/plain": [
       "'HELLO WORLD'"
      ]
     },
     "execution_count": 30,
     "metadata": {},
     "output_type": "execute_result"
    }
   ],
   "source": [
    "S.upper()"
   ]
  },
  {
   "cell_type": "code",
   "execution_count": 31,
   "id": "7b7a2827-3c05-41d2-b5ca-6028b678373a",
   "metadata": {},
   "outputs": [
    {
     "data": {
      "text/plain": [
       "'hello world'"
      ]
     },
     "execution_count": 31,
     "metadata": {},
     "output_type": "execute_result"
    }
   ],
   "source": [
    "S.lower()"
   ]
  },
  {
   "cell_type": "code",
   "execution_count": 32,
   "id": "a3d4482a-984d-4560-9a1b-c92eec2f4670",
   "metadata": {},
   "outputs": [
    {
     "data": {
      "text/plain": [
       "'Hello world'"
      ]
     },
     "execution_count": 32,
     "metadata": {},
     "output_type": "execute_result"
    }
   ],
   "source": [
    "S.capitalize()"
   ]
  },
  {
   "cell_type": "code",
   "execution_count": 33,
   "id": "33c88027-bf14-4635-b8c9-97f78158fac3",
   "metadata": {},
   "outputs": [
    {
     "data": {
      "text/plain": [
       "'hello world'"
      ]
     },
     "execution_count": 33,
     "metadata": {},
     "output_type": "execute_result"
    }
   ],
   "source": [
    "S.casefold()"
   ]
  },
  {
   "cell_type": "code",
   "execution_count": 34,
   "id": "3f8e652a-b144-44a7-af01-0e691770dd22",
   "metadata": {},
   "outputs": [],
   "source": [
    "S2 = 'Bye World'"
   ]
  },
  {
   "cell_type": "code",
   "execution_count": 35,
   "id": "9750aeb4-d191-456b-8248-3f9768411b8a",
   "metadata": {},
   "outputs": [],
   "source": [
    "#S.join()"
   ]
  },
  {
   "cell_type": "markdown",
   "id": "6d05afc0-5e93-4b32-93f2-c18e957fcd8e",
   "metadata": {},
   "source": [
    "# Methods for Text Data Analysis"
   ]
  },
  {
   "cell_type": "code",
   "execution_count": 36,
   "id": "ce3fd17a-2344-4659-a348-e77b64f1aced",
   "metadata": {},
   "outputs": [
    {
     "data": {
      "text/plain": [
       "'Inflation increased in the past 10 years'"
      ]
     },
     "execution_count": 36,
     "metadata": {},
     "output_type": "execute_result"
    }
   ],
   "source": [
    "x = \"Inflation increased in the past 10 years\"\n",
    "x"
   ]
  },
  {
   "cell_type": "code",
   "execution_count": 37,
   "id": "0aa07844-906d-43b6-9cef-59dc2c86d992",
   "metadata": {},
   "outputs": [
    {
     "data": {
      "text/plain": [
       "0"
      ]
     },
     "execution_count": 37,
     "metadata": {},
     "output_type": "execute_result"
    }
   ],
   "source": [
    "x.find(\"Inflation\")"
   ]
  },
  {
   "cell_type": "code",
   "execution_count": 38,
   "id": "fcb268ef-447e-4664-9c85-f184e741ae91",
   "metadata": {},
   "outputs": [
    {
     "data": {
      "text/plain": [
       "-1"
      ]
     },
     "execution_count": 38,
     "metadata": {},
     "output_type": "execute_result"
    }
   ],
   "source": [
    "x.find('D')"
   ]
  },
  {
   "cell_type": "code",
   "execution_count": 39,
   "id": "b59e1b68-23cb-476c-89bf-f058733d4f05",
   "metadata": {},
   "outputs": [
    {
     "data": {
      "text/plain": [
       "18"
      ]
     },
     "execution_count": 39,
     "metadata": {},
     "output_type": "execute_result"
    }
   ],
   "source": [
    "x.find('d')"
   ]
  },
  {
   "cell_type": "code",
   "execution_count": 40,
   "id": "29f764bf-63d1-4396-885f-4b7785cfa8b7",
   "metadata": {},
   "outputs": [
    {
     "data": {
      "text/plain": [
       "'In'"
      ]
     },
     "execution_count": 40,
     "metadata": {},
     "output_type": "execute_result"
    }
   ],
   "source": [
    "x.split()[2].capitalize()\n"
   ]
  },
  {
   "cell_type": "markdown",
   "id": "cba466c3-8605-491d-9835-66d7ade837ea",
   "metadata": {},
   "source": [
    "[NOTE] **Because in for loop operation we dont want to change the values, thus immutublility can be important so tuple is good in this case**"
   ]
  },
  {
   "cell_type": "markdown",
   "id": "43d9a584-4b19-47f9-9bc6-04e5d2f1b884",
   "metadata": {},
   "source": [
    "# other operation"
   ]
  },
  {
   "cell_type": "code",
   "execution_count": 41,
   "id": "5fe54b32-f502-4524-9b3d-e208e4d91051",
   "metadata": {},
   "outputs": [
    {
     "data": {
      "text/plain": [
       "[1, 2, 3, 4, 5, 3]"
      ]
     },
     "execution_count": 41,
     "metadata": {},
     "output_type": "execute_result"
    }
   ],
   "source": [
    "x = [1,2,3,4,5,3]\n",
    "x"
   ]
  },
  {
   "cell_type": "code",
   "execution_count": 42,
   "id": "00971fe8-b080-4d2d-bdd2-b5dacfa86797",
   "metadata": {},
   "outputs": [
    {
     "data": {
      "text/plain": [
       "[1, 2, 3, 4, 5, 3, 3, 4, 5]"
      ]
     },
     "execution_count": 42,
     "metadata": {},
     "output_type": "execute_result"
    }
   ],
   "source": [
    "x.extend([3,4,5])\n",
    "x"
   ]
  },
  {
   "cell_type": "code",
   "execution_count": 43,
   "id": "ae31c7b4-9aed-4fa0-bbcc-4b909ed5f448",
   "metadata": {},
   "outputs": [
    {
     "data": {
      "text/plain": [
       "[1, 2, 3, 3, 3, 4, 4, 5, 5]"
      ]
     },
     "execution_count": 43,
     "metadata": {},
     "output_type": "execute_result"
    }
   ],
   "source": [
    "x.sort()\n",
    "x"
   ]
  },
  {
   "cell_type": "code",
   "execution_count": 44,
   "id": "0ccdc5f9-d2f9-4ded-9816-cdc15dd8a10f",
   "metadata": {},
   "outputs": [
    {
     "data": {
      "text/plain": [
       "[1, 2, 3, 3, 3, 4, 4, 5]"
      ]
     },
     "execution_count": 44,
     "metadata": {},
     "output_type": "execute_result"
    }
   ],
   "source": [
    "x.pop()\n",
    "x"
   ]
  },
  {
   "cell_type": "markdown",
   "id": "f745908a-1a2b-40ee-a7be-8b61aac95062",
   "metadata": {},
   "source": [
    "## Conditionals / If-else"
   ]
  },
  {
   "cell_type": "code",
   "execution_count": 45,
   "id": "317adf97-3135-47a6-837d-d85ff1e8a868",
   "metadata": {},
   "outputs": [
    {
     "name": "stdout",
     "output_type": "stream",
     "text": [
      "Negative\n"
     ]
    }
   ],
   "source": [
    "x = -5\n",
    "if x>0:\n",
    "    print(\"Positive\")\n",
    "elif x == 0:\n",
    "    print(\"Zero\")\n",
    "else:\n",
    "    print(\"Negative\")\n"
   ]
  },
  {
   "cell_type": "markdown",
   "id": "65b75deb-4ac2-4409-8421-1b0f271d3927",
   "metadata": {},
   "source": [
    "# Loops"
   ]
  },
  {
   "cell_type": "markdown",
   "id": "dab7d413-a751-44d8-9bab-e23a165a1fef",
   "metadata": {},
   "source": [
    "x = 0 \n",
    "\n",
    "while x<5:\n",
    "    x += 1\n",
    "    print(x)"
   ]
  },
  {
   "cell_type": "code",
   "execution_count": 46,
   "id": "5a450a49-4e6a-4006-8421-9611a540b311",
   "metadata": {},
   "outputs": [],
   "source": [
    "xs = [1,2,3,4,5,6,7,8]"
   ]
  },
  {
   "cell_type": "code",
   "execution_count": 47,
   "id": "9d5b0b73-7eb0-4185-acfd-81a4456b1e86",
   "metadata": {},
   "outputs": [
    {
     "name": "stdout",
     "output_type": "stream",
     "text": [
      "1\n",
      "4\n",
      "27\n",
      "64\n",
      "125\n",
      "216\n",
      "343\n",
      "512\n"
     ]
    }
   ],
   "source": [
    "for x in xs:\n",
    "    if x < 2:\n",
    "        print(x**2)\n",
    "    elif x== 2:\n",
    "        print(x+2)\n",
    "    else:\n",
    "        print(x**3)"
   ]
  },
  {
   "cell_type": "markdown",
   "id": "97377e3d-528d-4bbd-8b48-a3e6480035ff",
   "metadata": {},
   "source": [
    "[Note] def(x,y) x,y called parameters if you assign value when you call the function"
   ]
  },
  {
   "cell_type": "code",
   "execution_count": 48,
   "id": "3ea93b40-7a99-45b8-93e6-93f3c0277c73",
   "metadata": {},
   "outputs": [
    {
     "data": {
      "text/plain": [
       "4"
      ]
     },
     "execution_count": 48,
     "metadata": {},
     "output_type": "execute_result"
    }
   ],
   "source": [
    "def greater_function(x,y):\n",
    "    if x>y:\n",
    "        return x\n",
    "    else:\n",
    "        return y\n",
    "t = greater_function(3,4)\n",
    "t"
   ]
  },
  {
   "cell_type": "markdown",
   "id": "d758f4e7-7480-4d94-937c-73efb4e03c78",
   "metadata": {},
   "source": [
    "# Indexing"
   ]
  },
  {
   "cell_type": "code",
   "execution_count": 49,
   "id": "c89902ac-e7f2-4191-af34-5a5137533008",
   "metadata": {},
   "outputs": [],
   "source": [
    "list1 = [4,2,7.5,3]"
   ]
  },
  {
   "cell_type": "code",
   "execution_count": 50,
   "id": "dbe8ca64-2c8e-4465-bf4a-872538f8989e",
   "metadata": {},
   "outputs": [],
   "source": [
    "list2 = [[4,5,6], \"Python\", 'Java', (2,3,4)]"
   ]
  },
  {
   "cell_type": "code",
   "execution_count": 51,
   "id": "5335251d-a346-4ead-9208-2cd73d36910a",
   "metadata": {},
   "outputs": [
    {
     "name": "stdout",
     "output_type": "stream",
     "text": [
      "4\n",
      "[4, 5, 6]\n"
     ]
    }
   ],
   "source": [
    "lists = [list1, list2]\n",
    "for i in lists:\n",
    "    print(i[0])"
   ]
  },
  {
   "cell_type": "code",
   "execution_count": 52,
   "id": "e68f20ca-86eb-4338-b755-3a5576d7e358",
   "metadata": {},
   "outputs": [
    {
     "data": {
      "text/plain": [
       "4"
      ]
     },
     "execution_count": 52,
     "metadata": {},
     "output_type": "execute_result"
    }
   ],
   "source": [
    "list2[0][0]"
   ]
  },
  {
   "cell_type": "code",
   "execution_count": 53,
   "id": "b63b1ead-ebc1-4de6-becb-717975c9246e",
   "metadata": {},
   "outputs": [
    {
     "name": "stdout",
     "output_type": "stream",
     "text": [
      "4\n",
      "[4, 5, 6]\n"
     ]
    }
   ],
   "source": [
    "for i in lists:\n",
    "    print(i[0:1][0])"
   ]
  },
  {
   "cell_type": "code",
   "execution_count": 54,
   "id": "c770b6f1-bcc2-4a8b-96a7-4069370895b3",
   "metadata": {},
   "outputs": [],
   "source": [
    "sub_list = list2[:3]"
   ]
  },
  {
   "cell_type": "code",
   "execution_count": 55,
   "id": "bad9e9bb-89bb-4765-8ef1-6d58cf9f63ce",
   "metadata": {},
   "outputs": [
    {
     "data": {
      "text/plain": [
       "[[4, 'RStudio', 6], 'Python', 'Java']"
      ]
     },
     "execution_count": 55,
     "metadata": {},
     "output_type": "execute_result"
    }
   ],
   "source": [
    "sub_list[0][1] = 'RStudio'\n",
    "sub_list"
   ]
  },
  {
   "cell_type": "code",
   "execution_count": 56,
   "id": "d0a05f56-b522-4ea4-beeb-283892ccc30d",
   "metadata": {},
   "outputs": [],
   "source": [
    "s = \"This is a string!\""
   ]
  },
  {
   "cell_type": "code",
   "execution_count": 57,
   "id": "0865b0de-ec02-4343-a6b1-d96038284789",
   "metadata": {},
   "outputs": [
    {
     "data": {
      "text/plain": [
       "'This is a string!'"
      ]
     },
     "execution_count": 57,
     "metadata": {},
     "output_type": "execute_result"
    }
   ],
   "source": [
    "s"
   ]
  },
  {
   "cell_type": "code",
   "execution_count": 58,
   "id": "e095f2f9-85f7-4c85-971f-0ed103caed34",
   "metadata": {},
   "outputs": [
    {
     "data": {
      "text/plain": [
       "str"
      ]
     },
     "execution_count": 58,
     "metadata": {},
     "output_type": "execute_result"
    }
   ],
   "source": [
    "type(s)"
   ]
  },
  {
   "cell_type": "code",
   "execution_count": 59,
   "id": "055c37a6-6bb4-44cf-968b-55e7e2ce666a",
   "metadata": {},
   "outputs": [
    {
     "name": "stdout",
     "output_type": "stream",
     "text": [
      "THIS IS A STRING!\n"
     ]
    }
   ],
   "source": [
    "print(s.upper())"
   ]
  },
  {
   "cell_type": "code",
   "execution_count": null,
   "id": "bacef542-8eeb-4b68-b214-da102b192f8c",
   "metadata": {},
   "outputs": [],
   "source": []
  },
  {
   "cell_type": "markdown",
   "id": "1368c5eb-05ba-4e4a-b4b0-0e8a82357f5a",
   "metadata": {},
   "source": [
    "# Classes in Python"
   ]
  },
  {
   "cell_type": "code",
   "execution_count": 60,
   "id": "e3298d3f-1be7-40dd-8852-ff6ccdcb7c33",
   "metadata": {},
   "outputs": [],
   "source": [
    "class Cat(object):\n",
    "\n",
    "    def __init__(self, name, age):\n",
    "        self.name = name\n",
    "        self.age = age \n",
    "\n",
    "    def bark(self):\n",
    "        return \"Miau!\"\n",
    "\n",
    "    def compute_ageinmonths(self):\n",
    "        return 12*self.age\n",
    "\n",
    "    def __str__(self):\n",
    "        var = str(self.age)\n",
    "        return \"Cat \" + self.name + \" is\" + \" \" + var + \" years old! Mmmm!\""
   ]
  },
  {
   "cell_type": "code",
   "execution_count": 61,
   "id": "292074c8-9697-4cbe-a2dc-521122d03a51",
   "metadata": {},
   "outputs": [
    {
     "name": "stdout",
     "output_type": "stream",
     "text": [
      "Claus 20\n"
     ]
    }
   ],
   "source": [
    "cat1 = Cat(\"Claus\", 20)\n",
    "\n",
    "print(cat1.name, cat1.age)"
   ]
  },
  {
   "cell_type": "code",
   "execution_count": 62,
   "id": "8ec06a68-12f8-4077-8a72-77619ce43527",
   "metadata": {},
   "outputs": [
    {
     "data": {
      "text/plain": [
       "'Miau!'"
      ]
     },
     "execution_count": 62,
     "metadata": {},
     "output_type": "execute_result"
    }
   ],
   "source": [
    "cat1.bark()"
   ]
  },
  {
   "cell_type": "code",
   "execution_count": 63,
   "id": "9bdfe355-26ce-457f-9892-4bffee9f8895",
   "metadata": {},
   "outputs": [
    {
     "data": {
      "text/plain": [
       "240"
      ]
     },
     "execution_count": 63,
     "metadata": {},
     "output_type": "execute_result"
    }
   ],
   "source": [
    "cat1.compute_ageinmonths()"
   ]
  },
  {
   "cell_type": "code",
   "execution_count": 64,
   "id": "756d3d1f-92ce-4333-874d-4b36ba1d3aa3",
   "metadata": {},
   "outputs": [
    {
     "data": {
      "text/plain": [
       "'Cat Claus is 20 years old! Mmmm!'"
      ]
     },
     "execution_count": 64,
     "metadata": {},
     "output_type": "execute_result"
    }
   ],
   "source": [
    "cat1.__str__()"
   ]
  },
  {
   "cell_type": "markdown",
   "id": "bbd0de45-03c9-45e5-9af0-3f7adeef210d",
   "metadata": {},
   "source": [
    "# Speech data"
   ]
  },
  {
   "cell_type": "code",
   "execution_count": 66,
   "id": "18ebc0c6-739d-406e-bb18-ffbfca0be011",
   "metadata": {},
   "outputs": [],
   "source": [
    "import pandas as pd\n",
    "import numpy as np"
   ]
  },
  {
   "cell_type": "code",
   "execution_count": 73,
   "id": "1ba8fb1c-d96e-405e-a9e8-2d623865fd07",
   "metadata": {},
   "outputs": [
    {
     "name": "stderr",
     "output_type": "stream",
     "text": [
      "IOPub data rate exceeded.\n",
      "The Jupyter server will temporarily stop sending output\n",
      "to the client in order to avoid crashing it.\n",
      "To change this limit, set the config variable\n",
      "`--ServerApp.iopub_data_rate_limit`.\n",
      "\n",
      "Current values:\n",
      "ServerApp.iopub_data_rate_limit=1000000.0 (bytes/sec)\n",
      "ServerApp.rate_limit_window=3.0 (secs)\n",
      "\n"
     ]
    }
   ],
   "source": [
    "import csv\n",
    "\n",
    "with open('all_ECB_speeches.csv', encoding = 'utf-8') as csvfile:\n",
    "    read_in_new1 = csv.reader(csvfile, delimiter='|')\n",
    "    for row in read_in_new1:\n",
    "            print(row)"
   ]
  },
  {
   "cell_type": "code",
   "execution_count": 82,
   "id": "f0a7ebc4-9e25-445e-a892-f1042ed19d57",
   "metadata": {},
   "outputs": [
    {
     "name": "stdout",
     "output_type": "stream",
     "text": [
      "['2024-03-14', 'Isabel Schnabel', 'The Eurosystem’s operational framework', 'Speech by Isabel Schnabel, Member of the Executive Board of the ECB, at the Money Market Contact Group meeting', \"  SPEECH  The Eurosystem’s operational framework   Speech by Isabel Schnabel, Member of the Executive Board of the ECB, at the Money Market Contact Group meeting Frankfurt am Main, 14 March 2024 Since 2015, the Eurosystem has been operating under a de facto supply-driven floor system. This was the result of the monetary policy actions taken in the run-up to and during the pandemic to preserve price stability in the euro area.  Faced with years of persistently low inflation and the greatest economic contraction on record in 2020, we conducted large-scale asset purchases and targeted longer-term refinancing operations (TLTROs), thereby injecting a significant amount of central bank reserves into the financial system. The resulting easing of financing conditions supported economic activity in the pursuit of our mandate. As reserves were well in excess of banks’ liquidity needs, short-term money market rates have been trading in the vicinity of the rate at which the Eurosystem remunerates overnight deposits – the deposit facility rate, or DFR. More recently, the volume of reserves has started to visibly decline because of the sharp reversal in the course of monetary policy that was necessary to fight the post-pandemic surge in inflation.  As banks have started repaying their outstanding TLTRO loans, and as some of the bonds held by the Eurosystem have matured without being reinvested, excess liquidity has fallen by about €1.2 trillion from a peak of nearly €4.7 trillion in mid-2022. By the end of 2025, it is expected to decline by another €1.4 trillion to around €2.1 trillion (Slide 2).  While aggregate excess liquidity would still be abundant at that point, potential structural changes to reserve demand, arising for instance from prudential regulation, imply that there is significant uncertainty about when, and to what extent, the fall in reserves may put upward pressure on overnight money market rates, which could potentially affect the monetary policy stance (Slide 3). Against this background, over the past 15 months the Governing Council has taken stock of the experience gained in implementing monetary policy in different liquidity regimes and has evaluated options that would safeguard the smooth implementation of monetary policy as reserves become less ample.[1]  In my remarks today, I would like to explain the outcome of our deliberations and describe the key characteristics of the Eurosystem’s operational framework.[2] This framework has been tailored to the distinctive features of the euro area economy and will help financial markets and banks adapt to the ongoing changes in the liquidity environment. Taking stock of 25 years of policy implementation Monetary policy implementation has undergone significant shifts since the euro was introduced 25\\xa0years ago.  Until the global financial crisis in 2008, reserves in the euro area were scarce, meaning that banks had to systematically use the regular refinancing operations to cover their liquidity needs arising from the demand for banknotes, the minimum reserve requirements and idiosyncratic liquidity shocks (Slide 4).[3]  By providing the reserves needed to plug the liquidity deficit, the Eurosystem was able to steer the unsecured overnight interest rate to the middle of the corridor that is spanned by the ECB’s three key policy rates: the DFR, the rate at which banks can borrow in the main refinancing operations (MROs) and the rate applied at the marginal lending facility (MLF) (Slide 5). Before 2008, such a corridor system was widespread among central banks. The main difference was how reserves were supplied – either through collateralised lending operations or through asset purchases – and the extent to which volatility in the overnight rate was tolerated.  The ECB, for example, accepted deviations of the overnight rate from the policy target that were, on average, larger than those of the Federal Reserve System or the Bank of Japan but smaller than those of the Bank of England or Sveriges Riksbank (Slide 6, left-hand chart).[4] This was partly a reflection of the relatively large size of the corridor (Slide 6, right-hand chart).[5]  A certain tolerance for volatility – to the extent that it would not blur the signal about the intended monetary policy stance – reflected the desire by policymakers to promote interbank market activity and keep the central bank balance sheet as lean as possible.[6] Empirical evidence suggests that this volatility generally did not impede the transmission of monetary policy (Slide 7).[7]  The global financial crisis, however, exposed vulnerabilities of the pre-2008 corridor framework.  In particular, a system of scarce liquidity requires a functioning money market to distribute liquidity across the banking system. As the global financial crisis unfolded in August 2007 and banks hoarded reserves, parts of the euro area money market froze and interbank funding costs soared (Slide 8, left-hand chart).  The ECB’s response to these tensions lastingly changed the way monetary policy was implemented in the euro area. Since 2008, all lending operations have been conducted using a fixed-rate full allotment tender procedure against a broad, albeit varying, set of collateral. With full allotment, liquidity in the system was no longer determined by the ECB alone but also by banks, which affected the ECB’s ability to steer money market rates.  For example, when the ECB launched the three-year longer-term refinancing operations in 2011 and 2012 in response to the euro area sovereign debt crisis, excess liquidity rose considerably, pushing money market rates from levels close to the rate on the MROs down to the DFR (Slide 8, right-hand chart).  At that point, the size of the corridor implied a decline in short-term money market rates of about 70\\xa0basis points, equivalent to almost three “standard” policy cuts.  In 2015, the ECB started purchasing bonds under the asset purchase programme (APP). As these purchases created new central bank reserves, excess liquidity quickly rose to levels that were sufficiently large to keep money market rates closely anchored around the DFR. The experience of implementing monetary policy in an environment of abundant liquidity also revealed some of the downsides of that system. One was that the floor was “leaky”. As excess liquidity rose to unprecedented levels following the launch of the pandemic emergency purchase programme (PEPP) in 2020, the spread between the DFR and the euro short-term rate (€STR) steadily widened over the course of 2021 and 2022 (Slide 9, left-hand side). This episode highlighted that, without more fundamental changes to the counterparty framework, a supply-driven floor system was not fully robust either to changes in the liquidity environment and did not provide perfect rate controllability, even if the movements in €STR were gradual and orderly.[8]    A second aspect was that the provision of ample reserves discouraged banks from seeking market-based funding solutions. For example, many banks used the TLTROs to reduce their borrowing in the market, causing a decline in the issuance of commercial paper, secured or unsecured bank bonds and other liabilities (Slide 9, right-hand side).[9]  While funding substitution was in part intended to stimulate loan growth, it implied that banks had fewer occasions to “test” their credit quality in markets, which could run counter to supervisory expectations.[10]  A third concern is the impact of abundant liquidity on market functioning. The Eurosystem’s footprint in financial markets increased considerably over the past decade before reaching a turning point in 2022 (Slide 10).  As providing reserves through asset purchases reduces the free float of safe assets, liquidity may dry up in some segments of the financial market and collateral may become scarce. These effects became particularly concerning in 2022, when a significant share of repo transactions using German government bonds as collateral traded more than 40 basis points below €STR, reflecting a shortage of safe assets (Slide 11). Such asset scarcity can delay the transmission of monetary policy.[11] For example, it took more than a week for the policy decisions taken in July, September and October 2022 to be fully reflected in the different segments of the repo market (Slide 12).[12]  The operational framework: principles and characteristics The changes to our operational framework build on the experiences we have gained with implementing monetary policy over the past 25 years. This experience has culminated in six principles, some of which are directly founded on Treaty provisions, that will guide monetary policy implementation in the future:[13]    Effectiveness ensures that the operational framework is able to implement the monetary policy stance in line with the provisions of the EU Treaty;   robustness allows us to implement monetary policy in different financial and liquidity environments;   flexibility implies an elastic supply of central bank reserves based on banks’ needs, effectively channelling liquidity across the entire euro area banking system;   efficiency means that the operational framework implements the desired monetary policy stance and does not interfere with it, while respecting the proportionality principle and taking into account net side effects, including financial stability risks;  the design of the operational framework should also foster the smooth and orderly functioning of markets, consistent with the open market economy principle; finally, the operational framework shall facilitate the ECB’s pursuit of its secondary objective of supporting the general economic policies in the European Union – in particular the transition to a green economy – without prejudice to our primary objective of price stability.  Based on these principles, the framework is designed as a hybrid system that provides reserves elastically and through a mix of instruments, including both short-term lending operations and structural operations. It allows for an effective control of short-term money market rates, while leaving room for learning in an uncertain environment and respecting the established principles and the current starting point characterised by abundant liquidity. Our operational framework has three key characteristics. Refinancing operations are at the centre of liquidity provision  The first is its demand-driven nature. In such a system, the marginal unit of reserves is provided on demand through our regular refinancing operations. To this end, we will continue to provide as much liquidity as banks demand at a fixed rate in the MROs and in the three-month longer-term refinancing operations against broad collateral. Providing liquidity through fixed-rate tenders with full allotment marks a significant change from the balanced liquidity regime operated until 2008. It reflects changes in banks’ liquidity preferences and in the way they operate today.  Years of crises, new regulatory requirements and the advance of new technologies – some of which increase the risk of “digital” bank runs – imply that banks may wish to hold larger liquidity buffers than before 2008.[14]  As central banks injected huge volumes of reserves through large-scale asset purchases, reserves have become an important store of value in the economy, shielded from interest rate and liquidity risks.[15]  Supplying central bank reserves elastically as balance sheet normalisation proceeds will go a long way towards allowing banks to hold the level of reserves that they find optimal, and will help insure against the risks of fragmentation and sudden liquidity imbalances as reserves become less ample. A framework in which the marginal unit of reserves is provided through refinancing operations is best suited for the euro area economy, which remains, despite the gradual rise in market-based finance, a bank-based financial system. Given the effective pass-through of our monetary policy, the Governing Council currently sees no need to grant non-banks access to the Eurosystem balance sheet.[16]  With banks at the core of monetary policy transmission, and with the euro area banking sector being large and heterogeneous, reserves are most effectively supplied, at the margin, through our regular refinancing operations and against a broad set of collateral.  Putting our refinancing operations at the centre of liquidity provision ensures that liquidity reaches all corners of the euro area. By contrast, liquidity provided through asset purchases has tended to be concentrated among a small number of larger financial institutions, which are predominantly located in a few member countries.  Specifically, about 40% of banks, in terms of total assets, are holding the entire excess liquidity from asset purchases, the highest share being held in Germany (Slide 13). Lending operations tend to lead to a more even distribution of reserves across banks and countries.[17]  A system in which reserves are supplied elastically, if calibrated appropriately, is effective in implementing the monetary policy stance, as it does not require the central bank to estimate the uncertain volume of reserves necessary to steer short-term money market rates towards the key policy rate.  In a supply-driven framework, where the system is forced into a liquidity surplus by supplying sufficient reserves, this uncertainty requires a meaningful buffer of reserves to contain the risks of unwarranted volatility.  While a structurally higher supply of liquidity may be stabilising in the short run, it could pose longer-term risks to financial stability by distorting market prices and inducing excessive risk-taking. It would also raise more fundamental concerns about monetary and fiscal interactions in a currency union with sovereign member countries.[18]  So, while a supply-driven system can be the outcome of monetary policy actions to preserve price stability in the vicinity of the effective lower bound, as has been the case since 2015, it is less suitable as a permanent operational framework in the euro area. A demand-driven system, by contrast, can ensure effectiveness and efficiency by limiting net side effects, reducing both the Eurosystem’s footprint in financial markets and the financial risks it faces.  A broad mix of instruments ensures operational robustness The second key characteristic of our framework is the mix of instruments used to supply reserves. A demand-driven system cannot entirely rely on short-term lending operations to satisfy banks’ reserve demand. Banks having to roll over large structural liquidity needs on a weekly basis would increase operational risks. Banknotes in circulation, for example, currently amount to more than €1.5 trillion, nearly five times as much as at the start of monetary union. Moreover, relying exclusively on lending operations would encumber a large share of banks’ assets as collateral, raising bank fragility as fewer unencumbered assets are available to meet creditors’ demands in times of stress.[19]  As such, at a later stage, we will complement our short-term lending operations with new longer-term lending operations and a new structural bond portfolio. Both of these will provide a more stable source of liquidity. At present, the liquidity absorption through autonomous factors and minimum reserve requirements is more than offset by the liquidity previously provided through the Eurosystem legacy bond holdings from the APP and the PEPP, and through other financial assets held by national central banks.  But as the run-down of the APP and the PEPP portfolios proceeds, banks will increasingly need to borrow reserves from the Eurosystem, which will show up in a rise in the liquidity demanded at our regular operations (Slide 14). Once the Eurosystem balance sheet begins to grow durably again, we will start supplying reserves through new longer-term refinancing operations and through the new structural bond portfolio, taking into account legacy bond holdings.  Over time, these structural operations will make a substantial contribution to covering the banking sector’s structural liquidity needs arising from autonomous factors and minimum reserve requirements. In the period ahead, ECB staff will conduct an in-depth analysis of how to design these new instruments in accordance with the established principles.  The size and composition of the new portfolio, as well as the pricing and duration of longer-term refinancing operations will be chosen so as to minimise their impact on the monetary policy stance, market functioning and moral hazard, and to facilitate the ECB’s pursuit of its secondary objective by incorporating considerations related to climate change. “Soft” floor with narrow spread limits volatility and incentivises market activity The third key characteristic of the framework is that monetary policy is implemented through a “soft” floor with a narrow spread.   The Governing Council will continue to steer the monetary policy stance through the DFR, which has acted as the de facto anchor for money market rates in recent years. Current large excess liquidity levels imply that short-term interest rates can be expected to continue to trade in a narrow range around the DFR for some time. As reserves become less ample, however, money market rates could rise relative to the DFR and potentially become more volatile. In view of this, the rate on the MROs and the rate at the MLF will be adjusted such that the spread between the rate on the MROs and the DFR will be reduced to 15 basis points from 50 basis points currently, and the spread between the MLF rate and the rate on the MROs remains unchanged at 25\\xa0basis points. The corresponding adjustments of the MRO und MLF rates will come into effect with the sixth maintenance period of 2024, which begins on 18 September. The relatively narrow spread of 15 basis points between the rate on the MROs and the DFR will limit the potential upward pressure on money market rates and set incentives for banks to borrow liquidity in our operations as our balance sheet normalises.  Moreover, by leaving the spread between the MLF rate and the MRO rate unchanged at 25\\xa0basis points, our framework imposes a higher cost on banks running into a reserve shortage between our weekly refinancing operations, thereby generating conditions in which banks, on aggregate, may wish to hold excess liquidity, especially in the presence of a broad collateral framework. The parameterisation of our framework therefore implies that short-term money market rates are likely to evolve in the vicinity of the DFR. A “soft” floor means that the Governing Council will tolerate deviations from the DFR, provided such movements do not blur the signal about the intended monetary policy stance. In other words, orderly deviations in both directions are accepted. However, excessive volatility that would interfere with the monetary policy stance, or a persistent drift of money market rates away from the DFR, could require the framework parameters to be reviewed.  The chosen set of parameters reflects the trade-off central banks face between limiting volatility and setting incentives for banks to insure themselves against liquidity shocks in financial markets. This trade-off depends on the cost of carry, which is the spread between the rate banks pay for borrowing reserves and the remuneration they receive when depositing these reserves back with the central bank.  The lower this cost, the greater the incentive for banks to obtain liquidity primarily through the central bank.[20] But as we have observed in the past, discouraging banks from seeking market-based funding solutions may be undesirable as it risks weakening the resilience of the banking system and may go against the principle of an open market economy. These risks are especially high when banks have access to longer-term refinancing operations and are permitted to pledge non-marketable assets as collateral, as our framework foresees.  Since excess reserves count towards the fulfilment of prudential liquidity ratios, the combination of a very low cost of carry and a broad collateral framework could encourage banks to engage in excessive liquidity transformation, as they receive Level 1 high-quality liquid assets (HQLA) by pledging non-HQLA as collateral.  Such liquidity transformation remains economically attractive even after haircuts are taken into account.[21] In the first half of 2023, before banks began repaying their TLTRO loans, non-HQLA accounted for about 80% of mobilised collateral with the Eurosystem. A higher cost of carry reduces incentives for excessive liquidity transformation and thereby promotes both a leaner central bank balance sheet and the objectives of prudential regulation of banks having a diversified funding structure. At the same time, a high cost of carry increases the potential for rate volatility in money markets. A system with fixed-rate full allotment means that, as the balance sheet normalises, aggregate liquidity conditions, and hence money market rates, may fluctuate to a degree that could affect the transmission of monetary policy. In the view of the Governing Council, a spread of 15 basis points between the rate on the MROs and the DFR manages this trade-off well. It is small enough to contain volatility but large enough to preserve incentives for money market activity by encouraging banks to manage their liquidity prudently, thereby avoiding the risk of excessive liquidity transformation.[22]  Recent evidence indeed suggests that money market activity may be revived as excess liquidity is withdrawn. With interest rates moving back into positive territory and banks having started repaying their outstanding TLTRO loans, we have observed incipient signs of a moderate recovery in money market activity, including in interbank trading and across borders (Slide 15).  Similarly, while cash-motivated transactions accounted for just 14% of repo transactions in 2022, the volume of these transactions increased visibly as excess liquidity started to decline (Slide 16).[23] It remains to be seen whether the chosen spread is sufficient to meaningfully revive money market activity. A spread of 15 basis points is also likely to be conducive to supporting both a financially sound Eurosystem balance sheet and financial stability.  If the cost of carry were too high, banks might shy away and unduly economise on their holdings of reserves, leaving them more vulnerable to liquidity shocks. As our regular refinancing operations are intended to play a central role in meeting banks’ liquidity needs, the pricing should ensure that counterparties use them as an integral part of a smooth monetary policy implementation.  If, however, the spread were too narrow, there would be a risk that banks might hoard reserves, turning the central bank into a lender of first resort, thereby reducing banks’ incentives to insure themselves against short-term liquidity risks in financial markets.  Overall, therefore, the configuration of our framework supports financial stability by allowing banks to replace reserves that will be absorbed through the run-down of our monetary policy assets in our refinancing operations at a cost that neither encourages banks to overly hoard nor to shun central bank reserves. That said, the transition from a situation of abundant excess liquidity to one of less ample liquidity has few precedents and there is a lot of uncertainty about how market participants are going to adjust their behaviour.  Therefore, in the period ahead, we will carefully monitor the evolution and distribution of excess liquidity, the formation of money market rates, the evolution of banks’ demand for reserves, and the functioning of money markets and financial markets more broadly.  Based on the experience we gain, the Governing Council will review the key parameters of the operational framework in 2026 and stands ready to adjust the design and parameters of the framework at an earlier stage, if necessary, to ensure that the implementation of monetary policy remains in line with the established principles.  Conclusion Let me conclude. The Governing Council yesterday set out how we intend to steer short-term interest rates in the future, based on six principles, some of which are directly founded on the EU Treaty. The changes to the operational framework balance the benefits of providing central bank reserves elastically upon demand with the costs associated with a balance sheet that is larger than is strictly necessary to effectively implement the monetary policy stance. The changes to our operational framework do not have any implications for our monetary policy stance, neither for our interest rate policy nor for our monetary policy bond portfolios, which we expect to continue to be run off. With excess liquidity declining, clarity on the framework will help banks prepare for a period where holding central bank reserves will no longer be costless. At the same time, our decision to reduce the rate banks pay on the MROs and the MLF from 18 September 2024 onwards will ensure that interest rate volatility will be contained as balance sheet normalisation proceeds, and that counterparties use MROs as an integral part of a smooth implementation of monetary policy. Taken together, the key characteristics of our operational framework will ensure that it remains effective and efficient, flexible and robust, and that it supports our secondary objective, while respecting the open market economy principle. Thank you.      See also Schnabel, I. (2023), “Back to normal? Balance sheet size and interest rate control”, speech at an event organised by Columbia University and SGH Macro Advisors, New York, 27 March.     ECB (2024), ECB announces changes to the operational framework for implementing monetary policy, 13 March.     Our regular open market operations consist of one-week liquidity-providing operations (the main refinancing operations) and three-month liquidity-providing operations.     Between 1999 and 2006, the standard deviation of the spread between the EONIA and the rate on the MROs averaged 15 basis points, with frequent spikes of larger magnitude.     From April 1999 onwards, the corridor width was 200 basis points in the euro area. By comparison, the Bank of Canada and the Sveriges Riksbank implemented monetary policy with a corridor of 50 and 150 basis points, respectively.     Bindseil, U. and Jabłecki, J. (2011), “The optimal width of the central bank standing facilities corridor and banks’ day-to-day liquidity management”, Working Paper Series, No 1350, ECB, June; Allen, W.A. (2002), “Bank of England open market operations: the introduction of a deposit facility for counterparties”, BIS Papers, No 12, Bank for International Settlements; Mitlid, K. and Vesterlund, M. (2001), “Steering interest rates in monetary policy – how does it work?”, Sveriges Riksbank Economic Review, No 1, pp. 19-41; Tucker, P. (2004), “Managing the central bank’s balance sheet: where monetary policy meets financial stability”, Bank of England Quarterly Bulletin, Vol. 44, No 3, Bank of England; and Bank of Canada (1995), “A proposed framework for the implementation of monetary policy in the Large Value Transfer System environment”, Discussion Paper.     See ECB (2007), “Volatility of the overnight interest rate and its transmission along the money market yield curve”, Monthly Bulletin, August; and ECB (2005), “The transmission of overnight interest rate volatility to longer-term interest rates in the euro area money market”, Monthly Bulletin, August. The ECB adjusted its framework in March 2004. The timing of reserve maintenance periods was amended and the maturity of the MROs was shortened from two weeks to one week. The main reason behind these changes were the underbidding episodes that had occurred in periods when there were expectations of an interest rate reduction.     A “leaky” floor is mostly a reflection of segmentation: as only banks have access to the ECB’s deposit facility, they can charge non-banks a fee for providing liquidity services. Granting non-banks access to the deposit facility could thus help establish a “hard” floor but would come with other challenges, as these institutions are less regulated than banks.     Barbiero, F., Boucinha, M. and Burlon, L. (2021), “TLTRO III and bank lending conditions”, Economic Bulletin, Issue 6, ECB; and Andreeva, D. and García-Posada, M. (2021), “The impact of the ECB's targeted long-term refinancing operations on banks’ lending policies: The role of competition”, Journal of Banking & Finance, Vol. 122.      This includes Pillar 3 “market discipline” requirements under the Basel III rules.     Schnabel, I. (2023), “Quantitative tightening: rationale and market impact”, speech at the Money Market Contact Group meeting,Frankfurt am Main, 2 March.     This may also have reflected uncertainties regarding the remuneration of non-monetary policy deposits at the time.     ECB (2024, op.cit.).     The events that unfolded in the United States in March 2023 suggest that the risks of bank runs have measurably increased in the digital age where information travels much faster.     See also Borio, C., Disyatat, P. and Schrimpf, A. (2024), “The double-faced demand for bank reserves and its implications”, VoxEU, Centre for Economic Policy Research, 15 February.     However, even without direct access to our balance sheet, the experience so far suggests that, in times of crisis, our toolkit has been able to provide liquidity – either directly or indirectly – to all parts of the financial system, including non-banks.     In the past, while in absolute terms more liquidity has been provided through asset purchases, the liquidity provided through credit operations reached 60% of the euro area banking system directly compared with 43% through asset purchases. Even after redistribution, liquidity generated via asset purchases remains largely concentrated among investment banks, custodians and clearing institutions in euro area financial centres.     Evidence from the United States suggests that financial stability risks may be significant under a supply-driven system, as banks may use reserves to build up significant runnable short-term liabilities. Such “liquidity dependence” may lead to a ratcheting up of the balance sheet that could be hard to reverse. See Acharya, V.V., Chauhan, R.S., Rajan, R. and Steffen, S. (2023), “Liquidity Dependence and the Waxing and Waning of Central Bank Balance Sheets”, NBER Working Papers, No 31050, National Bureau of Economic Research; Acharya, V. and Rajan, R. (2022), “Liquidity, liquidity everywhere, not a drop to use – Why flooding banks with central bank reserves may not expand liquidity”, NBER Working Papers, No 29680, National Bureau of Economic Research.     See, for example, Ahnert, T., Anand, K., Gai, P. and Chapman, J. (2019), “Asset Encumbrance, Bank Funding, and Fragility”, The Review of Financial Studies, Vol. 32, Issue 6, pp. 2422-2455, 22 September.     The cost of carry also determines banks’ demand for other HQLA, implying that a framework that incentivises banks to hoard central bank reserves risks being less neutral with respect to market prices.     Barbiero, F., Boucinha, M. and Burlon, L. (2021), op. cit.; and Andreeva, D.C. and García-Posada, M. (2021), op. cit. The experience of the first two TLTRO programmes allotted between September 2014 and March 2017 suggest that liquidity transformation through a broad collateral framework is quantitatively material: a one standard deviation increase in non-HQLA holdings accounts for 22% of the standard deviation of banks’ take-up over assets. See Sugo, T. and Vergote, O. (2020), “Who takes the ECB’s targeted funding?”, Working Paper Series, No 2439, ECB.     At the Bank of England banks can borrow and deposit reserves at the same rate (i.e. the spread is zero). However, unlike in the euro area, banks in the United Kingdom need to pledge high-quality collateral, which is subject to haircuts that are generally higher than those applied by central counterparties in the market.     This refers to BrokerTec/MTS one-day repo transactions and EurexGC pooling trades.      \"]\n"
     ]
    }
   ],
   "source": [
    "import csv \n",
    "L = [8]\n",
    "\n",
    "with open('all_ECB_speeches.csv', encoding = 'utf-8') as csvfile:\n",
    "    read_in_new = csv.reader(csvfile, delimiter='|')\n",
    "    for i, line in enumerate(read_in_new):\n",
    "        if i in L:\n",
    "            print(line)\n",
    "            x = line \n",
    "            break"
   ]
  },
  {
   "cell_type": "code",
   "execution_count": 83,
   "id": "61212dc6-4d1f-4d0d-925f-9b5d24665c0f",
   "metadata": {},
   "outputs": [
    {
     "data": {
      "text/plain": [
       "['2024-03-14',\n",
       " 'Isabel Schnabel',\n",
       " 'The Eurosystem’s operational framework',\n",
       " 'Speech by Isabel Schnabel, Member of the Executive Board of the ECB, at the Money Market Contact Group meeting',\n",
       " \"  SPEECH  The Eurosystem’s operational framework   Speech by Isabel Schnabel, Member of the Executive Board of the ECB, at the Money Market Contact Group meeting Frankfurt am Main, 14 March 2024 Since 2015, the Eurosystem has been operating under a de facto supply-driven floor system. This was the result of the monetary policy actions taken in the run-up to and during the pandemic to preserve price stability in the euro area.  Faced with years of persistently low inflation and the greatest economic contraction on record in 2020, we conducted large-scale asset purchases and targeted longer-term refinancing operations (TLTROs), thereby injecting a significant amount of central bank reserves into the financial system. The resulting easing of financing conditions supported economic activity in the pursuit of our mandate. As reserves were well in excess of banks’ liquidity needs, short-term money market rates have been trading in the vicinity of the rate at which the Eurosystem remunerates overnight deposits – the deposit facility rate, or DFR. More recently, the volume of reserves has started to visibly decline because of the sharp reversal in the course of monetary policy that was necessary to fight the post-pandemic surge in inflation.  As banks have started repaying their outstanding TLTRO loans, and as some of the bonds held by the Eurosystem have matured without being reinvested, excess liquidity has fallen by about €1.2 trillion from a peak of nearly €4.7 trillion in mid-2022. By the end of 2025, it is expected to decline by another €1.4 trillion to around €2.1 trillion (Slide 2).  While aggregate excess liquidity would still be abundant at that point, potential structural changes to reserve demand, arising for instance from prudential regulation, imply that there is significant uncertainty about when, and to what extent, the fall in reserves may put upward pressure on overnight money market rates, which could potentially affect the monetary policy stance (Slide 3). Against this background, over the past 15 months the Governing Council has taken stock of the experience gained in implementing monetary policy in different liquidity regimes and has evaluated options that would safeguard the smooth implementation of monetary policy as reserves become less ample.[1]  In my remarks today, I would like to explain the outcome of our deliberations and describe the key characteristics of the Eurosystem’s operational framework.[2] This framework has been tailored to the distinctive features of the euro area economy and will help financial markets and banks adapt to the ongoing changes in the liquidity environment. Taking stock of 25 years of policy implementation Monetary policy implementation has undergone significant shifts since the euro was introduced 25\\xa0years ago.  Until the global financial crisis in 2008, reserves in the euro area were scarce, meaning that banks had to systematically use the regular refinancing operations to cover their liquidity needs arising from the demand for banknotes, the minimum reserve requirements and idiosyncratic liquidity shocks (Slide 4).[3]  By providing the reserves needed to plug the liquidity deficit, the Eurosystem was able to steer the unsecured overnight interest rate to the middle of the corridor that is spanned by the ECB’s three key policy rates: the DFR, the rate at which banks can borrow in the main refinancing operations (MROs) and the rate applied at the marginal lending facility (MLF) (Slide 5). Before 2008, such a corridor system was widespread among central banks. The main difference was how reserves were supplied – either through collateralised lending operations or through asset purchases – and the extent to which volatility in the overnight rate was tolerated.  The ECB, for example, accepted deviations of the overnight rate from the policy target that were, on average, larger than those of the Federal Reserve System or the Bank of Japan but smaller than those of the Bank of England or Sveriges Riksbank (Slide 6, left-hand chart).[4] This was partly a reflection of the relatively large size of the corridor (Slide 6, right-hand chart).[5]  A certain tolerance for volatility – to the extent that it would not blur the signal about the intended monetary policy stance – reflected the desire by policymakers to promote interbank market activity and keep the central bank balance sheet as lean as possible.[6] Empirical evidence suggests that this volatility generally did not impede the transmission of monetary policy (Slide 7).[7]  The global financial crisis, however, exposed vulnerabilities of the pre-2008 corridor framework.  In particular, a system of scarce liquidity requires a functioning money market to distribute liquidity across the banking system. As the global financial crisis unfolded in August 2007 and banks hoarded reserves, parts of the euro area money market froze and interbank funding costs soared (Slide 8, left-hand chart).  The ECB’s response to these tensions lastingly changed the way monetary policy was implemented in the euro area. Since 2008, all lending operations have been conducted using a fixed-rate full allotment tender procedure against a broad, albeit varying, set of collateral. With full allotment, liquidity in the system was no longer determined by the ECB alone but also by banks, which affected the ECB’s ability to steer money market rates.  For example, when the ECB launched the three-year longer-term refinancing operations in 2011 and 2012 in response to the euro area sovereign debt crisis, excess liquidity rose considerably, pushing money market rates from levels close to the rate on the MROs down to the DFR (Slide 8, right-hand chart).  At that point, the size of the corridor implied a decline in short-term money market rates of about 70\\xa0basis points, equivalent to almost three “standard” policy cuts.  In 2015, the ECB started purchasing bonds under the asset purchase programme (APP). As these purchases created new central bank reserves, excess liquidity quickly rose to levels that were sufficiently large to keep money market rates closely anchored around the DFR. The experience of implementing monetary policy in an environment of abundant liquidity also revealed some of the downsides of that system. One was that the floor was “leaky”. As excess liquidity rose to unprecedented levels following the launch of the pandemic emergency purchase programme (PEPP) in 2020, the spread between the DFR and the euro short-term rate (€STR) steadily widened over the course of 2021 and 2022 (Slide 9, left-hand side). This episode highlighted that, without more fundamental changes to the counterparty framework, a supply-driven floor system was not fully robust either to changes in the liquidity environment and did not provide perfect rate controllability, even if the movements in €STR were gradual and orderly.[8]    A second aspect was that the provision of ample reserves discouraged banks from seeking market-based funding solutions. For example, many banks used the TLTROs to reduce their borrowing in the market, causing a decline in the issuance of commercial paper, secured or unsecured bank bonds and other liabilities (Slide 9, right-hand side).[9]  While funding substitution was in part intended to stimulate loan growth, it implied that banks had fewer occasions to “test” their credit quality in markets, which could run counter to supervisory expectations.[10]  A third concern is the impact of abundant liquidity on market functioning. The Eurosystem’s footprint in financial markets increased considerably over the past decade before reaching a turning point in 2022 (Slide 10).  As providing reserves through asset purchases reduces the free float of safe assets, liquidity may dry up in some segments of the financial market and collateral may become scarce. These effects became particularly concerning in 2022, when a significant share of repo transactions using German government bonds as collateral traded more than 40 basis points below €STR, reflecting a shortage of safe assets (Slide 11). Such asset scarcity can delay the transmission of monetary policy.[11] For example, it took more than a week for the policy decisions taken in July, September and October 2022 to be fully reflected in the different segments of the repo market (Slide 12).[12]  The operational framework: principles and characteristics The changes to our operational framework build on the experiences we have gained with implementing monetary policy over the past 25 years. This experience has culminated in six principles, some of which are directly founded on Treaty provisions, that will guide monetary policy implementation in the future:[13]    Effectiveness ensures that the operational framework is able to implement the monetary policy stance in line with the provisions of the EU Treaty;   robustness allows us to implement monetary policy in different financial and liquidity environments;   flexibility implies an elastic supply of central bank reserves based on banks’ needs, effectively channelling liquidity across the entire euro area banking system;   efficiency means that the operational framework implements the desired monetary policy stance and does not interfere with it, while respecting the proportionality principle and taking into account net side effects, including financial stability risks;  the design of the operational framework should also foster the smooth and orderly functioning of markets, consistent with the open market economy principle; finally, the operational framework shall facilitate the ECB’s pursuit of its secondary objective of supporting the general economic policies in the European Union – in particular the transition to a green economy – without prejudice to our primary objective of price stability.  Based on these principles, the framework is designed as a hybrid system that provides reserves elastically and through a mix of instruments, including both short-term lending operations and structural operations. It allows for an effective control of short-term money market rates, while leaving room for learning in an uncertain environment and respecting the established principles and the current starting point characterised by abundant liquidity. Our operational framework has three key characteristics. Refinancing operations are at the centre of liquidity provision  The first is its demand-driven nature. In such a system, the marginal unit of reserves is provided on demand through our regular refinancing operations. To this end, we will continue to provide as much liquidity as banks demand at a fixed rate in the MROs and in the three-month longer-term refinancing operations against broad collateral. Providing liquidity through fixed-rate tenders with full allotment marks a significant change from the balanced liquidity regime operated until 2008. It reflects changes in banks’ liquidity preferences and in the way they operate today.  Years of crises, new regulatory requirements and the advance of new technologies – some of which increase the risk of “digital” bank runs – imply that banks may wish to hold larger liquidity buffers than before 2008.[14]  As central banks injected huge volumes of reserves through large-scale asset purchases, reserves have become an important store of value in the economy, shielded from interest rate and liquidity risks.[15]  Supplying central bank reserves elastically as balance sheet normalisation proceeds will go a long way towards allowing banks to hold the level of reserves that they find optimal, and will help insure against the risks of fragmentation and sudden liquidity imbalances as reserves become less ample. A framework in which the marginal unit of reserves is provided through refinancing operations is best suited for the euro area economy, which remains, despite the gradual rise in market-based finance, a bank-based financial system. Given the effective pass-through of our monetary policy, the Governing Council currently sees no need to grant non-banks access to the Eurosystem balance sheet.[16]  With banks at the core of monetary policy transmission, and with the euro area banking sector being large and heterogeneous, reserves are most effectively supplied, at the margin, through our regular refinancing operations and against a broad set of collateral.  Putting our refinancing operations at the centre of liquidity provision ensures that liquidity reaches all corners of the euro area. By contrast, liquidity provided through asset purchases has tended to be concentrated among a small number of larger financial institutions, which are predominantly located in a few member countries.  Specifically, about 40% of banks, in terms of total assets, are holding the entire excess liquidity from asset purchases, the highest share being held in Germany (Slide 13). Lending operations tend to lead to a more even distribution of reserves across banks and countries.[17]  A system in which reserves are supplied elastically, if calibrated appropriately, is effective in implementing the monetary policy stance, as it does not require the central bank to estimate the uncertain volume of reserves necessary to steer short-term money market rates towards the key policy rate.  In a supply-driven framework, where the system is forced into a liquidity surplus by supplying sufficient reserves, this uncertainty requires a meaningful buffer of reserves to contain the risks of unwarranted volatility.  While a structurally higher supply of liquidity may be stabilising in the short run, it could pose longer-term risks to financial stability by distorting market prices and inducing excessive risk-taking. It would also raise more fundamental concerns about monetary and fiscal interactions in a currency union with sovereign member countries.[18]  So, while a supply-driven system can be the outcome of monetary policy actions to preserve price stability in the vicinity of the effective lower bound, as has been the case since 2015, it is less suitable as a permanent operational framework in the euro area. A demand-driven system, by contrast, can ensure effectiveness and efficiency by limiting net side effects, reducing both the Eurosystem’s footprint in financial markets and the financial risks it faces.  A broad mix of instruments ensures operational robustness The second key characteristic of our framework is the mix of instruments used to supply reserves. A demand-driven system cannot entirely rely on short-term lending operations to satisfy banks’ reserve demand. Banks having to roll over large structural liquidity needs on a weekly basis would increase operational risks. Banknotes in circulation, for example, currently amount to more than €1.5 trillion, nearly five times as much as at the start of monetary union. Moreover, relying exclusively on lending operations would encumber a large share of banks’ assets as collateral, raising bank fragility as fewer unencumbered assets are available to meet creditors’ demands in times of stress.[19]  As such, at a later stage, we will complement our short-term lending operations with new longer-term lending operations and a new structural bond portfolio. Both of these will provide a more stable source of liquidity. At present, the liquidity absorption through autonomous factors and minimum reserve requirements is more than offset by the liquidity previously provided through the Eurosystem legacy bond holdings from the APP and the PEPP, and through other financial assets held by national central banks.  But as the run-down of the APP and the PEPP portfolios proceeds, banks will increasingly need to borrow reserves from the Eurosystem, which will show up in a rise in the liquidity demanded at our regular operations (Slide 14). Once the Eurosystem balance sheet begins to grow durably again, we will start supplying reserves through new longer-term refinancing operations and through the new structural bond portfolio, taking into account legacy bond holdings.  Over time, these structural operations will make a substantial contribution to covering the banking sector’s structural liquidity needs arising from autonomous factors and minimum reserve requirements. In the period ahead, ECB staff will conduct an in-depth analysis of how to design these new instruments in accordance with the established principles.  The size and composition of the new portfolio, as well as the pricing and duration of longer-term refinancing operations will be chosen so as to minimise their impact on the monetary policy stance, market functioning and moral hazard, and to facilitate the ECB’s pursuit of its secondary objective by incorporating considerations related to climate change. “Soft” floor with narrow spread limits volatility and incentivises market activity The third key characteristic of the framework is that monetary policy is implemented through a “soft” floor with a narrow spread.   The Governing Council will continue to steer the monetary policy stance through the DFR, which has acted as the de facto anchor for money market rates in recent years. Current large excess liquidity levels imply that short-term interest rates can be expected to continue to trade in a narrow range around the DFR for some time. As reserves become less ample, however, money market rates could rise relative to the DFR and potentially become more volatile. In view of this, the rate on the MROs and the rate at the MLF will be adjusted such that the spread between the rate on the MROs and the DFR will be reduced to 15 basis points from 50 basis points currently, and the spread between the MLF rate and the rate on the MROs remains unchanged at 25\\xa0basis points. The corresponding adjustments of the MRO und MLF rates will come into effect with the sixth maintenance period of 2024, which begins on 18 September. The relatively narrow spread of 15 basis points between the rate on the MROs and the DFR will limit the potential upward pressure on money market rates and set incentives for banks to borrow liquidity in our operations as our balance sheet normalises.  Moreover, by leaving the spread between the MLF rate and the MRO rate unchanged at 25\\xa0basis points, our framework imposes a higher cost on banks running into a reserve shortage between our weekly refinancing operations, thereby generating conditions in which banks, on aggregate, may wish to hold excess liquidity, especially in the presence of a broad collateral framework. The parameterisation of our framework therefore implies that short-term money market rates are likely to evolve in the vicinity of the DFR. A “soft” floor means that the Governing Council will tolerate deviations from the DFR, provided such movements do not blur the signal about the intended monetary policy stance. In other words, orderly deviations in both directions are accepted. However, excessive volatility that would interfere with the monetary policy stance, or a persistent drift of money market rates away from the DFR, could require the framework parameters to be reviewed.  The chosen set of parameters reflects the trade-off central banks face between limiting volatility and setting incentives for banks to insure themselves against liquidity shocks in financial markets. This trade-off depends on the cost of carry, which is the spread between the rate banks pay for borrowing reserves and the remuneration they receive when depositing these reserves back with the central bank.  The lower this cost, the greater the incentive for banks to obtain liquidity primarily through the central bank.[20] But as we have observed in the past, discouraging banks from seeking market-based funding solutions may be undesirable as it risks weakening the resilience of the banking system and may go against the principle of an open market economy. These risks are especially high when banks have access to longer-term refinancing operations and are permitted to pledge non-marketable assets as collateral, as our framework foresees.  Since excess reserves count towards the fulfilment of prudential liquidity ratios, the combination of a very low cost of carry and a broad collateral framework could encourage banks to engage in excessive liquidity transformation, as they receive Level 1 high-quality liquid assets (HQLA) by pledging non-HQLA as collateral.  Such liquidity transformation remains economically attractive even after haircuts are taken into account.[21] In the first half of 2023, before banks began repaying their TLTRO loans, non-HQLA accounted for about 80% of mobilised collateral with the Eurosystem. A higher cost of carry reduces incentives for excessive liquidity transformation and thereby promotes both a leaner central bank balance sheet and the objectives of prudential regulation of banks having a diversified funding structure. At the same time, a high cost of carry increases the potential for rate volatility in money markets. A system with fixed-rate full allotment means that, as the balance sheet normalises, aggregate liquidity conditions, and hence money market rates, may fluctuate to a degree that could affect the transmission of monetary policy. In the view of the Governing Council, a spread of 15 basis points between the rate on the MROs and the DFR manages this trade-off well. It is small enough to contain volatility but large enough to preserve incentives for money market activity by encouraging banks to manage their liquidity prudently, thereby avoiding the risk of excessive liquidity transformation.[22]  Recent evidence indeed suggests that money market activity may be revived as excess liquidity is withdrawn. With interest rates moving back into positive territory and banks having started repaying their outstanding TLTRO loans, we have observed incipient signs of a moderate recovery in money market activity, including in interbank trading and across borders (Slide 15).  Similarly, while cash-motivated transactions accounted for just 14% of repo transactions in 2022, the volume of these transactions increased visibly as excess liquidity started to decline (Slide 16).[23] It remains to be seen whether the chosen spread is sufficient to meaningfully revive money market activity. A spread of 15 basis points is also likely to be conducive to supporting both a financially sound Eurosystem balance sheet and financial stability.  If the cost of carry were too high, banks might shy away and unduly economise on their holdings of reserves, leaving them more vulnerable to liquidity shocks. As our regular refinancing operations are intended to play a central role in meeting banks’ liquidity needs, the pricing should ensure that counterparties use them as an integral part of a smooth monetary policy implementation.  If, however, the spread were too narrow, there would be a risk that banks might hoard reserves, turning the central bank into a lender of first resort, thereby reducing banks’ incentives to insure themselves against short-term liquidity risks in financial markets.  Overall, therefore, the configuration of our framework supports financial stability by allowing banks to replace reserves that will be absorbed through the run-down of our monetary policy assets in our refinancing operations at a cost that neither encourages banks to overly hoard nor to shun central bank reserves. That said, the transition from a situation of abundant excess liquidity to one of less ample liquidity has few precedents and there is a lot of uncertainty about how market participants are going to adjust their behaviour.  Therefore, in the period ahead, we will carefully monitor the evolution and distribution of excess liquidity, the formation of money market rates, the evolution of banks’ demand for reserves, and the functioning of money markets and financial markets more broadly.  Based on the experience we gain, the Governing Council will review the key parameters of the operational framework in 2026 and stands ready to adjust the design and parameters of the framework at an earlier stage, if necessary, to ensure that the implementation of monetary policy remains in line with the established principles.  Conclusion Let me conclude. The Governing Council yesterday set out how we intend to steer short-term interest rates in the future, based on six principles, some of which are directly founded on the EU Treaty. The changes to the operational framework balance the benefits of providing central bank reserves elastically upon demand with the costs associated with a balance sheet that is larger than is strictly necessary to effectively implement the monetary policy stance. The changes to our operational framework do not have any implications for our monetary policy stance, neither for our interest rate policy nor for our monetary policy bond portfolios, which we expect to continue to be run off. With excess liquidity declining, clarity on the framework will help banks prepare for a period where holding central bank reserves will no longer be costless. At the same time, our decision to reduce the rate banks pay on the MROs and the MLF from 18 September 2024 onwards will ensure that interest rate volatility will be contained as balance sheet normalisation proceeds, and that counterparties use MROs as an integral part of a smooth implementation of monetary policy. Taken together, the key characteristics of our operational framework will ensure that it remains effective and efficient, flexible and robust, and that it supports our secondary objective, while respecting the open market economy principle. Thank you.      See also Schnabel, I. (2023), “Back to normal? Balance sheet size and interest rate control”, speech at an event organised by Columbia University and SGH Macro Advisors, New York, 27 March.     ECB (2024), ECB announces changes to the operational framework for implementing monetary policy, 13 March.     Our regular open market operations consist of one-week liquidity-providing operations (the main refinancing operations) and three-month liquidity-providing operations.     Between 1999 and 2006, the standard deviation of the spread between the EONIA and the rate on the MROs averaged 15 basis points, with frequent spikes of larger magnitude.     From April 1999 onwards, the corridor width was 200 basis points in the euro area. By comparison, the Bank of Canada and the Sveriges Riksbank implemented monetary policy with a corridor of 50 and 150 basis points, respectively.     Bindseil, U. and Jabłecki, J. (2011), “The optimal width of the central bank standing facilities corridor and banks’ day-to-day liquidity management”, Working Paper Series, No 1350, ECB, June; Allen, W.A. (2002), “Bank of England open market operations: the introduction of a deposit facility for counterparties”, BIS Papers, No 12, Bank for International Settlements; Mitlid, K. and Vesterlund, M. (2001), “Steering interest rates in monetary policy – how does it work?”, Sveriges Riksbank Economic Review, No 1, pp. 19-41; Tucker, P. (2004), “Managing the central bank’s balance sheet: where monetary policy meets financial stability”, Bank of England Quarterly Bulletin, Vol. 44, No 3, Bank of England; and Bank of Canada (1995), “A proposed framework for the implementation of monetary policy in the Large Value Transfer System environment”, Discussion Paper.     See ECB (2007), “Volatility of the overnight interest rate and its transmission along the money market yield curve”, Monthly Bulletin, August; and ECB (2005), “The transmission of overnight interest rate volatility to longer-term interest rates in the euro area money market”, Monthly Bulletin, August. The ECB adjusted its framework in March 2004. The timing of reserve maintenance periods was amended and the maturity of the MROs was shortened from two weeks to one week. The main reason behind these changes were the underbidding episodes that had occurred in periods when there were expectations of an interest rate reduction.     A “leaky” floor is mostly a reflection of segmentation: as only banks have access to the ECB’s deposit facility, they can charge non-banks a fee for providing liquidity services. Granting non-banks access to the deposit facility could thus help establish a “hard” floor but would come with other challenges, as these institutions are less regulated than banks.     Barbiero, F., Boucinha, M. and Burlon, L. (2021), “TLTRO III and bank lending conditions”, Economic Bulletin, Issue 6, ECB; and Andreeva, D. and García-Posada, M. (2021), “The impact of the ECB's targeted long-term refinancing operations on banks’ lending policies: The role of competition”, Journal of Banking & Finance, Vol. 122.      This includes Pillar 3 “market discipline” requirements under the Basel III rules.     Schnabel, I. (2023), “Quantitative tightening: rationale and market impact”, speech at the Money Market Contact Group meeting,Frankfurt am Main, 2 March.     This may also have reflected uncertainties regarding the remuneration of non-monetary policy deposits at the time.     ECB (2024, op.cit.).     The events that unfolded in the United States in March 2023 suggest that the risks of bank runs have measurably increased in the digital age where information travels much faster.     See also Borio, C., Disyatat, P. and Schrimpf, A. (2024), “The double-faced demand for bank reserves and its implications”, VoxEU, Centre for Economic Policy Research, 15 February.     However, even without direct access to our balance sheet, the experience so far suggests that, in times of crisis, our toolkit has been able to provide liquidity – either directly or indirectly – to all parts of the financial system, including non-banks.     In the past, while in absolute terms more liquidity has been provided through asset purchases, the liquidity provided through credit operations reached 60% of the euro area banking system directly compared with 43% through asset purchases. Even after redistribution, liquidity generated via asset purchases remains largely concentrated among investment banks, custodians and clearing institutions in euro area financial centres.     Evidence from the United States suggests that financial stability risks may be significant under a supply-driven system, as banks may use reserves to build up significant runnable short-term liabilities. Such “liquidity dependence” may lead to a ratcheting up of the balance sheet that could be hard to reverse. See Acharya, V.V., Chauhan, R.S., Rajan, R. and Steffen, S. (2023), “Liquidity Dependence and the Waxing and Waning of Central Bank Balance Sheets”, NBER Working Papers, No 31050, National Bureau of Economic Research; Acharya, V. and Rajan, R. (2022), “Liquidity, liquidity everywhere, not a drop to use – Why flooding banks with central bank reserves may not expand liquidity”, NBER Working Papers, No 29680, National Bureau of Economic Research.     See, for example, Ahnert, T., Anand, K., Gai, P. and Chapman, J. (2019), “Asset Encumbrance, Bank Funding, and Fragility”, The Review of Financial Studies, Vol. 32, Issue 6, pp. 2422-2455, 22 September.     The cost of carry also determines banks’ demand for other HQLA, implying that a framework that incentivises banks to hoard central bank reserves risks being less neutral with respect to market prices.     Barbiero, F., Boucinha, M. and Burlon, L. (2021), op. cit.; and Andreeva, D.C. and García-Posada, M. (2021), op. cit. The experience of the first two TLTRO programmes allotted between September 2014 and March 2017 suggest that liquidity transformation through a broad collateral framework is quantitatively material: a one standard deviation increase in non-HQLA holdings accounts for 22% of the standard deviation of banks’ take-up over assets. See Sugo, T. and Vergote, O. (2020), “Who takes the ECB’s targeted funding?”, Working Paper Series, No 2439, ECB.     At the Bank of England banks can borrow and deposit reserves at the same rate (i.e. the spread is zero). However, unlike in the euro area, banks in the United Kingdom need to pledge high-quality collateral, which is subject to haircuts that are generally higher than those applied by central counterparties in the market.     This refers to BrokerTec/MTS one-day repo transactions and EurexGC pooling trades.      \"]"
      ]
     },
     "execution_count": 83,
     "metadata": {},
     "output_type": "execute_result"
    }
   ],
   "source": [
    "x"
   ]
  },
  {
   "cell_type": "code",
   "execution_count": 84,
   "id": "1386409f-7a1e-4fd2-8595-87af650c48b0",
   "metadata": {},
   "outputs": [],
   "source": [
    "corpus = x[4]"
   ]
  },
  {
   "cell_type": "code",
   "execution_count": 85,
   "id": "eb87acae-00d4-41b6-a331-3454284e772a",
   "metadata": {},
   "outputs": [
    {
     "data": {
      "text/plain": [
       "'  SPEECH  The Eurosystem’s operational framework   Speech by Isabel Schnabel, Member of the Executive Board of the ECB, at the Money Market Contact Group meeting Frankfurt am Main, 14 March 2024 Since 2015, the Eurosystem has been operating under a de facto supply-driven floor system. This was the result of the monetary policy actions taken in the run-up to and during the pandemic to preserve price stability in the euro area.  Faced with years of persistently low inflation and the greatest econo'"
      ]
     },
     "execution_count": 85,
     "metadata": {},
     "output_type": "execute_result"
    }
   ],
   "source": [
    "corpus[:500]"
   ]
  },
  {
   "cell_type": "code",
   "execution_count": 86,
   "id": "0006496f-3d0d-4c77-8415-6926b20c2cd7",
   "metadata": {},
   "outputs": [
    {
     "data": {
      "text/plain": [
       "str"
      ]
     },
     "execution_count": 86,
     "metadata": {},
     "output_type": "execute_result"
    }
   ],
   "source": [
    "type(corpus)"
   ]
  },
  {
   "cell_type": "code",
   "execution_count": 87,
   "id": "62085d6a-3494-4e19-938a-51358db6957b",
   "metadata": {},
   "outputs": [
    {
     "data": {
      "text/plain": [
       "32342"
      ]
     },
     "execution_count": 87,
     "metadata": {},
     "output_type": "execute_result"
    }
   ],
   "source": [
    "len(corpus)"
   ]
  },
  {
   "cell_type": "code",
   "execution_count": 90,
   "id": "e3f0d0ca-67f6-4b4f-8bf7-23dc46341288",
   "metadata": {},
   "outputs": [],
   "source": [
    "corpus1=corpus.lstrip(corpus[2:157])"
   ]
  },
  {
   "cell_type": "code",
   "execution_count": 91,
   "id": "09294b97-f952-4395-b55f-b9fa004f23bf",
   "metadata": {},
   "outputs": [
    {
     "data": {
      "text/plain": [
       "\"g Frankfurt am Main, 14 March 2024 Since 2015, the Eurosystem has been operating under a de facto supply-driven floor system. This was the result of the monetary policy actions taken in the run-up to and during the pandemic to preserve price stability in the euro area.  Faced with years of persistently low inflation and the greatest economic contraction on record in 2020, we conducted large-scale asset purchases and targeted longer-term refinancing operations (TLTROs), thereby injecting a significant amount of central bank reserves into the financial system. The resulting easing of financing conditions supported economic activity in the pursuit of our mandate. As reserves were well in excess of banks’ liquidity needs, short-term money market rates have been trading in the vicinity of the rate at which the Eurosystem remunerates overnight deposits – the deposit facility rate, or DFR. More recently, the volume of reserves has started to visibly decline because of the sharp reversal in the course of monetary policy that was necessary to fight the post-pandemic surge in inflation.  As banks have started repaying their outstanding TLTRO loans, and as some of the bonds held by the Eurosystem have matured without being reinvested, excess liquidity has fallen by about €1.2 trillion from a peak of nearly €4.7 trillion in mid-2022. By the end of 2025, it is expected to decline by another €1.4 trillion to around €2.1 trillion (Slide 2).  While aggregate excess liquidity would still be abundant at that point, potential structural changes to reserve demand, arising for instance from prudential regulation, imply that there is significant uncertainty about when, and to what extent, the fall in reserves may put upward pressure on overnight money market rates, which could potentially affect the monetary policy stance (Slide 3). Against this background, over the past 15 months the Governing Council has taken stock of the experience gained in implementing monetary policy in different liquidity regimes and has evaluated options that would safeguard the smooth implementation of monetary policy as reserves become less ample.[1]  In my remarks today, I would like to explain the outcome of our deliberations and describe the key characteristics of the Eurosystem’s operational framework.[2] This framework has been tailored to the distinctive features of the euro area economy and will help financial markets and banks adapt to the ongoing changes in the liquidity environment. Taking stock of 25 years of policy implementation Monetary policy implementation has undergone significant shifts since the euro was introduced 25\\xa0years ago.  Until the global financial crisis in 2008, reserves in the euro area were scarce, meaning that banks had to systematically use the regular refinancing operations to cover their liquidity needs arising from the demand for banknotes, the minimum reserve requirements and idiosyncratic liquidity shocks (Slide 4).[3]  By providing the reserves needed to plug the liquidity deficit, the Eurosystem was able to steer the unsecured overnight interest rate to the middle of the corridor that is spanned by the ECB’s three key policy rates: the DFR, the rate at which banks can borrow in the main refinancing operations (MROs) and the rate applied at the marginal lending facility (MLF) (Slide 5). Before 2008, such a corridor system was widespread among central banks. The main difference was how reserves were supplied – either through collateralised lending operations or through asset purchases – and the extent to which volatility in the overnight rate was tolerated.  The ECB, for example, accepted deviations of the overnight rate from the policy target that were, on average, larger than those of the Federal Reserve System or the Bank of Japan but smaller than those of the Bank of England or Sveriges Riksbank (Slide 6, left-hand chart).[4] This was partly a reflection of the relatively large size of the corridor (Slide 6, right-hand chart).[5]  A certain tolerance for volatility – to the extent that it would not blur the signal about the intended monetary policy stance – reflected the desire by policymakers to promote interbank market activity and keep the central bank balance sheet as lean as possible.[6] Empirical evidence suggests that this volatility generally did not impede the transmission of monetary policy (Slide 7).[7]  The global financial crisis, however, exposed vulnerabilities of the pre-2008 corridor framework.  In particular, a system of scarce liquidity requires a functioning money market to distribute liquidity across the banking system. As the global financial crisis unfolded in August 2007 and banks hoarded reserves, parts of the euro area money market froze and interbank funding costs soared (Slide 8, left-hand chart).  The ECB’s response to these tensions lastingly changed the way monetary policy was implemented in the euro area. Since 2008, all lending operations have been conducted using a fixed-rate full allotment tender procedure against a broad, albeit varying, set of collateral. With full allotment, liquidity in the system was no longer determined by the ECB alone but also by banks, which affected the ECB’s ability to steer money market rates.  For example, when the ECB launched the three-year longer-term refinancing operations in 2011 and 2012 in response to the euro area sovereign debt crisis, excess liquidity rose considerably, pushing money market rates from levels close to the rate on the MROs down to the DFR (Slide 8, right-hand chart).  At that point, the size of the corridor implied a decline in short-term money market rates of about 70\\xa0basis points, equivalent to almost three “standard” policy cuts.  In 2015, the ECB started purchasing bonds under the asset purchase programme (APP). As these purchases created new central bank reserves, excess liquidity quickly rose to levels that were sufficiently large to keep money market rates closely anchored around the DFR. The experience of implementing monetary policy in an environment of abundant liquidity also revealed some of the downsides of that system. One was that the floor was “leaky”. As excess liquidity rose to unprecedented levels following the launch of the pandemic emergency purchase programme (PEPP) in 2020, the spread between the DFR and the euro short-term rate (€STR) steadily widened over the course of 2021 and 2022 (Slide 9, left-hand side). This episode highlighted that, without more fundamental changes to the counterparty framework, a supply-driven floor system was not fully robust either to changes in the liquidity environment and did not provide perfect rate controllability, even if the movements in €STR were gradual and orderly.[8]    A second aspect was that the provision of ample reserves discouraged banks from seeking market-based funding solutions. For example, many banks used the TLTROs to reduce their borrowing in the market, causing a decline in the issuance of commercial paper, secured or unsecured bank bonds and other liabilities (Slide 9, right-hand side).[9]  While funding substitution was in part intended to stimulate loan growth, it implied that banks had fewer occasions to “test” their credit quality in markets, which could run counter to supervisory expectations.[10]  A third concern is the impact of abundant liquidity on market functioning. The Eurosystem’s footprint in financial markets increased considerably over the past decade before reaching a turning point in 2022 (Slide 10).  As providing reserves through asset purchases reduces the free float of safe assets, liquidity may dry up in some segments of the financial market and collateral may become scarce. These effects became particularly concerning in 2022, when a significant share of repo transactions using German government bonds as collateral traded more than 40 basis points below €STR, reflecting a shortage of safe assets (Slide 11). Such asset scarcity can delay the transmission of monetary policy.[11] For example, it took more than a week for the policy decisions taken in July, September and October 2022 to be fully reflected in the different segments of the repo market (Slide 12).[12]  The operational framework: principles and characteristics The changes to our operational framework build on the experiences we have gained with implementing monetary policy over the past 25 years. This experience has culminated in six principles, some of which are directly founded on Treaty provisions, that will guide monetary policy implementation in the future:[13]    Effectiveness ensures that the operational framework is able to implement the monetary policy stance in line with the provisions of the EU Treaty;   robustness allows us to implement monetary policy in different financial and liquidity environments;   flexibility implies an elastic supply of central bank reserves based on banks’ needs, effectively channelling liquidity across the entire euro area banking system;   efficiency means that the operational framework implements the desired monetary policy stance and does not interfere with it, while respecting the proportionality principle and taking into account net side effects, including financial stability risks;  the design of the operational framework should also foster the smooth and orderly functioning of markets, consistent with the open market economy principle; finally, the operational framework shall facilitate the ECB’s pursuit of its secondary objective of supporting the general economic policies in the European Union – in particular the transition to a green economy – without prejudice to our primary objective of price stability.  Based on these principles, the framework is designed as a hybrid system that provides reserves elastically and through a mix of instruments, including both short-term lending operations and structural operations. It allows for an effective control of short-term money market rates, while leaving room for learning in an uncertain environment and respecting the established principles and the current starting point characterised by abundant liquidity. Our operational framework has three key characteristics. Refinancing operations are at the centre of liquidity provision  The first is its demand-driven nature. In such a system, the marginal unit of reserves is provided on demand through our regular refinancing operations. To this end, we will continue to provide as much liquidity as banks demand at a fixed rate in the MROs and in the three-month longer-term refinancing operations against broad collateral. Providing liquidity through fixed-rate tenders with full allotment marks a significant change from the balanced liquidity regime operated until 2008. It reflects changes in banks’ liquidity preferences and in the way they operate today.  Years of crises, new regulatory requirements and the advance of new technologies – some of which increase the risk of “digital” bank runs – imply that banks may wish to hold larger liquidity buffers than before 2008.[14]  As central banks injected huge volumes of reserves through large-scale asset purchases, reserves have become an important store of value in the economy, shielded from interest rate and liquidity risks.[15]  Supplying central bank reserves elastically as balance sheet normalisation proceeds will go a long way towards allowing banks to hold the level of reserves that they find optimal, and will help insure against the risks of fragmentation and sudden liquidity imbalances as reserves become less ample. A framework in which the marginal unit of reserves is provided through refinancing operations is best suited for the euro area economy, which remains, despite the gradual rise in market-based finance, a bank-based financial system. Given the effective pass-through of our monetary policy, the Governing Council currently sees no need to grant non-banks access to the Eurosystem balance sheet.[16]  With banks at the core of monetary policy transmission, and with the euro area banking sector being large and heterogeneous, reserves are most effectively supplied, at the margin, through our regular refinancing operations and against a broad set of collateral.  Putting our refinancing operations at the centre of liquidity provision ensures that liquidity reaches all corners of the euro area. By contrast, liquidity provided through asset purchases has tended to be concentrated among a small number of larger financial institutions, which are predominantly located in a few member countries.  Specifically, about 40% of banks, in terms of total assets, are holding the entire excess liquidity from asset purchases, the highest share being held in Germany (Slide 13). Lending operations tend to lead to a more even distribution of reserves across banks and countries.[17]  A system in which reserves are supplied elastically, if calibrated appropriately, is effective in implementing the monetary policy stance, as it does not require the central bank to estimate the uncertain volume of reserves necessary to steer short-term money market rates towards the key policy rate.  In a supply-driven framework, where the system is forced into a liquidity surplus by supplying sufficient reserves, this uncertainty requires a meaningful buffer of reserves to contain the risks of unwarranted volatility.  While a structurally higher supply of liquidity may be stabilising in the short run, it could pose longer-term risks to financial stability by distorting market prices and inducing excessive risk-taking. It would also raise more fundamental concerns about monetary and fiscal interactions in a currency union with sovereign member countries.[18]  So, while a supply-driven system can be the outcome of monetary policy actions to preserve price stability in the vicinity of the effective lower bound, as has been the case since 2015, it is less suitable as a permanent operational framework in the euro area. A demand-driven system, by contrast, can ensure effectiveness and efficiency by limiting net side effects, reducing both the Eurosystem’s footprint in financial markets and the financial risks it faces.  A broad mix of instruments ensures operational robustness The second key characteristic of our framework is the mix of instruments used to supply reserves. A demand-driven system cannot entirely rely on short-term lending operations to satisfy banks’ reserve demand. Banks having to roll over large structural liquidity needs on a weekly basis would increase operational risks. Banknotes in circulation, for example, currently amount to more than €1.5 trillion, nearly five times as much as at the start of monetary union. Moreover, relying exclusively on lending operations would encumber a large share of banks’ assets as collateral, raising bank fragility as fewer unencumbered assets are available to meet creditors’ demands in times of stress.[19]  As such, at a later stage, we will complement our short-term lending operations with new longer-term lending operations and a new structural bond portfolio. Both of these will provide a more stable source of liquidity. At present, the liquidity absorption through autonomous factors and minimum reserve requirements is more than offset by the liquidity previously provided through the Eurosystem legacy bond holdings from the APP and the PEPP, and through other financial assets held by national central banks.  But as the run-down of the APP and the PEPP portfolios proceeds, banks will increasingly need to borrow reserves from the Eurosystem, which will show up in a rise in the liquidity demanded at our regular operations (Slide 14). Once the Eurosystem balance sheet begins to grow durably again, we will start supplying reserves through new longer-term refinancing operations and through the new structural bond portfolio, taking into account legacy bond holdings.  Over time, these structural operations will make a substantial contribution to covering the banking sector’s structural liquidity needs arising from autonomous factors and minimum reserve requirements. In the period ahead, ECB staff will conduct an in-depth analysis of how to design these new instruments in accordance with the established principles.  The size and composition of the new portfolio, as well as the pricing and duration of longer-term refinancing operations will be chosen so as to minimise their impact on the monetary policy stance, market functioning and moral hazard, and to facilitate the ECB’s pursuit of its secondary objective by incorporating considerations related to climate change. “Soft” floor with narrow spread limits volatility and incentivises market activity The third key characteristic of the framework is that monetary policy is implemented through a “soft” floor with a narrow spread.   The Governing Council will continue to steer the monetary policy stance through the DFR, which has acted as the de facto anchor for money market rates in recent years. Current large excess liquidity levels imply that short-term interest rates can be expected to continue to trade in a narrow range around the DFR for some time. As reserves become less ample, however, money market rates could rise relative to the DFR and potentially become more volatile. In view of this, the rate on the MROs and the rate at the MLF will be adjusted such that the spread between the rate on the MROs and the DFR will be reduced to 15 basis points from 50 basis points currently, and the spread between the MLF rate and the rate on the MROs remains unchanged at 25\\xa0basis points. The corresponding adjustments of the MRO und MLF rates will come into effect with the sixth maintenance period of 2024, which begins on 18 September. The relatively narrow spread of 15 basis points between the rate on the MROs and the DFR will limit the potential upward pressure on money market rates and set incentives for banks to borrow liquidity in our operations as our balance sheet normalises.  Moreover, by leaving the spread between the MLF rate and the MRO rate unchanged at 25\\xa0basis points, our framework imposes a higher cost on banks running into a reserve shortage between our weekly refinancing operations, thereby generating conditions in which banks, on aggregate, may wish to hold excess liquidity, especially in the presence of a broad collateral framework. The parameterisation of our framework therefore implies that short-term money market rates are likely to evolve in the vicinity of the DFR. A “soft” floor means that the Governing Council will tolerate deviations from the DFR, provided such movements do not blur the signal about the intended monetary policy stance. In other words, orderly deviations in both directions are accepted. However, excessive volatility that would interfere with the monetary policy stance, or a persistent drift of money market rates away from the DFR, could require the framework parameters to be reviewed.  The chosen set of parameters reflects the trade-off central banks face between limiting volatility and setting incentives for banks to insure themselves against liquidity shocks in financial markets. This trade-off depends on the cost of carry, which is the spread between the rate banks pay for borrowing reserves and the remuneration they receive when depositing these reserves back with the central bank.  The lower this cost, the greater the incentive for banks to obtain liquidity primarily through the central bank.[20] But as we have observed in the past, discouraging banks from seeking market-based funding solutions may be undesirable as it risks weakening the resilience of the banking system and may go against the principle of an open market economy. These risks are especially high when banks have access to longer-term refinancing operations and are permitted to pledge non-marketable assets as collateral, as our framework foresees.  Since excess reserves count towards the fulfilment of prudential liquidity ratios, the combination of a very low cost of carry and a broad collateral framework could encourage banks to engage in excessive liquidity transformation, as they receive Level 1 high-quality liquid assets (HQLA) by pledging non-HQLA as collateral.  Such liquidity transformation remains economically attractive even after haircuts are taken into account.[21] In the first half of 2023, before banks began repaying their TLTRO loans, non-HQLA accounted for about 80% of mobilised collateral with the Eurosystem. A higher cost of carry reduces incentives for excessive liquidity transformation and thereby promotes both a leaner central bank balance sheet and the objectives of prudential regulation of banks having a diversified funding structure. At the same time, a high cost of carry increases the potential for rate volatility in money markets. A system with fixed-rate full allotment means that, as the balance sheet normalises, aggregate liquidity conditions, and hence money market rates, may fluctuate to a degree that could affect the transmission of monetary policy. In the view of the Governing Council, a spread of 15 basis points between the rate on the MROs and the DFR manages this trade-off well. It is small enough to contain volatility but large enough to preserve incentives for money market activity by encouraging banks to manage their liquidity prudently, thereby avoiding the risk of excessive liquidity transformation.[22]  Recent evidence indeed suggests that money market activity may be revived as excess liquidity is withdrawn. With interest rates moving back into positive territory and banks having started repaying their outstanding TLTRO loans, we have observed incipient signs of a moderate recovery in money market activity, including in interbank trading and across borders (Slide 15).  Similarly, while cash-motivated transactions accounted for just 14% of repo transactions in 2022, the volume of these transactions increased visibly as excess liquidity started to decline (Slide 16).[23] It remains to be seen whether the chosen spread is sufficient to meaningfully revive money market activity. A spread of 15 basis points is also likely to be conducive to supporting both a financially sound Eurosystem balance sheet and financial stability.  If the cost of carry were too high, banks might shy away and unduly economise on their holdings of reserves, leaving them more vulnerable to liquidity shocks. As our regular refinancing operations are intended to play a central role in meeting banks’ liquidity needs, the pricing should ensure that counterparties use them as an integral part of a smooth monetary policy implementation.  If, however, the spread were too narrow, there would be a risk that banks might hoard reserves, turning the central bank into a lender of first resort, thereby reducing banks’ incentives to insure themselves against short-term liquidity risks in financial markets.  Overall, therefore, the configuration of our framework supports financial stability by allowing banks to replace reserves that will be absorbed through the run-down of our monetary policy assets in our refinancing operations at a cost that neither encourages banks to overly hoard nor to shun central bank reserves. That said, the transition from a situation of abundant excess liquidity to one of less ample liquidity has few precedents and there is a lot of uncertainty about how market participants are going to adjust their behaviour.  Therefore, in the period ahead, we will carefully monitor the evolution and distribution of excess liquidity, the formation of money market rates, the evolution of banks’ demand for reserves, and the functioning of money markets and financial markets more broadly.  Based on the experience we gain, the Governing Council will review the key parameters of the operational framework in 2026 and stands ready to adjust the design and parameters of the framework at an earlier stage, if necessary, to ensure that the implementation of monetary policy remains in line with the established principles.  Conclusion Let me conclude. The Governing Council yesterday set out how we intend to steer short-term interest rates in the future, based on six principles, some of which are directly founded on the EU Treaty. The changes to the operational framework balance the benefits of providing central bank reserves elastically upon demand with the costs associated with a balance sheet that is larger than is strictly necessary to effectively implement the monetary policy stance. The changes to our operational framework do not have any implications for our monetary policy stance, neither for our interest rate policy nor for our monetary policy bond portfolios, which we expect to continue to be run off. With excess liquidity declining, clarity on the framework will help banks prepare for a period where holding central bank reserves will no longer be costless. At the same time, our decision to reduce the rate banks pay on the MROs and the MLF from 18 September 2024 onwards will ensure that interest rate volatility will be contained as balance sheet normalisation proceeds, and that counterparties use MROs as an integral part of a smooth implementation of monetary policy. Taken together, the key characteristics of our operational framework will ensure that it remains effective and efficient, flexible and robust, and that it supports our secondary objective, while respecting the open market economy principle. Thank you.      See also Schnabel, I. (2023), “Back to normal? Balance sheet size and interest rate control”, speech at an event organised by Columbia University and SGH Macro Advisors, New York, 27 March.     ECB (2024), ECB announces changes to the operational framework for implementing monetary policy, 13 March.     Our regular open market operations consist of one-week liquidity-providing operations (the main refinancing operations) and three-month liquidity-providing operations.     Between 1999 and 2006, the standard deviation of the spread between the EONIA and the rate on the MROs averaged 15 basis points, with frequent spikes of larger magnitude.     From April 1999 onwards, the corridor width was 200 basis points in the euro area. By comparison, the Bank of Canada and the Sveriges Riksbank implemented monetary policy with a corridor of 50 and 150 basis points, respectively.     Bindseil, U. and Jabłecki, J. (2011), “The optimal width of the central bank standing facilities corridor and banks’ day-to-day liquidity management”, Working Paper Series, No 1350, ECB, June; Allen, W.A. (2002), “Bank of England open market operations: the introduction of a deposit facility for counterparties”, BIS Papers, No 12, Bank for International Settlements; Mitlid, K. and Vesterlund, M. (2001), “Steering interest rates in monetary policy – how does it work?”, Sveriges Riksbank Economic Review, No 1, pp. 19-41; Tucker, P. (2004), “Managing the central bank’s balance sheet: where monetary policy meets financial stability”, Bank of England Quarterly Bulletin, Vol. 44, No 3, Bank of England; and Bank of Canada (1995), “A proposed framework for the implementation of monetary policy in the Large Value Transfer System environment”, Discussion Paper.     See ECB (2007), “Volatility of the overnight interest rate and its transmission along the money market yield curve”, Monthly Bulletin, August; and ECB (2005), “The transmission of overnight interest rate volatility to longer-term interest rates in the euro area money market”, Monthly Bulletin, August. The ECB adjusted its framework in March 2004. The timing of reserve maintenance periods was amended and the maturity of the MROs was shortened from two weeks to one week. The main reason behind these changes were the underbidding episodes that had occurred in periods when there were expectations of an interest rate reduction.     A “leaky” floor is mostly a reflection of segmentation: as only banks have access to the ECB’s deposit facility, they can charge non-banks a fee for providing liquidity services. Granting non-banks access to the deposit facility could thus help establish a “hard” floor but would come with other challenges, as these institutions are less regulated than banks.     Barbiero, F., Boucinha, M. and Burlon, L. (2021), “TLTRO III and bank lending conditions”, Economic Bulletin, Issue 6, ECB; and Andreeva, D. and García-Posada, M. (2021), “The impact of the ECB's targeted long-term refinancing operations on banks’ lending policies: The role of competition”, Journal of Banking & Finance, Vol. 122.      This includes Pillar 3 “market discipline” requirements under the Basel III rules.     Schnabel, I. (2023), “Quantitative tightening: rationale and market impact”, speech at the Money Market Contact Group meeting,Frankfurt am Main, 2 March.     This may also have reflected uncertainties regarding the remuneration of non-monetary policy deposits at the time.     ECB (2024, op.cit.).     The events that unfolded in the United States in March 2023 suggest that the risks of bank runs have measurably increased in the digital age where information travels much faster.     See also Borio, C., Disyatat, P. and Schrimpf, A. (2024), “The double-faced demand for bank reserves and its implications”, VoxEU, Centre for Economic Policy Research, 15 February.     However, even without direct access to our balance sheet, the experience so far suggests that, in times of crisis, our toolkit has been able to provide liquidity – either directly or indirectly – to all parts of the financial system, including non-banks.     In the past, while in absolute terms more liquidity has been provided through asset purchases, the liquidity provided through credit operations reached 60% of the euro area banking system directly compared with 43% through asset purchases. Even after redistribution, liquidity generated via asset purchases remains largely concentrated among investment banks, custodians and clearing institutions in euro area financial centres.     Evidence from the United States suggests that financial stability risks may be significant under a supply-driven system, as banks may use reserves to build up significant runnable short-term liabilities. Such “liquidity dependence” may lead to a ratcheting up of the balance sheet that could be hard to reverse. See Acharya, V.V., Chauhan, R.S., Rajan, R. and Steffen, S. (2023), “Liquidity Dependence and the Waxing and Waning of Central Bank Balance Sheets”, NBER Working Papers, No 31050, National Bureau of Economic Research; Acharya, V. and Rajan, R. (2022), “Liquidity, liquidity everywhere, not a drop to use – Why flooding banks with central bank reserves may not expand liquidity”, NBER Working Papers, No 29680, National Bureau of Economic Research.     See, for example, Ahnert, T., Anand, K., Gai, P. and Chapman, J. (2019), “Asset Encumbrance, Bank Funding, and Fragility”, The Review of Financial Studies, Vol. 32, Issue 6, pp. 2422-2455, 22 September.     The cost of carry also determines banks’ demand for other HQLA, implying that a framework that incentivises banks to hoard central bank reserves risks being less neutral with respect to market prices.     Barbiero, F., Boucinha, M. and Burlon, L. (2021), op. cit.; and Andreeva, D.C. and García-Posada, M. (2021), op. cit. The experience of the first two TLTRO programmes allotted between September 2014 and March 2017 suggest that liquidity transformation through a broad collateral framework is quantitatively material: a one standard deviation increase in non-HQLA holdings accounts for 22% of the standard deviation of banks’ take-up over assets. See Sugo, T. and Vergote, O. (2020), “Who takes the ECB’s targeted funding?”, Working Paper Series, No 2439, ECB.     At the Bank of England banks can borrow and deposit reserves at the same rate (i.e. the spread is zero). However, unlike in the euro area, banks in the United Kingdom need to pledge high-quality collateral, which is subject to haircuts that are generally higher than those applied by central counterparties in the market.     This refers to BrokerTec/MTS one-day repo transactions and EurexGC pooling trades.      \""
      ]
     },
     "execution_count": 91,
     "metadata": {},
     "output_type": "execute_result"
    }
   ],
   "source": [
    "corpus1"
   ]
  },
  {
   "cell_type": "code",
   "execution_count": 92,
   "id": "30e30d6a-1792-42e6-bfc8-0d2b2731d48d",
   "metadata": {},
   "outputs": [
    {
     "data": {
      "text/plain": [
       "'g Frankfurt am Main, 14 March 2024 Since 2015, the Eurosystem has been operating under a de facto supply-driven floor system. This was the result of the monetary policy actions taken in the run-up to and during the pandemic to preserve price stability in the euro area.  Faced with years of persistently low inflation and the greatest economic contraction on record in 2020, we conducted large-scale asset purchases and targeted longer-term refinancing operations (TLTROs), thereby injecting a signif'"
      ]
     },
     "execution_count": 92,
     "metadata": {},
     "output_type": "execute_result"
    }
   ],
   "source": [
    "corpus1[:500]"
   ]
  },
  {
   "cell_type": "code",
   "execution_count": 93,
   "id": "f58c943f-40d9-4e79-9fcf-6a41e2b34532",
   "metadata": {},
   "outputs": [],
   "source": [
    "corpus2=corpus1.rstrip(corpus1[18040:])"
   ]
  },
  {
   "cell_type": "code",
   "execution_count": 94,
   "id": "f535dc64-214d-48fe-8589-6489d094a431",
   "metadata": {},
   "outputs": [
    {
     "data": {
      "text/plain": [
       "''"
      ]
     },
     "execution_count": 94,
     "metadata": {},
     "output_type": "execute_result"
    }
   ],
   "source": [
    "corpus2[17000:]"
   ]
  },
  {
   "cell_type": "code",
   "execution_count": 95,
   "id": "f3a93892-a026-4567-b67b-972c23c4fa94",
   "metadata": {},
   "outputs": [],
   "source": [
    "corpus3=corpus2.rstrip(corpus2[17969:])"
   ]
  },
  {
   "cell_type": "code",
   "execution_count": 96,
   "id": "e8049439-fa9f-4c3f-b4cd-8e2231ca75ae",
   "metadata": {},
   "outputs": [
    {
     "data": {
      "text/plain": [
       "''"
      ]
     },
     "execution_count": 96,
     "metadata": {},
     "output_type": "execute_result"
    }
   ],
   "source": [
    "corpus3[17000:]"
   ]
  },
  {
   "cell_type": "code",
   "execution_count": 97,
   "id": "18ab2524-9c95-4cd7-ab10-6372bb111f9b",
   "metadata": {},
   "outputs": [],
   "source": [
    "corpus4=corpus3.lstrip(corpus3[:3])"
   ]
  },
  {
   "cell_type": "code",
   "execution_count": 98,
   "id": "3cd581f6-d7c8-4843-90dd-cc5e7ab66e68",
   "metadata": {},
   "outputs": [
    {
     "data": {
      "text/plain": [
       "'rankfurt am Main, 14 March 2024 Since 2015, the Eurosystem has been operating under a de facto supply-driven floor system. This was the result of the monetary policy actions taken in the run-up to and during the pandemic to preserve price stability in the euro area.  Faced with years of persistently low inflation and the greatest economic contraction on record in 2020, we conducted large-scale asset purchases and targeted longer-term refinancing operations (TLTROs), thereby injecting a significa'"
      ]
     },
     "execution_count": 98,
     "metadata": {},
     "output_type": "execute_result"
    }
   ],
   "source": [
    "corpus4[:500]"
   ]
  },
  {
   "cell_type": "code",
   "execution_count": 99,
   "id": "805b4cd3-a93b-4c83-a74f-c793dcd4258c",
   "metadata": {},
   "outputs": [],
   "source": [
    "corpus5=corpus4.rstrip(corpus4[17957:])"
   ]
  },
  {
   "cell_type": "code",
   "execution_count": 100,
   "id": "c2294891-2e9b-4a76-a27e-7db52519745a",
   "metadata": {},
   "outputs": [
    {
     "data": {
      "text/plain": [
       "''"
      ]
     },
     "execution_count": 100,
     "metadata": {},
     "output_type": "execute_result"
    }
   ],
   "source": [
    "corpus5[17000:]"
   ]
  },
  {
   "cell_type": "markdown",
   "id": "92355cfa-eaff-4f86-8c1b-f685721ba140",
   "metadata": {},
   "source": [
    "# <span style =\"color:red\">NumPy, Pandas, Scikit-learn</span>"
   ]
  },
  {
   "cell_type": "markdown",
   "id": "79f73706-a081-4a13-ae04-b904e8eef6f2",
   "metadata": {},
   "source": [
    "##### Importing Statements"
   ]
  },
  {
   "cell_type": "code",
   "execution_count": 103,
   "id": "52d144a1-905d-4e55-b885-704817f98eb0",
   "metadata": {},
   "outputs": [],
   "source": [
    "import pandas as pd\n",
    "import numpy as np"
   ]
  },
  {
   "cell_type": "code",
   "execution_count": 105,
   "id": "55659948-fadf-44e5-831d-58122f8b4d74",
   "metadata": {},
   "outputs": [
    {
     "data": {
      "text/plain": [
       "array([ 7,  8,  9, 10])"
      ]
     },
     "execution_count": 105,
     "metadata": {},
     "output_type": "execute_result"
    }
   ],
   "source": [
    "v = np.array([7,8,9,10])\n",
    "v"
   ]
  },
  {
   "cell_type": "code",
   "execution_count": 107,
   "id": "1d4e89fe-59ed-4338-a654-768d580c0f47",
   "metadata": {},
   "outputs": [
    {
     "data": {
      "text/plain": [
       "[7, 8, 9, 10]"
      ]
     },
     "execution_count": 107,
     "metadata": {},
     "output_type": "execute_result"
    }
   ],
   "source": [
    "l = [7,8,9,10]\n",
    "l"
   ]
  },
  {
   "cell_type": "code",
   "execution_count": 109,
   "id": "72c3693a-8e7e-40bc-bcd8-153cbeafd1ff",
   "metadata": {},
   "outputs": [
    {
     "data": {
      "text/plain": [
       "False"
      ]
     },
     "execution_count": 109,
     "metadata": {},
     "output_type": "execute_result"
    }
   ],
   "source": [
    "type(v) == type(l)"
   ]
  },
  {
   "cell_type": "code",
   "execution_count": 112,
   "id": "0db30711-7b52-4daf-9d30-c9bcbb073505",
   "metadata": {},
   "outputs": [
    {
     "data": {
      "text/plain": [
       "array([10,  9,  8,  7])"
      ]
     },
     "execution_count": 112,
     "metadata": {},
     "output_type": "execute_result"
    }
   ],
   "source": [
    "v[::-1]"
   ]
  },
  {
   "cell_type": "code",
   "execution_count": 113,
   "id": "804350df-10ee-4f95-8034-0f676cda2ccb",
   "metadata": {},
   "outputs": [
    {
     "data": {
      "text/plain": [
       "array([ 8,  9, 10, 11])"
      ]
     },
     "execution_count": 113,
     "metadata": {},
     "output_type": "execute_result"
    }
   ],
   "source": [
    "v + 1"
   ]
  },
  {
   "cell_type": "code",
   "execution_count": 115,
   "id": "dbd6f7fa-8312-46be-9fdb-5cc6306625f4",
   "metadata": {},
   "outputs": [
    {
     "data": {
      "text/plain": [
       "array([ 49,  64,  81, 100])"
      ]
     },
     "execution_count": 115,
     "metadata": {},
     "output_type": "execute_result"
    }
   ],
   "source": [
    "v**2"
   ]
  },
  {
   "cell_type": "code",
   "execution_count": null,
   "id": "c425c27a-23cf-40a6-83fe-df10e8cdc5cc",
   "metadata": {},
   "outputs": [],
   "source": []
  }
 ],
 "metadata": {
  "kernelspec": {
   "display_name": "Python 3 (ipykernel)",
   "language": "python",
   "name": "python3"
  },
  "language_info": {
   "codemirror_mode": {
    "name": "ipython",
    "version": 3
   },
   "file_extension": ".py",
   "mimetype": "text/x-python",
   "name": "python",
   "nbconvert_exporter": "python",
   "pygments_lexer": "ipython3",
   "version": "3.11.7"
  }
 },
 "nbformat": 4,
 "nbformat_minor": 5
}
