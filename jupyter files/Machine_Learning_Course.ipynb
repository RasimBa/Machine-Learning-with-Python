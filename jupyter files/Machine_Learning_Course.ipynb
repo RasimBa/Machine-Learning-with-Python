{
 "cells": [
  {
   "cell_type": "markdown",
   "id": "dfdf09d7-e6f6-47ae-a8a6-7e16aeded922",
   "metadata": {},
   "source": [
    "<span style = \"color:red\">**Lecture 2 - 12.04.24**</span>"
   ]
  },
  {
   "cell_type": "code",
   "execution_count": 1,
   "id": "e32ac738",
   "metadata": {},
   "outputs": [
    {
     "name": "stdout",
     "output_type": "stream",
     "text": [
      "Hello World\n"
     ]
    }
   ],
   "source": [
    "print(\"Hello World\")"
   ]
  },
  {
   "cell_type": "code",
   "execution_count": 2,
   "id": "4e96c51f-4bd0-447e-9f02-2a3aeb93336b",
   "metadata": {},
   "outputs": [
    {
     "data": {
      "text/plain": [
       "10"
      ]
     },
     "execution_count": 2,
     "metadata": {},
     "output_type": "execute_result"
    }
   ],
   "source": [
    "x=10\n",
    "x"
   ]
  },
  {
   "cell_type": "code",
   "execution_count": 3,
   "id": "99a073ce-0b45-4a04-b7ec-27202443ebc1",
   "metadata": {},
   "outputs": [
    {
     "data": {
      "text/plain": [
       "'ab cd'"
      ]
     },
     "execution_count": 3,
     "metadata": {},
     "output_type": "execute_result"
    }
   ],
   "source": [
    "\"ab\" + \" cd\""
   ]
  },
  {
   "cell_type": "code",
   "execution_count": 4,
   "id": "6416dfbe-da19-4f9b-b683-c2ec248c76a5",
   "metadata": {},
   "outputs": [
    {
     "data": {
      "text/plain": [
       "int"
      ]
     },
     "execution_count": 4,
     "metadata": {},
     "output_type": "execute_result"
    }
   ],
   "source": [
    "type(x)"
   ]
  },
  {
   "cell_type": "code",
   "execution_count": 5,
   "id": "7e1d2bac-b219-4898-a295-6f2aca768de9",
   "metadata": {},
   "outputs": [
    {
     "data": {
      "text/plain": [
       "list"
      ]
     },
     "execution_count": 5,
     "metadata": {},
     "output_type": "execute_result"
    }
   ],
   "source": [
    "x=[1,2,3,4,'a','b']\n",
    "type(x)"
   ]
  },
  {
   "cell_type": "markdown",
   "id": "6515d3dd-0b13-4a30-9d94-c58ddeea1ce9",
   "metadata": {},
   "source": [
    "**tuple**"
   ]
  },
  {
   "cell_type": "code",
   "execution_count": 6,
   "id": "64714470-ad87-4c98-be6c-33d186a15acf",
   "metadata": {},
   "outputs": [
    {
     "data": {
      "text/plain": [
       "tuple"
      ]
     },
     "execution_count": 6,
     "metadata": {},
     "output_type": "execute_result"
    }
   ],
   "source": [
    "x2=(1,2,3,4,'a','b')\n",
    "type(x2)"
   ]
  },
  {
   "cell_type": "markdown",
   "id": "8b09c2b8-cd81-42cc-b91a-aa65f2239eb4",
   "metadata": {},
   "source": [
    "**Set**"
   ]
  },
  {
   "cell_type": "code",
   "execution_count": 7,
   "id": "a88d97fb-3e14-414c-b775-fb128fb357e2",
   "metadata": {},
   "outputs": [],
   "source": [
    "set = {1,2,3,4,'a',\"b\",'b',4,6}"
   ]
  },
  {
   "cell_type": "code",
   "execution_count": 8,
   "id": "e727fb66-8640-4869-8758-12b45920ac3e",
   "metadata": {},
   "outputs": [
    {
     "data": {
      "text/plain": [
       "{1, 2, 3, 4, 6, 'a', 'b'}"
      ]
     },
     "execution_count": 8,
     "metadata": {},
     "output_type": "execute_result"
    }
   ],
   "source": [
    "set"
   ]
  },
  {
   "cell_type": "markdown",
   "id": "abb89826-1747-4b7b-be92-25c9d2c24a66",
   "metadata": {},
   "source": [
    "**Dict**"
   ]
  },
  {
   "cell_type": "code",
   "execution_count": 9,
   "id": "28ac2967-f2f5-42ee-9b84-4bb1a4dccf92",
   "metadata": {},
   "outputs": [],
   "source": [
    "d ={'Fruit':'apple','Vegetable':'cucumber'}"
   ]
  },
  {
   "cell_type": "code",
   "execution_count": 10,
   "id": "82798cf2-9f3b-4e6c-a4f8-2faeb7cec433",
   "metadata": {},
   "outputs": [
    {
     "data": {
      "text/plain": [
       "dict"
      ]
     },
     "execution_count": 10,
     "metadata": {},
     "output_type": "execute_result"
    }
   ],
   "source": [
    "type(d)"
   ]
  },
  {
   "cell_type": "code",
   "execution_count": 11,
   "id": "974f27a3-a63d-4a2b-93a6-85dbc1b8eb44",
   "metadata": {},
   "outputs": [
    {
     "data": {
      "text/plain": [
       "{'Fruit': 'apple', 'Vegetable': 'cucumber'}"
      ]
     },
     "execution_count": 11,
     "metadata": {},
     "output_type": "execute_result"
    }
   ],
   "source": [
    "d"
   ]
  },
  {
   "cell_type": "markdown",
   "id": "0a7f78a6-df76-4791-9f2f-9b52d8897f54",
   "metadata": {},
   "source": [
    "## **Operators**"
   ]
  },
  {
   "cell_type": "code",
   "execution_count": 12,
   "id": "6ffd5cea-3457-4f55-9676-01f255accb2b",
   "metadata": {},
   "outputs": [
    {
     "data": {
      "text/plain": [
       "3"
      ]
     },
     "execution_count": 12,
     "metadata": {},
     "output_type": "execute_result"
    }
   ],
   "source": [
    "7//2 #floor division"
   ]
  },
  {
   "cell_type": "code",
   "execution_count": 13,
   "id": "2f618162-2d05-420a-b7fc-d3f79975dc97",
   "metadata": {},
   "outputs": [
    {
     "data": {
      "text/plain": [
       "1"
      ]
     },
     "execution_count": 13,
     "metadata": {},
     "output_type": "execute_result"
    }
   ],
   "source": [
    "7%2 #remnant of division"
   ]
  },
  {
   "cell_type": "code",
   "execution_count": 14,
   "id": "649f607c-63a1-431a-aa51-c6157b5c4847",
   "metadata": {},
   "outputs": [
    {
     "data": {
      "text/plain": [
       "8"
      ]
     },
     "execution_count": 14,
     "metadata": {},
     "output_type": "execute_result"
    }
   ],
   "source": [
    "2**3 #power"
   ]
  },
  {
   "cell_type": "code",
   "execution_count": 15,
   "id": "4e1d66bf-3454-4e15-aab6-68f02ae60cd7",
   "metadata": {},
   "outputs": [
    {
     "data": {
      "text/plain": [
       "27"
      ]
     },
     "execution_count": 15,
     "metadata": {},
     "output_type": "execute_result"
    }
   ],
   "source": [
    "pow(3,3) #power functin"
   ]
  },
  {
   "cell_type": "code",
   "execution_count": 16,
   "id": "1f3868f5-f136-41ae-a119-ca8ef069e12a",
   "metadata": {},
   "outputs": [
    {
     "data": {
      "text/plain": [
       "True"
      ]
     },
     "execution_count": 16,
     "metadata": {},
     "output_type": "execute_result"
    }
   ],
   "source": [
    "6==6"
   ]
  },
  {
   "cell_type": "code",
   "execution_count": 17,
   "id": "73378c07-0cf4-4f2b-a8a2-3afdcb1ef0b4",
   "metadata": {},
   "outputs": [],
   "source": [
    "x = [1,2,3,4,5,6]"
   ]
  },
  {
   "cell_type": "code",
   "execution_count": 18,
   "id": "30237762-9305-4c9f-9b5c-f19baf5140be",
   "metadata": {},
   "outputs": [],
   "source": [
    "y = [3,4,7,8,9,90]"
   ]
  },
  {
   "cell_type": "code",
   "execution_count": 19,
   "id": "286f3505-93c5-427d-adad-0f62eebe0e8c",
   "metadata": {},
   "outputs": [
    {
     "data": {
      "text/plain": [
       "[3, 4, 7, 8, 9, 90]"
      ]
     },
     "execution_count": 19,
     "metadata": {},
     "output_type": "execute_result"
    }
   ],
   "source": [
    "x and y"
   ]
  },
  {
   "cell_type": "markdown",
   "id": "0e4e71b9-9574-4b42-bd77-7a73b2a09495",
   "metadata": {},
   "source": [
    "## Assignment"
   ]
  },
  {
   "cell_type": "code",
   "execution_count": 20,
   "id": "b2b951f4-421b-4da1-b15c-a8a980cba572",
   "metadata": {},
   "outputs": [],
   "source": [
    "m = 3\n",
    "n = 5"
   ]
  },
  {
   "cell_type": "code",
   "execution_count": 21,
   "id": "4d9bef57-e833-4cbc-88df-cc3d7f55965d",
   "metadata": {},
   "outputs": [
    {
     "name": "stdout",
     "output_type": "stream",
     "text": [
      "13\n"
     ]
    }
   ],
   "source": [
    "m = m+10\n",
    "print(m)"
   ]
  },
  {
   "cell_type": "code",
   "execution_count": 22,
   "id": "c4100c13-1678-49ba-b7b5-10b20a0d7212",
   "metadata": {},
   "outputs": [
    {
     "name": "stdout",
     "output_type": "stream",
     "text": [
      "8\n"
     ]
    }
   ],
   "source": [
    "n += 3 # same as n = n + 3\n",
    "print(n)"
   ]
  },
  {
   "cell_type": "code",
   "execution_count": 23,
   "id": "14a8591f-8b24-4a8d-a819-25a4a28c445d",
   "metadata": {},
   "outputs": [
    {
     "data": {
      "text/plain": [
       "11"
      ]
     },
     "execution_count": 23,
     "metadata": {},
     "output_type": "execute_result"
    }
   ],
   "source": [
    "n = n + 3\n",
    "n"
   ]
  },
  {
   "cell_type": "markdown",
   "id": "4c643089-5d31-4877-a5c5-fd14a1237936",
   "metadata": {},
   "source": [
    "# Membership"
   ]
  },
  {
   "cell_type": "code",
   "execution_count": 24,
   "id": "a4bf18ec-a918-4cc7-8e21-a7ebc29cfdd9",
   "metadata": {},
   "outputs": [],
   "source": [
    "s = \"Python is good programming\""
   ]
  },
  {
   "cell_type": "code",
   "execution_count": 25,
   "id": "5a6a879b-2985-4669-b642-3bb481595625",
   "metadata": {},
   "outputs": [
    {
     "data": {
      "text/plain": [
       "True"
      ]
     },
     "execution_count": 25,
     "metadata": {},
     "output_type": "execute_result"
    }
   ],
   "source": [
    "'y' in s"
   ]
  },
  {
   "cell_type": "code",
   "execution_count": 26,
   "id": "7adce86c-7ba6-4a27-8e52-af6438d74c0a",
   "metadata": {},
   "outputs": [
    {
     "data": {
      "text/plain": [
       "False"
      ]
     },
     "execution_count": 26,
     "metadata": {},
     "output_type": "execute_result"
    }
   ],
   "source": [
    "'w' in s"
   ]
  },
  {
   "cell_type": "markdown",
   "id": "7ae12e73-2054-40bd-b883-2fbb44f383d7",
   "metadata": {},
   "source": [
    "[Note] Deep note here"
   ]
  },
  {
   "cell_type": "markdown",
   "id": "a309fa07-5d5c-4a4f-9138-b5d2877f70fb",
   "metadata": {},
   "source": [
    "<span style = \"color:blue\">Deep note in blue</span>"
   ]
  },
  {
   "cell_type": "markdown",
   "id": "d7023f93-ed5e-4d25-afaa-0c7e3334229b",
   "metadata": {},
   "source": [
    "## String operations"
   ]
  },
  {
   "cell_type": "code",
   "execution_count": 27,
   "id": "333e7947-c701-4a95-b0d1-24cb067f32ba",
   "metadata": {},
   "outputs": [],
   "source": [
    "S = 'Hello World'"
   ]
  },
  {
   "cell_type": "code",
   "execution_count": 28,
   "id": "3b19b1ff-4530-4d92-af6c-7cd1a0ea2ea7",
   "metadata": {},
   "outputs": [
    {
     "data": {
      "text/plain": [
       "'Hello World!'"
      ]
     },
     "execution_count": 28,
     "metadata": {},
     "output_type": "execute_result"
    }
   ],
   "source": [
    "S + '!'"
   ]
  },
  {
   "cell_type": "code",
   "execution_count": 29,
   "id": "c77dadea-2619-46f7-8e48-aa22c88f71cd",
   "metadata": {},
   "outputs": [
    {
     "data": {
      "text/plain": [
       "11"
      ]
     },
     "execution_count": 29,
     "metadata": {},
     "output_type": "execute_result"
    }
   ],
   "source": [
    "len(S)"
   ]
  },
  {
   "cell_type": "code",
   "execution_count": 30,
   "id": "f9716865-c5e4-4e49-b4b4-aaa794b3aed7",
   "metadata": {},
   "outputs": [
    {
     "data": {
      "text/plain": [
       "'HELLO WORLD'"
      ]
     },
     "execution_count": 30,
     "metadata": {},
     "output_type": "execute_result"
    }
   ],
   "source": [
    "S.upper()"
   ]
  },
  {
   "cell_type": "code",
   "execution_count": 31,
   "id": "7b7a2827-3c05-41d2-b5ca-6028b678373a",
   "metadata": {},
   "outputs": [
    {
     "data": {
      "text/plain": [
       "'hello world'"
      ]
     },
     "execution_count": 31,
     "metadata": {},
     "output_type": "execute_result"
    }
   ],
   "source": [
    "S.lower()"
   ]
  },
  {
   "cell_type": "code",
   "execution_count": 32,
   "id": "a3d4482a-984d-4560-9a1b-c92eec2f4670",
   "metadata": {},
   "outputs": [
    {
     "data": {
      "text/plain": [
       "'Hello world'"
      ]
     },
     "execution_count": 32,
     "metadata": {},
     "output_type": "execute_result"
    }
   ],
   "source": [
    "S.capitalize()"
   ]
  },
  {
   "cell_type": "code",
   "execution_count": 33,
   "id": "33c88027-bf14-4635-b8c9-97f78158fac3",
   "metadata": {},
   "outputs": [
    {
     "data": {
      "text/plain": [
       "'hello world'"
      ]
     },
     "execution_count": 33,
     "metadata": {},
     "output_type": "execute_result"
    }
   ],
   "source": [
    "S.casefold()"
   ]
  },
  {
   "cell_type": "code",
   "execution_count": 34,
   "id": "3f8e652a-b144-44a7-af01-0e691770dd22",
   "metadata": {},
   "outputs": [],
   "source": [
    "S2 = 'Bye World'"
   ]
  },
  {
   "cell_type": "code",
   "execution_count": 35,
   "id": "9750aeb4-d191-456b-8248-3f9768411b8a",
   "metadata": {},
   "outputs": [],
   "source": [
    "#S.join()"
   ]
  },
  {
   "cell_type": "markdown",
   "id": "6d05afc0-5e93-4b32-93f2-c18e957fcd8e",
   "metadata": {},
   "source": [
    "# Methods for Text Data Analysis"
   ]
  },
  {
   "cell_type": "code",
   "execution_count": 36,
   "id": "ce3fd17a-2344-4659-a348-e77b64f1aced",
   "metadata": {},
   "outputs": [
    {
     "data": {
      "text/plain": [
       "'Inflation increased in the past 10 years'"
      ]
     },
     "execution_count": 36,
     "metadata": {},
     "output_type": "execute_result"
    }
   ],
   "source": [
    "x = \"Inflation increased in the past 10 years\"\n",
    "x"
   ]
  },
  {
   "cell_type": "code",
   "execution_count": 37,
   "id": "0aa07844-906d-43b6-9cef-59dc2c86d992",
   "metadata": {},
   "outputs": [
    {
     "data": {
      "text/plain": [
       "0"
      ]
     },
     "execution_count": 37,
     "metadata": {},
     "output_type": "execute_result"
    }
   ],
   "source": [
    "x.find(\"Inflation\")"
   ]
  },
  {
   "cell_type": "code",
   "execution_count": 38,
   "id": "fcb268ef-447e-4664-9c85-f184e741ae91",
   "metadata": {},
   "outputs": [
    {
     "data": {
      "text/plain": [
       "-1"
      ]
     },
     "execution_count": 38,
     "metadata": {},
     "output_type": "execute_result"
    }
   ],
   "source": [
    "x.find('D')"
   ]
  },
  {
   "cell_type": "code",
   "execution_count": 39,
   "id": "b59e1b68-23cb-476c-89bf-f058733d4f05",
   "metadata": {},
   "outputs": [
    {
     "data": {
      "text/plain": [
       "18"
      ]
     },
     "execution_count": 39,
     "metadata": {},
     "output_type": "execute_result"
    }
   ],
   "source": [
    "x.find('d')"
   ]
  },
  {
   "cell_type": "code",
   "execution_count": 40,
   "id": "29f764bf-63d1-4396-885f-4b7785cfa8b7",
   "metadata": {},
   "outputs": [
    {
     "data": {
      "text/plain": [
       "'In'"
      ]
     },
     "execution_count": 40,
     "metadata": {},
     "output_type": "execute_result"
    }
   ],
   "source": [
    "x.split()[2].capitalize()\n"
   ]
  },
  {
   "cell_type": "markdown",
   "id": "cba466c3-8605-491d-9835-66d7ade837ea",
   "metadata": {},
   "source": [
    "[NOTE] **Because in for loop operation we dont want to change the values, thus immutublility can be important so tuple is good in this case**"
   ]
  },
  {
   "cell_type": "markdown",
   "id": "43d9a584-4b19-47f9-9bc6-04e5d2f1b884",
   "metadata": {},
   "source": [
    "# other operation"
   ]
  },
  {
   "cell_type": "code",
   "execution_count": 41,
   "id": "5fe54b32-f502-4524-9b3d-e208e4d91051",
   "metadata": {},
   "outputs": [
    {
     "data": {
      "text/plain": [
       "[1, 2, 3, 4, 5, 3]"
      ]
     },
     "execution_count": 41,
     "metadata": {},
     "output_type": "execute_result"
    }
   ],
   "source": [
    "x = [1,2,3,4,5,3]\n",
    "x"
   ]
  },
  {
   "cell_type": "code",
   "execution_count": 42,
   "id": "00971fe8-b080-4d2d-bdd2-b5dacfa86797",
   "metadata": {},
   "outputs": [
    {
     "data": {
      "text/plain": [
       "[1, 2, 3, 4, 5, 3, 3, 4, 5]"
      ]
     },
     "execution_count": 42,
     "metadata": {},
     "output_type": "execute_result"
    }
   ],
   "source": [
    "x.extend([3,4,5])\n",
    "x"
   ]
  },
  {
   "cell_type": "code",
   "execution_count": 43,
   "id": "ae31c7b4-9aed-4fa0-bbcc-4b909ed5f448",
   "metadata": {},
   "outputs": [
    {
     "data": {
      "text/plain": [
       "[1, 2, 3, 3, 3, 4, 4, 5, 5]"
      ]
     },
     "execution_count": 43,
     "metadata": {},
     "output_type": "execute_result"
    }
   ],
   "source": [
    "x.sort()\n",
    "x"
   ]
  },
  {
   "cell_type": "code",
   "execution_count": 44,
   "id": "0ccdc5f9-d2f9-4ded-9816-cdc15dd8a10f",
   "metadata": {},
   "outputs": [
    {
     "data": {
      "text/plain": [
       "[1, 2, 3, 3, 3, 4, 4, 5]"
      ]
     },
     "execution_count": 44,
     "metadata": {},
     "output_type": "execute_result"
    }
   ],
   "source": [
    "x.pop()\n",
    "x"
   ]
  },
  {
   "cell_type": "markdown",
   "id": "f745908a-1a2b-40ee-a7be-8b61aac95062",
   "metadata": {},
   "source": [
    "## Conditionals / If-else"
   ]
  },
  {
   "cell_type": "code",
   "execution_count": 45,
   "id": "317adf97-3135-47a6-837d-d85ff1e8a868",
   "metadata": {},
   "outputs": [
    {
     "name": "stdout",
     "output_type": "stream",
     "text": [
      "Negative\n"
     ]
    }
   ],
   "source": [
    "x = -5\n",
    "if x>0:\n",
    "    print(\"Positive\")\n",
    "elif x == 0:\n",
    "    print(\"Zero\")\n",
    "else:\n",
    "    print(\"Negative\")\n"
   ]
  },
  {
   "cell_type": "markdown",
   "id": "65b75deb-4ac2-4409-8421-1b0f271d3927",
   "metadata": {},
   "source": [
    "# Loops"
   ]
  },
  {
   "cell_type": "markdown",
   "id": "dab7d413-a751-44d8-9bab-e23a165a1fef",
   "metadata": {},
   "source": [
    "x = 0 \n",
    "\n",
    "while x<5:\n",
    "    x += 1\n",
    "    print(x)"
   ]
  },
  {
   "cell_type": "code",
   "execution_count": 46,
   "id": "5a450a49-4e6a-4006-8421-9611a540b311",
   "metadata": {},
   "outputs": [],
   "source": [
    "xs = [1,2,3,4,5,6,7,8]"
   ]
  },
  {
   "cell_type": "code",
   "execution_count": 47,
   "id": "9d5b0b73-7eb0-4185-acfd-81a4456b1e86",
   "metadata": {},
   "outputs": [
    {
     "name": "stdout",
     "output_type": "stream",
     "text": [
      "1\n",
      "4\n",
      "27\n",
      "64\n",
      "125\n",
      "216\n",
      "343\n",
      "512\n"
     ]
    }
   ],
   "source": [
    "for x in xs:\n",
    "    if x < 2:\n",
    "        print(x**2)\n",
    "    elif x== 2:\n",
    "        print(x+2)\n",
    "    else:\n",
    "        print(x**3)"
   ]
  },
  {
   "cell_type": "markdown",
   "id": "97377e3d-528d-4bbd-8b48-a3e6480035ff",
   "metadata": {},
   "source": [
    "[Note] def(x,y) x,y called parameters if you assign value when you call the function"
   ]
  },
  {
   "cell_type": "code",
   "execution_count": 48,
   "id": "3ea93b40-7a99-45b8-93e6-93f3c0277c73",
   "metadata": {},
   "outputs": [
    {
     "data": {
      "text/plain": [
       "4"
      ]
     },
     "execution_count": 48,
     "metadata": {},
     "output_type": "execute_result"
    }
   ],
   "source": [
    "def greater_function(x,y):\n",
    "    if x>y:\n",
    "        return x\n",
    "    else:\n",
    "        return y\n",
    "t = greater_function(3,4)\n",
    "t"
   ]
  },
  {
   "cell_type": "markdown",
   "id": "d758f4e7-7480-4d94-937c-73efb4e03c78",
   "metadata": {},
   "source": [
    "# Indexing"
   ]
  },
  {
   "cell_type": "code",
   "execution_count": 49,
   "id": "c89902ac-e7f2-4191-af34-5a5137533008",
   "metadata": {},
   "outputs": [],
   "source": [
    "list1 = [4,2,7.5,3]"
   ]
  },
  {
   "cell_type": "code",
   "execution_count": 50,
   "id": "dbe8ca64-2c8e-4465-bf4a-872538f8989e",
   "metadata": {},
   "outputs": [],
   "source": [
    "list2 = [[4,5,6], \"Python\", 'Java', (2,3,4)]"
   ]
  },
  {
   "cell_type": "code",
   "execution_count": 51,
   "id": "5335251d-a346-4ead-9208-2cd73d36910a",
   "metadata": {},
   "outputs": [
    {
     "name": "stdout",
     "output_type": "stream",
     "text": [
      "4\n",
      "[4, 5, 6]\n"
     ]
    }
   ],
   "source": [
    "lists = [list1, list2]\n",
    "for i in lists:\n",
    "    print(i[0])"
   ]
  },
  {
   "cell_type": "code",
   "execution_count": 52,
   "id": "e68f20ca-86eb-4338-b755-3a5576d7e358",
   "metadata": {},
   "outputs": [
    {
     "data": {
      "text/plain": [
       "4"
      ]
     },
     "execution_count": 52,
     "metadata": {},
     "output_type": "execute_result"
    }
   ],
   "source": [
    "list2[0][0]"
   ]
  },
  {
   "cell_type": "code",
   "execution_count": 53,
   "id": "b63b1ead-ebc1-4de6-becb-717975c9246e",
   "metadata": {},
   "outputs": [
    {
     "name": "stdout",
     "output_type": "stream",
     "text": [
      "4\n",
      "[4, 5, 6]\n"
     ]
    }
   ],
   "source": [
    "for i in lists:\n",
    "    print(i[0:1][0])"
   ]
  },
  {
   "cell_type": "code",
   "execution_count": 54,
   "id": "c770b6f1-bcc2-4a8b-96a7-4069370895b3",
   "metadata": {},
   "outputs": [],
   "source": [
    "sub_list = list2[:3]"
   ]
  },
  {
   "cell_type": "code",
   "execution_count": 55,
   "id": "bad9e9bb-89bb-4765-8ef1-6d58cf9f63ce",
   "metadata": {},
   "outputs": [
    {
     "data": {
      "text/plain": [
       "[[4, 'RStudio', 6], 'Python', 'Java']"
      ]
     },
     "execution_count": 55,
     "metadata": {},
     "output_type": "execute_result"
    }
   ],
   "source": [
    "sub_list[0][1] = 'RStudio'\n",
    "sub_list"
   ]
  },
  {
   "cell_type": "code",
   "execution_count": 56,
   "id": "d0a05f56-b522-4ea4-beeb-283892ccc30d",
   "metadata": {},
   "outputs": [],
   "source": [
    "s = \"This is a string!\""
   ]
  },
  {
   "cell_type": "code",
   "execution_count": 57,
   "id": "0865b0de-ec02-4343-a6b1-d96038284789",
   "metadata": {},
   "outputs": [
    {
     "data": {
      "text/plain": [
       "'This is a string!'"
      ]
     },
     "execution_count": 57,
     "metadata": {},
     "output_type": "execute_result"
    }
   ],
   "source": [
    "s"
   ]
  },
  {
   "cell_type": "code",
   "execution_count": 58,
   "id": "e095f2f9-85f7-4c85-971f-0ed103caed34",
   "metadata": {},
   "outputs": [
    {
     "data": {
      "text/plain": [
       "str"
      ]
     },
     "execution_count": 58,
     "metadata": {},
     "output_type": "execute_result"
    }
   ],
   "source": [
    "type(s)"
   ]
  },
  {
   "cell_type": "code",
   "execution_count": 59,
   "id": "055c37a6-6bb4-44cf-968b-55e7e2ce666a",
   "metadata": {},
   "outputs": [
    {
     "name": "stdout",
     "output_type": "stream",
     "text": [
      "THIS IS A STRING!\n"
     ]
    }
   ],
   "source": [
    "print(s.upper())"
   ]
  },
  {
   "cell_type": "code",
   "execution_count": null,
   "id": "bacef542-8eeb-4b68-b214-da102b192f8c",
   "metadata": {},
   "outputs": [],
   "source": []
  },
  {
   "cell_type": "markdown",
   "id": "1368c5eb-05ba-4e4a-b4b0-0e8a82357f5a",
   "metadata": {},
   "source": [
    "# Classes in Python"
   ]
  },
  {
   "cell_type": "code",
   "execution_count": 60,
   "id": "e3298d3f-1be7-40dd-8852-ff6ccdcb7c33",
   "metadata": {},
   "outputs": [],
   "source": [
    "class Cat(object):\n",
    "\n",
    "    def __init__(self, name, age):\n",
    "        self.name = name\n",
    "        self.age = age \n",
    "\n",
    "    def bark(self):\n",
    "        return \"Miau!\"\n",
    "\n",
    "    def compute_ageinmonths(self):\n",
    "        return 12*self.age\n",
    "\n",
    "    def __str__(self):\n",
    "        var = str(self.age)\n",
    "        return \"Cat \" + self.name + \" is\" + \" \" + var + \" years old! Mmmm!\""
   ]
  },
  {
   "cell_type": "code",
   "execution_count": 61,
   "id": "292074c8-9697-4cbe-a2dc-521122d03a51",
   "metadata": {},
   "outputs": [
    {
     "name": "stdout",
     "output_type": "stream",
     "text": [
      "Claus 20\n"
     ]
    }
   ],
   "source": [
    "cat1 = Cat(\"Claus\", 20)\n",
    "\n",
    "print(cat1.name, cat1.age)"
   ]
  },
  {
   "cell_type": "code",
   "execution_count": 62,
   "id": "8ec06a68-12f8-4077-8a72-77619ce43527",
   "metadata": {},
   "outputs": [
    {
     "data": {
      "text/plain": [
       "'Miau!'"
      ]
     },
     "execution_count": 62,
     "metadata": {},
     "output_type": "execute_result"
    }
   ],
   "source": [
    "cat1.bark()"
   ]
  },
  {
   "cell_type": "code",
   "execution_count": 63,
   "id": "9bdfe355-26ce-457f-9892-4bffee9f8895",
   "metadata": {},
   "outputs": [
    {
     "data": {
      "text/plain": [
       "240"
      ]
     },
     "execution_count": 63,
     "metadata": {},
     "output_type": "execute_result"
    }
   ],
   "source": [
    "cat1.compute_ageinmonths()"
   ]
  },
  {
   "cell_type": "code",
   "execution_count": 64,
   "id": "756d3d1f-92ce-4333-874d-4b36ba1d3aa3",
   "metadata": {},
   "outputs": [
    {
     "data": {
      "text/plain": [
       "'Cat Claus is 20 years old! Mmmm!'"
      ]
     },
     "execution_count": 64,
     "metadata": {},
     "output_type": "execute_result"
    }
   ],
   "source": [
    "cat1.__str__()"
   ]
  },
  {
   "cell_type": "markdown",
   "id": "bbd0de45-03c9-45e5-9af0-3f7adeef210d",
   "metadata": {},
   "source": [
    "# Speech data"
   ]
  },
  {
   "cell_type": "code",
   "execution_count": 65,
   "id": "18ebc0c6-739d-406e-bb18-ffbfca0be011",
   "metadata": {},
   "outputs": [],
   "source": [
    "import pandas as pd\n",
    "import numpy as np"
   ]
  },
  {
   "cell_type": "code",
   "execution_count": 66,
   "id": "1ba8fb1c-d96e-405e-a9e8-2d623865fd07",
   "metadata": {},
   "outputs": [
    {
     "name": "stderr",
     "output_type": "stream",
     "text": [
      "IOPub data rate exceeded.\n",
      "The Jupyter server will temporarily stop sending output\n",
      "to the client in order to avoid crashing it.\n",
      "To change this limit, set the config variable\n",
      "`--ServerApp.iopub_data_rate_limit`.\n",
      "\n",
      "Current values:\n",
      "ServerApp.iopub_data_rate_limit=1000000.0 (bytes/sec)\n",
      "ServerApp.rate_limit_window=3.0 (secs)\n",
      "\n"
     ]
    }
   ],
   "source": [
    "import csv\n",
    "\n",
    "with open('all_ECB_speeches.csv', encoding = 'utf-8') as csvfile:\n",
    "    read_in_new1 = csv.reader(csvfile, delimiter='|')\n",
    "    for row in read_in_new1:\n",
    "            print(row)"
   ]
  },
  {
   "cell_type": "code",
   "execution_count": 67,
   "id": "f0a7ebc4-9e25-445e-a892-f1042ed19d57",
   "metadata": {},
   "outputs": [
    {
     "name": "stdout",
     "output_type": "stream",
     "text": [
      "['2024-03-14', 'Isabel Schnabel', 'The Eurosystem’s operational framework', 'Speech by Isabel Schnabel, Member of the Executive Board of the ECB, at the Money Market Contact Group meeting', \"  SPEECH  The Eurosystem’s operational framework   Speech by Isabel Schnabel, Member of the Executive Board of the ECB, at the Money Market Contact Group meeting Frankfurt am Main, 14 March 2024 Since 2015, the Eurosystem has been operating under a de facto supply-driven floor system. This was the result of the monetary policy actions taken in the run-up to and during the pandemic to preserve price stability in the euro area.  Faced with years of persistently low inflation and the greatest economic contraction on record in 2020, we conducted large-scale asset purchases and targeted longer-term refinancing operations (TLTROs), thereby injecting a significant amount of central bank reserves into the financial system. The resulting easing of financing conditions supported economic activity in the pursuit of our mandate. As reserves were well in excess of banks’ liquidity needs, short-term money market rates have been trading in the vicinity of the rate at which the Eurosystem remunerates overnight deposits – the deposit facility rate, or DFR. More recently, the volume of reserves has started to visibly decline because of the sharp reversal in the course of monetary policy that was necessary to fight the post-pandemic surge in inflation.  As banks have started repaying their outstanding TLTRO loans, and as some of the bonds held by the Eurosystem have matured without being reinvested, excess liquidity has fallen by about €1.2 trillion from a peak of nearly €4.7 trillion in mid-2022. By the end of 2025, it is expected to decline by another €1.4 trillion to around €2.1 trillion (Slide 2).  While aggregate excess liquidity would still be abundant at that point, potential structural changes to reserve demand, arising for instance from prudential regulation, imply that there is significant uncertainty about when, and to what extent, the fall in reserves may put upward pressure on overnight money market rates, which could potentially affect the monetary policy stance (Slide 3). Against this background, over the past 15 months the Governing Council has taken stock of the experience gained in implementing monetary policy in different liquidity regimes and has evaluated options that would safeguard the smooth implementation of monetary policy as reserves become less ample.[1]  In my remarks today, I would like to explain the outcome of our deliberations and describe the key characteristics of the Eurosystem’s operational framework.[2] This framework has been tailored to the distinctive features of the euro area economy and will help financial markets and banks adapt to the ongoing changes in the liquidity environment. Taking stock of 25 years of policy implementation Monetary policy implementation has undergone significant shifts since the euro was introduced 25\\xa0years ago.  Until the global financial crisis in 2008, reserves in the euro area were scarce, meaning that banks had to systematically use the regular refinancing operations to cover their liquidity needs arising from the demand for banknotes, the minimum reserve requirements and idiosyncratic liquidity shocks (Slide 4).[3]  By providing the reserves needed to plug the liquidity deficit, the Eurosystem was able to steer the unsecured overnight interest rate to the middle of the corridor that is spanned by the ECB’s three key policy rates: the DFR, the rate at which banks can borrow in the main refinancing operations (MROs) and the rate applied at the marginal lending facility (MLF) (Slide 5). Before 2008, such a corridor system was widespread among central banks. The main difference was how reserves were supplied – either through collateralised lending operations or through asset purchases – and the extent to which volatility in the overnight rate was tolerated.  The ECB, for example, accepted deviations of the overnight rate from the policy target that were, on average, larger than those of the Federal Reserve System or the Bank of Japan but smaller than those of the Bank of England or Sveriges Riksbank (Slide 6, left-hand chart).[4] This was partly a reflection of the relatively large size of the corridor (Slide 6, right-hand chart).[5]  A certain tolerance for volatility – to the extent that it would not blur the signal about the intended monetary policy stance – reflected the desire by policymakers to promote interbank market activity and keep the central bank balance sheet as lean as possible.[6] Empirical evidence suggests that this volatility generally did not impede the transmission of monetary policy (Slide 7).[7]  The global financial crisis, however, exposed vulnerabilities of the pre-2008 corridor framework.  In particular, a system of scarce liquidity requires a functioning money market to distribute liquidity across the banking system. As the global financial crisis unfolded in August 2007 and banks hoarded reserves, parts of the euro area money market froze and interbank funding costs soared (Slide 8, left-hand chart).  The ECB’s response to these tensions lastingly changed the way monetary policy was implemented in the euro area. Since 2008, all lending operations have been conducted using a fixed-rate full allotment tender procedure against a broad, albeit varying, set of collateral. With full allotment, liquidity in the system was no longer determined by the ECB alone but also by banks, which affected the ECB’s ability to steer money market rates.  For example, when the ECB launched the three-year longer-term refinancing operations in 2011 and 2012 in response to the euro area sovereign debt crisis, excess liquidity rose considerably, pushing money market rates from levels close to the rate on the MROs down to the DFR (Slide 8, right-hand chart).  At that point, the size of the corridor implied a decline in short-term money market rates of about 70\\xa0basis points, equivalent to almost three “standard” policy cuts.  In 2015, the ECB started purchasing bonds under the asset purchase programme (APP). As these purchases created new central bank reserves, excess liquidity quickly rose to levels that were sufficiently large to keep money market rates closely anchored around the DFR. The experience of implementing monetary policy in an environment of abundant liquidity also revealed some of the downsides of that system. One was that the floor was “leaky”. As excess liquidity rose to unprecedented levels following the launch of the pandemic emergency purchase programme (PEPP) in 2020, the spread between the DFR and the euro short-term rate (€STR) steadily widened over the course of 2021 and 2022 (Slide 9, left-hand side). This episode highlighted that, without more fundamental changes to the counterparty framework, a supply-driven floor system was not fully robust either to changes in the liquidity environment and did not provide perfect rate controllability, even if the movements in €STR were gradual and orderly.[8]    A second aspect was that the provision of ample reserves discouraged banks from seeking market-based funding solutions. For example, many banks used the TLTROs to reduce their borrowing in the market, causing a decline in the issuance of commercial paper, secured or unsecured bank bonds and other liabilities (Slide 9, right-hand side).[9]  While funding substitution was in part intended to stimulate loan growth, it implied that banks had fewer occasions to “test” their credit quality in markets, which could run counter to supervisory expectations.[10]  A third concern is the impact of abundant liquidity on market functioning. The Eurosystem’s footprint in financial markets increased considerably over the past decade before reaching a turning point in 2022 (Slide 10).  As providing reserves through asset purchases reduces the free float of safe assets, liquidity may dry up in some segments of the financial market and collateral may become scarce. These effects became particularly concerning in 2022, when a significant share of repo transactions using German government bonds as collateral traded more than 40 basis points below €STR, reflecting a shortage of safe assets (Slide 11). Such asset scarcity can delay the transmission of monetary policy.[11] For example, it took more than a week for the policy decisions taken in July, September and October 2022 to be fully reflected in the different segments of the repo market (Slide 12).[12]  The operational framework: principles and characteristics The changes to our operational framework build on the experiences we have gained with implementing monetary policy over the past 25 years. This experience has culminated in six principles, some of which are directly founded on Treaty provisions, that will guide monetary policy implementation in the future:[13]    Effectiveness ensures that the operational framework is able to implement the monetary policy stance in line with the provisions of the EU Treaty;   robustness allows us to implement monetary policy in different financial and liquidity environments;   flexibility implies an elastic supply of central bank reserves based on banks’ needs, effectively channelling liquidity across the entire euro area banking system;   efficiency means that the operational framework implements the desired monetary policy stance and does not interfere with it, while respecting the proportionality principle and taking into account net side effects, including financial stability risks;  the design of the operational framework should also foster the smooth and orderly functioning of markets, consistent with the open market economy principle; finally, the operational framework shall facilitate the ECB’s pursuit of its secondary objective of supporting the general economic policies in the European Union – in particular the transition to a green economy – without prejudice to our primary objective of price stability.  Based on these principles, the framework is designed as a hybrid system that provides reserves elastically and through a mix of instruments, including both short-term lending operations and structural operations. It allows for an effective control of short-term money market rates, while leaving room for learning in an uncertain environment and respecting the established principles and the current starting point characterised by abundant liquidity. Our operational framework has three key characteristics. Refinancing operations are at the centre of liquidity provision  The first is its demand-driven nature. In such a system, the marginal unit of reserves is provided on demand through our regular refinancing operations. To this end, we will continue to provide as much liquidity as banks demand at a fixed rate in the MROs and in the three-month longer-term refinancing operations against broad collateral. Providing liquidity through fixed-rate tenders with full allotment marks a significant change from the balanced liquidity regime operated until 2008. It reflects changes in banks’ liquidity preferences and in the way they operate today.  Years of crises, new regulatory requirements and the advance of new technologies – some of which increase the risk of “digital” bank runs – imply that banks may wish to hold larger liquidity buffers than before 2008.[14]  As central banks injected huge volumes of reserves through large-scale asset purchases, reserves have become an important store of value in the economy, shielded from interest rate and liquidity risks.[15]  Supplying central bank reserves elastically as balance sheet normalisation proceeds will go a long way towards allowing banks to hold the level of reserves that they find optimal, and will help insure against the risks of fragmentation and sudden liquidity imbalances as reserves become less ample. A framework in which the marginal unit of reserves is provided through refinancing operations is best suited for the euro area economy, which remains, despite the gradual rise in market-based finance, a bank-based financial system. Given the effective pass-through of our monetary policy, the Governing Council currently sees no need to grant non-banks access to the Eurosystem balance sheet.[16]  With banks at the core of monetary policy transmission, and with the euro area banking sector being large and heterogeneous, reserves are most effectively supplied, at the margin, through our regular refinancing operations and against a broad set of collateral.  Putting our refinancing operations at the centre of liquidity provision ensures that liquidity reaches all corners of the euro area. By contrast, liquidity provided through asset purchases has tended to be concentrated among a small number of larger financial institutions, which are predominantly located in a few member countries.  Specifically, about 40% of banks, in terms of total assets, are holding the entire excess liquidity from asset purchases, the highest share being held in Germany (Slide 13). Lending operations tend to lead to a more even distribution of reserves across banks and countries.[17]  A system in which reserves are supplied elastically, if calibrated appropriately, is effective in implementing the monetary policy stance, as it does not require the central bank to estimate the uncertain volume of reserves necessary to steer short-term money market rates towards the key policy rate.  In a supply-driven framework, where the system is forced into a liquidity surplus by supplying sufficient reserves, this uncertainty requires a meaningful buffer of reserves to contain the risks of unwarranted volatility.  While a structurally higher supply of liquidity may be stabilising in the short run, it could pose longer-term risks to financial stability by distorting market prices and inducing excessive risk-taking. It would also raise more fundamental concerns about monetary and fiscal interactions in a currency union with sovereign member countries.[18]  So, while a supply-driven system can be the outcome of monetary policy actions to preserve price stability in the vicinity of the effective lower bound, as has been the case since 2015, it is less suitable as a permanent operational framework in the euro area. A demand-driven system, by contrast, can ensure effectiveness and efficiency by limiting net side effects, reducing both the Eurosystem’s footprint in financial markets and the financial risks it faces.  A broad mix of instruments ensures operational robustness The second key characteristic of our framework is the mix of instruments used to supply reserves. A demand-driven system cannot entirely rely on short-term lending operations to satisfy banks’ reserve demand. Banks having to roll over large structural liquidity needs on a weekly basis would increase operational risks. Banknotes in circulation, for example, currently amount to more than €1.5 trillion, nearly five times as much as at the start of monetary union. Moreover, relying exclusively on lending operations would encumber a large share of banks’ assets as collateral, raising bank fragility as fewer unencumbered assets are available to meet creditors’ demands in times of stress.[19]  As such, at a later stage, we will complement our short-term lending operations with new longer-term lending operations and a new structural bond portfolio. Both of these will provide a more stable source of liquidity. At present, the liquidity absorption through autonomous factors and minimum reserve requirements is more than offset by the liquidity previously provided through the Eurosystem legacy bond holdings from the APP and the PEPP, and through other financial assets held by national central banks.  But as the run-down of the APP and the PEPP portfolios proceeds, banks will increasingly need to borrow reserves from the Eurosystem, which will show up in a rise in the liquidity demanded at our regular operations (Slide 14). Once the Eurosystem balance sheet begins to grow durably again, we will start supplying reserves through new longer-term refinancing operations and through the new structural bond portfolio, taking into account legacy bond holdings.  Over time, these structural operations will make a substantial contribution to covering the banking sector’s structural liquidity needs arising from autonomous factors and minimum reserve requirements. In the period ahead, ECB staff will conduct an in-depth analysis of how to design these new instruments in accordance with the established principles.  The size and composition of the new portfolio, as well as the pricing and duration of longer-term refinancing operations will be chosen so as to minimise their impact on the monetary policy stance, market functioning and moral hazard, and to facilitate the ECB’s pursuit of its secondary objective by incorporating considerations related to climate change. “Soft” floor with narrow spread limits volatility and incentivises market activity The third key characteristic of the framework is that monetary policy is implemented through a “soft” floor with a narrow spread.   The Governing Council will continue to steer the monetary policy stance through the DFR, which has acted as the de facto anchor for money market rates in recent years. Current large excess liquidity levels imply that short-term interest rates can be expected to continue to trade in a narrow range around the DFR for some time. As reserves become less ample, however, money market rates could rise relative to the DFR and potentially become more volatile. In view of this, the rate on the MROs and the rate at the MLF will be adjusted such that the spread between the rate on the MROs and the DFR will be reduced to 15 basis points from 50 basis points currently, and the spread between the MLF rate and the rate on the MROs remains unchanged at 25\\xa0basis points. The corresponding adjustments of the MRO und MLF rates will come into effect with the sixth maintenance period of 2024, which begins on 18 September. The relatively narrow spread of 15 basis points between the rate on the MROs and the DFR will limit the potential upward pressure on money market rates and set incentives for banks to borrow liquidity in our operations as our balance sheet normalises.  Moreover, by leaving the spread between the MLF rate and the MRO rate unchanged at 25\\xa0basis points, our framework imposes a higher cost on banks running into a reserve shortage between our weekly refinancing operations, thereby generating conditions in which banks, on aggregate, may wish to hold excess liquidity, especially in the presence of a broad collateral framework. The parameterisation of our framework therefore implies that short-term money market rates are likely to evolve in the vicinity of the DFR. A “soft” floor means that the Governing Council will tolerate deviations from the DFR, provided such movements do not blur the signal about the intended monetary policy stance. In other words, orderly deviations in both directions are accepted. However, excessive volatility that would interfere with the monetary policy stance, or a persistent drift of money market rates away from the DFR, could require the framework parameters to be reviewed.  The chosen set of parameters reflects the trade-off central banks face between limiting volatility and setting incentives for banks to insure themselves against liquidity shocks in financial markets. This trade-off depends on the cost of carry, which is the spread between the rate banks pay for borrowing reserves and the remuneration they receive when depositing these reserves back with the central bank.  The lower this cost, the greater the incentive for banks to obtain liquidity primarily through the central bank.[20] But as we have observed in the past, discouraging banks from seeking market-based funding solutions may be undesirable as it risks weakening the resilience of the banking system and may go against the principle of an open market economy. These risks are especially high when banks have access to longer-term refinancing operations and are permitted to pledge non-marketable assets as collateral, as our framework foresees.  Since excess reserves count towards the fulfilment of prudential liquidity ratios, the combination of a very low cost of carry and a broad collateral framework could encourage banks to engage in excessive liquidity transformation, as they receive Level 1 high-quality liquid assets (HQLA) by pledging non-HQLA as collateral.  Such liquidity transformation remains economically attractive even after haircuts are taken into account.[21] In the first half of 2023, before banks began repaying their TLTRO loans, non-HQLA accounted for about 80% of mobilised collateral with the Eurosystem. A higher cost of carry reduces incentives for excessive liquidity transformation and thereby promotes both a leaner central bank balance sheet and the objectives of prudential regulation of banks having a diversified funding structure. At the same time, a high cost of carry increases the potential for rate volatility in money markets. A system with fixed-rate full allotment means that, as the balance sheet normalises, aggregate liquidity conditions, and hence money market rates, may fluctuate to a degree that could affect the transmission of monetary policy. In the view of the Governing Council, a spread of 15 basis points between the rate on the MROs and the DFR manages this trade-off well. It is small enough to contain volatility but large enough to preserve incentives for money market activity by encouraging banks to manage their liquidity prudently, thereby avoiding the risk of excessive liquidity transformation.[22]  Recent evidence indeed suggests that money market activity may be revived as excess liquidity is withdrawn. With interest rates moving back into positive territory and banks having started repaying their outstanding TLTRO loans, we have observed incipient signs of a moderate recovery in money market activity, including in interbank trading and across borders (Slide 15).  Similarly, while cash-motivated transactions accounted for just 14% of repo transactions in 2022, the volume of these transactions increased visibly as excess liquidity started to decline (Slide 16).[23] It remains to be seen whether the chosen spread is sufficient to meaningfully revive money market activity. A spread of 15 basis points is also likely to be conducive to supporting both a financially sound Eurosystem balance sheet and financial stability.  If the cost of carry were too high, banks might shy away and unduly economise on their holdings of reserves, leaving them more vulnerable to liquidity shocks. As our regular refinancing operations are intended to play a central role in meeting banks’ liquidity needs, the pricing should ensure that counterparties use them as an integral part of a smooth monetary policy implementation.  If, however, the spread were too narrow, there would be a risk that banks might hoard reserves, turning the central bank into a lender of first resort, thereby reducing banks’ incentives to insure themselves against short-term liquidity risks in financial markets.  Overall, therefore, the configuration of our framework supports financial stability by allowing banks to replace reserves that will be absorbed through the run-down of our monetary policy assets in our refinancing operations at a cost that neither encourages banks to overly hoard nor to shun central bank reserves. That said, the transition from a situation of abundant excess liquidity to one of less ample liquidity has few precedents and there is a lot of uncertainty about how market participants are going to adjust their behaviour.  Therefore, in the period ahead, we will carefully monitor the evolution and distribution of excess liquidity, the formation of money market rates, the evolution of banks’ demand for reserves, and the functioning of money markets and financial markets more broadly.  Based on the experience we gain, the Governing Council will review the key parameters of the operational framework in 2026 and stands ready to adjust the design and parameters of the framework at an earlier stage, if necessary, to ensure that the implementation of monetary policy remains in line with the established principles.  Conclusion Let me conclude. The Governing Council yesterday set out how we intend to steer short-term interest rates in the future, based on six principles, some of which are directly founded on the EU Treaty. The changes to the operational framework balance the benefits of providing central bank reserves elastically upon demand with the costs associated with a balance sheet that is larger than is strictly necessary to effectively implement the monetary policy stance. The changes to our operational framework do not have any implications for our monetary policy stance, neither for our interest rate policy nor for our monetary policy bond portfolios, which we expect to continue to be run off. With excess liquidity declining, clarity on the framework will help banks prepare for a period where holding central bank reserves will no longer be costless. At the same time, our decision to reduce the rate banks pay on the MROs and the MLF from 18 September 2024 onwards will ensure that interest rate volatility will be contained as balance sheet normalisation proceeds, and that counterparties use MROs as an integral part of a smooth implementation of monetary policy. Taken together, the key characteristics of our operational framework will ensure that it remains effective and efficient, flexible and robust, and that it supports our secondary objective, while respecting the open market economy principle. Thank you.      See also Schnabel, I. (2023), “Back to normal? Balance sheet size and interest rate control”, speech at an event organised by Columbia University and SGH Macro Advisors, New York, 27 March.     ECB (2024), ECB announces changes to the operational framework for implementing monetary policy, 13 March.     Our regular open market operations consist of one-week liquidity-providing operations (the main refinancing operations) and three-month liquidity-providing operations.     Between 1999 and 2006, the standard deviation of the spread between the EONIA and the rate on the MROs averaged 15 basis points, with frequent spikes of larger magnitude.     From April 1999 onwards, the corridor width was 200 basis points in the euro area. By comparison, the Bank of Canada and the Sveriges Riksbank implemented monetary policy with a corridor of 50 and 150 basis points, respectively.     Bindseil, U. and Jabłecki, J. (2011), “The optimal width of the central bank standing facilities corridor and banks’ day-to-day liquidity management”, Working Paper Series, No 1350, ECB, June; Allen, W.A. (2002), “Bank of England open market operations: the introduction of a deposit facility for counterparties”, BIS Papers, No 12, Bank for International Settlements; Mitlid, K. and Vesterlund, M. (2001), “Steering interest rates in monetary policy – how does it work?”, Sveriges Riksbank Economic Review, No 1, pp. 19-41; Tucker, P. (2004), “Managing the central bank’s balance sheet: where monetary policy meets financial stability”, Bank of England Quarterly Bulletin, Vol. 44, No 3, Bank of England; and Bank of Canada (1995), “A proposed framework for the implementation of monetary policy in the Large Value Transfer System environment”, Discussion Paper.     See ECB (2007), “Volatility of the overnight interest rate and its transmission along the money market yield curve”, Monthly Bulletin, August; and ECB (2005), “The transmission of overnight interest rate volatility to longer-term interest rates in the euro area money market”, Monthly Bulletin, August. The ECB adjusted its framework in March 2004. The timing of reserve maintenance periods was amended and the maturity of the MROs was shortened from two weeks to one week. The main reason behind these changes were the underbidding episodes that had occurred in periods when there were expectations of an interest rate reduction.     A “leaky” floor is mostly a reflection of segmentation: as only banks have access to the ECB’s deposit facility, they can charge non-banks a fee for providing liquidity services. Granting non-banks access to the deposit facility could thus help establish a “hard” floor but would come with other challenges, as these institutions are less regulated than banks.     Barbiero, F., Boucinha, M. and Burlon, L. (2021), “TLTRO III and bank lending conditions”, Economic Bulletin, Issue 6, ECB; and Andreeva, D. and García-Posada, M. (2021), “The impact of the ECB's targeted long-term refinancing operations on banks’ lending policies: The role of competition”, Journal of Banking & Finance, Vol. 122.      This includes Pillar 3 “market discipline” requirements under the Basel III rules.     Schnabel, I. (2023), “Quantitative tightening: rationale and market impact”, speech at the Money Market Contact Group meeting,Frankfurt am Main, 2 March.     This may also have reflected uncertainties regarding the remuneration of non-monetary policy deposits at the time.     ECB (2024, op.cit.).     The events that unfolded in the United States in March 2023 suggest that the risks of bank runs have measurably increased in the digital age where information travels much faster.     See also Borio, C., Disyatat, P. and Schrimpf, A. (2024), “The double-faced demand for bank reserves and its implications”, VoxEU, Centre for Economic Policy Research, 15 February.     However, even without direct access to our balance sheet, the experience so far suggests that, in times of crisis, our toolkit has been able to provide liquidity – either directly or indirectly – to all parts of the financial system, including non-banks.     In the past, while in absolute terms more liquidity has been provided through asset purchases, the liquidity provided through credit operations reached 60% of the euro area banking system directly compared with 43% through asset purchases. Even after redistribution, liquidity generated via asset purchases remains largely concentrated among investment banks, custodians and clearing institutions in euro area financial centres.     Evidence from the United States suggests that financial stability risks may be significant under a supply-driven system, as banks may use reserves to build up significant runnable short-term liabilities. Such “liquidity dependence” may lead to a ratcheting up of the balance sheet that could be hard to reverse. See Acharya, V.V., Chauhan, R.S., Rajan, R. and Steffen, S. (2023), “Liquidity Dependence and the Waxing and Waning of Central Bank Balance Sheets”, NBER Working Papers, No 31050, National Bureau of Economic Research; Acharya, V. and Rajan, R. (2022), “Liquidity, liquidity everywhere, not a drop to use – Why flooding banks with central bank reserves may not expand liquidity”, NBER Working Papers, No 29680, National Bureau of Economic Research.     See, for example, Ahnert, T., Anand, K., Gai, P. and Chapman, J. (2019), “Asset Encumbrance, Bank Funding, and Fragility”, The Review of Financial Studies, Vol. 32, Issue 6, pp. 2422-2455, 22 September.     The cost of carry also determines banks’ demand for other HQLA, implying that a framework that incentivises banks to hoard central bank reserves risks being less neutral with respect to market prices.     Barbiero, F., Boucinha, M. and Burlon, L. (2021), op. cit.; and Andreeva, D.C. and García-Posada, M. (2021), op. cit. The experience of the first two TLTRO programmes allotted between September 2014 and March 2017 suggest that liquidity transformation through a broad collateral framework is quantitatively material: a one standard deviation increase in non-HQLA holdings accounts for 22% of the standard deviation of banks’ take-up over assets. See Sugo, T. and Vergote, O. (2020), “Who takes the ECB’s targeted funding?”, Working Paper Series, No 2439, ECB.     At the Bank of England banks can borrow and deposit reserves at the same rate (i.e. the spread is zero). However, unlike in the euro area, banks in the United Kingdom need to pledge high-quality collateral, which is subject to haircuts that are generally higher than those applied by central counterparties in the market.     This refers to BrokerTec/MTS one-day repo transactions and EurexGC pooling trades.      \"]\n"
     ]
    }
   ],
   "source": [
    "import csv \n",
    "L = [8]\n",
    "\n",
    "with open('all_ECB_speeches.csv', encoding = 'utf-8') as csvfile:\n",
    "    read_in_new = csv.reader(csvfile, delimiter='|')\n",
    "    for i, line in enumerate(read_in_new):\n",
    "        if i in L:\n",
    "            print(line)\n",
    "            x = line \n",
    "            break"
   ]
  },
  {
   "cell_type": "code",
   "execution_count": 68,
   "id": "61212dc6-4d1f-4d0d-925f-9b5d24665c0f",
   "metadata": {},
   "outputs": [
    {
     "data": {
      "text/plain": [
       "['2024-03-14',\n",
       " 'Isabel Schnabel',\n",
       " 'The Eurosystem’s operational framework',\n",
       " 'Speech by Isabel Schnabel, Member of the Executive Board of the ECB, at the Money Market Contact Group meeting',\n",
       " \"  SPEECH  The Eurosystem’s operational framework   Speech by Isabel Schnabel, Member of the Executive Board of the ECB, at the Money Market Contact Group meeting Frankfurt am Main, 14 March 2024 Since 2015, the Eurosystem has been operating under a de facto supply-driven floor system. This was the result of the monetary policy actions taken in the run-up to and during the pandemic to preserve price stability in the euro area.  Faced with years of persistently low inflation and the greatest economic contraction on record in 2020, we conducted large-scale asset purchases and targeted longer-term refinancing operations (TLTROs), thereby injecting a significant amount of central bank reserves into the financial system. The resulting easing of financing conditions supported economic activity in the pursuit of our mandate. As reserves were well in excess of banks’ liquidity needs, short-term money market rates have been trading in the vicinity of the rate at which the Eurosystem remunerates overnight deposits – the deposit facility rate, or DFR. More recently, the volume of reserves has started to visibly decline because of the sharp reversal in the course of monetary policy that was necessary to fight the post-pandemic surge in inflation.  As banks have started repaying their outstanding TLTRO loans, and as some of the bonds held by the Eurosystem have matured without being reinvested, excess liquidity has fallen by about €1.2 trillion from a peak of nearly €4.7 trillion in mid-2022. By the end of 2025, it is expected to decline by another €1.4 trillion to around €2.1 trillion (Slide 2).  While aggregate excess liquidity would still be abundant at that point, potential structural changes to reserve demand, arising for instance from prudential regulation, imply that there is significant uncertainty about when, and to what extent, the fall in reserves may put upward pressure on overnight money market rates, which could potentially affect the monetary policy stance (Slide 3). Against this background, over the past 15 months the Governing Council has taken stock of the experience gained in implementing monetary policy in different liquidity regimes and has evaluated options that would safeguard the smooth implementation of monetary policy as reserves become less ample.[1]  In my remarks today, I would like to explain the outcome of our deliberations and describe the key characteristics of the Eurosystem’s operational framework.[2] This framework has been tailored to the distinctive features of the euro area economy and will help financial markets and banks adapt to the ongoing changes in the liquidity environment. Taking stock of 25 years of policy implementation Monetary policy implementation has undergone significant shifts since the euro was introduced 25\\xa0years ago.  Until the global financial crisis in 2008, reserves in the euro area were scarce, meaning that banks had to systematically use the regular refinancing operations to cover their liquidity needs arising from the demand for banknotes, the minimum reserve requirements and idiosyncratic liquidity shocks (Slide 4).[3]  By providing the reserves needed to plug the liquidity deficit, the Eurosystem was able to steer the unsecured overnight interest rate to the middle of the corridor that is spanned by the ECB’s three key policy rates: the DFR, the rate at which banks can borrow in the main refinancing operations (MROs) and the rate applied at the marginal lending facility (MLF) (Slide 5). Before 2008, such a corridor system was widespread among central banks. The main difference was how reserves were supplied – either through collateralised lending operations or through asset purchases – and the extent to which volatility in the overnight rate was tolerated.  The ECB, for example, accepted deviations of the overnight rate from the policy target that were, on average, larger than those of the Federal Reserve System or the Bank of Japan but smaller than those of the Bank of England or Sveriges Riksbank (Slide 6, left-hand chart).[4] This was partly a reflection of the relatively large size of the corridor (Slide 6, right-hand chart).[5]  A certain tolerance for volatility – to the extent that it would not blur the signal about the intended monetary policy stance – reflected the desire by policymakers to promote interbank market activity and keep the central bank balance sheet as lean as possible.[6] Empirical evidence suggests that this volatility generally did not impede the transmission of monetary policy (Slide 7).[7]  The global financial crisis, however, exposed vulnerabilities of the pre-2008 corridor framework.  In particular, a system of scarce liquidity requires a functioning money market to distribute liquidity across the banking system. As the global financial crisis unfolded in August 2007 and banks hoarded reserves, parts of the euro area money market froze and interbank funding costs soared (Slide 8, left-hand chart).  The ECB’s response to these tensions lastingly changed the way monetary policy was implemented in the euro area. Since 2008, all lending operations have been conducted using a fixed-rate full allotment tender procedure against a broad, albeit varying, set of collateral. With full allotment, liquidity in the system was no longer determined by the ECB alone but also by banks, which affected the ECB’s ability to steer money market rates.  For example, when the ECB launched the three-year longer-term refinancing operations in 2011 and 2012 in response to the euro area sovereign debt crisis, excess liquidity rose considerably, pushing money market rates from levels close to the rate on the MROs down to the DFR (Slide 8, right-hand chart).  At that point, the size of the corridor implied a decline in short-term money market rates of about 70\\xa0basis points, equivalent to almost three “standard” policy cuts.  In 2015, the ECB started purchasing bonds under the asset purchase programme (APP). As these purchases created new central bank reserves, excess liquidity quickly rose to levels that were sufficiently large to keep money market rates closely anchored around the DFR. The experience of implementing monetary policy in an environment of abundant liquidity also revealed some of the downsides of that system. One was that the floor was “leaky”. As excess liquidity rose to unprecedented levels following the launch of the pandemic emergency purchase programme (PEPP) in 2020, the spread between the DFR and the euro short-term rate (€STR) steadily widened over the course of 2021 and 2022 (Slide 9, left-hand side). This episode highlighted that, without more fundamental changes to the counterparty framework, a supply-driven floor system was not fully robust either to changes in the liquidity environment and did not provide perfect rate controllability, even if the movements in €STR were gradual and orderly.[8]    A second aspect was that the provision of ample reserves discouraged banks from seeking market-based funding solutions. For example, many banks used the TLTROs to reduce their borrowing in the market, causing a decline in the issuance of commercial paper, secured or unsecured bank bonds and other liabilities (Slide 9, right-hand side).[9]  While funding substitution was in part intended to stimulate loan growth, it implied that banks had fewer occasions to “test” their credit quality in markets, which could run counter to supervisory expectations.[10]  A third concern is the impact of abundant liquidity on market functioning. The Eurosystem’s footprint in financial markets increased considerably over the past decade before reaching a turning point in 2022 (Slide 10).  As providing reserves through asset purchases reduces the free float of safe assets, liquidity may dry up in some segments of the financial market and collateral may become scarce. These effects became particularly concerning in 2022, when a significant share of repo transactions using German government bonds as collateral traded more than 40 basis points below €STR, reflecting a shortage of safe assets (Slide 11). Such asset scarcity can delay the transmission of monetary policy.[11] For example, it took more than a week for the policy decisions taken in July, September and October 2022 to be fully reflected in the different segments of the repo market (Slide 12).[12]  The operational framework: principles and characteristics The changes to our operational framework build on the experiences we have gained with implementing monetary policy over the past 25 years. This experience has culminated in six principles, some of which are directly founded on Treaty provisions, that will guide monetary policy implementation in the future:[13]    Effectiveness ensures that the operational framework is able to implement the monetary policy stance in line with the provisions of the EU Treaty;   robustness allows us to implement monetary policy in different financial and liquidity environments;   flexibility implies an elastic supply of central bank reserves based on banks’ needs, effectively channelling liquidity across the entire euro area banking system;   efficiency means that the operational framework implements the desired monetary policy stance and does not interfere with it, while respecting the proportionality principle and taking into account net side effects, including financial stability risks;  the design of the operational framework should also foster the smooth and orderly functioning of markets, consistent with the open market economy principle; finally, the operational framework shall facilitate the ECB’s pursuit of its secondary objective of supporting the general economic policies in the European Union – in particular the transition to a green economy – without prejudice to our primary objective of price stability.  Based on these principles, the framework is designed as a hybrid system that provides reserves elastically and through a mix of instruments, including both short-term lending operations and structural operations. It allows for an effective control of short-term money market rates, while leaving room for learning in an uncertain environment and respecting the established principles and the current starting point characterised by abundant liquidity. Our operational framework has three key characteristics. Refinancing operations are at the centre of liquidity provision  The first is its demand-driven nature. In such a system, the marginal unit of reserves is provided on demand through our regular refinancing operations. To this end, we will continue to provide as much liquidity as banks demand at a fixed rate in the MROs and in the three-month longer-term refinancing operations against broad collateral. Providing liquidity through fixed-rate tenders with full allotment marks a significant change from the balanced liquidity regime operated until 2008. It reflects changes in banks’ liquidity preferences and in the way they operate today.  Years of crises, new regulatory requirements and the advance of new technologies – some of which increase the risk of “digital” bank runs – imply that banks may wish to hold larger liquidity buffers than before 2008.[14]  As central banks injected huge volumes of reserves through large-scale asset purchases, reserves have become an important store of value in the economy, shielded from interest rate and liquidity risks.[15]  Supplying central bank reserves elastically as balance sheet normalisation proceeds will go a long way towards allowing banks to hold the level of reserves that they find optimal, and will help insure against the risks of fragmentation and sudden liquidity imbalances as reserves become less ample. A framework in which the marginal unit of reserves is provided through refinancing operations is best suited for the euro area economy, which remains, despite the gradual rise in market-based finance, a bank-based financial system. Given the effective pass-through of our monetary policy, the Governing Council currently sees no need to grant non-banks access to the Eurosystem balance sheet.[16]  With banks at the core of monetary policy transmission, and with the euro area banking sector being large and heterogeneous, reserves are most effectively supplied, at the margin, through our regular refinancing operations and against a broad set of collateral.  Putting our refinancing operations at the centre of liquidity provision ensures that liquidity reaches all corners of the euro area. By contrast, liquidity provided through asset purchases has tended to be concentrated among a small number of larger financial institutions, which are predominantly located in a few member countries.  Specifically, about 40% of banks, in terms of total assets, are holding the entire excess liquidity from asset purchases, the highest share being held in Germany (Slide 13). Lending operations tend to lead to a more even distribution of reserves across banks and countries.[17]  A system in which reserves are supplied elastically, if calibrated appropriately, is effective in implementing the monetary policy stance, as it does not require the central bank to estimate the uncertain volume of reserves necessary to steer short-term money market rates towards the key policy rate.  In a supply-driven framework, where the system is forced into a liquidity surplus by supplying sufficient reserves, this uncertainty requires a meaningful buffer of reserves to contain the risks of unwarranted volatility.  While a structurally higher supply of liquidity may be stabilising in the short run, it could pose longer-term risks to financial stability by distorting market prices and inducing excessive risk-taking. It would also raise more fundamental concerns about monetary and fiscal interactions in a currency union with sovereign member countries.[18]  So, while a supply-driven system can be the outcome of monetary policy actions to preserve price stability in the vicinity of the effective lower bound, as has been the case since 2015, it is less suitable as a permanent operational framework in the euro area. A demand-driven system, by contrast, can ensure effectiveness and efficiency by limiting net side effects, reducing both the Eurosystem’s footprint in financial markets and the financial risks it faces.  A broad mix of instruments ensures operational robustness The second key characteristic of our framework is the mix of instruments used to supply reserves. A demand-driven system cannot entirely rely on short-term lending operations to satisfy banks’ reserve demand. Banks having to roll over large structural liquidity needs on a weekly basis would increase operational risks. Banknotes in circulation, for example, currently amount to more than €1.5 trillion, nearly five times as much as at the start of monetary union. Moreover, relying exclusively on lending operations would encumber a large share of banks’ assets as collateral, raising bank fragility as fewer unencumbered assets are available to meet creditors’ demands in times of stress.[19]  As such, at a later stage, we will complement our short-term lending operations with new longer-term lending operations and a new structural bond portfolio. Both of these will provide a more stable source of liquidity. At present, the liquidity absorption through autonomous factors and minimum reserve requirements is more than offset by the liquidity previously provided through the Eurosystem legacy bond holdings from the APP and the PEPP, and through other financial assets held by national central banks.  But as the run-down of the APP and the PEPP portfolios proceeds, banks will increasingly need to borrow reserves from the Eurosystem, which will show up in a rise in the liquidity demanded at our regular operations (Slide 14). Once the Eurosystem balance sheet begins to grow durably again, we will start supplying reserves through new longer-term refinancing operations and through the new structural bond portfolio, taking into account legacy bond holdings.  Over time, these structural operations will make a substantial contribution to covering the banking sector’s structural liquidity needs arising from autonomous factors and minimum reserve requirements. In the period ahead, ECB staff will conduct an in-depth analysis of how to design these new instruments in accordance with the established principles.  The size and composition of the new portfolio, as well as the pricing and duration of longer-term refinancing operations will be chosen so as to minimise their impact on the monetary policy stance, market functioning and moral hazard, and to facilitate the ECB’s pursuit of its secondary objective by incorporating considerations related to climate change. “Soft” floor with narrow spread limits volatility and incentivises market activity The third key characteristic of the framework is that monetary policy is implemented through a “soft” floor with a narrow spread.   The Governing Council will continue to steer the monetary policy stance through the DFR, which has acted as the de facto anchor for money market rates in recent years. Current large excess liquidity levels imply that short-term interest rates can be expected to continue to trade in a narrow range around the DFR for some time. As reserves become less ample, however, money market rates could rise relative to the DFR and potentially become more volatile. In view of this, the rate on the MROs and the rate at the MLF will be adjusted such that the spread between the rate on the MROs and the DFR will be reduced to 15 basis points from 50 basis points currently, and the spread between the MLF rate and the rate on the MROs remains unchanged at 25\\xa0basis points. The corresponding adjustments of the MRO und MLF rates will come into effect with the sixth maintenance period of 2024, which begins on 18 September. The relatively narrow spread of 15 basis points between the rate on the MROs and the DFR will limit the potential upward pressure on money market rates and set incentives for banks to borrow liquidity in our operations as our balance sheet normalises.  Moreover, by leaving the spread between the MLF rate and the MRO rate unchanged at 25\\xa0basis points, our framework imposes a higher cost on banks running into a reserve shortage between our weekly refinancing operations, thereby generating conditions in which banks, on aggregate, may wish to hold excess liquidity, especially in the presence of a broad collateral framework. The parameterisation of our framework therefore implies that short-term money market rates are likely to evolve in the vicinity of the DFR. A “soft” floor means that the Governing Council will tolerate deviations from the DFR, provided such movements do not blur the signal about the intended monetary policy stance. In other words, orderly deviations in both directions are accepted. However, excessive volatility that would interfere with the monetary policy stance, or a persistent drift of money market rates away from the DFR, could require the framework parameters to be reviewed.  The chosen set of parameters reflects the trade-off central banks face between limiting volatility and setting incentives for banks to insure themselves against liquidity shocks in financial markets. This trade-off depends on the cost of carry, which is the spread between the rate banks pay for borrowing reserves and the remuneration they receive when depositing these reserves back with the central bank.  The lower this cost, the greater the incentive for banks to obtain liquidity primarily through the central bank.[20] But as we have observed in the past, discouraging banks from seeking market-based funding solutions may be undesirable as it risks weakening the resilience of the banking system and may go against the principle of an open market economy. These risks are especially high when banks have access to longer-term refinancing operations and are permitted to pledge non-marketable assets as collateral, as our framework foresees.  Since excess reserves count towards the fulfilment of prudential liquidity ratios, the combination of a very low cost of carry and a broad collateral framework could encourage banks to engage in excessive liquidity transformation, as they receive Level 1 high-quality liquid assets (HQLA) by pledging non-HQLA as collateral.  Such liquidity transformation remains economically attractive even after haircuts are taken into account.[21] In the first half of 2023, before banks began repaying their TLTRO loans, non-HQLA accounted for about 80% of mobilised collateral with the Eurosystem. A higher cost of carry reduces incentives for excessive liquidity transformation and thereby promotes both a leaner central bank balance sheet and the objectives of prudential regulation of banks having a diversified funding structure. At the same time, a high cost of carry increases the potential for rate volatility in money markets. A system with fixed-rate full allotment means that, as the balance sheet normalises, aggregate liquidity conditions, and hence money market rates, may fluctuate to a degree that could affect the transmission of monetary policy. In the view of the Governing Council, a spread of 15 basis points between the rate on the MROs and the DFR manages this trade-off well. It is small enough to contain volatility but large enough to preserve incentives for money market activity by encouraging banks to manage their liquidity prudently, thereby avoiding the risk of excessive liquidity transformation.[22]  Recent evidence indeed suggests that money market activity may be revived as excess liquidity is withdrawn. With interest rates moving back into positive territory and banks having started repaying their outstanding TLTRO loans, we have observed incipient signs of a moderate recovery in money market activity, including in interbank trading and across borders (Slide 15).  Similarly, while cash-motivated transactions accounted for just 14% of repo transactions in 2022, the volume of these transactions increased visibly as excess liquidity started to decline (Slide 16).[23] It remains to be seen whether the chosen spread is sufficient to meaningfully revive money market activity. A spread of 15 basis points is also likely to be conducive to supporting both a financially sound Eurosystem balance sheet and financial stability.  If the cost of carry were too high, banks might shy away and unduly economise on their holdings of reserves, leaving them more vulnerable to liquidity shocks. As our regular refinancing operations are intended to play a central role in meeting banks’ liquidity needs, the pricing should ensure that counterparties use them as an integral part of a smooth monetary policy implementation.  If, however, the spread were too narrow, there would be a risk that banks might hoard reserves, turning the central bank into a lender of first resort, thereby reducing banks’ incentives to insure themselves against short-term liquidity risks in financial markets.  Overall, therefore, the configuration of our framework supports financial stability by allowing banks to replace reserves that will be absorbed through the run-down of our monetary policy assets in our refinancing operations at a cost that neither encourages banks to overly hoard nor to shun central bank reserves. That said, the transition from a situation of abundant excess liquidity to one of less ample liquidity has few precedents and there is a lot of uncertainty about how market participants are going to adjust their behaviour.  Therefore, in the period ahead, we will carefully monitor the evolution and distribution of excess liquidity, the formation of money market rates, the evolution of banks’ demand for reserves, and the functioning of money markets and financial markets more broadly.  Based on the experience we gain, the Governing Council will review the key parameters of the operational framework in 2026 and stands ready to adjust the design and parameters of the framework at an earlier stage, if necessary, to ensure that the implementation of monetary policy remains in line with the established principles.  Conclusion Let me conclude. The Governing Council yesterday set out how we intend to steer short-term interest rates in the future, based on six principles, some of which are directly founded on the EU Treaty. The changes to the operational framework balance the benefits of providing central bank reserves elastically upon demand with the costs associated with a balance sheet that is larger than is strictly necessary to effectively implement the monetary policy stance. The changes to our operational framework do not have any implications for our monetary policy stance, neither for our interest rate policy nor for our monetary policy bond portfolios, which we expect to continue to be run off. With excess liquidity declining, clarity on the framework will help banks prepare for a period where holding central bank reserves will no longer be costless. At the same time, our decision to reduce the rate banks pay on the MROs and the MLF from 18 September 2024 onwards will ensure that interest rate volatility will be contained as balance sheet normalisation proceeds, and that counterparties use MROs as an integral part of a smooth implementation of monetary policy. Taken together, the key characteristics of our operational framework will ensure that it remains effective and efficient, flexible and robust, and that it supports our secondary objective, while respecting the open market economy principle. Thank you.      See also Schnabel, I. (2023), “Back to normal? Balance sheet size and interest rate control”, speech at an event organised by Columbia University and SGH Macro Advisors, New York, 27 March.     ECB (2024), ECB announces changes to the operational framework for implementing monetary policy, 13 March.     Our regular open market operations consist of one-week liquidity-providing operations (the main refinancing operations) and three-month liquidity-providing operations.     Between 1999 and 2006, the standard deviation of the spread between the EONIA and the rate on the MROs averaged 15 basis points, with frequent spikes of larger magnitude.     From April 1999 onwards, the corridor width was 200 basis points in the euro area. By comparison, the Bank of Canada and the Sveriges Riksbank implemented monetary policy with a corridor of 50 and 150 basis points, respectively.     Bindseil, U. and Jabłecki, J. (2011), “The optimal width of the central bank standing facilities corridor and banks’ day-to-day liquidity management”, Working Paper Series, No 1350, ECB, June; Allen, W.A. (2002), “Bank of England open market operations: the introduction of a deposit facility for counterparties”, BIS Papers, No 12, Bank for International Settlements; Mitlid, K. and Vesterlund, M. (2001), “Steering interest rates in monetary policy – how does it work?”, Sveriges Riksbank Economic Review, No 1, pp. 19-41; Tucker, P. (2004), “Managing the central bank’s balance sheet: where monetary policy meets financial stability”, Bank of England Quarterly Bulletin, Vol. 44, No 3, Bank of England; and Bank of Canada (1995), “A proposed framework for the implementation of monetary policy in the Large Value Transfer System environment”, Discussion Paper.     See ECB (2007), “Volatility of the overnight interest rate and its transmission along the money market yield curve”, Monthly Bulletin, August; and ECB (2005), “The transmission of overnight interest rate volatility to longer-term interest rates in the euro area money market”, Monthly Bulletin, August. The ECB adjusted its framework in March 2004. The timing of reserve maintenance periods was amended and the maturity of the MROs was shortened from two weeks to one week. The main reason behind these changes were the underbidding episodes that had occurred in periods when there were expectations of an interest rate reduction.     A “leaky” floor is mostly a reflection of segmentation: as only banks have access to the ECB’s deposit facility, they can charge non-banks a fee for providing liquidity services. Granting non-banks access to the deposit facility could thus help establish a “hard” floor but would come with other challenges, as these institutions are less regulated than banks.     Barbiero, F., Boucinha, M. and Burlon, L. (2021), “TLTRO III and bank lending conditions”, Economic Bulletin, Issue 6, ECB; and Andreeva, D. and García-Posada, M. (2021), “The impact of the ECB's targeted long-term refinancing operations on banks’ lending policies: The role of competition”, Journal of Banking & Finance, Vol. 122.      This includes Pillar 3 “market discipline” requirements under the Basel III rules.     Schnabel, I. (2023), “Quantitative tightening: rationale and market impact”, speech at the Money Market Contact Group meeting,Frankfurt am Main, 2 March.     This may also have reflected uncertainties regarding the remuneration of non-monetary policy deposits at the time.     ECB (2024, op.cit.).     The events that unfolded in the United States in March 2023 suggest that the risks of bank runs have measurably increased in the digital age where information travels much faster.     See also Borio, C., Disyatat, P. and Schrimpf, A. (2024), “The double-faced demand for bank reserves and its implications”, VoxEU, Centre for Economic Policy Research, 15 February.     However, even without direct access to our balance sheet, the experience so far suggests that, in times of crisis, our toolkit has been able to provide liquidity – either directly or indirectly – to all parts of the financial system, including non-banks.     In the past, while in absolute terms more liquidity has been provided through asset purchases, the liquidity provided through credit operations reached 60% of the euro area banking system directly compared with 43% through asset purchases. Even after redistribution, liquidity generated via asset purchases remains largely concentrated among investment banks, custodians and clearing institutions in euro area financial centres.     Evidence from the United States suggests that financial stability risks may be significant under a supply-driven system, as banks may use reserves to build up significant runnable short-term liabilities. Such “liquidity dependence” may lead to a ratcheting up of the balance sheet that could be hard to reverse. See Acharya, V.V., Chauhan, R.S., Rajan, R. and Steffen, S. (2023), “Liquidity Dependence and the Waxing and Waning of Central Bank Balance Sheets”, NBER Working Papers, No 31050, National Bureau of Economic Research; Acharya, V. and Rajan, R. (2022), “Liquidity, liquidity everywhere, not a drop to use – Why flooding banks with central bank reserves may not expand liquidity”, NBER Working Papers, No 29680, National Bureau of Economic Research.     See, for example, Ahnert, T., Anand, K., Gai, P. and Chapman, J. (2019), “Asset Encumbrance, Bank Funding, and Fragility”, The Review of Financial Studies, Vol. 32, Issue 6, pp. 2422-2455, 22 September.     The cost of carry also determines banks’ demand for other HQLA, implying that a framework that incentivises banks to hoard central bank reserves risks being less neutral with respect to market prices.     Barbiero, F., Boucinha, M. and Burlon, L. (2021), op. cit.; and Andreeva, D.C. and García-Posada, M. (2021), op. cit. The experience of the first two TLTRO programmes allotted between September 2014 and March 2017 suggest that liquidity transformation through a broad collateral framework is quantitatively material: a one standard deviation increase in non-HQLA holdings accounts for 22% of the standard deviation of banks’ take-up over assets. See Sugo, T. and Vergote, O. (2020), “Who takes the ECB’s targeted funding?”, Working Paper Series, No 2439, ECB.     At the Bank of England banks can borrow and deposit reserves at the same rate (i.e. the spread is zero). However, unlike in the euro area, banks in the United Kingdom need to pledge high-quality collateral, which is subject to haircuts that are generally higher than those applied by central counterparties in the market.     This refers to BrokerTec/MTS one-day repo transactions and EurexGC pooling trades.      \"]"
      ]
     },
     "execution_count": 68,
     "metadata": {},
     "output_type": "execute_result"
    }
   ],
   "source": [
    "x"
   ]
  },
  {
   "cell_type": "code",
   "execution_count": 69,
   "id": "1386409f-7a1e-4fd2-8595-87af650c48b0",
   "metadata": {},
   "outputs": [],
   "source": [
    "corpus = x[4]"
   ]
  },
  {
   "cell_type": "code",
   "execution_count": 70,
   "id": "eb87acae-00d4-41b6-a331-3454284e772a",
   "metadata": {},
   "outputs": [
    {
     "data": {
      "text/plain": [
       "'  SPEECH  The Eurosystem’s operational framework   Speech by Isabel Schnabel, Member of the Executive Board of the ECB, at the Money Market Contact Group meeting Frankfurt am Main, 14 March 2024 Since 2015, the Eurosystem has been operating under a de facto supply-driven floor system. This was the result of the monetary policy actions taken in the run-up to and during the pandemic to preserve price stability in the euro area.  Faced with years of persistently low inflation and the greatest econo'"
      ]
     },
     "execution_count": 70,
     "metadata": {},
     "output_type": "execute_result"
    }
   ],
   "source": [
    "corpus[:500]"
   ]
  },
  {
   "cell_type": "code",
   "execution_count": 71,
   "id": "0006496f-3d0d-4c77-8415-6926b20c2cd7",
   "metadata": {},
   "outputs": [
    {
     "data": {
      "text/plain": [
       "str"
      ]
     },
     "execution_count": 71,
     "metadata": {},
     "output_type": "execute_result"
    }
   ],
   "source": [
    "type(corpus)"
   ]
  },
  {
   "cell_type": "code",
   "execution_count": 72,
   "id": "62085d6a-3494-4e19-938a-51358db6957b",
   "metadata": {},
   "outputs": [
    {
     "data": {
      "text/plain": [
       "32342"
      ]
     },
     "execution_count": 72,
     "metadata": {},
     "output_type": "execute_result"
    }
   ],
   "source": [
    "len(corpus)"
   ]
  },
  {
   "cell_type": "code",
   "execution_count": 73,
   "id": "e3f0d0ca-67f6-4b4f-8bf7-23dc46341288",
   "metadata": {},
   "outputs": [],
   "source": [
    "corpus1=corpus.lstrip(corpus[2:157])"
   ]
  },
  {
   "cell_type": "code",
   "execution_count": 74,
   "id": "09294b97-f952-4395-b55f-b9fa004f23bf",
   "metadata": {},
   "outputs": [
    {
     "data": {
      "text/plain": [
       "\"g Frankfurt am Main, 14 March 2024 Since 2015, the Eurosystem has been operating under a de facto supply-driven floor system. This was the result of the monetary policy actions taken in the run-up to and during the pandemic to preserve price stability in the euro area.  Faced with years of persistently low inflation and the greatest economic contraction on record in 2020, we conducted large-scale asset purchases and targeted longer-term refinancing operations (TLTROs), thereby injecting a significant amount of central bank reserves into the financial system. The resulting easing of financing conditions supported economic activity in the pursuit of our mandate. As reserves were well in excess of banks’ liquidity needs, short-term money market rates have been trading in the vicinity of the rate at which the Eurosystem remunerates overnight deposits – the deposit facility rate, or DFR. More recently, the volume of reserves has started to visibly decline because of the sharp reversal in the course of monetary policy that was necessary to fight the post-pandemic surge in inflation.  As banks have started repaying their outstanding TLTRO loans, and as some of the bonds held by the Eurosystem have matured without being reinvested, excess liquidity has fallen by about €1.2 trillion from a peak of nearly €4.7 trillion in mid-2022. By the end of 2025, it is expected to decline by another €1.4 trillion to around €2.1 trillion (Slide 2).  While aggregate excess liquidity would still be abundant at that point, potential structural changes to reserve demand, arising for instance from prudential regulation, imply that there is significant uncertainty about when, and to what extent, the fall in reserves may put upward pressure on overnight money market rates, which could potentially affect the monetary policy stance (Slide 3). Against this background, over the past 15 months the Governing Council has taken stock of the experience gained in implementing monetary policy in different liquidity regimes and has evaluated options that would safeguard the smooth implementation of monetary policy as reserves become less ample.[1]  In my remarks today, I would like to explain the outcome of our deliberations and describe the key characteristics of the Eurosystem’s operational framework.[2] This framework has been tailored to the distinctive features of the euro area economy and will help financial markets and banks adapt to the ongoing changes in the liquidity environment. Taking stock of 25 years of policy implementation Monetary policy implementation has undergone significant shifts since the euro was introduced 25\\xa0years ago.  Until the global financial crisis in 2008, reserves in the euro area were scarce, meaning that banks had to systematically use the regular refinancing operations to cover their liquidity needs arising from the demand for banknotes, the minimum reserve requirements and idiosyncratic liquidity shocks (Slide 4).[3]  By providing the reserves needed to plug the liquidity deficit, the Eurosystem was able to steer the unsecured overnight interest rate to the middle of the corridor that is spanned by the ECB’s three key policy rates: the DFR, the rate at which banks can borrow in the main refinancing operations (MROs) and the rate applied at the marginal lending facility (MLF) (Slide 5). Before 2008, such a corridor system was widespread among central banks. The main difference was how reserves were supplied – either through collateralised lending operations or through asset purchases – and the extent to which volatility in the overnight rate was tolerated.  The ECB, for example, accepted deviations of the overnight rate from the policy target that were, on average, larger than those of the Federal Reserve System or the Bank of Japan but smaller than those of the Bank of England or Sveriges Riksbank (Slide 6, left-hand chart).[4] This was partly a reflection of the relatively large size of the corridor (Slide 6, right-hand chart).[5]  A certain tolerance for volatility – to the extent that it would not blur the signal about the intended monetary policy stance – reflected the desire by policymakers to promote interbank market activity and keep the central bank balance sheet as lean as possible.[6] Empirical evidence suggests that this volatility generally did not impede the transmission of monetary policy (Slide 7).[7]  The global financial crisis, however, exposed vulnerabilities of the pre-2008 corridor framework.  In particular, a system of scarce liquidity requires a functioning money market to distribute liquidity across the banking system. As the global financial crisis unfolded in August 2007 and banks hoarded reserves, parts of the euro area money market froze and interbank funding costs soared (Slide 8, left-hand chart).  The ECB’s response to these tensions lastingly changed the way monetary policy was implemented in the euro area. Since 2008, all lending operations have been conducted using a fixed-rate full allotment tender procedure against a broad, albeit varying, set of collateral. With full allotment, liquidity in the system was no longer determined by the ECB alone but also by banks, which affected the ECB’s ability to steer money market rates.  For example, when the ECB launched the three-year longer-term refinancing operations in 2011 and 2012 in response to the euro area sovereign debt crisis, excess liquidity rose considerably, pushing money market rates from levels close to the rate on the MROs down to the DFR (Slide 8, right-hand chart).  At that point, the size of the corridor implied a decline in short-term money market rates of about 70\\xa0basis points, equivalent to almost three “standard” policy cuts.  In 2015, the ECB started purchasing bonds under the asset purchase programme (APP). As these purchases created new central bank reserves, excess liquidity quickly rose to levels that were sufficiently large to keep money market rates closely anchored around the DFR. The experience of implementing monetary policy in an environment of abundant liquidity also revealed some of the downsides of that system. One was that the floor was “leaky”. As excess liquidity rose to unprecedented levels following the launch of the pandemic emergency purchase programme (PEPP) in 2020, the spread between the DFR and the euro short-term rate (€STR) steadily widened over the course of 2021 and 2022 (Slide 9, left-hand side). This episode highlighted that, without more fundamental changes to the counterparty framework, a supply-driven floor system was not fully robust either to changes in the liquidity environment and did not provide perfect rate controllability, even if the movements in €STR were gradual and orderly.[8]    A second aspect was that the provision of ample reserves discouraged banks from seeking market-based funding solutions. For example, many banks used the TLTROs to reduce their borrowing in the market, causing a decline in the issuance of commercial paper, secured or unsecured bank bonds and other liabilities (Slide 9, right-hand side).[9]  While funding substitution was in part intended to stimulate loan growth, it implied that banks had fewer occasions to “test” their credit quality in markets, which could run counter to supervisory expectations.[10]  A third concern is the impact of abundant liquidity on market functioning. The Eurosystem’s footprint in financial markets increased considerably over the past decade before reaching a turning point in 2022 (Slide 10).  As providing reserves through asset purchases reduces the free float of safe assets, liquidity may dry up in some segments of the financial market and collateral may become scarce. These effects became particularly concerning in 2022, when a significant share of repo transactions using German government bonds as collateral traded more than 40 basis points below €STR, reflecting a shortage of safe assets (Slide 11). Such asset scarcity can delay the transmission of monetary policy.[11] For example, it took more than a week for the policy decisions taken in July, September and October 2022 to be fully reflected in the different segments of the repo market (Slide 12).[12]  The operational framework: principles and characteristics The changes to our operational framework build on the experiences we have gained with implementing monetary policy over the past 25 years. This experience has culminated in six principles, some of which are directly founded on Treaty provisions, that will guide monetary policy implementation in the future:[13]    Effectiveness ensures that the operational framework is able to implement the monetary policy stance in line with the provisions of the EU Treaty;   robustness allows us to implement monetary policy in different financial and liquidity environments;   flexibility implies an elastic supply of central bank reserves based on banks’ needs, effectively channelling liquidity across the entire euro area banking system;   efficiency means that the operational framework implements the desired monetary policy stance and does not interfere with it, while respecting the proportionality principle and taking into account net side effects, including financial stability risks;  the design of the operational framework should also foster the smooth and orderly functioning of markets, consistent with the open market economy principle; finally, the operational framework shall facilitate the ECB’s pursuit of its secondary objective of supporting the general economic policies in the European Union – in particular the transition to a green economy – without prejudice to our primary objective of price stability.  Based on these principles, the framework is designed as a hybrid system that provides reserves elastically and through a mix of instruments, including both short-term lending operations and structural operations. It allows for an effective control of short-term money market rates, while leaving room for learning in an uncertain environment and respecting the established principles and the current starting point characterised by abundant liquidity. Our operational framework has three key characteristics. Refinancing operations are at the centre of liquidity provision  The first is its demand-driven nature. In such a system, the marginal unit of reserves is provided on demand through our regular refinancing operations. To this end, we will continue to provide as much liquidity as banks demand at a fixed rate in the MROs and in the three-month longer-term refinancing operations against broad collateral. Providing liquidity through fixed-rate tenders with full allotment marks a significant change from the balanced liquidity regime operated until 2008. It reflects changes in banks’ liquidity preferences and in the way they operate today.  Years of crises, new regulatory requirements and the advance of new technologies – some of which increase the risk of “digital” bank runs – imply that banks may wish to hold larger liquidity buffers than before 2008.[14]  As central banks injected huge volumes of reserves through large-scale asset purchases, reserves have become an important store of value in the economy, shielded from interest rate and liquidity risks.[15]  Supplying central bank reserves elastically as balance sheet normalisation proceeds will go a long way towards allowing banks to hold the level of reserves that they find optimal, and will help insure against the risks of fragmentation and sudden liquidity imbalances as reserves become less ample. A framework in which the marginal unit of reserves is provided through refinancing operations is best suited for the euro area economy, which remains, despite the gradual rise in market-based finance, a bank-based financial system. Given the effective pass-through of our monetary policy, the Governing Council currently sees no need to grant non-banks access to the Eurosystem balance sheet.[16]  With banks at the core of monetary policy transmission, and with the euro area banking sector being large and heterogeneous, reserves are most effectively supplied, at the margin, through our regular refinancing operations and against a broad set of collateral.  Putting our refinancing operations at the centre of liquidity provision ensures that liquidity reaches all corners of the euro area. By contrast, liquidity provided through asset purchases has tended to be concentrated among a small number of larger financial institutions, which are predominantly located in a few member countries.  Specifically, about 40% of banks, in terms of total assets, are holding the entire excess liquidity from asset purchases, the highest share being held in Germany (Slide 13). Lending operations tend to lead to a more even distribution of reserves across banks and countries.[17]  A system in which reserves are supplied elastically, if calibrated appropriately, is effective in implementing the monetary policy stance, as it does not require the central bank to estimate the uncertain volume of reserves necessary to steer short-term money market rates towards the key policy rate.  In a supply-driven framework, where the system is forced into a liquidity surplus by supplying sufficient reserves, this uncertainty requires a meaningful buffer of reserves to contain the risks of unwarranted volatility.  While a structurally higher supply of liquidity may be stabilising in the short run, it could pose longer-term risks to financial stability by distorting market prices and inducing excessive risk-taking. It would also raise more fundamental concerns about monetary and fiscal interactions in a currency union with sovereign member countries.[18]  So, while a supply-driven system can be the outcome of monetary policy actions to preserve price stability in the vicinity of the effective lower bound, as has been the case since 2015, it is less suitable as a permanent operational framework in the euro area. A demand-driven system, by contrast, can ensure effectiveness and efficiency by limiting net side effects, reducing both the Eurosystem’s footprint in financial markets and the financial risks it faces.  A broad mix of instruments ensures operational robustness The second key characteristic of our framework is the mix of instruments used to supply reserves. A demand-driven system cannot entirely rely on short-term lending operations to satisfy banks’ reserve demand. Banks having to roll over large structural liquidity needs on a weekly basis would increase operational risks. Banknotes in circulation, for example, currently amount to more than €1.5 trillion, nearly five times as much as at the start of monetary union. Moreover, relying exclusively on lending operations would encumber a large share of banks’ assets as collateral, raising bank fragility as fewer unencumbered assets are available to meet creditors’ demands in times of stress.[19]  As such, at a later stage, we will complement our short-term lending operations with new longer-term lending operations and a new structural bond portfolio. Both of these will provide a more stable source of liquidity. At present, the liquidity absorption through autonomous factors and minimum reserve requirements is more than offset by the liquidity previously provided through the Eurosystem legacy bond holdings from the APP and the PEPP, and through other financial assets held by national central banks.  But as the run-down of the APP and the PEPP portfolios proceeds, banks will increasingly need to borrow reserves from the Eurosystem, which will show up in a rise in the liquidity demanded at our regular operations (Slide 14). Once the Eurosystem balance sheet begins to grow durably again, we will start supplying reserves through new longer-term refinancing operations and through the new structural bond portfolio, taking into account legacy bond holdings.  Over time, these structural operations will make a substantial contribution to covering the banking sector’s structural liquidity needs arising from autonomous factors and minimum reserve requirements. In the period ahead, ECB staff will conduct an in-depth analysis of how to design these new instruments in accordance with the established principles.  The size and composition of the new portfolio, as well as the pricing and duration of longer-term refinancing operations will be chosen so as to minimise their impact on the monetary policy stance, market functioning and moral hazard, and to facilitate the ECB’s pursuit of its secondary objective by incorporating considerations related to climate change. “Soft” floor with narrow spread limits volatility and incentivises market activity The third key characteristic of the framework is that monetary policy is implemented through a “soft” floor with a narrow spread.   The Governing Council will continue to steer the monetary policy stance through the DFR, which has acted as the de facto anchor for money market rates in recent years. Current large excess liquidity levels imply that short-term interest rates can be expected to continue to trade in a narrow range around the DFR for some time. As reserves become less ample, however, money market rates could rise relative to the DFR and potentially become more volatile. In view of this, the rate on the MROs and the rate at the MLF will be adjusted such that the spread between the rate on the MROs and the DFR will be reduced to 15 basis points from 50 basis points currently, and the spread between the MLF rate and the rate on the MROs remains unchanged at 25\\xa0basis points. The corresponding adjustments of the MRO und MLF rates will come into effect with the sixth maintenance period of 2024, which begins on 18 September. The relatively narrow spread of 15 basis points between the rate on the MROs and the DFR will limit the potential upward pressure on money market rates and set incentives for banks to borrow liquidity in our operations as our balance sheet normalises.  Moreover, by leaving the spread between the MLF rate and the MRO rate unchanged at 25\\xa0basis points, our framework imposes a higher cost on banks running into a reserve shortage between our weekly refinancing operations, thereby generating conditions in which banks, on aggregate, may wish to hold excess liquidity, especially in the presence of a broad collateral framework. The parameterisation of our framework therefore implies that short-term money market rates are likely to evolve in the vicinity of the DFR. A “soft” floor means that the Governing Council will tolerate deviations from the DFR, provided such movements do not blur the signal about the intended monetary policy stance. In other words, orderly deviations in both directions are accepted. However, excessive volatility that would interfere with the monetary policy stance, or a persistent drift of money market rates away from the DFR, could require the framework parameters to be reviewed.  The chosen set of parameters reflects the trade-off central banks face between limiting volatility and setting incentives for banks to insure themselves against liquidity shocks in financial markets. This trade-off depends on the cost of carry, which is the spread between the rate banks pay for borrowing reserves and the remuneration they receive when depositing these reserves back with the central bank.  The lower this cost, the greater the incentive for banks to obtain liquidity primarily through the central bank.[20] But as we have observed in the past, discouraging banks from seeking market-based funding solutions may be undesirable as it risks weakening the resilience of the banking system and may go against the principle of an open market economy. These risks are especially high when banks have access to longer-term refinancing operations and are permitted to pledge non-marketable assets as collateral, as our framework foresees.  Since excess reserves count towards the fulfilment of prudential liquidity ratios, the combination of a very low cost of carry and a broad collateral framework could encourage banks to engage in excessive liquidity transformation, as they receive Level 1 high-quality liquid assets (HQLA) by pledging non-HQLA as collateral.  Such liquidity transformation remains economically attractive even after haircuts are taken into account.[21] In the first half of 2023, before banks began repaying their TLTRO loans, non-HQLA accounted for about 80% of mobilised collateral with the Eurosystem. A higher cost of carry reduces incentives for excessive liquidity transformation and thereby promotes both a leaner central bank balance sheet and the objectives of prudential regulation of banks having a diversified funding structure. At the same time, a high cost of carry increases the potential for rate volatility in money markets. A system with fixed-rate full allotment means that, as the balance sheet normalises, aggregate liquidity conditions, and hence money market rates, may fluctuate to a degree that could affect the transmission of monetary policy. In the view of the Governing Council, a spread of 15 basis points between the rate on the MROs and the DFR manages this trade-off well. It is small enough to contain volatility but large enough to preserve incentives for money market activity by encouraging banks to manage their liquidity prudently, thereby avoiding the risk of excessive liquidity transformation.[22]  Recent evidence indeed suggests that money market activity may be revived as excess liquidity is withdrawn. With interest rates moving back into positive territory and banks having started repaying their outstanding TLTRO loans, we have observed incipient signs of a moderate recovery in money market activity, including in interbank trading and across borders (Slide 15).  Similarly, while cash-motivated transactions accounted for just 14% of repo transactions in 2022, the volume of these transactions increased visibly as excess liquidity started to decline (Slide 16).[23] It remains to be seen whether the chosen spread is sufficient to meaningfully revive money market activity. A spread of 15 basis points is also likely to be conducive to supporting both a financially sound Eurosystem balance sheet and financial stability.  If the cost of carry were too high, banks might shy away and unduly economise on their holdings of reserves, leaving them more vulnerable to liquidity shocks. As our regular refinancing operations are intended to play a central role in meeting banks’ liquidity needs, the pricing should ensure that counterparties use them as an integral part of a smooth monetary policy implementation.  If, however, the spread were too narrow, there would be a risk that banks might hoard reserves, turning the central bank into a lender of first resort, thereby reducing banks’ incentives to insure themselves against short-term liquidity risks in financial markets.  Overall, therefore, the configuration of our framework supports financial stability by allowing banks to replace reserves that will be absorbed through the run-down of our monetary policy assets in our refinancing operations at a cost that neither encourages banks to overly hoard nor to shun central bank reserves. That said, the transition from a situation of abundant excess liquidity to one of less ample liquidity has few precedents and there is a lot of uncertainty about how market participants are going to adjust their behaviour.  Therefore, in the period ahead, we will carefully monitor the evolution and distribution of excess liquidity, the formation of money market rates, the evolution of banks’ demand for reserves, and the functioning of money markets and financial markets more broadly.  Based on the experience we gain, the Governing Council will review the key parameters of the operational framework in 2026 and stands ready to adjust the design and parameters of the framework at an earlier stage, if necessary, to ensure that the implementation of monetary policy remains in line with the established principles.  Conclusion Let me conclude. The Governing Council yesterday set out how we intend to steer short-term interest rates in the future, based on six principles, some of which are directly founded on the EU Treaty. The changes to the operational framework balance the benefits of providing central bank reserves elastically upon demand with the costs associated with a balance sheet that is larger than is strictly necessary to effectively implement the monetary policy stance. The changes to our operational framework do not have any implications for our monetary policy stance, neither for our interest rate policy nor for our monetary policy bond portfolios, which we expect to continue to be run off. With excess liquidity declining, clarity on the framework will help banks prepare for a period where holding central bank reserves will no longer be costless. At the same time, our decision to reduce the rate banks pay on the MROs and the MLF from 18 September 2024 onwards will ensure that interest rate volatility will be contained as balance sheet normalisation proceeds, and that counterparties use MROs as an integral part of a smooth implementation of monetary policy. Taken together, the key characteristics of our operational framework will ensure that it remains effective and efficient, flexible and robust, and that it supports our secondary objective, while respecting the open market economy principle. Thank you.      See also Schnabel, I. (2023), “Back to normal? Balance sheet size and interest rate control”, speech at an event organised by Columbia University and SGH Macro Advisors, New York, 27 March.     ECB (2024), ECB announces changes to the operational framework for implementing monetary policy, 13 March.     Our regular open market operations consist of one-week liquidity-providing operations (the main refinancing operations) and three-month liquidity-providing operations.     Between 1999 and 2006, the standard deviation of the spread between the EONIA and the rate on the MROs averaged 15 basis points, with frequent spikes of larger magnitude.     From April 1999 onwards, the corridor width was 200 basis points in the euro area. By comparison, the Bank of Canada and the Sveriges Riksbank implemented monetary policy with a corridor of 50 and 150 basis points, respectively.     Bindseil, U. and Jabłecki, J. (2011), “The optimal width of the central bank standing facilities corridor and banks’ day-to-day liquidity management”, Working Paper Series, No 1350, ECB, June; Allen, W.A. (2002), “Bank of England open market operations: the introduction of a deposit facility for counterparties”, BIS Papers, No 12, Bank for International Settlements; Mitlid, K. and Vesterlund, M. (2001), “Steering interest rates in monetary policy – how does it work?”, Sveriges Riksbank Economic Review, No 1, pp. 19-41; Tucker, P. (2004), “Managing the central bank’s balance sheet: where monetary policy meets financial stability”, Bank of England Quarterly Bulletin, Vol. 44, No 3, Bank of England; and Bank of Canada (1995), “A proposed framework for the implementation of monetary policy in the Large Value Transfer System environment”, Discussion Paper.     See ECB (2007), “Volatility of the overnight interest rate and its transmission along the money market yield curve”, Monthly Bulletin, August; and ECB (2005), “The transmission of overnight interest rate volatility to longer-term interest rates in the euro area money market”, Monthly Bulletin, August. The ECB adjusted its framework in March 2004. The timing of reserve maintenance periods was amended and the maturity of the MROs was shortened from two weeks to one week. The main reason behind these changes were the underbidding episodes that had occurred in periods when there were expectations of an interest rate reduction.     A “leaky” floor is mostly a reflection of segmentation: as only banks have access to the ECB’s deposit facility, they can charge non-banks a fee for providing liquidity services. Granting non-banks access to the deposit facility could thus help establish a “hard” floor but would come with other challenges, as these institutions are less regulated than banks.     Barbiero, F., Boucinha, M. and Burlon, L. (2021), “TLTRO III and bank lending conditions”, Economic Bulletin, Issue 6, ECB; and Andreeva, D. and García-Posada, M. (2021), “The impact of the ECB's targeted long-term refinancing operations on banks’ lending policies: The role of competition”, Journal of Banking & Finance, Vol. 122.      This includes Pillar 3 “market discipline” requirements under the Basel III rules.     Schnabel, I. (2023), “Quantitative tightening: rationale and market impact”, speech at the Money Market Contact Group meeting,Frankfurt am Main, 2 March.     This may also have reflected uncertainties regarding the remuneration of non-monetary policy deposits at the time.     ECB (2024, op.cit.).     The events that unfolded in the United States in March 2023 suggest that the risks of bank runs have measurably increased in the digital age where information travels much faster.     See also Borio, C., Disyatat, P. and Schrimpf, A. (2024), “The double-faced demand for bank reserves and its implications”, VoxEU, Centre for Economic Policy Research, 15 February.     However, even without direct access to our balance sheet, the experience so far suggests that, in times of crisis, our toolkit has been able to provide liquidity – either directly or indirectly – to all parts of the financial system, including non-banks.     In the past, while in absolute terms more liquidity has been provided through asset purchases, the liquidity provided through credit operations reached 60% of the euro area banking system directly compared with 43% through asset purchases. Even after redistribution, liquidity generated via asset purchases remains largely concentrated among investment banks, custodians and clearing institutions in euro area financial centres.     Evidence from the United States suggests that financial stability risks may be significant under a supply-driven system, as banks may use reserves to build up significant runnable short-term liabilities. Such “liquidity dependence” may lead to a ratcheting up of the balance sheet that could be hard to reverse. See Acharya, V.V., Chauhan, R.S., Rajan, R. and Steffen, S. (2023), “Liquidity Dependence and the Waxing and Waning of Central Bank Balance Sheets”, NBER Working Papers, No 31050, National Bureau of Economic Research; Acharya, V. and Rajan, R. (2022), “Liquidity, liquidity everywhere, not a drop to use – Why flooding banks with central bank reserves may not expand liquidity”, NBER Working Papers, No 29680, National Bureau of Economic Research.     See, for example, Ahnert, T., Anand, K., Gai, P. and Chapman, J. (2019), “Asset Encumbrance, Bank Funding, and Fragility”, The Review of Financial Studies, Vol. 32, Issue 6, pp. 2422-2455, 22 September.     The cost of carry also determines banks’ demand for other HQLA, implying that a framework that incentivises banks to hoard central bank reserves risks being less neutral with respect to market prices.     Barbiero, F., Boucinha, M. and Burlon, L. (2021), op. cit.; and Andreeva, D.C. and García-Posada, M. (2021), op. cit. The experience of the first two TLTRO programmes allotted between September 2014 and March 2017 suggest that liquidity transformation through a broad collateral framework is quantitatively material: a one standard deviation increase in non-HQLA holdings accounts for 22% of the standard deviation of banks’ take-up over assets. See Sugo, T. and Vergote, O. (2020), “Who takes the ECB’s targeted funding?”, Working Paper Series, No 2439, ECB.     At the Bank of England banks can borrow and deposit reserves at the same rate (i.e. the spread is zero). However, unlike in the euro area, banks in the United Kingdom need to pledge high-quality collateral, which is subject to haircuts that are generally higher than those applied by central counterparties in the market.     This refers to BrokerTec/MTS one-day repo transactions and EurexGC pooling trades.      \""
      ]
     },
     "execution_count": 74,
     "metadata": {},
     "output_type": "execute_result"
    }
   ],
   "source": [
    "corpus1"
   ]
  },
  {
   "cell_type": "code",
   "execution_count": 75,
   "id": "30e30d6a-1792-42e6-bfc8-0d2b2731d48d",
   "metadata": {},
   "outputs": [
    {
     "data": {
      "text/plain": [
       "'g Frankfurt am Main, 14 March 2024 Since 2015, the Eurosystem has been operating under a de facto supply-driven floor system. This was the result of the monetary policy actions taken in the run-up to and during the pandemic to preserve price stability in the euro area.  Faced with years of persistently low inflation and the greatest economic contraction on record in 2020, we conducted large-scale asset purchases and targeted longer-term refinancing operations (TLTROs), thereby injecting a signif'"
      ]
     },
     "execution_count": 75,
     "metadata": {},
     "output_type": "execute_result"
    }
   ],
   "source": [
    "corpus1[:500]"
   ]
  },
  {
   "cell_type": "code",
   "execution_count": 76,
   "id": "f58c943f-40d9-4e79-9fcf-6a41e2b34532",
   "metadata": {},
   "outputs": [],
   "source": [
    "corpus2=corpus1.rstrip(corpus1[18040:])"
   ]
  },
  {
   "cell_type": "code",
   "execution_count": 77,
   "id": "f535dc64-214d-48fe-8589-6489d094a431",
   "metadata": {},
   "outputs": [
    {
     "data": {
      "text/plain": [
       "''"
      ]
     },
     "execution_count": 77,
     "metadata": {},
     "output_type": "execute_result"
    }
   ],
   "source": [
    "corpus2[17000:]"
   ]
  },
  {
   "cell_type": "code",
   "execution_count": 78,
   "id": "f3a93892-a026-4567-b67b-972c23c4fa94",
   "metadata": {},
   "outputs": [],
   "source": [
    "corpus3=corpus2.rstrip(corpus2[17969:])"
   ]
  },
  {
   "cell_type": "code",
   "execution_count": 79,
   "id": "e8049439-fa9f-4c3f-b4cd-8e2231ca75ae",
   "metadata": {},
   "outputs": [
    {
     "data": {
      "text/plain": [
       "''"
      ]
     },
     "execution_count": 79,
     "metadata": {},
     "output_type": "execute_result"
    }
   ],
   "source": [
    "corpus3[17000:]"
   ]
  },
  {
   "cell_type": "code",
   "execution_count": 80,
   "id": "18ab2524-9c95-4cd7-ab10-6372bb111f9b",
   "metadata": {},
   "outputs": [],
   "source": [
    "corpus4=corpus3.lstrip(corpus3[:3])"
   ]
  },
  {
   "cell_type": "code",
   "execution_count": 81,
   "id": "3cd581f6-d7c8-4843-90dd-cc5e7ab66e68",
   "metadata": {},
   "outputs": [
    {
     "data": {
      "text/plain": [
       "'rankfurt am Main, 14 March 2024 Since 2015, the Eurosystem has been operating under a de facto supply-driven floor system. This was the result of the monetary policy actions taken in the run-up to and during the pandemic to preserve price stability in the euro area.  Faced with years of persistently low inflation and the greatest economic contraction on record in 2020, we conducted large-scale asset purchases and targeted longer-term refinancing operations (TLTROs), thereby injecting a significa'"
      ]
     },
     "execution_count": 81,
     "metadata": {},
     "output_type": "execute_result"
    }
   ],
   "source": [
    "corpus4[:500]"
   ]
  },
  {
   "cell_type": "code",
   "execution_count": 82,
   "id": "805b4cd3-a93b-4c83-a74f-c793dcd4258c",
   "metadata": {},
   "outputs": [],
   "source": [
    "corpus5=corpus4.rstrip(corpus4[17957:])"
   ]
  },
  {
   "cell_type": "code",
   "execution_count": 83,
   "id": "c2294891-2e9b-4a76-a27e-7db52519745a",
   "metadata": {},
   "outputs": [
    {
     "data": {
      "text/plain": [
       "''"
      ]
     },
     "execution_count": 83,
     "metadata": {},
     "output_type": "execute_result"
    }
   ],
   "source": [
    "corpus5[17000:]"
   ]
  },
  {
   "cell_type": "markdown",
   "id": "92355cfa-eaff-4f86-8c1b-f685721ba140",
   "metadata": {},
   "source": [
    "# <span style =\"color:red\">NumPy, Pandas, Scikit-learn</span>"
   ]
  },
  {
   "cell_type": "markdown",
   "id": "79f73706-a081-4a13-ae04-b904e8eef6f2",
   "metadata": {},
   "source": [
    "##### Importing Statements"
   ]
  },
  {
   "cell_type": "code",
   "execution_count": 84,
   "id": "52d144a1-905d-4e55-b885-704817f98eb0",
   "metadata": {},
   "outputs": [],
   "source": [
    "import pandas as pd\n",
    "import numpy as np"
   ]
  },
  {
   "cell_type": "code",
   "execution_count": 85,
   "id": "55659948-fadf-44e5-831d-58122f8b4d74",
   "metadata": {},
   "outputs": [
    {
     "data": {
      "text/plain": [
       "array([ 7,  8,  9, 10])"
      ]
     },
     "execution_count": 85,
     "metadata": {},
     "output_type": "execute_result"
    }
   ],
   "source": [
    "v = np.array([7,8,9,10])\n",
    "v"
   ]
  },
  {
   "cell_type": "code",
   "execution_count": 86,
   "id": "1d4e89fe-59ed-4338-a654-768d580c0f47",
   "metadata": {},
   "outputs": [
    {
     "data": {
      "text/plain": [
       "[7, 8, 9, 10]"
      ]
     },
     "execution_count": 86,
     "metadata": {},
     "output_type": "execute_result"
    }
   ],
   "source": [
    "l = [7,8,9,10]\n",
    "l"
   ]
  },
  {
   "cell_type": "code",
   "execution_count": 87,
   "id": "72c3693a-8e7e-40bc-bcd8-153cbeafd1ff",
   "metadata": {},
   "outputs": [
    {
     "data": {
      "text/plain": [
       "False"
      ]
     },
     "execution_count": 87,
     "metadata": {},
     "output_type": "execute_result"
    }
   ],
   "source": [
    "type(v) == type(l)"
   ]
  },
  {
   "cell_type": "code",
   "execution_count": 88,
   "id": "0db30711-7b52-4daf-9d30-c9bcbb073505",
   "metadata": {},
   "outputs": [
    {
     "data": {
      "text/plain": [
       "array([10,  9,  8,  7])"
      ]
     },
     "execution_count": 88,
     "metadata": {},
     "output_type": "execute_result"
    }
   ],
   "source": [
    "v[::-1]"
   ]
  },
  {
   "cell_type": "code",
   "execution_count": 89,
   "id": "804350df-10ee-4f95-8034-0f676cda2ccb",
   "metadata": {},
   "outputs": [
    {
     "data": {
      "text/plain": [
       "array([ 8,  9, 10, 11])"
      ]
     },
     "execution_count": 89,
     "metadata": {},
     "output_type": "execute_result"
    }
   ],
   "source": [
    "v + 1"
   ]
  },
  {
   "cell_type": "code",
   "execution_count": 90,
   "id": "dbd6f7fa-8312-46be-9fdb-5cc6306625f4",
   "metadata": {},
   "outputs": [
    {
     "data": {
      "text/plain": [
       "array([ 49,  64,  81, 100])"
      ]
     },
     "execution_count": 90,
     "metadata": {},
     "output_type": "execute_result"
    }
   ],
   "source": [
    "v**2"
   ]
  },
  {
   "cell_type": "markdown",
   "id": "8e66b217-40b7-48f2-86ed-be3aa4c087f5",
   "metadata": {},
   "source": [
    "# Beer Data"
   ]
  },
  {
   "cell_type": "code",
   "execution_count": 91,
   "id": "fbeba570-558f-41af-a560-a00b5d2b507f",
   "metadata": {},
   "outputs": [],
   "source": [
    "beer_data = pd.read_csv(\"Beer.csv\")"
   ]
  },
  {
   "cell_type": "code",
   "execution_count": 92,
   "id": "17da4d0c-82fe-4601-aceb-8fb7e9957b83",
   "metadata": {},
   "outputs": [
    {
     "data": {
      "text/html": [
       "<div>\n",
       "<style scoped>\n",
       "    .dataframe tbody tr th:only-of-type {\n",
       "        vertical-align: middle;\n",
       "    }\n",
       "\n",
       "    .dataframe tbody tr th {\n",
       "        vertical-align: top;\n",
       "    }\n",
       "\n",
       "    .dataframe thead th {\n",
       "        text-align: right;\n",
       "    }\n",
       "</style>\n",
       "<table border=\"1\" class=\"dataframe\">\n",
       "  <thead>\n",
       "    <tr style=\"text-align: right;\">\n",
       "      <th></th>\n",
       "      <th>place</th>\n",
       "      <th>pop2023</th>\n",
       "      <th>growthRate</th>\n",
       "      <th>area</th>\n",
       "      <th>country</th>\n",
       "      <th>cca3</th>\n",
       "      <th>cca2</th>\n",
       "      <th>ccn3</th>\n",
       "      <th>region</th>\n",
       "      <th>subregion</th>\n",
       "      <th>landAreaKm</th>\n",
       "      <th>density</th>\n",
       "      <th>densityMi</th>\n",
       "      <th>Rank</th>\n",
       "      <th>consmPerCap</th>\n",
       "      <th>consm</th>\n",
       "      <th>consmGals</th>\n",
       "      <th>pop2020</th>\n",
       "      <th>rank</th>\n",
       "    </tr>\n",
       "  </thead>\n",
       "  <tbody>\n",
       "    <tr>\n",
       "      <th>0</th>\n",
       "      <td>203</td>\n",
       "      <td>10495295</td>\n",
       "      <td>0.00013</td>\n",
       "      <td>78865</td>\n",
       "      <td>Czech Republic</td>\n",
       "      <td>CZE</td>\n",
       "      <td>CZ</td>\n",
       "      <td>203</td>\n",
       "      <td>Europe</td>\n",
       "      <td>Eastern Europe</td>\n",
       "      <td>77198.5</td>\n",
       "      <td>135.9521</td>\n",
       "      <td>352.1158</td>\n",
       "      <td>89</td>\n",
       "      <td>181.7</td>\n",
       "      <td>1946</td>\n",
       "      <td>514079</td>\n",
       "      <td>10708981</td>\n",
       "      <td>1</td>\n",
       "    </tr>\n",
       "    <tr>\n",
       "      <th>1</th>\n",
       "      <td>40</td>\n",
       "      <td>8958960</td>\n",
       "      <td>0.00216</td>\n",
       "      <td>83871</td>\n",
       "      <td>Austria</td>\n",
       "      <td>AUT</td>\n",
       "      <td>AT</td>\n",
       "      <td>40</td>\n",
       "      <td>Europe</td>\n",
       "      <td>Western Europe</td>\n",
       "      <td>82520.0</td>\n",
       "      <td>108.5671</td>\n",
       "      <td>281.1889</td>\n",
       "      <td>100</td>\n",
       "      <td>96.8</td>\n",
       "      <td>872</td>\n",
       "      <td>230358</td>\n",
       "      <td>9006398</td>\n",
       "      <td>2</td>\n",
       "    </tr>\n",
       "    <tr>\n",
       "      <th>2</th>\n",
       "      <td>616</td>\n",
       "      <td>41026067</td>\n",
       "      <td>0.02933</td>\n",
       "      <td>312679</td>\n",
       "      <td>Poland</td>\n",
       "      <td>POL</td>\n",
       "      <td>PL</td>\n",
       "      <td>616</td>\n",
       "      <td>Europe</td>\n",
       "      <td>Eastern Europe</td>\n",
       "      <td>306130.0</td>\n",
       "      <td>134.0152</td>\n",
       "      <td>347.0993</td>\n",
       "      <td>37</td>\n",
       "      <td>96.0</td>\n",
       "      <td>3633</td>\n",
       "      <td>959737</td>\n",
       "      <td>37846611</td>\n",
       "      <td>3</td>\n",
       "    </tr>\n",
       "    <tr>\n",
       "      <th>3</th>\n",
       "      <td>642</td>\n",
       "      <td>19892812</td>\n",
       "      <td>0.01188</td>\n",
       "      <td>238391</td>\n",
       "      <td>Romania</td>\n",
       "      <td>ROU</td>\n",
       "      <td>RO</td>\n",
       "      <td>642</td>\n",
       "      <td>Europe</td>\n",
       "      <td>Eastern Europe</td>\n",
       "      <td>230080.0</td>\n",
       "      <td>86.4604</td>\n",
       "      <td>223.9325</td>\n",
       "      <td>64</td>\n",
       "      <td>95.0</td>\n",
       "      <td>1828</td>\n",
       "      <td>482907</td>\n",
       "      <td>19237691</td>\n",
       "      <td>4</td>\n",
       "    </tr>\n",
       "    <tr>\n",
       "      <th>4</th>\n",
       "      <td>276</td>\n",
       "      <td>83294633</td>\n",
       "      <td>-0.00090</td>\n",
       "      <td>357114</td>\n",
       "      <td>Germany</td>\n",
       "      <td>DEU</td>\n",
       "      <td>DE</td>\n",
       "      <td>276</td>\n",
       "      <td>Europe</td>\n",
       "      <td>Western Europe</td>\n",
       "      <td>349390.0</td>\n",
       "      <td>238.4002</td>\n",
       "      <td>617.4564</td>\n",
       "      <td>19</td>\n",
       "      <td>92.5</td>\n",
       "      <td>7746</td>\n",
       "      <td>2046277</td>\n",
       "      <td>83783942</td>\n",
       "      <td>5</td>\n",
       "    </tr>\n",
       "  </tbody>\n",
       "</table>\n",
       "</div>"
      ],
      "text/plain": [
       "   place   pop2023  growthRate    area         country cca3 cca2  ccn3  \\\n",
       "0    203  10495295     0.00013   78865  Czech Republic  CZE   CZ   203   \n",
       "1     40   8958960     0.00216   83871         Austria  AUT   AT    40   \n",
       "2    616  41026067     0.02933  312679          Poland  POL   PL   616   \n",
       "3    642  19892812     0.01188  238391         Romania  ROU   RO   642   \n",
       "4    276  83294633    -0.00090  357114         Germany  DEU   DE   276   \n",
       "\n",
       "   region       subregion  landAreaKm   density  densityMi  Rank  consmPerCap  \\\n",
       "0  Europe  Eastern Europe     77198.5  135.9521   352.1158    89        181.7   \n",
       "1  Europe  Western Europe     82520.0  108.5671   281.1889   100         96.8   \n",
       "2  Europe  Eastern Europe    306130.0  134.0152   347.0993    37         96.0   \n",
       "3  Europe  Eastern Europe    230080.0   86.4604   223.9325    64         95.0   \n",
       "4  Europe  Western Europe    349390.0  238.4002   617.4564    19         92.5   \n",
       "\n",
       "   consm  consmGals   pop2020  rank  \n",
       "0   1946     514079  10708981     1  \n",
       "1    872     230358   9006398     2  \n",
       "2   3633     959737  37846611     3  \n",
       "3   1828     482907  19237691     4  \n",
       "4   7746    2046277  83783942     5  "
      ]
     },
     "execution_count": 92,
     "metadata": {},
     "output_type": "execute_result"
    }
   ],
   "source": [
    "beer_data.head()"
   ]
  },
  {
   "cell_type": "code",
   "execution_count": 93,
   "id": "8001d627-0c29-4e08-8391-095c9eabb879",
   "metadata": {},
   "outputs": [
    {
     "name": "stdout",
     "output_type": "stream",
     "text": [
      "<class 'pandas.core.frame.DataFrame'>\n",
      "RangeIndex: 47 entries, 0 to 46\n",
      "Data columns (total 19 columns):\n",
      " #   Column       Non-Null Count  Dtype  \n",
      "---  ------       --------------  -----  \n",
      " 0   place        47 non-null     int64  \n",
      " 1   pop2023      47 non-null     int64  \n",
      " 2   growthRate   47 non-null     float64\n",
      " 3   area         47 non-null     int64  \n",
      " 4   country      47 non-null     object \n",
      " 5   cca3         47 non-null     object \n",
      " 6   cca2         46 non-null     object \n",
      " 7   ccn3         47 non-null     int64  \n",
      " 8   region       47 non-null     object \n",
      " 9   subregion    47 non-null     object \n",
      " 10  landAreaKm   47 non-null     float64\n",
      " 11  density      47 non-null     float64\n",
      " 12  densityMi    47 non-null     float64\n",
      " 13  Rank         47 non-null     int64  \n",
      " 14  consmPerCap  47 non-null     float64\n",
      " 15  consm        47 non-null     int64  \n",
      " 16  consmGals    47 non-null     int64  \n",
      " 17  pop2020      47 non-null     int64  \n",
      " 18  rank         47 non-null     int64  \n",
      "dtypes: float64(5), int64(9), object(5)\n",
      "memory usage: 7.1+ KB\n"
     ]
    }
   ],
   "source": [
    "beer_data.info()"
   ]
  },
  {
   "cell_type": "code",
   "execution_count": 94,
   "id": "90a73739-498e-4e50-a14e-9c3d461d5bee",
   "metadata": {},
   "outputs": [
    {
     "data": {
      "text/plain": [
       "(47, 19)"
      ]
     },
     "execution_count": 94,
     "metadata": {},
     "output_type": "execute_result"
    }
   ],
   "source": [
    "beer_data.shape"
   ]
  },
  {
   "cell_type": "code",
   "execution_count": 95,
   "id": "feeae144-5357-4bf0-9366-923a7fc5d387",
   "metadata": {},
   "outputs": [
    {
     "data": {
      "text/html": [
       "<div>\n",
       "<style scoped>\n",
       "    .dataframe tbody tr th:only-of-type {\n",
       "        vertical-align: middle;\n",
       "    }\n",
       "\n",
       "    .dataframe tbody tr th {\n",
       "        vertical-align: top;\n",
       "    }\n",
       "\n",
       "    .dataframe thead th {\n",
       "        text-align: right;\n",
       "    }\n",
       "</style>\n",
       "<table border=\"1\" class=\"dataframe\">\n",
       "  <thead>\n",
       "    <tr style=\"text-align: right;\">\n",
       "      <th></th>\n",
       "      <th>place</th>\n",
       "      <th>pop2023</th>\n",
       "      <th>growthRate</th>\n",
       "      <th>area</th>\n",
       "      <th>ccn3</th>\n",
       "      <th>landAreaKm</th>\n",
       "      <th>density</th>\n",
       "      <th>densityMi</th>\n",
       "      <th>Rank</th>\n",
       "      <th>consmPerCap</th>\n",
       "      <th>consm</th>\n",
       "      <th>consmGals</th>\n",
       "      <th>pop2020</th>\n",
       "      <th>rank</th>\n",
       "    </tr>\n",
       "  </thead>\n",
       "  <tbody>\n",
       "    <tr>\n",
       "      <th>count</th>\n",
       "      <td>47.000000</td>\n",
       "      <td>4.700000e+01</td>\n",
       "      <td>47.000000</td>\n",
       "      <td>4.700000e+01</td>\n",
       "      <td>47.000000</td>\n",
       "      <td>4.700000e+01</td>\n",
       "      <td>47.000000</td>\n",
       "      <td>47.000000</td>\n",
       "      <td>47.000000</td>\n",
       "      <td>47.000000</td>\n",
       "      <td>47.000000</td>\n",
       "      <td>4.700000e+01</td>\n",
       "      <td>4.700000e+01</td>\n",
       "      <td>47.000000</td>\n",
       "    </tr>\n",
       "    <tr>\n",
       "      <th>mean</th>\n",
       "      <td>419.340426</td>\n",
       "      <td>1.049965e+08</td>\n",
       "      <td>0.003528</td>\n",
       "      <td>1.723488e+06</td>\n",
       "      <td>419.340426</td>\n",
       "      <td>1.657642e+06</td>\n",
       "      <td>139.341100</td>\n",
       "      <td>360.893443</td>\n",
       "      <td>69.702128</td>\n",
       "      <td>63.065957</td>\n",
       "      <td>3294.744681</td>\n",
       "      <td>8.703795e+05</td>\n",
       "      <td>1.037694e+08</td>\n",
       "      <td>24.000000</td>\n",
       "    </tr>\n",
       "    <tr>\n",
       "      <th>std</th>\n",
       "      <td>256.722933</td>\n",
       "      <td>2.888711e+08</td>\n",
       "      <td>0.014613</td>\n",
       "      <td>3.595617e+06</td>\n",
       "      <td>256.722933</td>\n",
       "      <td>3.448114e+06</td>\n",
       "      <td>145.481066</td>\n",
       "      <td>376.795964</td>\n",
       "      <td>51.711539</td>\n",
       "      <td>28.396841</td>\n",
       "      <td>6440.503702</td>\n",
       "      <td>1.701401e+06</td>\n",
       "      <td>2.853096e+08</td>\n",
       "      <td>13.711309</td>\n",
       "    </tr>\n",
       "    <tr>\n",
       "      <th>min</th>\n",
       "      <td>32.000000</td>\n",
       "      <td>1.322765e+06</td>\n",
       "      <td>-0.074480</td>\n",
       "      <td>8.870000e+03</td>\n",
       "      <td>32.000000</td>\n",
       "      <td>8.870000e+03</td>\n",
       "      <td>3.163100</td>\n",
       "      <td>8.192500</td>\n",
       "      <td>1.000000</td>\n",
       "      <td>1.200000</td>\n",
       "      <td>112.000000</td>\n",
       "      <td>2.958700e+04</td>\n",
       "      <td>1.326535e+06</td>\n",
       "      <td>1.000000</td>\n",
       "    </tr>\n",
       "    <tr>\n",
       "      <th>25%</th>\n",
       "      <td>197.000000</td>\n",
       "      <td>5.670337e+06</td>\n",
       "      <td>-0.000380</td>\n",
       "      <td>7.284500e+04</td>\n",
       "      <td>197.000000</td>\n",
       "      <td>7.153500e+04</td>\n",
       "      <td>34.055250</td>\n",
       "      <td>88.203000</td>\n",
       "      <td>22.000000</td>\n",
       "      <td>47.350000</td>\n",
       "      <td>414.000000</td>\n",
       "      <td>1.093675e+05</td>\n",
       "      <td>5.488864e+06</td>\n",
       "      <td>12.500000</td>\n",
       "    </tr>\n",
       "    <tr>\n",
       "      <th>50%</th>\n",
       "      <td>392.000000</td>\n",
       "      <td>1.989281e+07</td>\n",
       "      <td>0.004070</td>\n",
       "      <td>3.126790e+05</td>\n",
       "      <td>392.000000</td>\n",
       "      <td>2.981700e+05</td>\n",
       "      <td>86.460400</td>\n",
       "      <td>223.932500</td>\n",
       "      <td>64.000000</td>\n",
       "      <td>63.700000</td>\n",
       "      <td>1680.000000</td>\n",
       "      <td>4.438090e+05</td>\n",
       "      <td>1.923769e+07</td>\n",
       "      <td>24.000000</td>\n",
       "    </tr>\n",
       "    <tr>\n",
       "      <th>75%</th>\n",
       "      <td>642.500000</td>\n",
       "      <td>6.624669e+07</td>\n",
       "      <td>0.008380</td>\n",
       "      <td>7.145575e+05</td>\n",
       "      <td>642.500000</td>\n",
       "      <td>7.013450e+05</td>\n",
       "      <td>175.173800</td>\n",
       "      <td>453.700250</td>\n",
       "      <td>117.000000</td>\n",
       "      <td>79.400000</td>\n",
       "      <td>2765.000000</td>\n",
       "      <td>7.304355e+05</td>\n",
       "      <td>6.657976e+07</td>\n",
       "      <td>35.500000</td>\n",
       "    </tr>\n",
       "    <tr>\n",
       "      <th>max</th>\n",
       "      <td>840.000000</td>\n",
       "      <td>1.428628e+09</td>\n",
       "      <td>0.029330</td>\n",
       "      <td>1.709824e+07</td>\n",
       "      <td>840.000000</td>\n",
       "      <td>1.637687e+07</td>\n",
       "      <td>530.574400</td>\n",
       "      <td>1374.187600</td>\n",
       "      <td>156.000000</td>\n",
       "      <td>181.700000</td>\n",
       "      <td>36088.000000</td>\n",
       "      <td>9.533441e+06</td>\n",
       "      <td>1.439324e+09</td>\n",
       "      <td>47.000000</td>\n",
       "    </tr>\n",
       "  </tbody>\n",
       "</table>\n",
       "</div>"
      ],
      "text/plain": [
       "            place       pop2023  growthRate          area        ccn3  \\\n",
       "count   47.000000  4.700000e+01   47.000000  4.700000e+01   47.000000   \n",
       "mean   419.340426  1.049965e+08    0.003528  1.723488e+06  419.340426   \n",
       "std    256.722933  2.888711e+08    0.014613  3.595617e+06  256.722933   \n",
       "min     32.000000  1.322765e+06   -0.074480  8.870000e+03   32.000000   \n",
       "25%    197.000000  5.670337e+06   -0.000380  7.284500e+04  197.000000   \n",
       "50%    392.000000  1.989281e+07    0.004070  3.126790e+05  392.000000   \n",
       "75%    642.500000  6.624669e+07    0.008380  7.145575e+05  642.500000   \n",
       "max    840.000000  1.428628e+09    0.029330  1.709824e+07  840.000000   \n",
       "\n",
       "         landAreaKm     density    densityMi        Rank  consmPerCap  \\\n",
       "count  4.700000e+01   47.000000    47.000000   47.000000    47.000000   \n",
       "mean   1.657642e+06  139.341100   360.893443   69.702128    63.065957   \n",
       "std    3.448114e+06  145.481066   376.795964   51.711539    28.396841   \n",
       "min    8.870000e+03    3.163100     8.192500    1.000000     1.200000   \n",
       "25%    7.153500e+04   34.055250    88.203000   22.000000    47.350000   \n",
       "50%    2.981700e+05   86.460400   223.932500   64.000000    63.700000   \n",
       "75%    7.013450e+05  175.173800   453.700250  117.000000    79.400000   \n",
       "max    1.637687e+07  530.574400  1374.187600  156.000000   181.700000   \n",
       "\n",
       "              consm     consmGals       pop2020       rank  \n",
       "count     47.000000  4.700000e+01  4.700000e+01  47.000000  \n",
       "mean    3294.744681  8.703795e+05  1.037694e+08  24.000000  \n",
       "std     6440.503702  1.701401e+06  2.853096e+08  13.711309  \n",
       "min      112.000000  2.958700e+04  1.326535e+06   1.000000  \n",
       "25%      414.000000  1.093675e+05  5.488864e+06  12.500000  \n",
       "50%     1680.000000  4.438090e+05  1.923769e+07  24.000000  \n",
       "75%     2765.000000  7.304355e+05  6.657976e+07  35.500000  \n",
       "max    36088.000000  9.533441e+06  1.439324e+09  47.000000  "
      ]
     },
     "execution_count": 95,
     "metadata": {},
     "output_type": "execute_result"
    }
   ],
   "source": [
    "beer_data.describe()"
   ]
  },
  {
   "cell_type": "code",
   "execution_count": 96,
   "id": "443c3ff0-cd85-4381-acca-826453f65770",
   "metadata": {},
   "outputs": [
    {
     "data": {
      "text/plain": [
       "place          0\n",
       "pop2023        0\n",
       "growthRate     0\n",
       "area           0\n",
       "country        0\n",
       "cca3           0\n",
       "cca2           1\n",
       "ccn3           0\n",
       "region         0\n",
       "subregion      0\n",
       "landAreaKm     0\n",
       "density        0\n",
       "densityMi      0\n",
       "Rank           0\n",
       "consmPerCap    0\n",
       "consm          0\n",
       "consmGals      0\n",
       "pop2020        0\n",
       "rank           0\n",
       "dtype: int64"
      ]
     },
     "execution_count": 96,
     "metadata": {},
     "output_type": "execute_result"
    }
   ],
   "source": [
    "beer_data.isna().sum()"
   ]
  },
  {
   "cell_type": "code",
   "execution_count": 97,
   "id": "3098dec6-3479-4e2c-896e-1bdd5ec10f81",
   "metadata": {},
   "outputs": [
    {
     "data": {
      "text/plain": [
       "False    47\n",
       "Name: count, dtype: int64"
      ]
     },
     "execution_count": 97,
     "metadata": {},
     "output_type": "execute_result"
    }
   ],
   "source": [
    "beer_data.duplicated().value_counts()"
   ]
  },
  {
   "cell_type": "code",
   "execution_count": 98,
   "id": "7d41df22-d39b-4120-99f4-a2520d08b0f4",
   "metadata": {},
   "outputs": [
    {
     "data": {
      "text/html": [
       "<div>\n",
       "<style scoped>\n",
       "    .dataframe tbody tr th:only-of-type {\n",
       "        vertical-align: middle;\n",
       "    }\n",
       "\n",
       "    .dataframe tbody tr th {\n",
       "        vertical-align: top;\n",
       "    }\n",
       "\n",
       "    .dataframe thead th {\n",
       "        text-align: right;\n",
       "    }\n",
       "</style>\n",
       "<table border=\"1\" class=\"dataframe\">\n",
       "  <thead>\n",
       "    <tr style=\"text-align: right;\">\n",
       "      <th></th>\n",
       "      <th>country</th>\n",
       "      <th>region</th>\n",
       "      <th>Rank</th>\n",
       "      <th>consmPerCap</th>\n",
       "      <th>consmGals</th>\n",
       "    </tr>\n",
       "  </thead>\n",
       "  <tbody>\n",
       "    <tr>\n",
       "      <th>8</th>\n",
       "      <td>China</td>\n",
       "      <td>Asia</td>\n",
       "      <td>2</td>\n",
       "      <td>25.1</td>\n",
       "      <td>9533441</td>\n",
       "    </tr>\n",
       "    <tr>\n",
       "      <th>11</th>\n",
       "      <td>Czech Republic</td>\n",
       "      <td>Europe</td>\n",
       "      <td>89</td>\n",
       "      <td>181.7</td>\n",
       "      <td>514079</td>\n",
       "    </tr>\n",
       "    <tr>\n",
       "      <th>44</th>\n",
       "      <td>United Kingdom</td>\n",
       "      <td>Europe</td>\n",
       "      <td>21</td>\n",
       "      <td>60.2</td>\n",
       "      <td>1079935</td>\n",
       "    </tr>\n",
       "    <tr>\n",
       "      <th>18</th>\n",
       "      <td>Hungary</td>\n",
       "      <td>Europe</td>\n",
       "      <td>94</td>\n",
       "      <td>68.3</td>\n",
       "      <td>174354</td>\n",
       "    </tr>\n",
       "    <tr>\n",
       "      <th>43</th>\n",
       "      <td>Ukraine</td>\n",
       "      <td>Europe</td>\n",
       "      <td>41</td>\n",
       "      <td>43.0</td>\n",
       "      <td>496908</td>\n",
       "    </tr>\n",
       "    <tr>\n",
       "      <th>31</th>\n",
       "      <td>Puerto Rico</td>\n",
       "      <td>North America</td>\n",
       "      <td>136</td>\n",
       "      <td>58.0</td>\n",
       "      <td>43853</td>\n",
       "    </tr>\n",
       "    <tr>\n",
       "      <th>42</th>\n",
       "      <td>Thailand</td>\n",
       "      <td>Asia</td>\n",
       "      <td>20</td>\n",
       "      <td>24.1</td>\n",
       "      <td>443809</td>\n",
       "    </tr>\n",
       "    <tr>\n",
       "      <th>10</th>\n",
       "      <td>Croatia</td>\n",
       "      <td>Europe</td>\n",
       "      <td>130</td>\n",
       "      <td>72.1</td>\n",
       "      <td>78195</td>\n",
       "    </tr>\n",
       "    <tr>\n",
       "      <th>5</th>\n",
       "      <td>Brazil</td>\n",
       "      <td>South America</td>\n",
       "      <td>7</td>\n",
       "      <td>65.1</td>\n",
       "      <td>3657990</td>\n",
       "    </tr>\n",
       "    <tr>\n",
       "      <th>1</th>\n",
       "      <td>Australia</td>\n",
       "      <td>Oceania</td>\n",
       "      <td>55</td>\n",
       "      <td>71.6</td>\n",
       "      <td>482114</td>\n",
       "    </tr>\n",
       "  </tbody>\n",
       "</table>\n",
       "</div>"
      ],
      "text/plain": [
       "           country         region  Rank  consmPerCap  consmGals\n",
       "8            China           Asia     2         25.1    9533441\n",
       "11  Czech Republic         Europe    89        181.7     514079\n",
       "44  United Kingdom         Europe    21         60.2    1079935\n",
       "18         Hungary         Europe    94         68.3     174354\n",
       "43         Ukraine         Europe    41         43.0     496908\n",
       "31     Puerto Rico  North America   136         58.0      43853\n",
       "42        Thailand           Asia    20         24.1     443809\n",
       "10         Croatia         Europe   130         72.1      78195\n",
       "5           Brazil  South America     7         65.1    3657990\n",
       "1        Australia        Oceania    55         71.6     482114"
      ]
     },
     "execution_count": 98,
     "metadata": {},
     "output_type": "execute_result"
    }
   ],
   "source": [
    "beer_data.groupby(['country','region'], as_index = False)[['Rank','consmPerCap','consmGals']].sum().sample(10, random_state =123)"
   ]
  },
  {
   "cell_type": "markdown",
   "id": "9b248d42-9526-49f3-b490-df913e6a8ad1",
   "metadata": {},
   "source": [
    "# <span style = \"color:red\">Sklearn, Logistic Reg</span>"
   ]
  },
  {
   "cell_type": "markdown",
   "id": "e5d2c497-4b68-4186-a9ef-cc32ca1b28ba",
   "metadata": {},
   "source": [
    "#### Importing Libs"
   ]
  },
  {
   "cell_type": "code",
   "execution_count": 99,
   "id": "49c9780c-ca05-4c62-ac8e-ecff080069ed",
   "metadata": {},
   "outputs": [],
   "source": [
    "import sklearn\n",
    "from sklearn import preprocessing\n",
    "from sklearn.model_selection import train_test_split\n",
    "from sklearn.linear_model import LogisticRegression\n",
    "from sklearn import metrics\n",
    "from sklearn.metrics import classification_report\n",
    "from sklearn.metrics import accuracy_score\n",
    "%matplotlib inline"
   ]
  },
  {
   "cell_type": "code",
   "execution_count": 100,
   "id": "d98a87f1-3b1c-4984-a5f6-ab855d03b77a",
   "metadata": {},
   "outputs": [],
   "source": [
    "titanic_data = pd.read_csv('Titanicdata.csv')"
   ]
  },
  {
   "cell_type": "code",
   "execution_count": 101,
   "id": "86db5acb-8311-4ab2-a89a-8b0b923d7253",
   "metadata": {},
   "outputs": [
    {
     "data": {
      "text/html": [
       "<div>\n",
       "<style scoped>\n",
       "    .dataframe tbody tr th:only-of-type {\n",
       "        vertical-align: middle;\n",
       "    }\n",
       "\n",
       "    .dataframe tbody tr th {\n",
       "        vertical-align: top;\n",
       "    }\n",
       "\n",
       "    .dataframe thead th {\n",
       "        text-align: right;\n",
       "    }\n",
       "</style>\n",
       "<table border=\"1\" class=\"dataframe\">\n",
       "  <thead>\n",
       "    <tr style=\"text-align: right;\">\n",
       "      <th></th>\n",
       "      <th>PassengerId</th>\n",
       "      <th>Survived</th>\n",
       "      <th>Pclass</th>\n",
       "      <th>Name</th>\n",
       "      <th>Sex</th>\n",
       "      <th>Age</th>\n",
       "      <th>SibSp</th>\n",
       "      <th>Parch</th>\n",
       "      <th>Ticket</th>\n",
       "      <th>Fare</th>\n",
       "      <th>Cabin</th>\n",
       "      <th>Embarked</th>\n",
       "    </tr>\n",
       "  </thead>\n",
       "  <tbody>\n",
       "    <tr>\n",
       "      <th>0</th>\n",
       "      <td>1</td>\n",
       "      <td>0</td>\n",
       "      <td>3</td>\n",
       "      <td>Braund, Mr. Owen Harris</td>\n",
       "      <td>male</td>\n",
       "      <td>22.0</td>\n",
       "      <td>1</td>\n",
       "      <td>0</td>\n",
       "      <td>A/5 21171</td>\n",
       "      <td>7.2500</td>\n",
       "      <td>NaN</td>\n",
       "      <td>S</td>\n",
       "    </tr>\n",
       "    <tr>\n",
       "      <th>1</th>\n",
       "      <td>2</td>\n",
       "      <td>1</td>\n",
       "      <td>1</td>\n",
       "      <td>Cumings, Mrs. John Bradley (Florence Briggs Th...</td>\n",
       "      <td>female</td>\n",
       "      <td>38.0</td>\n",
       "      <td>1</td>\n",
       "      <td>0</td>\n",
       "      <td>PC 17599</td>\n",
       "      <td>71.2833</td>\n",
       "      <td>C85</td>\n",
       "      <td>C</td>\n",
       "    </tr>\n",
       "    <tr>\n",
       "      <th>2</th>\n",
       "      <td>3</td>\n",
       "      <td>1</td>\n",
       "      <td>3</td>\n",
       "      <td>Heikkinen, Miss. Laina</td>\n",
       "      <td>female</td>\n",
       "      <td>26.0</td>\n",
       "      <td>0</td>\n",
       "      <td>0</td>\n",
       "      <td>STON/O2. 3101282</td>\n",
       "      <td>7.9250</td>\n",
       "      <td>NaN</td>\n",
       "      <td>S</td>\n",
       "    </tr>\n",
       "    <tr>\n",
       "      <th>3</th>\n",
       "      <td>4</td>\n",
       "      <td>1</td>\n",
       "      <td>1</td>\n",
       "      <td>Futrelle, Mrs. Jacques Heath (Lily May Peel)</td>\n",
       "      <td>female</td>\n",
       "      <td>35.0</td>\n",
       "      <td>1</td>\n",
       "      <td>0</td>\n",
       "      <td>113803</td>\n",
       "      <td>53.1000</td>\n",
       "      <td>C123</td>\n",
       "      <td>S</td>\n",
       "    </tr>\n",
       "    <tr>\n",
       "      <th>4</th>\n",
       "      <td>5</td>\n",
       "      <td>0</td>\n",
       "      <td>3</td>\n",
       "      <td>Allen, Mr. William Henry</td>\n",
       "      <td>male</td>\n",
       "      <td>35.0</td>\n",
       "      <td>0</td>\n",
       "      <td>0</td>\n",
       "      <td>373450</td>\n",
       "      <td>8.0500</td>\n",
       "      <td>NaN</td>\n",
       "      <td>S</td>\n",
       "    </tr>\n",
       "  </tbody>\n",
       "</table>\n",
       "</div>"
      ],
      "text/plain": [
       "   PassengerId  Survived  Pclass  \\\n",
       "0            1         0       3   \n",
       "1            2         1       1   \n",
       "2            3         1       3   \n",
       "3            4         1       1   \n",
       "4            5         0       3   \n",
       "\n",
       "                                                Name     Sex   Age  SibSp  \\\n",
       "0                            Braund, Mr. Owen Harris    male  22.0      1   \n",
       "1  Cumings, Mrs. John Bradley (Florence Briggs Th...  female  38.0      1   \n",
       "2                             Heikkinen, Miss. Laina  female  26.0      0   \n",
       "3       Futrelle, Mrs. Jacques Heath (Lily May Peel)  female  35.0      1   \n",
       "4                           Allen, Mr. William Henry    male  35.0      0   \n",
       "\n",
       "   Parch            Ticket     Fare Cabin Embarked  \n",
       "0      0         A/5 21171   7.2500   NaN        S  \n",
       "1      0          PC 17599  71.2833   C85        C  \n",
       "2      0  STON/O2. 3101282   7.9250   NaN        S  \n",
       "3      0            113803  53.1000  C123        S  \n",
       "4      0            373450   8.0500   NaN        S  "
      ]
     },
     "execution_count": 101,
     "metadata": {},
     "output_type": "execute_result"
    }
   ],
   "source": [
    "titanic_data.head()"
   ]
  },
  {
   "cell_type": "code",
   "execution_count": 102,
   "id": "43ebaa14-3f52-4a44-88c6-0201a9acdcd5",
   "metadata": {},
   "outputs": [
    {
     "data": {
      "text/plain": [
       "(891, 12)"
      ]
     },
     "execution_count": 102,
     "metadata": {},
     "output_type": "execute_result"
    }
   ],
   "source": [
    "titanic_data.shape"
   ]
  },
  {
   "cell_type": "code",
   "execution_count": 103,
   "id": "28e68f3d-0e18-4302-9f99-4eb929750195",
   "metadata": {},
   "outputs": [
    {
     "name": "stdout",
     "output_type": "stream",
     "text": [
      "<class 'pandas.core.frame.DataFrame'>\n",
      "RangeIndex: 891 entries, 0 to 890\n",
      "Data columns (total 12 columns):\n",
      " #   Column       Non-Null Count  Dtype  \n",
      "---  ------       --------------  -----  \n",
      " 0   PassengerId  891 non-null    int64  \n",
      " 1   Survived     891 non-null    int64  \n",
      " 2   Pclass       891 non-null    int64  \n",
      " 3   Name         891 non-null    object \n",
      " 4   Sex          891 non-null    object \n",
      " 5   Age          714 non-null    float64\n",
      " 6   SibSp        891 non-null    int64  \n",
      " 7   Parch        891 non-null    int64  \n",
      " 8   Ticket       891 non-null    object \n",
      " 9   Fare         891 non-null    float64\n",
      " 10  Cabin        204 non-null    object \n",
      " 11  Embarked     889 non-null    object \n",
      "dtypes: float64(2), int64(5), object(5)\n",
      "memory usage: 83.7+ KB\n"
     ]
    }
   ],
   "source": [
    "titanic_data.info()"
   ]
  },
  {
   "cell_type": "code",
   "execution_count": 104,
   "id": "6855bec3-4017-4728-b783-32e9d7497ea1",
   "metadata": {},
   "outputs": [
    {
     "data": {
      "text/plain": [
       "PassengerId      0\n",
       "Survived         0\n",
       "Pclass           0\n",
       "Name             0\n",
       "Sex              0\n",
       "Age            177\n",
       "SibSp            0\n",
       "Parch            0\n",
       "Ticket           0\n",
       "Fare             0\n",
       "Cabin          687\n",
       "Embarked         2\n",
       "dtype: int64"
      ]
     },
     "execution_count": 104,
     "metadata": {},
     "output_type": "execute_result"
    }
   ],
   "source": [
    "titanic_data.isna().sum()"
   ]
  },
  {
   "cell_type": "markdown",
   "id": "bd7baab8-7e4b-4f43-9bd5-69236420c671",
   "metadata": {},
   "source": [
    "## Preprocessing "
   ]
  },
  {
   "cell_type": "code",
   "execution_count": 105,
   "id": "604e5688-d779-4d3b-bf7d-7185ca824e4d",
   "metadata": {},
   "outputs": [
    {
     "data": {
      "text/html": [
       "<div>\n",
       "<style scoped>\n",
       "    .dataframe tbody tr th:only-of-type {\n",
       "        vertical-align: middle;\n",
       "    }\n",
       "\n",
       "    .dataframe tbody tr th {\n",
       "        vertical-align: top;\n",
       "    }\n",
       "\n",
       "    .dataframe thead th {\n",
       "        text-align: right;\n",
       "    }\n",
       "</style>\n",
       "<table border=\"1\" class=\"dataframe\">\n",
       "  <thead>\n",
       "    <tr style=\"text-align: right;\">\n",
       "      <th></th>\n",
       "      <th>Survived</th>\n",
       "      <th>Pclass</th>\n",
       "      <th>Sex</th>\n",
       "      <th>Age</th>\n",
       "      <th>SibSp</th>\n",
       "      <th>Parch</th>\n",
       "      <th>Fare</th>\n",
       "      <th>Embarked</th>\n",
       "    </tr>\n",
       "  </thead>\n",
       "  <tbody>\n",
       "    <tr>\n",
       "      <th>0</th>\n",
       "      <td>0</td>\n",
       "      <td>3</td>\n",
       "      <td>male</td>\n",
       "      <td>22.0</td>\n",
       "      <td>1</td>\n",
       "      <td>0</td>\n",
       "      <td>7.2500</td>\n",
       "      <td>S</td>\n",
       "    </tr>\n",
       "    <tr>\n",
       "      <th>1</th>\n",
       "      <td>1</td>\n",
       "      <td>1</td>\n",
       "      <td>female</td>\n",
       "      <td>38.0</td>\n",
       "      <td>1</td>\n",
       "      <td>0</td>\n",
       "      <td>71.2833</td>\n",
       "      <td>C</td>\n",
       "    </tr>\n",
       "    <tr>\n",
       "      <th>2</th>\n",
       "      <td>1</td>\n",
       "      <td>3</td>\n",
       "      <td>female</td>\n",
       "      <td>26.0</td>\n",
       "      <td>0</td>\n",
       "      <td>0</td>\n",
       "      <td>7.9250</td>\n",
       "      <td>S</td>\n",
       "    </tr>\n",
       "    <tr>\n",
       "      <th>3</th>\n",
       "      <td>1</td>\n",
       "      <td>1</td>\n",
       "      <td>female</td>\n",
       "      <td>35.0</td>\n",
       "      <td>1</td>\n",
       "      <td>0</td>\n",
       "      <td>53.1000</td>\n",
       "      <td>S</td>\n",
       "    </tr>\n",
       "    <tr>\n",
       "      <th>4</th>\n",
       "      <td>0</td>\n",
       "      <td>3</td>\n",
       "      <td>male</td>\n",
       "      <td>35.0</td>\n",
       "      <td>0</td>\n",
       "      <td>0</td>\n",
       "      <td>8.0500</td>\n",
       "      <td>S</td>\n",
       "    </tr>\n",
       "  </tbody>\n",
       "</table>\n",
       "</div>"
      ],
      "text/plain": [
       "   Survived  Pclass     Sex   Age  SibSp  Parch     Fare Embarked\n",
       "0         0       3    male  22.0      1      0   7.2500        S\n",
       "1         1       1  female  38.0      1      0  71.2833        C\n",
       "2         1       3  female  26.0      0      0   7.9250        S\n",
       "3         1       1  female  35.0      1      0  53.1000        S\n",
       "4         0       3    male  35.0      0      0   8.0500        S"
      ]
     },
     "execution_count": 105,
     "metadata": {},
     "output_type": "execute_result"
    }
   ],
   "source": [
    "titanic_data.drop(['PassengerId', 'Name', 'Ticket', 'Cabin'], axis=1, inplace=True)\n",
    "titanic_data.head()"
   ]
  },
  {
   "cell_type": "code",
   "execution_count": 106,
   "id": "7181f497-aa21-4e84-bfeb-10da9e4b3694",
   "metadata": {},
   "outputs": [
    {
     "data": {
      "text/plain": [
       "Pclass\n",
       "3    491\n",
       "1    216\n",
       "2    184\n",
       "Name: count, dtype: int64"
      ]
     },
     "execution_count": 106,
     "metadata": {},
     "output_type": "execute_result"
    }
   ],
   "source": [
    "titanic_data.Pclass.value_counts()"
   ]
  },
  {
   "cell_type": "code",
   "execution_count": 107,
   "id": "051b3f0b-6562-40ca-ae6f-f69f6b4bc1b7",
   "metadata": {},
   "outputs": [],
   "source": [
    "titanic_data.Pclass = titanic_data.Pclass.apply(str)"
   ]
  },
  {
   "cell_type": "code",
   "execution_count": 108,
   "id": "8a7e8de9-4ead-4a4e-8385-fd178c0d059e",
   "metadata": {},
   "outputs": [],
   "source": [
    "titanic_data = pd.get_dummies(titanic_data, prefix_sep='_', drop_first=True, dtype=float)"
   ]
  },
  {
   "cell_type": "code",
   "execution_count": 110,
   "id": "d939a9ac-4b17-4cc9-95c2-1ba99d448e38",
   "metadata": {},
   "outputs": [
    {
     "data": {
      "text/plain": [
       "<Axes: >"
      ]
     },
     "execution_count": 110,
     "metadata": {},
     "output_type": "execute_result"
    },
    {
     "data": {
      "image/png": "[encoded data removed]",
      "text/plain": [
       "<Figure size 640x480 with 2 Axes>"
      ]
     },
     "metadata": {},
     "output_type": "display_data"
    }
   ],
   "source": [
    "import seaborn as sb\n",
    "sb.heatmap(titanic_data.corr(), cmap='Blues') "
   ]
  },
  {
   "cell_type": "markdown",
   "id": "1cc4e56d-9fe5-47ed-9492-4553860d7bdd",
   "metadata": {},
   "source": [
    "## Training the model"
   ]
  },
  {
   "cell_type": "code",
   "execution_count": 111,
   "id": "44ed2b07-521d-4547-9d3f-0692a84bff85",
   "metadata": {},
   "outputs": [],
   "source": [
    "X = titanic_data\n",
    "X = titanic_data.dropna()"
   ]
  },
  {
   "cell_type": "code",
   "execution_count": 112,
   "id": "c250333f-aac3-447f-8f6f-569da94fcadb",
   "metadata": {},
   "outputs": [],
   "source": [
    "# assigning y variable\n",
    "Y = X['Survived']"
   ]
  },
  {
   "cell_type": "code",
   "execution_count": 113,
   "id": "87ab5071-afea-4212-ae2b-17cdacfe5326",
   "metadata": {},
   "outputs": [
    {
     "data": {
      "text/plain": [
       "Index(['Age', 'SibSp', 'Parch', 'Fare', 'Pclass_2', 'Pclass_3', 'Sex_male',\n",
       "       'Embarked_Q', 'Embarked_S'],\n",
       "      dtype='object')"
      ]
     },
     "execution_count": 113,
     "metadata": {},
     "output_type": "execute_result"
    }
   ],
   "source": [
    "# drop survive column\n",
    "X.pop('Survived')\n",
    "X.columns "
   ]
  },
  {
   "cell_type": "code",
   "execution_count": 114,
   "id": "1b534ef1-912b-41fb-be5a-9dc4774d1d8a",
   "metadata": {},
   "outputs": [],
   "source": [
    "# spliting the data into x, y train and test\n",
    "X_train, X_test, Y_train, Y_test = train_test_split(X, Y, test_size = .25, random_state=25)"
   ]
  },
  {
   "cell_type": "code",
   "execution_count": 115,
   "id": "b163678c-87fb-4eed-aeb4-6bd0cec2f784",
   "metadata": {},
   "outputs": [],
   "source": [
    "# Model of Logistic Regression\n",
    "\n",
    "logit = LogisticRegression()\n",
    "\n",
    "#logit = LogisticRegression(C=1.0, class_weight=None, dual=False, fit_intercept=True,\n",
    "#intercept_scaling=1, max_iter=100, multi_class='ovr', n_jobs=1,\n",
    "#penalty='l2', random_state=None, solver='liblinear', tol=0.0001,\n",
    "#verbose=0, warm_start=False)"
   ]
  },
  {
   "cell_type": "code",
   "execution_count": 116,
   "id": "fdf78205-3901-4961-b8b2-acffc036c82c",
   "metadata": {},
   "outputs": [
    {
     "name": "stderr",
     "output_type": "stream",
     "text": [
      "/opt/anaconda3/lib/python3.11/site-packages/sklearn/linear_model/_logistic.py:458: ConvergenceWarning: lbfgs failed to converge (status=1):\n",
      "STOP: TOTAL NO. of ITERATIONS REACHED LIMIT.\n",
      "\n",
      "Increase the number of iterations (max_iter) or scale the data as shown in:\n",
      "    https://scikit-learn.org/stable/modules/preprocessing.html\n",
      "Please also refer to the documentation for alternative solver options:\n",
      "    https://scikit-learn.org/stable/modules/linear_model.html#logistic-regression\n",
      "  n_iter_i = _check_optimize_result(\n"
     ]
    },
    {
     "data": {
      "text/html": [
       "<style>#sk-container-id-1 {color: black;background-color: white;}#sk-container-id-1 pre{padding: 0;}#sk-container-id-1 div.sk-toggleable {background-color: white;}#sk-container-id-1 label.sk-toggleable__label {cursor: pointer;display: block;width: 100%;margin-bottom: 0;padding: 0.3em;box-sizing: border-box;text-align: center;}#sk-container-id-1 label.sk-toggleable__label-arrow:before {content: \"▸\";float: left;margin-right: 0.25em;color: #696969;}#sk-container-id-1 label.sk-toggleable__label-arrow:hover:before {color: black;}#sk-container-id-1 div.sk-estimator:hover label.sk-toggleable__label-arrow:before {color: black;}#sk-container-id-1 div.sk-toggleable__content {max-height: 0;max-width: 0;overflow: hidden;text-align: left;background-color: #f0f8ff;}#sk-container-id-1 div.sk-toggleable__content pre {margin: 0.2em;color: black;border-radius: 0.25em;background-color: #f0f8ff;}#sk-container-id-1 input.sk-toggleable__control:checked~div.sk-toggleable__content {max-height: 200px;max-width: 100%;overflow: auto;}#sk-container-id-1 input.sk-toggleable__control:checked~label.sk-toggleable__label-arrow:before {content: \"▾\";}#sk-container-id-1 div.sk-estimator input.sk-toggleable__control:checked~label.sk-toggleable__label {background-color: #d4ebff;}#sk-container-id-1 div.sk-label input.sk-toggleable__control:checked~label.sk-toggleable__label {background-color: #d4ebff;}#sk-container-id-1 input.sk-hidden--visually {border: 0;clip: rect(1px 1px 1px 1px);clip: rect(1px, 1px, 1px, 1px);height: 1px;margin: -1px;overflow: hidden;padding: 0;position: absolute;width: 1px;}#sk-container-id-1 div.sk-estimator {font-family: monospace;background-color: #f0f8ff;border: 1px dotted black;border-radius: 0.25em;box-sizing: border-box;margin-bottom: 0.5em;}#sk-container-id-1 div.sk-estimator:hover {background-color: #d4ebff;}#sk-container-id-1 div.sk-parallel-item::after {content: \"\";width: 100%;border-bottom: 1px solid gray;flex-grow: 1;}#sk-container-id-1 div.sk-label:hover label.sk-toggleable__label {background-color: #d4ebff;}#sk-container-id-1 div.sk-serial::before {content: \"\";position: absolute;border-left: 1px solid gray;box-sizing: border-box;top: 0;bottom: 0;left: 50%;z-index: 0;}#sk-container-id-1 div.sk-serial {display: flex;flex-direction: column;align-items: center;background-color: white;padding-right: 0.2em;padding-left: 0.2em;position: relative;}#sk-container-id-1 div.sk-item {position: relative;z-index: 1;}#sk-container-id-1 div.sk-parallel {display: flex;align-items: stretch;justify-content: center;background-color: white;position: relative;}#sk-container-id-1 div.sk-item::before, #sk-container-id-1 div.sk-parallel-item::before {content: \"\";position: absolute;border-left: 1px solid gray;box-sizing: border-box;top: 0;bottom: 0;left: 50%;z-index: -1;}#sk-container-id-1 div.sk-parallel-item {display: flex;flex-direction: column;z-index: 1;position: relative;background-color: white;}#sk-container-id-1 div.sk-parallel-item:first-child::after {align-self: flex-end;width: 50%;}#sk-container-id-1 div.sk-parallel-item:last-child::after {align-self: flex-start;width: 50%;}#sk-container-id-1 div.sk-parallel-item:only-child::after {width: 0;}#sk-container-id-1 div.sk-dashed-wrapped {border: 1px dashed gray;margin: 0 0.4em 0.5em 0.4em;box-sizing: border-box;padding-bottom: 0.4em;background-color: white;}#sk-container-id-1 div.sk-label label {font-family: monospace;font-weight: bold;display: inline-block;line-height: 1.2em;}#sk-container-id-1 div.sk-label-container {text-align: center;}#sk-container-id-1 div.sk-container {/* jupyter's `normalize.less` sets `[hidden] { display: none; }` but bootstrap.min.css set `[hidden] { display: none !important; }` so we also need the `!important` here to be able to override the default hidden behavior on the sphinx rendered scikit-learn.org. See: https://github.com/scikit-learn/scikit-learn/issues/21755 */display: inline-block !important;position: relative;}#sk-container-id-1 div.sk-text-repr-fallback {display: none;}</style><div id=\"sk-container-id-1\" class=\"sk-top-container\"><div class=\"sk-text-repr-fallback\"><pre>LogisticRegression()</pre><b>In a Jupyter environment, please rerun this cell to show the HTML representation or trust the notebook. <br />On GitHub, the HTML representation is unable to render, please try loading this page with nbviewer.org.</b></div><div class=\"sk-container\" hidden><div class=\"sk-item\"><div class=\"sk-estimator sk-toggleable\"><input class=\"sk-toggleable__control sk-hidden--visually\" id=\"sk-estimator-id-1\" type=\"checkbox\" checked><label for=\"sk-estimator-id-1\" class=\"sk-toggleable__label sk-toggleable__label-arrow\">LogisticRegression</label><div class=\"sk-toggleable__content\"><pre>LogisticRegression()</pre></div></div></div></div></div>"
      ],
      "text/plain": [
       "LogisticRegression()"
      ]
     },
     "execution_count": 116,
     "metadata": {},
     "output_type": "execute_result"
    }
   ],
   "source": [
    "# Fit the model to the training data\n",
    "logit.fit(X_train, Y_train)"
   ]
  },
  {
   "cell_type": "code",
   "execution_count": 118,
   "id": "2d01ed63-843a-40d6-b8df-cf5cfd665677",
   "metadata": {},
   "outputs": [],
   "source": [
    "Y_pred = logit.predict(X_test)"
   ]
  },
  {
   "cell_type": "markdown",
   "id": "b7d35c81-3e80-4ea2-8eeb-684e75369d0a",
   "metadata": {},
   "source": [
    "# For model evaluation: compare Y_test with Y_pred !m"
   ]
  },
  {
   "cell_type": "code",
   "execution_count": 121,
   "id": "2fdcf790-9653-400a-9c1a-195008d1efe7",
   "metadata": {},
   "outputs": [
    {
     "data": {
      "text/plain": [
       "array([[0.31367452, 0.68632548],\n",
       "       [0.4429512 , 0.5570488 ],\n",
       "       [0.17533375, 0.82466625],\n",
       "       [0.21640559, 0.78359441],\n",
       "       [0.55513694, 0.44486306],\n",
       "       [0.51385591, 0.48614409],\n",
       "       [0.33272798, 0.66727202],\n",
       "       [0.53649351, 0.46350649],\n",
       "       [0.87231774, 0.12768226],\n",
       "       [0.95955646, 0.04044354],\n",
       "       [0.6174468 , 0.3825532 ],\n",
       "       [0.47782908, 0.52217092],\n",
       "       [0.53382526, 0.46617474],\n",
       "       [0.06462682, 0.93537318],\n",
       "       [0.09186962, 0.90813038],\n",
       "       [0.68962579, 0.31037421],\n",
       "       [0.53762058, 0.46237942],\n",
       "       [0.91035414, 0.08964586],\n",
       "       [0.28068025, 0.71931975],\n",
       "       [0.89572882, 0.10427118],\n",
       "       [0.17555751, 0.82444249],\n",
       "       [0.06947486, 0.93052514],\n",
       "       [0.68634049, 0.31365951],\n",
       "       [0.13396454, 0.86603546],\n",
       "       [0.12911983, 0.87088017],\n",
       "       [0.28436146, 0.71563854],\n",
       "       [0.15327455, 0.84672545],\n",
       "       [0.93801186, 0.06198814],\n",
       "       [0.89877068, 0.10122932],\n",
       "       [0.16612065, 0.83387935],\n",
       "       [0.06957106, 0.93042894],\n",
       "       [0.84771554, 0.15228446],\n",
       "       [0.18228535, 0.81771465],\n",
       "       [0.31925687, 0.68074313],\n",
       "       [0.5357835 , 0.4642165 ],\n",
       "       [0.81316784, 0.18683216],\n",
       "       [0.24473402, 0.75526598],\n",
       "       [0.9278388 , 0.0721612 ],\n",
       "       [0.6090634 , 0.3909366 ],\n",
       "       [0.32974318, 0.67025682],\n",
       "       [0.42534097, 0.57465903],\n",
       "       [0.27884703, 0.72115297],\n",
       "       [0.80681376, 0.19318624],\n",
       "       [0.71239789, 0.28760211],\n",
       "       [0.91026762, 0.08973238],\n",
       "       [0.8249374 , 0.1750626 ],\n",
       "       [0.85644576, 0.14355424],\n",
       "       [0.13410507, 0.86589493],\n",
       "       [0.11291472, 0.88708528],\n",
       "       [0.72913947, 0.27086053],\n",
       "       [0.84421299, 0.15578701],\n",
       "       [0.36782012, 0.63217988],\n",
       "       [0.91809796, 0.08190204],\n",
       "       [0.42572653, 0.57427347],\n",
       "       [0.53312639, 0.46687361],\n",
       "       [0.57501118, 0.42498882],\n",
       "       [0.2105183 , 0.7894817 ],\n",
       "       [0.0722424 , 0.9277576 ],\n",
       "       [0.87775508, 0.12224492],\n",
       "       [0.1275957 , 0.8724043 ],\n",
       "       [0.4259327 , 0.5740673 ],\n",
       "       [0.21707553, 0.78292447],\n",
       "       [0.83193654, 0.16806346],\n",
       "       [0.40445334, 0.59554666],\n",
       "       [0.03352263, 0.96647737],\n",
       "       [0.61119869, 0.38880131],\n",
       "       [0.15715355, 0.84284645],\n",
       "       [0.21036422, 0.78963578],\n",
       "       [0.15326083, 0.84673917],\n",
       "       [0.6159927 , 0.3840073 ],\n",
       "       [0.6785539 , 0.3214461 ],\n",
       "       [0.88931312, 0.11068688],\n",
       "       [0.27380425, 0.72619575],\n",
       "       [0.13713837, 0.86286163],\n",
       "       [0.68071139, 0.31928861],\n",
       "       [0.31252892, 0.68747108],\n",
       "       [0.88693269, 0.11306731],\n",
       "       [0.91556355, 0.08443645],\n",
       "       [0.81510352, 0.18489648],\n",
       "       [0.78178536, 0.21821464],\n",
       "       [0.89565638, 0.10434362],\n",
       "       [0.8602548 , 0.1397452 ],\n",
       "       [0.70979267, 0.29020733],\n",
       "       [0.91087866, 0.08912134],\n",
       "       [0.88807867, 0.11192133],\n",
       "       [0.21750083, 0.78249917],\n",
       "       [0.61899909, 0.38100091],\n",
       "       [0.05055211, 0.94944789],\n",
       "       [0.83901127, 0.16098873],\n",
       "       [0.68214926, 0.31785074],\n",
       "       [0.27884703, 0.72115297],\n",
       "       [0.46949134, 0.53050866],\n",
       "       [0.83995008, 0.16004992],\n",
       "       [0.65400869, 0.34599131],\n",
       "       [0.14264445, 0.85735555],\n",
       "       [0.68790859, 0.31209141],\n",
       "       [0.89835095, 0.10164905],\n",
       "       [0.86026276, 0.13973724],\n",
       "       [0.58045327, 0.41954673],\n",
       "       [0.95678889, 0.04321111],\n",
       "       [0.51416071, 0.48583929],\n",
       "       [0.44867706, 0.55132294],\n",
       "       [0.73695495, 0.26304505],\n",
       "       [0.24548669, 0.75451331],\n",
       "       [0.6449885 , 0.3550115 ],\n",
       "       [0.86992748, 0.13007252],\n",
       "       [0.91158233, 0.08841767],\n",
       "       [0.76879367, 0.23120633],\n",
       "       [0.12039958, 0.87960042],\n",
       "       [0.87908144, 0.12091856],\n",
       "       [0.74394849, 0.25605151],\n",
       "       [0.89876364, 0.10123636],\n",
       "       [0.08019178, 0.91980822],\n",
       "       [0.84104824, 0.15895176],\n",
       "       [0.91196173, 0.08803827],\n",
       "       [0.44762261, 0.55237739],\n",
       "       [0.69477752, 0.30522248],\n",
       "       [0.28985344, 0.71014656],\n",
       "       [0.8483999 , 0.1516001 ],\n",
       "       [0.85759019, 0.14240981],\n",
       "       [0.68407007, 0.31592993],\n",
       "       [0.45290308, 0.54709692],\n",
       "       [0.69144789, 0.30855211],\n",
       "       [0.88601197, 0.11398803],\n",
       "       [0.88891683, 0.11108317],\n",
       "       [0.77101992, 0.22898008],\n",
       "       [0.27632978, 0.72367022],\n",
       "       [0.79621511, 0.20378489],\n",
       "       [0.7952304 , 0.2047696 ],\n",
       "       [0.72245694, 0.27754306],\n",
       "       [0.87567898, 0.12432102],\n",
       "       [0.37074343, 0.62925657],\n",
       "       [0.74992684, 0.25007316],\n",
       "       [0.87907911, 0.12092089],\n",
       "       [0.36207128, 0.63792872],\n",
       "       [0.18908006, 0.81091994],\n",
       "       [0.35369193, 0.64630807],\n",
       "       [0.51506429, 0.48493571],\n",
       "       [0.35368615, 0.64631385],\n",
       "       [0.57983868, 0.42016132],\n",
       "       [0.86016953, 0.13983047],\n",
       "       [0.41043084, 0.58956916],\n",
       "       [0.65807658, 0.34192342],\n",
       "       [0.89878071, 0.10121929],\n",
       "       [0.4090932 , 0.5909068 ],\n",
       "       [0.28383903, 0.71616097],\n",
       "       [0.89752702, 0.10247298],\n",
       "       [0.49982743, 0.50017257],\n",
       "       [0.90463886, 0.09536114],\n",
       "       [0.67624626, 0.32375374],\n",
       "       [0.07568195, 0.92431805],\n",
       "       [0.17532986, 0.82467014],\n",
       "       [0.06197968, 0.93802032],\n",
       "       [0.71740745, 0.28259255],\n",
       "       [0.85353583, 0.14646417],\n",
       "       [0.89037547, 0.10962453],\n",
       "       [0.38544832, 0.61455168],\n",
       "       [0.91705329, 0.08294671],\n",
       "       [0.92312142, 0.07687858],\n",
       "       [0.54644082, 0.45355918],\n",
       "       [0.81638449, 0.18361551],\n",
       "       [0.60632369, 0.39367631],\n",
       "       [0.24384138, 0.75615862],\n",
       "       [0.90747453, 0.09252547],\n",
       "       [0.16189486, 0.83810514],\n",
       "       [0.05234376, 0.94765624],\n",
       "       [0.92204883, 0.07795117],\n",
       "       [0.05364243, 0.94635757],\n",
       "       [0.57939646, 0.42060354],\n",
       "       [0.91729016, 0.08270984],\n",
       "       [0.95102252, 0.04897748],\n",
       "       [0.77247738, 0.22752262],\n",
       "       [0.92422057, 0.07577943],\n",
       "       [0.84780246, 0.15219754],\n",
       "       [0.27134347, 0.72865653],\n",
       "       [0.85553265, 0.14446735],\n",
       "       [0.69641843, 0.30358157],\n",
       "       [0.91480692, 0.08519308],\n",
       "       [0.28009557, 0.71990443]])"
      ]
     },
     "execution_count": 121,
     "metadata": {},
     "output_type": "execute_result"
    }
   ],
   "source": [
    "logit.predict_proba(X_test)"
   ]
  },
  {
   "cell_type": "markdown",
   "id": "a50e2b5a-28e1-47e2-81c1-c20ce8ea8840",
   "metadata": {},
   "source": [
    "# Model Metrics"
   ]
  },
  {
   "cell_type": "code",
   "execution_count": 122,
   "id": "761023b6-c133-4781-bfad-205a9743e5ef",
   "metadata": {},
   "outputs": [
    {
     "data": {
      "text/plain": [
       "Survived\n",
       "0    103\n",
       "1     76\n",
       "Name: count, dtype: int64"
      ]
     },
     "execution_count": 122,
     "metadata": {},
     "output_type": "execute_result"
    }
   ],
   "source": [
    "Y_test.value_counts()"
   ]
  },
  {
   "cell_type": "code",
   "execution_count": 123,
   "id": "03fcdeb2-1563-4691-9737-5e745086f97e",
   "metadata": {},
   "outputs": [],
   "source": [
    "confusion_matrix = metrics.confusion_matrix(Y_test, Y_pred) # Confusion Matrix "
   ]
  },
  {
   "cell_type": "code",
   "execution_count": 124,
   "id": "d084bd87-2119-4479-83eb-686c0a06468e",
   "metadata": {},
   "outputs": [
    {
     "name": "stdout",
     "output_type": "stream",
     "text": [
      "[[86 17]\n",
      " [21 55]]\n"
     ]
    }
   ],
   "source": [
    "print(confusion_matrix)"
   ]
  },
  {
   "cell_type": "code",
   "execution_count": 125,
   "id": "faeb8edf-333e-4c09-90b6-b8ba300b6065",
   "metadata": {},
   "outputs": [
    {
     "name": "stdout",
     "output_type": "stream",
     "text": [
      "              precision    recall  f1-score   support\n",
      "\n",
      "           0       0.80      0.83      0.82       103\n",
      "           1       0.76      0.72      0.74        76\n",
      "\n",
      "    accuracy                           0.79       179\n",
      "   macro avg       0.78      0.78      0.78       179\n",
      "weighted avg       0.79      0.79      0.79       179\n",
      "\n"
     ]
    }
   ],
   "source": [
    "print(metrics.classification_report(Y_test, Y_pred))"
   ]
  },
  {
   "cell_type": "code",
   "execution_count": 126,
   "id": "a15b7b67-fbc1-4488-a119-82aa2a5e4d22",
   "metadata": {},
   "outputs": [
    {
     "name": "stdout",
     "output_type": "stream",
     "text": [
      "0.7877094972067039\n"
     ]
    }
   ],
   "source": [
    "print(metrics.accuracy_score(Y_test, Y_pred))"
   ]
  },
  {
   "cell_type": "code",
   "execution_count": null,
   "id": "2f6a8687-56c2-4752-abdc-cfc927b0c8f3",
   "metadata": {},
   "outputs": [],
   "source": [
    "# accuracy = TP + TN / TP + TN+ FP + FN\n",
    "# 86 + 55/ 86+55+17+21 = 0.79"
   ]
  },
  {
   "cell_type": "code",
   "execution_count": null,
   "id": "efcfb3d3-9712-464e-8c71-7edb94572df7",
   "metadata": {},
   "outputs": [],
   "source": [
    "# precision = TP/P^* = 55/55+17"
   ]
  },
  {
   "cell_type": "markdown",
   "id": "11292419-1941-46f4-9513-b4cfd97fa4af",
   "metadata": {},
   "source": [
    "# Plotting ROC"
   ]
  },
  {
   "cell_type": "code",
   "execution_count": 137,
   "id": "f71dbd86-5fda-4a00-b4d2-1c6522c9e89f",
   "metadata": {},
   "outputs": [],
   "source": [
    "import matplotlib.pyplot as plt"
   ]
  },
  {
   "cell_type": "code",
   "execution_count": 131,
   "id": "aa87fafe-5f15-435b-8d9a-40f996f26503",
   "metadata": {},
   "outputs": [],
   "source": [
    "prob = logit.predict_proba(X_test)"
   ]
  },
  {
   "cell_type": "code",
   "execution_count": 132,
   "id": "415deea8-57eb-4808-9fbe-33b26a57704b",
   "metadata": {},
   "outputs": [],
   "source": [
    "pred = prob[:,1]"
   ]
  },
  {
   "cell_type": "code",
   "execution_count": 133,
   "id": "52464782-5c98-45d5-ab76-faadd1e96e45",
   "metadata": {},
   "outputs": [],
   "source": [
    "fpr, tpr, threshold = metrics.roc_curve(Y_test, pred)"
   ]
  },
  {
   "cell_type": "code",
   "execution_count": 138,
   "id": "a699bf81-a744-4ac9-81a4-a60cdaca6640",
   "metadata": {},
   "outputs": [
    {
     "data": {
      "image/png": "[encoded data removed]",
      "text/plain": [
       "<Figure size 640x480 with 1 Axes>"
      ]
     },
     "metadata": {},
     "output_type": "display_data"
    }
   ],
   "source": [
    "plt.title('ROC - Logistic Regression (Titanic Data)')\n",
    "plt.plot(fpr, tpr, 'r')\n",
    "plt.plot([0, 1], [0, 1],'k-.')\n",
    "plt.xlim([0, 1])\n",
    "plt.ylim([0, 1])\n",
    "plt.ylabel('True Positive Rate')\n",
    "plt.xlabel('False Positive Rate')\n",
    "plt.show()"
   ]
  },
  {
   "cell_type": "code",
   "execution_count": 139,
   "id": "7ebc4cf4-d879-4e0a-b1f6-9297c57ca9e2",
   "metadata": {},
   "outputs": [
    {
     "data": {
      "text/plain": [
       "0.8673990802248338"
      ]
     },
     "execution_count": 139,
     "metadata": {},
     "output_type": "execute_result"
    }
   ],
   "source": [
    "metrics.roc_auc_score(Y_test, pred)"
   ]
  },
  {
   "cell_type": "markdown",
   "id": "e8097d77-24a8-4562-aed2-7a0962dd1c10",
   "metadata": {},
   "source": [
    "# Linear Discriminant Analysis"
   ]
  },
  {
   "cell_type": "code",
   "execution_count": 141,
   "id": "e62163fb-4323-4069-b4cb-bb738d0df941",
   "metadata": {},
   "outputs": [],
   "source": [
    "from sklearn.discriminant_analysis import LinearDiscriminantAnalysis"
   ]
  },
  {
   "cell_type": "code",
   "execution_count": 142,
   "id": "6dbe3759-5dc3-403d-8750-a16891b9fc8d",
   "metadata": {},
   "outputs": [],
   "source": [
    "lda = LinearDiscriminantAnalysis()"
   ]
  },
  {
   "cell_type": "code",
   "execution_count": 143,
   "id": "14a705c4-42d3-4449-a675-562926a92746",
   "metadata": {},
   "outputs": [
    {
     "data": {
      "text/html": [
       "<style>#sk-container-id-2 {color: black;background-color: white;}#sk-container-id-2 pre{padding: 0;}#sk-container-id-2 div.sk-toggleable {background-color: white;}#sk-container-id-2 label.sk-toggleable__label {cursor: pointer;display: block;width: 100%;margin-bottom: 0;padding: 0.3em;box-sizing: border-box;text-align: center;}#sk-container-id-2 label.sk-toggleable__label-arrow:before {content: \"▸\";float: left;margin-right: 0.25em;color: #696969;}#sk-container-id-2 label.sk-toggleable__label-arrow:hover:before {color: black;}#sk-container-id-2 div.sk-estimator:hover label.sk-toggleable__label-arrow:before {color: black;}#sk-container-id-2 div.sk-toggleable__content {max-height: 0;max-width: 0;overflow: hidden;text-align: left;background-color: #f0f8ff;}#sk-container-id-2 div.sk-toggleable__content pre {margin: 0.2em;color: black;border-radius: 0.25em;background-color: #f0f8ff;}#sk-container-id-2 input.sk-toggleable__control:checked~div.sk-toggleable__content {max-height: 200px;max-width: 100%;overflow: auto;}#sk-container-id-2 input.sk-toggleable__control:checked~label.sk-toggleable__label-arrow:before {content: \"▾\";}#sk-container-id-2 div.sk-estimator input.sk-toggleable__control:checked~label.sk-toggleable__label {background-color: #d4ebff;}#sk-container-id-2 div.sk-label input.sk-toggleable__control:checked~label.sk-toggleable__label {background-color: #d4ebff;}#sk-container-id-2 input.sk-hidden--visually {border: 0;clip: rect(1px 1px 1px 1px);clip: rect(1px, 1px, 1px, 1px);height: 1px;margin: -1px;overflow: hidden;padding: 0;position: absolute;width: 1px;}#sk-container-id-2 div.sk-estimator {font-family: monospace;background-color: #f0f8ff;border: 1px dotted black;border-radius: 0.25em;box-sizing: border-box;margin-bottom: 0.5em;}#sk-container-id-2 div.sk-estimator:hover {background-color: #d4ebff;}#sk-container-id-2 div.sk-parallel-item::after {content: \"\";width: 100%;border-bottom: 1px solid gray;flex-grow: 1;}#sk-container-id-2 div.sk-label:hover label.sk-toggleable__label {background-color: #d4ebff;}#sk-container-id-2 div.sk-serial::before {content: \"\";position: absolute;border-left: 1px solid gray;box-sizing: border-box;top: 0;bottom: 0;left: 50%;z-index: 0;}#sk-container-id-2 div.sk-serial {display: flex;flex-direction: column;align-items: center;background-color: white;padding-right: 0.2em;padding-left: 0.2em;position: relative;}#sk-container-id-2 div.sk-item {position: relative;z-index: 1;}#sk-container-id-2 div.sk-parallel {display: flex;align-items: stretch;justify-content: center;background-color: white;position: relative;}#sk-container-id-2 div.sk-item::before, #sk-container-id-2 div.sk-parallel-item::before {content: \"\";position: absolute;border-left: 1px solid gray;box-sizing: border-box;top: 0;bottom: 0;left: 50%;z-index: -1;}#sk-container-id-2 div.sk-parallel-item {display: flex;flex-direction: column;z-index: 1;position: relative;background-color: white;}#sk-container-id-2 div.sk-parallel-item:first-child::after {align-self: flex-end;width: 50%;}#sk-container-id-2 div.sk-parallel-item:last-child::after {align-self: flex-start;width: 50%;}#sk-container-id-2 div.sk-parallel-item:only-child::after {width: 0;}#sk-container-id-2 div.sk-dashed-wrapped {border: 1px dashed gray;margin: 0 0.4em 0.5em 0.4em;box-sizing: border-box;padding-bottom: 0.4em;background-color: white;}#sk-container-id-2 div.sk-label label {font-family: monospace;font-weight: bold;display: inline-block;line-height: 1.2em;}#sk-container-id-2 div.sk-label-container {text-align: center;}#sk-container-id-2 div.sk-container {/* jupyter's `normalize.less` sets `[hidden] { display: none; }` but bootstrap.min.css set `[hidden] { display: none !important; }` so we also need the `!important` here to be able to override the default hidden behavior on the sphinx rendered scikit-learn.org. See: https://github.com/scikit-learn/scikit-learn/issues/21755 */display: inline-block !important;position: relative;}#sk-container-id-2 div.sk-text-repr-fallback {display: none;}</style><div id=\"sk-container-id-2\" class=\"sk-top-container\"><div class=\"sk-text-repr-fallback\"><pre>LinearDiscriminantAnalysis()</pre><b>In a Jupyter environment, please rerun this cell to show the HTML representation or trust the notebook. <br />On GitHub, the HTML representation is unable to render, please try loading this page with nbviewer.org.</b></div><div class=\"sk-container\" hidden><div class=\"sk-item\"><div class=\"sk-estimator sk-toggleable\"><input class=\"sk-toggleable__control sk-hidden--visually\" id=\"sk-estimator-id-2\" type=\"checkbox\" checked><label for=\"sk-estimator-id-2\" class=\"sk-toggleable__label sk-toggleable__label-arrow\">LinearDiscriminantAnalysis</label><div class=\"sk-toggleable__content\"><pre>LinearDiscriminantAnalysis()</pre></div></div></div></div></div>"
      ],
      "text/plain": [
       "LinearDiscriminantAnalysis()"
      ]
     },
     "execution_count": 143,
     "metadata": {},
     "output_type": "execute_result"
    }
   ],
   "source": [
    "lda.fit(X_train, Y_train)"
   ]
  },
  {
   "cell_type": "code",
   "execution_count": 144,
   "id": "7dab87e0-210f-4058-9ca4-f63d7dafa7a1",
   "metadata": {},
   "outputs": [],
   "source": [
    "Y_pred = lda.predict(X_test)"
   ]
  },
  {
   "cell_type": "code",
   "execution_count": 145,
   "id": "78de0ebc-6b3e-4717-9a4b-5548c234d2ef",
   "metadata": {},
   "outputs": [
    {
     "name": "stdout",
     "output_type": "stream",
     "text": [
      "[[82 21]\n",
      " [20 56]]\n"
     ]
    }
   ],
   "source": [
    "confusion_matrix = metrics.confusion_matrix(Y_test, Y_pred) # Confusion Matrix aufstellen\n",
    "print(confusion_matrix)"
   ]
  },
  {
   "cell_type": "code",
   "execution_count": 146,
   "id": "5a97ae8f-b4b3-4bc2-a5d8-5976cf5b1652",
   "metadata": {},
   "outputs": [
    {
     "name": "stdout",
     "output_type": "stream",
     "text": [
      "              precision    recall  f1-score   support\n",
      "\n",
      "           0       0.80      0.80      0.80       103\n",
      "           1       0.73      0.74      0.73        76\n",
      "\n",
      "    accuracy                           0.77       179\n",
      "   macro avg       0.77      0.77      0.77       179\n",
      "weighted avg       0.77      0.77      0.77       179\n",
      "\n"
     ]
    }
   ],
   "source": [
    "print(metrics.classification_report(Y_test, Y_pred))"
   ]
  },
  {
   "cell_type": "code",
   "execution_count": 147,
   "id": "1dac3908-97cc-49f1-8a7e-ec30022d45f4",
   "metadata": {},
   "outputs": [
    {
     "name": "stdout",
     "output_type": "stream",
     "text": [
      "0.770949720670391\n"
     ]
    }
   ],
   "source": [
    "print(metrics.accuracy_score(Y_test, Y_pred))"
   ]
  },
  {
   "cell_type": "markdown",
   "id": "8499f258-81f2-48d6-8b1c-2691ff91ea7c",
   "metadata": {},
   "source": [
    "# Quadratic Discriminant Analysis"
   ]
  },
  {
   "cell_type": "code",
   "execution_count": 148,
   "id": "f35a4e3e-f3f1-421d-b55f-3cfc39cde009",
   "metadata": {},
   "outputs": [],
   "source": [
    "from sklearn.discriminant_analysis import QuadraticDiscriminantAnalysis"
   ]
  },
  {
   "cell_type": "code",
   "execution_count": 149,
   "id": "c141e0cc-6f2f-46dc-af9b-bee5cbf9c9af",
   "metadata": {},
   "outputs": [],
   "source": [
    "qda = QuadraticDiscriminantAnalysis()"
   ]
  },
  {
   "cell_type": "code",
   "execution_count": 150,
   "id": "3dd63d22-1a20-44ab-a5db-f1fface34002",
   "metadata": {},
   "outputs": [
    {
     "data": {
      "text/html": [
       "<style>#sk-container-id-3 {color: black;background-color: white;}#sk-container-id-3 pre{padding: 0;}#sk-container-id-3 div.sk-toggleable {background-color: white;}#sk-container-id-3 label.sk-toggleable__label {cursor: pointer;display: block;width: 100%;margin-bottom: 0;padding: 0.3em;box-sizing: border-box;text-align: center;}#sk-container-id-3 label.sk-toggleable__label-arrow:before {content: \"▸\";float: left;margin-right: 0.25em;color: #696969;}#sk-container-id-3 label.sk-toggleable__label-arrow:hover:before {color: black;}#sk-container-id-3 div.sk-estimator:hover label.sk-toggleable__label-arrow:before {color: black;}#sk-container-id-3 div.sk-toggleable__content {max-height: 0;max-width: 0;overflow: hidden;text-align: left;background-color: #f0f8ff;}#sk-container-id-3 div.sk-toggleable__content pre {margin: 0.2em;color: black;border-radius: 0.25em;background-color: #f0f8ff;}#sk-container-id-3 input.sk-toggleable__control:checked~div.sk-toggleable__content {max-height: 200px;max-width: 100%;overflow: auto;}#sk-container-id-3 input.sk-toggleable__control:checked~label.sk-toggleable__label-arrow:before {content: \"▾\";}#sk-container-id-3 div.sk-estimator input.sk-toggleable__control:checked~label.sk-toggleable__label {background-color: #d4ebff;}#sk-container-id-3 div.sk-label input.sk-toggleable__control:checked~label.sk-toggleable__label {background-color: #d4ebff;}#sk-container-id-3 input.sk-hidden--visually {border: 0;clip: rect(1px 1px 1px 1px);clip: rect(1px, 1px, 1px, 1px);height: 1px;margin: -1px;overflow: hidden;padding: 0;position: absolute;width: 1px;}#sk-container-id-3 div.sk-estimator {font-family: monospace;background-color: #f0f8ff;border: 1px dotted black;border-radius: 0.25em;box-sizing: border-box;margin-bottom: 0.5em;}#sk-container-id-3 div.sk-estimator:hover {background-color: #d4ebff;}#sk-container-id-3 div.sk-parallel-item::after {content: \"\";width: 100%;border-bottom: 1px solid gray;flex-grow: 1;}#sk-container-id-3 div.sk-label:hover label.sk-toggleable__label {background-color: #d4ebff;}#sk-container-id-3 div.sk-serial::before {content: \"\";position: absolute;border-left: 1px solid gray;box-sizing: border-box;top: 0;bottom: 0;left: 50%;z-index: 0;}#sk-container-id-3 div.sk-serial {display: flex;flex-direction: column;align-items: center;background-color: white;padding-right: 0.2em;padding-left: 0.2em;position: relative;}#sk-container-id-3 div.sk-item {position: relative;z-index: 1;}#sk-container-id-3 div.sk-parallel {display: flex;align-items: stretch;justify-content: center;background-color: white;position: relative;}#sk-container-id-3 div.sk-item::before, #sk-container-id-3 div.sk-parallel-item::before {content: \"\";position: absolute;border-left: 1px solid gray;box-sizing: border-box;top: 0;bottom: 0;left: 50%;z-index: -1;}#sk-container-id-3 div.sk-parallel-item {display: flex;flex-direction: column;z-index: 1;position: relative;background-color: white;}#sk-container-id-3 div.sk-parallel-item:first-child::after {align-self: flex-end;width: 50%;}#sk-container-id-3 div.sk-parallel-item:last-child::after {align-self: flex-start;width: 50%;}#sk-container-id-3 div.sk-parallel-item:only-child::after {width: 0;}#sk-container-id-3 div.sk-dashed-wrapped {border: 1px dashed gray;margin: 0 0.4em 0.5em 0.4em;box-sizing: border-box;padding-bottom: 0.4em;background-color: white;}#sk-container-id-3 div.sk-label label {font-family: monospace;font-weight: bold;display: inline-block;line-height: 1.2em;}#sk-container-id-3 div.sk-label-container {text-align: center;}#sk-container-id-3 div.sk-container {/* jupyter's `normalize.less` sets `[hidden] { display: none; }` but bootstrap.min.css set `[hidden] { display: none !important; }` so we also need the `!important` here to be able to override the default hidden behavior on the sphinx rendered scikit-learn.org. See: https://github.com/scikit-learn/scikit-learn/issues/21755 */display: inline-block !important;position: relative;}#sk-container-id-3 div.sk-text-repr-fallback {display: none;}</style><div id=\"sk-container-id-3\" class=\"sk-top-container\"><div class=\"sk-text-repr-fallback\"><pre>QuadraticDiscriminantAnalysis()</pre><b>In a Jupyter environment, please rerun this cell to show the HTML representation or trust the notebook. <br />On GitHub, the HTML representation is unable to render, please try loading this page with nbviewer.org.</b></div><div class=\"sk-container\" hidden><div class=\"sk-item\"><div class=\"sk-estimator sk-toggleable\"><input class=\"sk-toggleable__control sk-hidden--visually\" id=\"sk-estimator-id-3\" type=\"checkbox\" checked><label for=\"sk-estimator-id-3\" class=\"sk-toggleable__label sk-toggleable__label-arrow\">QuadraticDiscriminantAnalysis</label><div class=\"sk-toggleable__content\"><pre>QuadraticDiscriminantAnalysis()</pre></div></div></div></div></div>"
      ],
      "text/plain": [
       "QuadraticDiscriminantAnalysis()"
      ]
     },
     "execution_count": 150,
     "metadata": {},
     "output_type": "execute_result"
    }
   ],
   "source": [
    "qda.fit(X_train, Y_train)"
   ]
  },
  {
   "cell_type": "code",
   "execution_count": 151,
   "id": "3037ac57-5b9b-4083-829d-62b2e4f90032",
   "metadata": {},
   "outputs": [],
   "source": [
    "Y_pred = qda.predict(X_test)"
   ]
  },
  {
   "cell_type": "code",
   "execution_count": 152,
   "id": "eef4c8ac-68ba-481d-865d-27f6d8f72592",
   "metadata": {},
   "outputs": [
    {
     "name": "stdout",
     "output_type": "stream",
     "text": [
      "[[83 20]\n",
      " [24 52]]\n"
     ]
    }
   ],
   "source": [
    "confusion_matrix = metrics.confusion_matrix(Y_test, Y_pred) # Confusion Matrix aufstellen\n",
    "print(confusion_matrix)"
   ]
  },
  {
   "cell_type": "code",
   "execution_count": 153,
   "id": "fc580e01-a36c-4de2-a954-ac558fc53e0d",
   "metadata": {},
   "outputs": [
    {
     "name": "stdout",
     "output_type": "stream",
     "text": [
      "              precision    recall  f1-score   support\n",
      "\n",
      "           0       0.78      0.81      0.79       103\n",
      "           1       0.72      0.68      0.70        76\n",
      "\n",
      "    accuracy                           0.75       179\n",
      "   macro avg       0.75      0.75      0.75       179\n",
      "weighted avg       0.75      0.75      0.75       179\n",
      "\n"
     ]
    }
   ],
   "source": [
    "print(metrics.classification_report(Y_test, Y_pred))"
   ]
  },
  {
   "cell_type": "code",
   "execution_count": 154,
   "id": "3efbd25c-76a5-466c-8132-35e871b04df3",
   "metadata": {},
   "outputs": [
    {
     "name": "stdout",
     "output_type": "stream",
     "text": [
      "0.7541899441340782\n"
     ]
    }
   ],
   "source": [
    "print(metrics.accuracy_score(Y_test, Y_pred))"
   ]
  },
  {
   "cell_type": "markdown",
   "id": "e7acf973-42a6-490b-b314-be9c1e5533a9",
   "metadata": {},
   "source": [
    "# Decision Trees; Clasification:Regression Trees"
   ]
  },
  {
   "cell_type": "code",
   "execution_count": null,
   "id": "8af7bdc4-127f-4646-89b2-36963e4c0fb7",
   "metadata": {},
   "outputs": [],
   "source": []
  }
 ],
 "metadata": {
  "kernelspec": {
   "display_name": "Python 3 (ipykernel)",
   "language": "python",
   "name": "python3"
  },
  "language_info": {
   "codemirror_mode": {
    "name": "ipython",
    "version": 3
   },
   "file_extension": ".py",
   "mimetype": "text/x-python",
   "name": "python",
   "nbconvert_exporter": "python",
   "pygments_lexer": "ipython3",
   "version": "3.11.7"
  }
 },
 "nbformat": 4,
 "nbformat_minor": 5
}
