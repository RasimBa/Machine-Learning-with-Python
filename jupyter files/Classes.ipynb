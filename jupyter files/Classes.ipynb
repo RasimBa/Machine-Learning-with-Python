{
 "cells": [
  {
   "cell_type": "code",
   "execution_count": 95,
   "id": "4f6c7d4c",
   "metadata": {},
   "outputs": [],
   "source": [
    "class Cat(object):\n",
    "    \n",
    "    def __init__(self, name, age):\n",
    "        self.name = name\n",
    "        self.age = age\n",
    "        \n",
    "    def bark(self):\n",
    "        return \"Mmmm!\"\n",
    "    \n",
    "    def compute_ageinmonths(self):\n",
    "        return 12*self.age\n",
    "    \n",
    "    def __str__(self):\n",
    "        var = str(self.age)\n",
    "        return \"Cat \" + self.name + ' is ' + var + \" years old! Mmmm!\"\n",
    "    \n"
   ]
  },
  {
   "cell_type": "code",
   "execution_count": 96,
   "id": "eec1213a",
   "metadata": {},
   "outputs": [
    {
     "name": "stdout",
     "output_type": "stream",
     "text": [
      "Garfield\n",
      "10\n",
      "Mmmm!\n",
      "120\n",
      "Cat Garfield is 10 years old! Mmmm!\n",
      "Mmmm!\n",
      "Cat Tom is 5 years old! Mmmm!\n"
     ]
    }
   ],
   "source": [
    "cat1 = Cat(\"Garfield\", 10)\n",
    "\n",
    "print(cat1.name) \n",
    "\n",
    "print(cat1.age) \n",
    "\n",
    "print(cat1.bark()) \n",
    "\n",
    "print(cat1.compute_ageinmonths())\n",
    "\n",
    "print(cat1)\n",
    "\n",
    "\n",
    "cat2 = Cat(\"Tom\", 5)\n",
    "\n",
    "print(cat2.bark()) \n",
    "print(cat2)"
   ]
  },
  {
   "cell_type": "code",
   "execution_count": null,
   "id": "328083cb",
   "metadata": {},
   "outputs": [],
   "source": []
  }
 ],
 "metadata": {
  "kernelspec": {
   "display_name": "Python 3 (ipykernel)",
   "language": "python",
   "name": "python3"
  },
  "language_info": {
   "codemirror_mode": {
    "name": "ipython",
    "version": 3
   },
   "file_extension": ".py",
   "mimetype": "text/x-python",
   "name": "python",
   "nbconvert_exporter": "python",
   "pygments_lexer": "ipython3",
   "version": "3.11.5"
  }
 },
 "nbformat": 4,
 "nbformat_minor": 5
}
